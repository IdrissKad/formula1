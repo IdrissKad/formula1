{
 "cells": [
  {
   "cell_type": "markdown",
   "metadata": {},
   "source": [
    "# 1. Découverte des données"
   ]
  },
  {
   "cell_type": "markdown",
   "metadata": {},
   "source": [
    "## 1.1 Installation des Packages"
   ]
  },
  {
   "cell_type": "code",
   "execution_count": 2,
   "metadata": {},
   "outputs": [
    {
     "name": "stdout",
     "output_type": "stream",
     "text": [
      "Requirement already satisfied: requests in /Users/hurtadoemmanuel/opt/anaconda3/lib/python3.8/site-packages (2.26.0)\n",
      "Requirement already satisfied: urllib3<1.27,>=1.21.1 in /Users/hurtadoemmanuel/opt/anaconda3/lib/python3.8/site-packages (from requests) (1.26.7)\n",
      "Requirement already satisfied: charset-normalizer~=2.0.0 in /Users/hurtadoemmanuel/opt/anaconda3/lib/python3.8/site-packages (from requests) (2.0.7)\n",
      "Requirement already satisfied: idna<4,>=2.5 in /Users/hurtadoemmanuel/opt/anaconda3/lib/python3.8/site-packages (from requests) (3.3)\n",
      "Requirement already satisfied: certifi>=2017.4.17 in /Users/hurtadoemmanuel/opt/anaconda3/lib/python3.8/site-packages (from requests) (2021.10.8)\n",
      "Note: you may need to restart the kernel to use updated packages.\n"
     ]
    }
   ],
   "source": [
    "pip install requests "
   ]
  },
  {
   "cell_type": "code",
   "execution_count": 3,
   "metadata": {},
   "outputs": [
    {
     "name": "stdout",
     "output_type": "stream",
     "text": [
      "Requirement already satisfied: lxml in /Users/hurtadoemmanuel/opt/anaconda3/lib/python3.8/site-packages (4.6.3)\n",
      "Note: you may need to restart the kernel to use updated packages.\n"
     ]
    }
   ],
   "source": [
    "pip install lxml "
   ]
  },
  {
   "cell_type": "code",
   "execution_count": 4,
   "metadata": {},
   "outputs": [
    {
     "name": "stdout",
     "output_type": "stream",
     "text": [
      "Requirement already satisfied: selenium in /Users/hurtadoemmanuel/opt/anaconda3/lib/python3.8/site-packages (4.1.0)\n",
      "Requirement already satisfied: urllib3[secure]~=1.26 in /Users/hurtadoemmanuel/opt/anaconda3/lib/python3.8/site-packages (from selenium) (1.26.7)\n",
      "Requirement already satisfied: trio-websocket~=0.9 in /Users/hurtadoemmanuel/opt/anaconda3/lib/python3.8/site-packages (from selenium) (0.9.2)\n",
      "Requirement already satisfied: trio~=0.17 in /Users/hurtadoemmanuel/opt/anaconda3/lib/python3.8/site-packages (from selenium) (0.19.0)\n",
      "Requirement already satisfied: async-generator>=1.9 in /Users/hurtadoemmanuel/opt/anaconda3/lib/python3.8/site-packages (from trio~=0.17->selenium) (1.10)\n",
      "Requirement already satisfied: sortedcontainers in /Users/hurtadoemmanuel/opt/anaconda3/lib/python3.8/site-packages (from trio~=0.17->selenium) (2.3.0)\n",
      "Requirement already satisfied: attrs>=19.2.0 in /Users/hurtadoemmanuel/opt/anaconda3/lib/python3.8/site-packages (from trio~=0.17->selenium) (20.3.0)\n",
      "Requirement already satisfied: idna in /Users/hurtadoemmanuel/opt/anaconda3/lib/python3.8/site-packages (from trio~=0.17->selenium) (3.3)\n",
      "Requirement already satisfied: outcome in /Users/hurtadoemmanuel/opt/anaconda3/lib/python3.8/site-packages (from trio~=0.17->selenium) (1.1.0)\n",
      "Requirement already satisfied: sniffio in /Users/hurtadoemmanuel/opt/anaconda3/lib/python3.8/site-packages (from trio~=0.17->selenium) (1.2.0)\n",
      "Requirement already satisfied: wsproto>=0.14 in /Users/hurtadoemmanuel/opt/anaconda3/lib/python3.8/site-packages (from trio-websocket~=0.9->selenium) (1.0.0)\n",
      "Requirement already satisfied: cryptography>=1.3.4 in /Users/hurtadoemmanuel/opt/anaconda3/lib/python3.8/site-packages (from urllib3[secure]~=1.26->selenium) (3.4.7)\n",
      "Requirement already satisfied: certifi in /Users/hurtadoemmanuel/opt/anaconda3/lib/python3.8/site-packages (from urllib3[secure]~=1.26->selenium) (2021.10.8)\n",
      "Requirement already satisfied: pyOpenSSL>=0.14 in /Users/hurtadoemmanuel/opt/anaconda3/lib/python3.8/site-packages (from urllib3[secure]~=1.26->selenium) (20.0.1)\n",
      "Requirement already satisfied: cffi>=1.12 in /Users/hurtadoemmanuel/opt/anaconda3/lib/python3.8/site-packages (from cryptography>=1.3.4->urllib3[secure]~=1.26->selenium) (1.14.5)\n",
      "Requirement already satisfied: pycparser in /Users/hurtadoemmanuel/opt/anaconda3/lib/python3.8/site-packages (from cffi>=1.12->cryptography>=1.3.4->urllib3[secure]~=1.26->selenium) (2.20)\n",
      "Requirement already satisfied: six>=1.5.2 in /Users/hurtadoemmanuel/opt/anaconda3/lib/python3.8/site-packages (from pyOpenSSL>=0.14->urllib3[secure]~=1.26->selenium) (1.16.0)\n",
      "Requirement already satisfied: h11<1,>=0.9.0 in /Users/hurtadoemmanuel/opt/anaconda3/lib/python3.8/site-packages (from wsproto>=0.14->trio-websocket~=0.9->selenium) (0.12.0)\n",
      "Note: you may need to restart the kernel to use updated packages.\n"
     ]
    }
   ],
   "source": [
    "pip install selenium "
   ]
  },
  {
   "cell_type": "markdown",
   "metadata": {},
   "source": [
    "* requests est un package servant à récupérer les données d'un site web\n",
    "* lxml est un package servant à télécharger des fichiers lxml\n",
    "* selenium est un package servant à l'interaction automatisée avec un serveur"
   ]
  },
  {
   "cell_type": "markdown",
   "metadata": {},
   "source": [
    "## 1.2 Importation des Librairies"
   ]
  },
  {
   "cell_type": "code",
   "execution_count": 5,
   "metadata": {},
   "outputs": [],
   "source": [
    "import lxml\n",
    "import selenium\n",
    "import pandas as pd\n",
    "import matplotlib.pyplot as plt\n",
    "import seaborn as sns\n",
    "import numpy as np\n",
    "import requests\n",
    "sns.set(rc={'figure.figsize':(20,10)})\n",
    "sns.set_theme()\n"
   ]
  },
  {
   "cell_type": "markdown",
   "metadata": {},
   "source": [
    "## 1.3 Création d'une première base \"Races\""
   ]
  },
  {
   "cell_type": "markdown",
   "metadata": {},
   "source": [
    "* Récupération des données à partir d'une API en ligne : \"ergast.com\"\n",
    "* Objectif : création d'une base \"Races\" regroupant les années des saisons, le nom et le rang du circuit dans la saison, la latitude et la longitude du circuit (utile plus tard pour les représentations géographiques), le pays et la date du circuit, ainsi que l'url wikipédia associé\n",
    "* La base contient 550 lignes correspondant aux saisons comprises entre 1990 et 2020"
   ]
  },
  {
   "cell_type": "code",
   "execution_count": 7,
   "metadata": {},
   "outputs": [
    {
     "data": {
      "text/html": [
       "<div>\n",
       "<style scoped>\n",
       "    .dataframe tbody tr th:only-of-type {\n",
       "        vertical-align: middle;\n",
       "    }\n",
       "\n",
       "    .dataframe tbody tr th {\n",
       "        vertical-align: top;\n",
       "    }\n",
       "\n",
       "    .dataframe thead th {\n",
       "        text-align: right;\n",
       "    }\n",
       "</style>\n",
       "<table border=\"1\" class=\"dataframe\">\n",
       "  <thead>\n",
       "    <tr style=\"text-align: right;\">\n",
       "      <th></th>\n",
       "      <th>season</th>\n",
       "      <th>round</th>\n",
       "      <th>circuit_id</th>\n",
       "      <th>lat</th>\n",
       "      <th>long</th>\n",
       "      <th>country</th>\n",
       "      <th>date</th>\n",
       "      <th>url</th>\n",
       "    </tr>\n",
       "  </thead>\n",
       "  <tbody>\n",
       "    <tr>\n",
       "      <th>0</th>\n",
       "      <td>1990</td>\n",
       "      <td>1</td>\n",
       "      <td>phoenix</td>\n",
       "      <td>33.4479</td>\n",
       "      <td>-112.07500</td>\n",
       "      <td>USA</td>\n",
       "      <td>1990-03-11</td>\n",
       "      <td>http://en.wikipedia.org/wiki/1990_United_State...</td>\n",
       "    </tr>\n",
       "    <tr>\n",
       "      <th>1</th>\n",
       "      <td>1990</td>\n",
       "      <td>2</td>\n",
       "      <td>interlagos</td>\n",
       "      <td>-23.7036</td>\n",
       "      <td>-46.69970</td>\n",
       "      <td>Brazil</td>\n",
       "      <td>1990-03-25</td>\n",
       "      <td>http://en.wikipedia.org/wiki/1990_Brazilian_Gr...</td>\n",
       "    </tr>\n",
       "    <tr>\n",
       "      <th>2</th>\n",
       "      <td>1990</td>\n",
       "      <td>3</td>\n",
       "      <td>imola</td>\n",
       "      <td>44.3439</td>\n",
       "      <td>11.71670</td>\n",
       "      <td>Italy</td>\n",
       "      <td>1990-05-13</td>\n",
       "      <td>http://en.wikipedia.org/wiki/1990_San_Marino_G...</td>\n",
       "    </tr>\n",
       "    <tr>\n",
       "      <th>3</th>\n",
       "      <td>1990</td>\n",
       "      <td>4</td>\n",
       "      <td>monaco</td>\n",
       "      <td>43.7347</td>\n",
       "      <td>7.42056</td>\n",
       "      <td>Monaco</td>\n",
       "      <td>1990-05-27</td>\n",
       "      <td>http://en.wikipedia.org/wiki/1990_Monaco_Grand...</td>\n",
       "    </tr>\n",
       "    <tr>\n",
       "      <th>4</th>\n",
       "      <td>1990</td>\n",
       "      <td>5</td>\n",
       "      <td>villeneuve</td>\n",
       "      <td>45.5000</td>\n",
       "      <td>-73.52280</td>\n",
       "      <td>Canada</td>\n",
       "      <td>1990-06-10</td>\n",
       "      <td>http://en.wikipedia.org/wiki/1990_Canadian_Gra...</td>\n",
       "    </tr>\n",
       "  </tbody>\n",
       "</table>\n",
       "</div>"
      ],
      "text/plain": [
       "   season  round  circuit_id      lat       long country        date  \\\n",
       "0    1990      1     phoenix  33.4479 -112.07500     USA  1990-03-11   \n",
       "1    1990      2  interlagos -23.7036  -46.69970  Brazil  1990-03-25   \n",
       "2    1990      3       imola  44.3439   11.71670   Italy  1990-05-13   \n",
       "3    1990      4      monaco  43.7347    7.42056  Monaco  1990-05-27   \n",
       "4    1990      5  villeneuve  45.5000  -73.52280  Canada  1990-06-10   \n",
       "\n",
       "                                                 url  \n",
       "0  http://en.wikipedia.org/wiki/1990_United_State...  \n",
       "1  http://en.wikipedia.org/wiki/1990_Brazilian_Gr...  \n",
       "2  http://en.wikipedia.org/wiki/1990_San_Marino_G...  \n",
       "3  http://en.wikipedia.org/wiki/1990_Monaco_Grand...  \n",
       "4  http://en.wikipedia.org/wiki/1990_Canadian_Gra...  "
      ]
     },
     "execution_count": 7,
     "metadata": {},
     "output_type": "execute_result"
    }
   ],
   "source": [
    "race.head()"
   ]
  },
  {
   "cell_type": "code",
   "execution_count": 11,
   "metadata": {},
   "outputs": [
    {
     "name": "stdout",
     "output_type": "stream",
     "text": [
      "<class 'pandas.core.frame.DataFrame'>\n",
      "RangeIndex: 551 entries, 0 to 550\n",
      "Data columns (total 8 columns):\n",
      " #   Column      Non-Null Count  Dtype  \n",
      "---  ------      --------------  -----  \n",
      " 0   season      551 non-null    int64  \n",
      " 1   round       551 non-null    int64  \n",
      " 2   circuit_id  551 non-null    object \n",
      " 3   lat         551 non-null    float64\n",
      " 4   long        551 non-null    float64\n",
      " 5   country     551 non-null    object \n",
      " 6   date        551 non-null    object \n",
      " 7   url         551 non-null    object \n",
      "dtypes: float64(2), int64(2), object(4)\n",
      "memory usage: 34.6+ KB\n"
     ]
    }
   ],
   "source": [
    "race.info()"
   ]
  },
  {
   "cell_type": "markdown",
   "metadata": {},
   "source": [
    "## 1.4 Création d'une deuxième base \"Results\""
   ]
  },
  {
   "cell_type": "markdown",
   "metadata": {},
   "source": [
    "* Objectif : création d'une deuxième base incluant notamment la position sur la grille de départ et le podium final\n",
    "* Observations de valeurs manquantes sur la variable \"time\" : on choisit donc de l'exclure (64% de valeurs manquantes)"
   ]
  },
  {
   "cell_type": "code",
   "execution_count": 8,
   "metadata": {},
   "outputs": [
    {
     "name": "stdout",
     "output_type": "stream",
     "text": [
      "[[1990, [1, 2, 3, 4, 5, 6, 7, 8, 9, 10, 11, 12, 13, 14, 15, 16]], [1991, [1, 2, 3, 4, 5, 6, 7, 8, 9, 10, 11, 12, 13, 14, 15, 16]], [1992, [1, 2, 3, 4, 5, 6, 7, 8, 9, 10, 11, 12, 13, 14, 15, 16]], [1993, [1, 2, 3, 4, 5, 6, 7, 8, 9, 10, 11, 12, 13, 14, 15, 16]], [1994, [1, 2, 3, 4, 5, 6, 7, 8, 9, 10, 11, 12, 13, 14, 15, 16]], [1995, [1, 2, 3, 4, 5, 6, 7, 8, 9, 10, 11, 12, 13, 14, 15, 16, 17]], [1996, [1, 2, 3, 4, 5, 6, 7, 8, 9, 10, 11, 12, 13, 14, 15, 16]], [1997, [1, 2, 3, 4, 5, 6, 7, 8, 9, 10, 11, 12, 13, 14, 15, 16, 17]], [1998, [1, 2, 3, 4, 5, 6, 7, 8, 9, 10, 11, 12, 13, 14, 15, 16]], [1999, [1, 2, 3, 4, 5, 6, 7, 8, 9, 10, 11, 12, 13, 14, 15, 16]], [2000, [1, 2, 3, 4, 5, 6, 7, 8, 9, 10, 11, 12, 13, 14, 15, 16, 17]], [2001, [1, 2, 3, 4, 5, 6, 7, 8, 9, 10, 11, 12, 13, 14, 15, 16, 17]], [2002, [1, 2, 3, 4, 5, 6, 7, 8, 9, 10, 11, 12, 13, 14, 15, 16, 17]], [2003, [1, 2, 3, 4, 5, 6, 7, 8, 9, 10, 11, 12, 13, 14, 15, 16]], [2004, [1, 2, 3, 4, 5, 6, 7, 8, 9, 10, 11, 12, 13, 14, 15, 16, 17, 18]], [2005, [1, 2, 3, 4, 5, 6, 7, 8, 9, 10, 11, 12, 13, 14, 15, 16, 17, 18, 19]], [2006, [1, 2, 3, 4, 5, 6, 7, 8, 9, 10, 11, 12, 13, 14, 15, 16, 17, 18]], [2007, [1, 2, 3, 4, 5, 6, 7, 8, 9, 10, 11, 12, 13, 14, 15, 16, 17]], [2008, [1, 2, 3, 4, 5, 6, 7, 8, 9, 10, 11, 12, 13, 14, 15, 16, 17, 18]], [2009, [1, 2, 3, 4, 5, 6, 7, 8, 9, 10, 11, 12, 13, 14, 15, 16, 17]], [2010, [1, 2, 3, 4, 5, 6, 7, 8, 9, 10, 11, 12, 13, 14, 15, 16, 17, 18, 19]], [2011, [1, 2, 3, 4, 5, 6, 7, 8, 9, 10, 11, 12, 13, 14, 15, 16, 17, 18, 19]], [2012, [1, 2, 3, 4, 5, 6, 7, 8, 9, 10, 11, 12, 13, 14, 15, 16, 17, 18, 19, 20]], [2013, [1, 2, 3, 4, 5, 6, 7, 8, 9, 10, 11, 12, 13, 14, 15, 16, 17, 18, 19]], [2014, [1, 2, 3, 4, 5, 6, 7, 8, 9, 10, 11, 12, 13, 14, 15, 16, 17, 18, 19]], [2015, [1, 2, 3, 4, 5, 6, 7, 8, 9, 10, 11, 12, 13, 14, 15, 16, 17, 18, 19]], [2016, [1, 2, 3, 4, 5, 6, 7, 8, 9, 10, 11, 12, 13, 14, 15, 16, 17, 18, 19, 20, 21]], [2017, [1, 2, 3, 4, 5, 6, 7, 8, 9, 10, 11, 12, 13, 14, 15, 16, 17, 18, 19, 20]], [2018, [1, 2, 3, 4, 5, 6, 7, 8, 9, 10, 11, 12, 13, 14, 15, 16, 17, 18, 19, 20, 21]], [2019, [1, 2, 3, 4, 5, 6, 7, 8, 9, 10, 11, 12, 13, 14, 15, 16, 17, 18, 19, 20, 21]], [2020, [1, 2, 3, 4, 5, 6, 7, 8, 9, 10, 11, 12, 13, 14, 15, 16, 17]]]\n"
     ]
    }
   ],
   "source": [
    "rounds = []\n",
    "for year in np.array(race.season.unique()):\n",
    "    rounds.append([year, list(race[race.season == year]['round'])])\n",
    "\n",
    "print(rounds)\n",
    "# query API\n",
    "    \n",
    "results = {'season': [],\n",
    "          'round':[],\n",
    "           'circuit_id':[],\n",
    "          'driver': [],\n",
    "           'date_of_birth': [],\n",
    "           'nationality': [],\n",
    "          'constructor': [],\n",
    "          'grid': [],\n",
    "          'time': [],\n",
    "          'status': [],\n",
    "          'points': [],\n",
    "          'podium': []}\n",
    "\n",
    "for n in list(range(len(rounds))):\n",
    "    for i in rounds[n][1]:\n",
    "    \n",
    "        url = 'http://ergast.com/api/f1/{}/{}/results.json'\n",
    "        r = requests.get(url.format(rounds[n][0], i))\n",
    "        json = r.json()\n",
    "\n",
    "        for item in json['MRData']['RaceTable']['Races'][0]['Results']:\n",
    "            try:\n",
    "                results['season'].append(int(json['MRData']['RaceTable']['Races'][0]['season']))\n",
    "            except:\n",
    "                results['season'].append(None)\n",
    "\n",
    "            try:\n",
    "                results['round'].append(int(json['MRData']['RaceTable']['Races'][0]['round']))\n",
    "            except:\n",
    "                results['round'].append(None)\n",
    "\n",
    "            try:\n",
    "                results['circuit_id'].append(json['MRData']['RaceTable']['Races'][0]['Circuit']['circuitId'])\n",
    "            except:\n",
    "                results['circuit_id'].append(None)\n",
    "\n",
    "            try:\n",
    "                results['driver'].append(item['Driver']['driverId'])\n",
    "            except:\n",
    "                results['driver'].append(None)\n",
    "            \n",
    "            try:\n",
    "                results['date_of_birth'].append(item['Driver']['dateOfBirth'])\n",
    "            except:\n",
    "                results['date_of_birth'].append(None)\n",
    "                \n",
    "            try:\n",
    "                results['nationality'].append(item['Driver']['nationality'])\n",
    "            except:\n",
    "                results['nationality'].append(None)\n",
    "\n",
    "            try:\n",
    "                results['constructor'].append(item['Constructor']['constructorId'])\n",
    "            except:\n",
    "                results['constructor'].append(None)\n",
    "\n",
    "            try:\n",
    "                results['grid'].append(int(item['grid']))\n",
    "            except:\n",
    "                results['grid'].append(None)\n",
    "\n",
    "            try:\n",
    "                results['time'].append(int(item['Time']['millis']))\n",
    "            except:\n",
    "                results['time'].append(None)\n",
    "\n",
    "            try:\n",
    "                results['status'].append(item['status'])\n",
    "            except:\n",
    "                results['status'].append(None)\n",
    "\n",
    "            try:\n",
    "                results['points'].append(int(item['points']))\n",
    "            except:\n",
    "                results['points'].append(None)\n",
    "\n",
    "            try:\n",
    "                results['podium'].append(int(item['position']))\n",
    "            except:\n",
    "                results['podium'].append(None)\n",
    "\n",
    "           \n",
    "results = pd.DataFrame(results)"
   ]
  },
  {
   "cell_type": "code",
   "execution_count": 9,
   "metadata": {},
   "outputs": [
    {
     "data": {
      "text/html": [
       "<div>\n",
       "<style scoped>\n",
       "    .dataframe tbody tr th:only-of-type {\n",
       "        vertical-align: middle;\n",
       "    }\n",
       "\n",
       "    .dataframe tbody tr th {\n",
       "        vertical-align: top;\n",
       "    }\n",
       "\n",
       "    .dataframe thead th {\n",
       "        text-align: right;\n",
       "    }\n",
       "</style>\n",
       "<table border=\"1\" class=\"dataframe\">\n",
       "  <thead>\n",
       "    <tr style=\"text-align: right;\">\n",
       "      <th></th>\n",
       "      <th>season</th>\n",
       "      <th>round</th>\n",
       "      <th>circuit_id</th>\n",
       "      <th>driver</th>\n",
       "      <th>date_of_birth</th>\n",
       "      <th>nationality</th>\n",
       "      <th>constructor</th>\n",
       "      <th>grid</th>\n",
       "      <th>time</th>\n",
       "      <th>status</th>\n",
       "      <th>points</th>\n",
       "      <th>podium</th>\n",
       "    </tr>\n",
       "  </thead>\n",
       "  <tbody>\n",
       "    <tr>\n",
       "      <th>0</th>\n",
       "      <td>1990</td>\n",
       "      <td>1</td>\n",
       "      <td>phoenix</td>\n",
       "      <td>senna</td>\n",
       "      <td>1960-03-21</td>\n",
       "      <td>Brazilian</td>\n",
       "      <td>mclaren</td>\n",
       "      <td>5</td>\n",
       "      <td>6752829.0</td>\n",
       "      <td>Finished</td>\n",
       "      <td>9.0</td>\n",
       "      <td>1</td>\n",
       "    </tr>\n",
       "    <tr>\n",
       "      <th>1</th>\n",
       "      <td>1990</td>\n",
       "      <td>1</td>\n",
       "      <td>phoenix</td>\n",
       "      <td>alesi</td>\n",
       "      <td>1964-06-11</td>\n",
       "      <td>French</td>\n",
       "      <td>tyrrell</td>\n",
       "      <td>4</td>\n",
       "      <td>6761514.0</td>\n",
       "      <td>Finished</td>\n",
       "      <td>6.0</td>\n",
       "      <td>2</td>\n",
       "    </tr>\n",
       "    <tr>\n",
       "      <th>2</th>\n",
       "      <td>1990</td>\n",
       "      <td>1</td>\n",
       "      <td>phoenix</td>\n",
       "      <td>boutsen</td>\n",
       "      <td>1957-07-13</td>\n",
       "      <td>Belgian</td>\n",
       "      <td>williams</td>\n",
       "      <td>9</td>\n",
       "      <td>6806909.0</td>\n",
       "      <td>Finished</td>\n",
       "      <td>4.0</td>\n",
       "      <td>3</td>\n",
       "    </tr>\n",
       "    <tr>\n",
       "      <th>3</th>\n",
       "      <td>1990</td>\n",
       "      <td>1</td>\n",
       "      <td>phoenix</td>\n",
       "      <td>piquet</td>\n",
       "      <td>1952-08-17</td>\n",
       "      <td>Brazilian</td>\n",
       "      <td>benetton</td>\n",
       "      <td>6</td>\n",
       "      <td>6821187.0</td>\n",
       "      <td>Finished</td>\n",
       "      <td>3.0</td>\n",
       "      <td>4</td>\n",
       "    </tr>\n",
       "    <tr>\n",
       "      <th>4</th>\n",
       "      <td>1990</td>\n",
       "      <td>1</td>\n",
       "      <td>phoenix</td>\n",
       "      <td>modena</td>\n",
       "      <td>1963-05-12</td>\n",
       "      <td>Italian</td>\n",
       "      <td>brabham</td>\n",
       "      <td>10</td>\n",
       "      <td>6822332.0</td>\n",
       "      <td>Finished</td>\n",
       "      <td>2.0</td>\n",
       "      <td>5</td>\n",
       "    </tr>\n",
       "  </tbody>\n",
       "</table>\n",
       "</div>"
      ],
      "text/plain": [
       "   season  round circuit_id   driver date_of_birth nationality constructor  \\\n",
       "0    1990      1    phoenix    senna    1960-03-21   Brazilian     mclaren   \n",
       "1    1990      1    phoenix    alesi    1964-06-11      French     tyrrell   \n",
       "2    1990      1    phoenix  boutsen    1957-07-13     Belgian    williams   \n",
       "3    1990      1    phoenix   piquet    1952-08-17   Brazilian    benetton   \n",
       "4    1990      1    phoenix   modena    1963-05-12     Italian     brabham   \n",
       "\n",
       "   grid       time    status  points  podium  \n",
       "0     5  6752829.0  Finished     9.0       1  \n",
       "1     4  6761514.0  Finished     6.0       2  \n",
       "2     9  6806909.0  Finished     4.0       3  \n",
       "3     6  6821187.0  Finished     3.0       4  \n",
       "4    10  6822332.0  Finished     2.0       5  "
      ]
     },
     "execution_count": 9,
     "metadata": {},
     "output_type": "execute_result"
    }
   ],
   "source": [
    "results.head()"
   ]
  },
  {
   "cell_type": "code",
   "execution_count": 10,
   "metadata": {},
   "outputs": [
    {
     "name": "stdout",
     "output_type": "stream",
     "text": [
      "<class 'pandas.core.frame.DataFrame'>\n",
      "RangeIndex: 12397 entries, 0 to 12396\n",
      "Data columns (total 12 columns):\n",
      " #   Column         Non-Null Count  Dtype  \n",
      "---  ------         --------------  -----  \n",
      " 0   season         12397 non-null  int64  \n",
      " 1   round          12397 non-null  int64  \n",
      " 2   circuit_id     12397 non-null  object \n",
      " 3   driver         12397 non-null  object \n",
      " 4   date_of_birth  12397 non-null  object \n",
      " 5   nationality    12397 non-null  object \n",
      " 6   constructor    12397 non-null  object \n",
      " 7   grid           12397 non-null  int64  \n",
      " 8   time           4464 non-null   float64\n",
      " 9   status         12397 non-null  object \n",
      " 10  points         12392 non-null  float64\n",
      " 11  podium         12397 non-null  int64  \n",
      "dtypes: float64(2), int64(4), object(6)\n",
      "memory usage: 1.1+ MB\n"
     ]
    }
   ],
   "source": [
    "results.info()"
   ]
  },
  {
   "cell_type": "code",
   "execution_count": null,
   "metadata": {},
   "outputs": [],
   "source": [
    "results_na=results.copy()\n",
    "sns.heatmap(results_na.isna()) # On visualise l'emplacements des valeurs manquantes On a bcp de valeurs manquantes et un peu partout\n",
    "results_na.isna()['time'].mean() # 64% de valeurs manquantes on ne va donc pas utilise\n",
    "\n",
    "results=results.drop(labels='time', axis=1) #suppression de la colonne aux données manquantes"
   ]
  },
  {
   "cell_type": "markdown",
   "metadata": {},
   "source": [
    "## 1.7 Création de la base \"weather\" "
   ]
  },
  {
   "cell_type": "markdown",
   "metadata": {},
   "source": [
    "* Objectif : création d'une deuxième base incluant les conditions météorologiques pour chaque course "
   ]
  },
  {
   "cell_type": "code",
   "execution_count": 42,
   "metadata": {},
   "outputs": [
    {
     "name": "stderr",
     "output_type": "stream",
     "text": [
      "<ipython-input-42-dc7de05a27bc>:48: SettingWithCopyWarning: \n",
      "A value is trying to be set on a copy of a slice from a DataFrame.\n",
      "Try using .loc[row_indexer,col_indexer] = value instead\n",
      "\n",
      "See the caveats in the documentation: https://pandas.pydata.org/pandas-docs/stable/user_guide/indexing.html#returning-a-view-versus-a-copy\n",
      "  weather['weather'] = info\n"
     ]
    }
   ],
   "source": [
    "from selenium import webdriver\n",
    "\n",
    "weather = race.iloc[:,[0,1,2]]\n",
    "\n",
    "info = []\n",
    "\n",
    "# read wikipedia tables\n",
    "\n",
    "for link in race.url:\n",
    "    try:\n",
    "        df = pd.read_html(link)[0]\n",
    "        if 'Weather' in list(df.iloc[:,0]):\n",
    "            n = list(df.iloc[:,0]).index('Weather')\n",
    "            info.append(df.iloc[n,1])\n",
    "        else:\n",
    "            df = pd.read_html(link)[1]\n",
    "            if 'Weather' in list(df.iloc[:,0]):\n",
    "                n = list(df.iloc[:,0]).index('Weather')\n",
    "                info.append(df.iloc[n,1])\n",
    "            else:\n",
    "                df = pd.read_html(link)[2]\n",
    "                if 'Weather' in list(df.iloc[:,0]):\n",
    "                    n = list(df.iloc[:,0]).index('Weather')\n",
    "                    info.append(df.iloc[n,1])\n",
    "                else:\n",
    "                    df = pd.read_html(link)[3]\n",
    "                    if 'Weather' in list(df.iloc[:,0]):\n",
    "                        n = list(df.iloc[:,0]).index('Weather')\n",
    "                        info.append(df.iloc[n,1])\n",
    "                    else:\n",
    "                        driver = webdriver.Chrome()\n",
    "                        driver.get(link)\n",
    "\n",
    "                        # click language button\n",
    "                        button = driver.find_element_by_link_text('Français')\n",
    "                        button.click()\n",
    "                        \n",
    "                        # find weather in italian with selenium\n",
    "                        \n",
    "                        clima = driver.find_element_by_xpath('//*[@id=\"mw-content-text\"]/div/table[1]/tbody/tr[9]/td').text\n",
    "                        info.append(clima) \n",
    "                                \n",
    "    except:\n",
    "        info.append('not found')\n",
    "\n",
    "# append column with weather information to dataframe  \n",
    "  \n",
    "weather['weather'] = info\n",
    "\n",
    "# set up a dictionary to convert weather information into keywords\n",
    "\n",
    "weather_dict = {'weather_warm': ['clair', 'clear', 'warm', 'hot', 'sunny', 'fine', 'mild', 'dégagé'],\n",
    "               'weather_cold': ['cold', 'fresh', 'chilly', 'cool'],\n",
    "               'weather_dry': ['dry', 'humide'],\n",
    "               'weather_wet': ['showers', 'wet', 'rain', 'pluvieux', 'damp', 'thunderstorms', 'rainy'],\n",
    "               'weather_cloudy': ['overcast', 'nuageux', 'clouds', 'cloudy', 'grey', 'gris']}\n",
    "\n",
    "# map new df according to weather dictionary\n",
    "\n",
    "weather_df = pd.DataFrame(columns = weather_dict.keys())\n",
    "for col in weather_df:\n",
    "    weather_df[col] = weather['weather'].map(lambda x: 1 if any(i in weather_dict[col] for i in x.lower().split()) else 0)\n",
    "   \n",
    "weather_info = pd.concat([weather, weather_df], axis = 1)"
   ]
  },
  {
   "cell_type": "markdown",
   "metadata": {},
   "source": [
    "# 2. Corrélation entre la Grille de départ et le classement d'arrivée"
   ]
  },
  {
   "cell_type": "markdown",
   "metadata": {},
   "source": [
    "* La première idée est d'étudier le lien entre la grille de départ et le classement final. En effet, cela nous paraît le premier critère qui va determiner l'issue de la course"
   ]
  },
  {
   "cell_type": "markdown",
   "metadata": {},
   "source": [
    "## 2.1 Première étude de corrélation"
   ]
  },
  {
   "cell_type": "markdown",
   "metadata": {},
   "source": [
    "* On trace donc le nuage de point pour toutes les données dont nous disposons"
   ]
  },
  {
   "cell_type": "code",
   "execution_count": 18,
   "metadata": {},
   "outputs": [
    {
     "data": {
      "text/plain": [
       "<seaborn.axisgrid.FacetGrid at 0x1fdbfe8b1c0>"
      ]
     },
     "execution_count": 18,
     "metadata": {},
     "output_type": "execute_result"
    },
    {
     "data": {
      "image/png": "[encoded data removed]",
      "text/plain": [
       "<Figure size 360x360 with 1 Axes>"
      ]
     },
     "metadata": {},
     "output_type": "display_data"
    }
   ],
   "source": [
    "sns.relplot(x=\"grid\", y=\"podium\", data=results)"
   ]
  },
  {
   "cell_type": "markdown",
   "metadata": {},
   "source": [
    "* Commentaires : A première vue, il n'y a pas de corrélations claires entre la position initiale sur la grille et la position d'arrivée. Cela est surement dû au nombre de données et aux années totalement différentes qu'on étudie : il y a beaucoup de bruit."
   ]
  },
  {
   "cell_type": "markdown",
   "metadata": {},
   "source": [
    "* Nous traçons ensuite ce nuage de point pour l'année 2020, afin de pouvoir mieux visualiser les points, et par circuit afin de visualiser des tendances par circuit."
   ]
  },
  {
   "cell_type": "code",
   "execution_count": 13,
   "metadata": {},
   "outputs": [
    {
     "data": {
      "text/plain": [
       "<seaborn.axisgrid.FacetGrid at 0x11a3bd640>"
      ]
     },
     "execution_count": 13,
     "metadata": {},
     "output_type": "execute_result"
    },
    {
     "data": {
      "image/png": "[encoded data removed]",
      "text/plain": [
       "<Figure size 463.725x360 with 1 Axes>"
      ]
     },
     "metadata": {},
     "output_type": "display_data"
    }
   ],
   "source": [
    "results_2020=results.copy()\n",
    "results_2020=results_2020[results_2020[\"season\"]>=2020]\n",
    "sns.relplot(x=\"grid\", y=\"podium\", data=results_2020[results_2020[\"season\"]==2020],hue=\"circuit_id\")"
   ]
  },
  {
   "cell_type": "markdown",
   "metadata": {},
   "source": [
    "\n",
    "* Commentaires : On n'observe pas une corrélation encore très franche, mais une tendance linéaire se dessine tout de même "
   ]
  },
  {
   "cell_type": "markdown",
   "metadata": {},
   "source": [
    "## 2.2 Création d'une fonction de corrélation entre la grille et le podium"
   ]
  },
  {
   "cell_type": "code",
   "execution_count": 14,
   "metadata": {},
   "outputs": [],
   "source": [
    "results_2010=results[results[\"season\"]>=2010].copy() # je prends uniquement les courses à partir de 2010"
   ]
  },
  {
   "cell_type": "code",
   "execution_count": 20,
   "metadata": {},
   "outputs": [],
   "source": [
    "# Cette fonction donne la corrélation par circuit à l'année choisie entre le podium et la grille \n",
    "    \n",
    "    def corr_grid_podium(annee):\n",
    "    \n",
    "    circuits=results_2010[results_2010[\"season\"] ==annee][\"circuit_id\"].unique()\n",
    "    df=results_2010[results_2010[\"season\"] ==annee]\n",
    "    les_correlations={}\n",
    "\n",
    "    for circuit in circuits:\n",
    "        df1=df[df[\"circuit_id\"]==circuit][['grid',\"podium\"]]\n",
    "        corr=df1.corr()[\"podium\"][0]\n",
    "        les_correlations[circuit]=corr\n",
    "    \n",
    "    df2=pd.DataFrame(list(les_correlations.items()),\n",
    "                   columns=['circuit_id', 'correlation_grid_pod'])\n",
    "    df2=df2.sort_values(by='correlation_grid_pod',ascending=False)\n",
    "\n",
    "    print(df2)\n",
    "\n",
    "    _,(ax1) = plt.subplots(ncols=1)\n",
    "    sns.barplot(data=df2, x='circuit_id', y='correlation_grid_pod', ax=ax1, palette=sns.color_palette(\"icefire\"))\n",
    "    "
   ]
  },
  {
   "cell_type": "code",
   "execution_count": 21,
   "metadata": {
    "scrolled": false
   },
   "outputs": [
    {
     "name": "stdout",
     "output_type": "stream",
     "text": [
      "        circuit_id  correlation_grid_pod\n",
      "7           ricard              0.851128\n",
      "5           monaco              0.846617\n",
      "14      marina_bay              0.840602\n",
      "11     hungaroring              0.803008\n",
      "4        catalunya              0.775940\n",
      "17       rodriguez              0.762406\n",
      "0      albert_park              0.718797\n",
      "2         shanghai              0.711278\n",
      "9      silverstone              0.684211\n",
      "20      yas_marina              0.664662\n",
      "1          bahrain              0.622556\n",
      "18        americas              0.590977\n",
      "6       villeneuve              0.575940\n",
      "8    red_bull_ring              0.544361\n",
      "15           sochi              0.535338\n",
      "16          suzuka              0.503759\n",
      "3              BAK              0.354306\n",
      "13           monza              0.324812\n",
      "12             spa              0.231579\n",
      "19      interlagos              0.129323\n",
      "10  hockenheimring             -0.073684\n",
      "None\n"
     ]
    },
    {
     "data": {
      "image/png": "[encoded data removed]",
      "text/plain": [
       "<Figure size 1440x720 with 1 Axes>"
      ]
     },
     "metadata": {},
     "output_type": "display_data"
    }
   ],
   "source": [
    "print(corr_grid_podium(2019)) # On choisit arbitraiement 2019 ici"
   ]
  },
  {
   "cell_type": "markdown",
   "metadata": {},
   "source": [
    "* Observations : On observe une corrélation proche de 0.84 (proche de 1) pour le circuit de Monaco, ce qui est cohérent car les rues sont très étroites pour effectuer un dépassement. Au contraire, il est très facile de manoeuvrer sur le circuit de SPa, d'où une corrélation bien plus faible."
   ]
  },
  {
   "cell_type": "markdown",
   "metadata": {},
   "source": [
    "# 3. Corrélation entre le constructeur et les classemements sur la grille et à l'arrivée"
   ]
  },
  {
   "cell_type": "markdown",
   "metadata": {},
   "source": [
    "* Notre deuxième idée est d'étudier l'importance du constructeur dans la victoire finale"
   ]
  },
  {
   "cell_type": "markdown",
   "metadata": {},
   "source": [
    "## 3.1 Position Moyenne des constructeurs sur la grille et à l'arrivée"
   ]
  },
  {
   "cell_type": "code",
   "execution_count": 22,
   "metadata": {},
   "outputs": [],
   "source": [
    "results_constructeur=results.copy()\n",
    "results_constructeur=results_constructeur[[\"constructor\",\"podium\",\"grid\"]]"
   ]
  },
  {
   "cell_type": "code",
   "execution_count": 23,
   "metadata": {
    "scrolled": false
   },
   "outputs": [
    {
     "data": {
      "text/html": [
       "<div>\n",
       "<style scoped>\n",
       "    .dataframe tbody tr th:only-of-type {\n",
       "        vertical-align: middle;\n",
       "    }\n",
       "\n",
       "    .dataframe tbody tr th {\n",
       "        vertical-align: top;\n",
       "    }\n",
       "\n",
       "    .dataframe thead th {\n",
       "        text-align: right;\n",
       "    }\n",
       "</style>\n",
       "<table border=\"1\" class=\"dataframe\">\n",
       "  <thead>\n",
       "    <tr style=\"text-align: right;\">\n",
       "      <th></th>\n",
       "      <th>podium</th>\n",
       "      <th>grid</th>\n",
       "    </tr>\n",
       "    <tr>\n",
       "      <th>constructor</th>\n",
       "      <th></th>\n",
       "      <th></th>\n",
       "    </tr>\n",
       "  </thead>\n",
       "  <tbody>\n",
       "    <tr>\n",
       "      <th>brawn</th>\n",
       "      <td>4.882353</td>\n",
       "      <td>5.117647</td>\n",
       "    </tr>\n",
       "    <tr>\n",
       "      <th>mercedes</th>\n",
       "      <td>5.769767</td>\n",
       "      <td>4.611628</td>\n",
       "    </tr>\n",
       "    <tr>\n",
       "      <th>ferrari</th>\n",
       "      <td>7.433757</td>\n",
       "      <td>5.715971</td>\n",
       "    </tr>\n",
       "    <tr>\n",
       "      <th>red_bull</th>\n",
       "      <td>7.996711</td>\n",
       "      <td>6.980263</td>\n",
       "    </tr>\n",
       "    <tr>\n",
       "      <th>bmw_sauber</th>\n",
       "      <td>8.921429</td>\n",
       "      <td>8.935714</td>\n",
       "    </tr>\n",
       "    <tr>\n",
       "      <th>mclaren</th>\n",
       "      <td>9.269510</td>\n",
       "      <td>7.372051</td>\n",
       "    </tr>\n",
       "    <tr>\n",
       "      <th>benetton</th>\n",
       "      <td>9.543367</td>\n",
       "      <td>8.571429</td>\n",
       "    </tr>\n",
       "    <tr>\n",
       "      <th>renault</th>\n",
       "      <td>10.467626</td>\n",
       "      <td>9.989209</td>\n",
       "    </tr>\n",
       "    <tr>\n",
       "      <th>racing_point</th>\n",
       "      <td>10.631579</td>\n",
       "      <td>11.315789</td>\n",
       "    </tr>\n",
       "    <tr>\n",
       "      <th>williams</th>\n",
       "      <td>10.642144</td>\n",
       "      <td>8.856494</td>\n",
       "    </tr>\n",
       "    <tr>\n",
       "      <th>alphatauri</th>\n",
       "      <td>10.705882</td>\n",
       "      <td>11.235294</td>\n",
       "    </tr>\n",
       "    <tr>\n",
       "      <th>lotus_f1</th>\n",
       "      <td>11.311688</td>\n",
       "      <td>10.818182</td>\n",
       "    </tr>\n",
       "    <tr>\n",
       "      <th>bar</th>\n",
       "      <td>11.415254</td>\n",
       "      <td>10.720339</td>\n",
       "    </tr>\n",
       "    <tr>\n",
       "      <th>toyota</th>\n",
       "      <td>11.450000</td>\n",
       "      <td>10.535714</td>\n",
       "    </tr>\n",
       "    <tr>\n",
       "      <th>force_india</th>\n",
       "      <td>11.686321</td>\n",
       "      <td>12.021226</td>\n",
       "    </tr>\n",
       "    <tr>\n",
       "      <th>honda</th>\n",
       "      <td>11.933962</td>\n",
       "      <td>12.273585</td>\n",
       "    </tr>\n",
       "    <tr>\n",
       "      <th>ligier</th>\n",
       "      <td>12.871681</td>\n",
       "      <td>14.823009</td>\n",
       "    </tr>\n",
       "    <tr>\n",
       "      <th>sauber</th>\n",
       "      <td>12.901141</td>\n",
       "      <td>13.219265</td>\n",
       "    </tr>\n",
       "    <tr>\n",
       "      <th>jaguar</th>\n",
       "      <td>12.970588</td>\n",
       "      <td>13.047059</td>\n",
       "    </tr>\n",
       "    <tr>\n",
       "      <th>jordan</th>\n",
       "      <td>13.110220</td>\n",
       "      <td>11.971944</td>\n",
       "    </tr>\n",
       "    <tr>\n",
       "      <th>alfa</th>\n",
       "      <td>13.236842</td>\n",
       "      <td>14.131579</td>\n",
       "    </tr>\n",
       "    <tr>\n",
       "      <th>prost</th>\n",
       "      <td>13.272727</td>\n",
       "      <td>14.412121</td>\n",
       "    </tr>\n",
       "    <tr>\n",
       "      <th>toro_rosso</th>\n",
       "      <td>13.494403</td>\n",
       "      <td>13.662313</td>\n",
       "    </tr>\n",
       "    <tr>\n",
       "      <th>haas</th>\n",
       "      <td>13.770000</td>\n",
       "      <td>12.775000</td>\n",
       "    </tr>\n",
       "    <tr>\n",
       "      <th>stewart</th>\n",
       "      <td>13.897959</td>\n",
       "      <td>12.571429</td>\n",
       "    </tr>\n",
       "    <tr>\n",
       "      <th>tyrrell</th>\n",
       "      <td>14.775087</td>\n",
       "      <td>15.290657</td>\n",
       "    </tr>\n",
       "    <tr>\n",
       "      <th>arrows</th>\n",
       "      <td>15.067568</td>\n",
       "      <td>16.297297</td>\n",
       "    </tr>\n",
       "    <tr>\n",
       "      <th>minardi</th>\n",
       "      <td>15.154717</td>\n",
       "      <td>18.120755</td>\n",
       "    </tr>\n",
       "    <tr>\n",
       "      <th>team_lotus</th>\n",
       "      <td>15.500000</td>\n",
       "      <td>16.093750</td>\n",
       "    </tr>\n",
       "    <tr>\n",
       "      <th>footwork</th>\n",
       "      <td>15.712766</td>\n",
       "      <td>14.925532</td>\n",
       "    </tr>\n",
       "    <tr>\n",
       "      <th>mf1</th>\n",
       "      <td>15.750000</td>\n",
       "      <td>17.785714</td>\n",
       "    </tr>\n",
       "    <tr>\n",
       "      <th>larrousse</th>\n",
       "      <td>15.947368</td>\n",
       "      <td>17.609023</td>\n",
       "    </tr>\n",
       "    <tr>\n",
       "      <th>super_aguri</th>\n",
       "      <td>16.102564</td>\n",
       "      <td>18.679487</td>\n",
       "    </tr>\n",
       "    <tr>\n",
       "      <th>dallara</th>\n",
       "      <td>16.236559</td>\n",
       "      <td>16.354839</td>\n",
       "    </tr>\n",
       "    <tr>\n",
       "      <th>manor</th>\n",
       "      <td>16.923077</td>\n",
       "      <td>18.358974</td>\n",
       "    </tr>\n",
       "    <tr>\n",
       "      <th>forti</th>\n",
       "      <td>17.055556</td>\n",
       "      <td>22.166667</td>\n",
       "    </tr>\n",
       "    <tr>\n",
       "      <th>spyker_mf1</th>\n",
       "      <td>17.125000</td>\n",
       "      <td>19.125000</td>\n",
       "    </tr>\n",
       "    <tr>\n",
       "      <th>march</th>\n",
       "      <td>17.343750</td>\n",
       "      <td>15.218750</td>\n",
       "    </tr>\n",
       "    <tr>\n",
       "      <th>spyker</th>\n",
       "      <td>17.382353</td>\n",
       "      <td>20.852941</td>\n",
       "    </tr>\n",
       "    <tr>\n",
       "      <th>leyton</th>\n",
       "      <td>17.453125</td>\n",
       "      <td>13.718750</td>\n",
       "    </tr>\n",
       "    <tr>\n",
       "      <th>caterham</th>\n",
       "      <td>17.464286</td>\n",
       "      <td>19.232143</td>\n",
       "    </tr>\n",
       "    <tr>\n",
       "      <th>simtek</th>\n",
       "      <td>17.475000</td>\n",
       "      <td>22.575000</td>\n",
       "    </tr>\n",
       "    <tr>\n",
       "      <th>marussia</th>\n",
       "      <td>17.642202</td>\n",
       "      <td>19.788991</td>\n",
       "    </tr>\n",
       "    <tr>\n",
       "      <th>lotus_racing</th>\n",
       "      <td>17.973684</td>\n",
       "      <td>18.776316</td>\n",
       "    </tr>\n",
       "    <tr>\n",
       "      <th>virgin</th>\n",
       "      <td>19.000000</td>\n",
       "      <td>21.223684</td>\n",
       "    </tr>\n",
       "    <tr>\n",
       "      <th>lola</th>\n",
       "      <td>19.678571</td>\n",
       "      <td>17.892857</td>\n",
       "    </tr>\n",
       "    <tr>\n",
       "      <th>hrt</th>\n",
       "      <td>19.853448</td>\n",
       "      <td>21.775862</td>\n",
       "    </tr>\n",
       "    <tr>\n",
       "      <th>brabham</th>\n",
       "      <td>20.345238</td>\n",
       "      <td>12.535714</td>\n",
       "    </tr>\n",
       "    <tr>\n",
       "      <th>fondmetal</th>\n",
       "      <td>20.696970</td>\n",
       "      <td>15.000000</td>\n",
       "    </tr>\n",
       "    <tr>\n",
       "      <th>osella</th>\n",
       "      <td>20.714286</td>\n",
       "      <td>12.500000</td>\n",
       "    </tr>\n",
       "    <tr>\n",
       "      <th>onyx</th>\n",
       "      <td>21.700000</td>\n",
       "      <td>11.850000</td>\n",
       "    </tr>\n",
       "    <tr>\n",
       "      <th>pacific</th>\n",
       "      <td>21.848485</td>\n",
       "      <td>14.560606</td>\n",
       "    </tr>\n",
       "    <tr>\n",
       "      <th>eurobrun</th>\n",
       "      <td>24.600000</td>\n",
       "      <td>8.000000</td>\n",
       "    </tr>\n",
       "    <tr>\n",
       "      <th>ags</th>\n",
       "      <td>24.783784</td>\n",
       "      <td>7.864865</td>\n",
       "    </tr>\n",
       "    <tr>\n",
       "      <th>lambo</th>\n",
       "      <td>24.833333</td>\n",
       "      <td>7.111111</td>\n",
       "    </tr>\n",
       "    <tr>\n",
       "      <th>moda</th>\n",
       "      <td>26.500000</td>\n",
       "      <td>6.500000</td>\n",
       "    </tr>\n",
       "    <tr>\n",
       "      <th>coloni</th>\n",
       "      <td>30.000000</td>\n",
       "      <td>0.000000</td>\n",
       "    </tr>\n",
       "  </tbody>\n",
       "</table>\n",
       "</div>"
      ],
      "text/plain": [
       "                 podium       grid\n",
       "constructor                       \n",
       "brawn          4.882353   5.117647\n",
       "mercedes       5.769767   4.611628\n",
       "ferrari        7.433757   5.715971\n",
       "red_bull       7.996711   6.980263\n",
       "bmw_sauber     8.921429   8.935714\n",
       "mclaren        9.269510   7.372051\n",
       "benetton       9.543367   8.571429\n",
       "renault       10.467626   9.989209\n",
       "racing_point  10.631579  11.315789\n",
       "williams      10.642144   8.856494\n",
       "alphatauri    10.705882  11.235294\n",
       "lotus_f1      11.311688  10.818182\n",
       "bar           11.415254  10.720339\n",
       "toyota        11.450000  10.535714\n",
       "force_india   11.686321  12.021226\n",
       "honda         11.933962  12.273585\n",
       "ligier        12.871681  14.823009\n",
       "sauber        12.901141  13.219265\n",
       "jaguar        12.970588  13.047059\n",
       "jordan        13.110220  11.971944\n",
       "alfa          13.236842  14.131579\n",
       "prost         13.272727  14.412121\n",
       "toro_rosso    13.494403  13.662313\n",
       "haas          13.770000  12.775000\n",
       "stewart       13.897959  12.571429\n",
       "tyrrell       14.775087  15.290657\n",
       "arrows        15.067568  16.297297\n",
       "minardi       15.154717  18.120755\n",
       "team_lotus    15.500000  16.093750\n",
       "footwork      15.712766  14.925532\n",
       "mf1           15.750000  17.785714\n",
       "larrousse     15.947368  17.609023\n",
       "super_aguri   16.102564  18.679487\n",
       "dallara       16.236559  16.354839\n",
       "manor         16.923077  18.358974\n",
       "forti         17.055556  22.166667\n",
       "spyker_mf1    17.125000  19.125000\n",
       "march         17.343750  15.218750\n",
       "spyker        17.382353  20.852941\n",
       "leyton        17.453125  13.718750\n",
       "caterham      17.464286  19.232143\n",
       "simtek        17.475000  22.575000\n",
       "marussia      17.642202  19.788991\n",
       "lotus_racing  17.973684  18.776316\n",
       "virgin        19.000000  21.223684\n",
       "lola          19.678571  17.892857\n",
       "hrt           19.853448  21.775862\n",
       "brabham       20.345238  12.535714\n",
       "fondmetal     20.696970  15.000000\n",
       "osella        20.714286  12.500000\n",
       "onyx          21.700000  11.850000\n",
       "pacific       21.848485  14.560606\n",
       "eurobrun      24.600000   8.000000\n",
       "ags           24.783784   7.864865\n",
       "lambo         24.833333   7.111111\n",
       "moda          26.500000   6.500000\n",
       "coloni        30.000000   0.000000"
      ]
     },
     "execution_count": 23,
     "metadata": {},
     "output_type": "execute_result"
    }
   ],
   "source": [
    "results_constructeur.groupby(\"constructor\").mean().sort_values(by=\"podium\",ascending=True)"
   ]
  },
  {
   "cell_type": "markdown",
   "metadata": {},
   "source": [
    "* Observations : Comme l'on pouvait le prévoir, les constructeurs Mercedes, Ferrari et RedBull ont la meilleure moyenne en terme de position initiale et de place à l'arrivée"
   ]
  },
  {
   "cell_type": "markdown",
   "metadata": {},
   "source": [
    "## 3.2 Pourcentage de courses gagnées par constructeur depuis 1990"
   ]
  },
  {
   "cell_type": "code",
   "execution_count": 24,
   "metadata": {},
   "outputs": [
    {
     "data": {
      "text/plain": [
       "<matplotlib.axes._subplots.AxesSubplot at 0x1fdc7050160>"
      ]
     },
     "execution_count": 24,
     "metadata": {},
     "output_type": "execute_result"
    },
    {
     "data": {
      "image/png": "[encoded data removed]",
      "text/plain": [
       "<Figure size 1440x720 with 1 Axes>"
      ]
     },
     "metadata": {},
     "output_type": "display_data"
    }
   ],
   "source": [
    "results_constructeur_1=results_constructeur.copy()\n",
    "results_constructeur_1=results_constructeur_1[results_constructeur_1[\"podium\"]==1]\n",
    "df=(results_constructeur_1.groupby(\"constructor\").count())/len(results_constructeur_1)*100\n",
    "df=df.reset_index()\n",
    "_,(ax1) = plt.subplots(ncols=1)\n",
    "sns.barplot(data=df, x='constructor', y='podium', ax=ax1, palette=sns.color_palette(\"icefire\"))"
   ]
  },
  {
   "cell_type": "markdown",
   "metadata": {},
   "source": [
    "* Observations : là encore, sans grande surprise, des constructeurs sortent du lot, comme Ferrari, McLaren, et Mercedes. On observe une très grande disparité entre les constructeurs, ainsi le constructeur contient du signal à exploiter pour prédire la victoire finale"
   ]
  },
  {
   "cell_type": "markdown",
   "metadata": {},
   "source": [
    "# 4. Corrélation entre la nationalité du pilote et la victoire finale "
   ]
  },
  {
   "cell_type": "markdown",
   "metadata": {},
   "source": [
    "* Nous nous interessons ensuite au lien entre la nationalité et la victoire. Nous allons essayer de savoir si cette variable permet d'expliquer, prédire la victoire finale. On va alors tout simplement tracer le pourcentage de victoire par nationalité. "
   ]
  },
  {
   "cell_type": "code",
   "execution_count": 25,
   "metadata": {},
   "outputs": [],
   "source": [
    "results_nationality=results.copy()\n",
    "results_nationality=results_nationality[[\"nationality\",\"grid\",\"podium\",\"circuit_id\"]]"
   ]
  },
  {
   "cell_type": "code",
   "execution_count": 26,
   "metadata": {
    "scrolled": false
   },
   "outputs": [
    {
     "data": {
      "text/plain": [
       "<matplotlib.axes._subplots.AxesSubplot at 0x1fdc7040dc0>"
      ]
     },
     "execution_count": 26,
     "metadata": {},
     "output_type": "execute_result"
    },
    {
     "data": {
      "image/png": "[encoded data removed]",
      "text/plain": [
       "<Figure size 1440x720 with 1 Axes>"
      ]
     },
     "metadata": {},
     "output_type": "display_data"
    }
   ],
   "source": [
    "nb_courses=len(results_nationality[results_nationality[\"podium\"]==1])\n",
    "df=((results_nationality[results_nationality[\"podium\"]==1].groupby(\"nationality\").count())/(nb_courses))*100\n",
    "df=df.reset_index()\n",
    "sns.barplot(x='nationality',y='podium',data=df,palette=sns.color_palette(\"icefire\"))"
   ]
  },
  {
   "cell_type": "markdown",
   "metadata": {},
   "source": [
    "* Commentaires : Sans surprise, les pilotes les plus titrés sur les grands prix sont de nationalité allemande (Vettel, Schumacher, Rosberg), Anglaise (Hamilton), Brésilienne (Senna) et FInlandaise (Räikkönen). On remarque une disparité entre les nationalité, cela signifie donc que la nationalité est une donnée importante"
   ]
  },
  {
   "cell_type": "code",
   "execution_count": 27,
   "metadata": {},
   "outputs": [],
   "source": [
    "# On rajoute alors la nationalité à notre dataframe results\n",
    "df_country_race=race[[\"circuit_id\",\"country\"]].copy()\n",
    "df_country_race.head()\n",
    "results_merged=results.merge(df_country_race ,how='left', on=\"circuit_id\")"
   ]
  },
  {
   "cell_type": "code",
   "execution_count": 36,
   "metadata": {},
   "outputs": [
    {
     "name": "stdout",
     "output_type": "stream",
     "text": [
      "        season  round  circuit_id   driver date_of_birth nationality  \\\n",
      "0         1990      1     phoenix    senna    1960-03-21   Brazilian   \n",
      "1         1990      1     phoenix    senna    1960-03-21   Brazilian   \n",
      "2         1990      1     phoenix    alesi    1964-06-11      French   \n",
      "3         1990      1     phoenix    alesi    1964-06-11      French   \n",
      "4         1990      1     phoenix  boutsen    1957-07-13     Belgian   \n",
      "...        ...    ...         ...      ...           ...         ...   \n",
      "270245    2020     17  yas_marina    perez    1990-01-26     Mexican   \n",
      "270246    2020     17  yas_marina    perez    1990-01-26     Mexican   \n",
      "270247    2020     17  yas_marina    perez    1990-01-26     Mexican   \n",
      "270248    2020     17  yas_marina    perez    1990-01-26     Mexican   \n",
      "270249    2020     17  yas_marina    perez    1990-01-26     Mexican   \n",
      "\n",
      "         constructor  grid        status  points  podium country  \n",
      "0            mclaren     5      Finished     9.0       1     USA  \n",
      "1            mclaren     5      Finished     9.0       1     USA  \n",
      "2            tyrrell     4      Finished     6.0       2     USA  \n",
      "3            tyrrell     4      Finished     6.0       2     USA  \n",
      "4           williams     9      Finished     4.0       3     USA  \n",
      "...              ...   ...           ...     ...     ...     ...  \n",
      "270245  racing_point    19  Transmission     0.0      20     UAE  \n",
      "270246  racing_point    19  Transmission     0.0      20     UAE  \n",
      "270247  racing_point    19  Transmission     0.0      20     UAE  \n",
      "270248  racing_point    19  Transmission     0.0      20     UAE  \n",
      "270249  racing_point    19  Transmission     0.0      20     UAE  \n",
      "\n",
      "[270250 rows x 12 columns]\n",
      "['Brazilian' 'French' 'Belgian' 'Italian' 'Japanese' 'German' 'British'\n",
      " 'Austrian' 'Swiss' 'Swedish' 'Finnish' 'Australian' 'Dutch' 'American'\n",
      " 'Portuguese' 'Monegasque' 'Danish' 'Canadian' 'Argentine' 'Spanish'\n",
      " 'Colombian' 'Czech' 'Malaysian' 'Irish' 'Hungarian' 'Indian' 'Polish'\n",
      " 'Russian' 'Venezuelan' 'Mexican' 'Indonesian' 'New Zealander' 'Thai']\n",
      "['USA' 'Brazil' 'Italy' 'Monaco' 'Canada' 'Mexico' 'France' 'UK' 'Germany'\n",
      " 'Hungary' 'Belgium' 'Portugal' 'Spain' 'Japan' 'Australia' 'South Africa'\n",
      " 'Argentina' 'Austria' 'Malaysia' 'Bahrain' 'China' 'Turkey' 'Singapore'\n",
      " 'UAE' 'Korea' 'India' 'Russia' 'Azerbaijan']\n"
     ]
    }
   ],
   "source": [
    "print(results_merged)\n",
    "print(results_merged[\"nationality\"].unique())\n",
    "print(results_merged[\"country\"].unique())"
   ]
  },
  {
   "cell_type": "markdown",
   "metadata": {},
   "source": [
    "## 5. Corrélation entre l'âge et les victoires sur les grands prix"
   ]
  },
  {
   "cell_type": "markdown",
   "metadata": {},
   "source": [
    "* Nous étudions maintenant le lien entre l'âge et la victoire finale."
   ]
  },
  {
   "cell_type": "markdown",
   "metadata": {},
   "source": [
    "* Pour cela on créé ci-dessous la variable âge en année qui correspond à l'âge au moment du grand prix"
   ]
  },
  {
   "cell_type": "code",
   "execution_count": 15,
   "metadata": {},
   "outputs": [],
   "source": [
    "results_age=results.copy() #on copie la base results dans une nouvelle base qu'on va retravailler\n",
    "\n",
    "results_age[\"date_of_birth\"]=pd.to_datetime(results_age[\"date_of_birth\"])\n",
    "\n",
    "results_age[\"season\"]=pd.to_datetime(results_age[\"season\"], format=\"%Y\") # conversion en format date\n",
    "\n",
    "results_age[\"age\"]=round(((results_age[\"season\"]-results_age['date_of_birth']).dt.days)/365) #On détermine l'âge en année"
   ]
  },
  {
   "cell_type": "markdown",
   "metadata": {},
   "source": [
    "* On visualise rapidement les variables qu'on a créée"
   ]
  },
  {
   "cell_type": "code",
   "execution_count": 17,
   "metadata": {},
   "outputs": [
    {
     "data": {
      "text/plain": [
       "0       1960-03-21\n",
       "1       1964-06-11\n",
       "2       1957-07-13\n",
       "3       1952-08-17\n",
       "4       1963-05-12\n",
       "           ...    \n",
       "12392   1993-12-14\n",
       "12393   1995-06-29\n",
       "12394   1992-10-05\n",
       "12395   1996-06-25\n",
       "12396   1990-01-26\n",
       "Name: date_of_birth, Length: 12397, dtype: datetime64[ns]"
      ]
     },
     "execution_count": 17,
     "metadata": {},
     "output_type": "execute_result"
    }
   ],
   "source": [
    "results_age[\"date_of_birth\"]"
   ]
  },
  {
   "cell_type": "code",
   "execution_count": 18,
   "metadata": {},
   "outputs": [
    {
     "data": {
      "text/plain": [
       "0       1990-01-01\n",
       "1       1990-01-01\n",
       "2       1990-01-01\n",
       "3       1990-01-01\n",
       "4       1990-01-01\n",
       "           ...    \n",
       "12392   2020-01-01\n",
       "12393   2020-01-01\n",
       "12394   2020-01-01\n",
       "12395   2020-01-01\n",
       "12396   2020-01-01\n",
       "Name: season, Length: 12397, dtype: datetime64[ns]"
      ]
     },
     "execution_count": 18,
     "metadata": {},
     "output_type": "execute_result"
    }
   ],
   "source": [
    "results_age[\"season\"]"
   ]
  },
  {
   "cell_type": "code",
   "execution_count": 19,
   "metadata": {},
   "outputs": [
    {
     "data": {
      "text/plain": [
       "0        30.0\n",
       "1        26.0\n",
       "2        32.0\n",
       "3        37.0\n",
       "4        27.0\n",
       "         ... \n",
       "12392    26.0\n",
       "12393    25.0\n",
       "12394    27.0\n",
       "12395    24.0\n",
       "12396    30.0\n",
       "Name: age, Length: 12397, dtype: float64"
      ]
     },
     "execution_count": 19,
     "metadata": {},
     "output_type": "execute_result"
    }
   ],
   "source": [
    "results_age[\"age\"]"
   ]
  },
  {
   "cell_type": "markdown",
   "metadata": {},
   "source": [
    "## Correlation entre le podium et l'âge des pilotes au moment de la course"
   ]
  },
  {
   "cell_type": "code",
   "execution_count": 24,
   "metadata": {
    "scrolled": false
   },
   "outputs": [
    {
     "data": {
      "text/plain": [
       "<AxesSubplot:>"
      ]
     },
     "execution_count": 24,
     "metadata": {},
     "output_type": "execute_result"
    },
    {
     "data": {
      "image/png": "[encoded data removed]",
      "text/plain": [
       "<Figure size 1440x720 with 2 Axes>"
      ]
     },
     "metadata": {},
     "output_type": "display_data"
    }
   ],
   "source": [
    "df=results_age[[\"age\",\"podium\"]]\n",
    "\n",
    "corr = df.corr()\n",
    "sns.heatmap(corr,annot=True,vmin=0, vmax=1)# légère corrélation négative avec l'âge, ce n'est pas très significatif "
   ]
  },
  {
   "cell_type": "markdown",
   "metadata": {},
   "source": [
    "* Commentaires : On obtient une légére corrélation négative entre l'âge et le classement : c'est à dire que plus on est agé plus on est associé à un classement bas et donc proche de la victoire."
   ]
  },
  {
   "cell_type": "markdown",
   "metadata": {},
   "source": [
    "## Répartition des victoires en fonction de l'âge"
   ]
  },
  {
   "cell_type": "markdown",
   "metadata": {},
   "source": [
    "* On trace le nombre de victoire par age, on trace également une approximation de la densité"
   ]
  },
  {
   "cell_type": "code",
   "execution_count": 22,
   "metadata": {},
   "outputs": [
    {
     "data": {
      "text/plain": [
       "<AxesSubplot:xlabel='age', ylabel='Count'>"
      ]
     },
     "execution_count": 22,
     "metadata": {},
     "output_type": "execute_result"
    },
    {
     "data": {
      "image/png": "[encoded data removed]",
      "text/plain": [
       "<Figure size 1440x720 with 1 Axes>"
      ]
     },
     "metadata": {},
     "output_type": "display_data"
    }
   ],
   "source": [
    "df_gagnant=df[df[\"podium\"]==1]\n",
    "sns.histplot(data=df_gagnant, x='age',kde=True) "
   ]
  },
  {
   "cell_type": "markdown",
   "metadata": {},
   "source": [
    "* Commentaires : On remarque qu'on a un pic à 30 ans, cela correspondrait donc au bon ratio entre âge et expérience. On observe encore une fois une disparité de la répartition, ce qui signifie que l'âge contient de l'information permettant de prédire la victoire "
   ]
  },
  {
   "cell_type": "markdown",
   "metadata": {},
   "source": [
    "## 6-Analyse de la météo "
   ]
  },
  {
   "cell_type": "code",
   "execution_count": 43,
   "metadata": {},
   "outputs": [
    {
     "ename": "FileNotFoundError",
     "evalue": "[Errno 2] No such file or directory: 'weather.csv'",
     "output_type": "error",
     "traceback": [
      "\u001b[0;31m---------------------------------------------------------------------------\u001b[0m",
      "\u001b[0;31mFileNotFoundError\u001b[0m                         Traceback (most recent call last)",
      "\u001b[0;32m<ipython-input-43-d355384f9908>\u001b[0m in \u001b[0;36m<module>\u001b[0;34m\u001b[0m\n\u001b[0;32m----> 1\u001b[0;31m \u001b[0mweather_\u001b[0m\u001b[0;34m=\u001b[0m\u001b[0mpd\u001b[0m\u001b[0;34m.\u001b[0m\u001b[0mread_csv\u001b[0m\u001b[0;34m(\u001b[0m\u001b[0;34m'weather.csv'\u001b[0m\u001b[0;34m)\u001b[0m\u001b[0;34m\u001b[0m\u001b[0;34m\u001b[0m\u001b[0m\n\u001b[0m",
      "\u001b[0;32m~/opt/anaconda3/lib/python3.8/site-packages/pandas/util/_decorators.py\u001b[0m in \u001b[0;36mwrapper\u001b[0;34m(*args, **kwargs)\u001b[0m\n\u001b[1;32m    309\u001b[0m                     \u001b[0mstacklevel\u001b[0m\u001b[0;34m=\u001b[0m\u001b[0mstacklevel\u001b[0m\u001b[0;34m,\u001b[0m\u001b[0;34m\u001b[0m\u001b[0;34m\u001b[0m\u001b[0m\n\u001b[1;32m    310\u001b[0m                 )\n\u001b[0;32m--> 311\u001b[0;31m             \u001b[0;32mreturn\u001b[0m \u001b[0mfunc\u001b[0m\u001b[0;34m(\u001b[0m\u001b[0;34m*\u001b[0m\u001b[0margs\u001b[0m\u001b[0;34m,\u001b[0m \u001b[0;34m**\u001b[0m\u001b[0mkwargs\u001b[0m\u001b[0;34m)\u001b[0m\u001b[0;34m\u001b[0m\u001b[0;34m\u001b[0m\u001b[0m\n\u001b[0m\u001b[1;32m    312\u001b[0m \u001b[0;34m\u001b[0m\u001b[0m\n\u001b[1;32m    313\u001b[0m         \u001b[0;32mreturn\u001b[0m \u001b[0mwrapper\u001b[0m\u001b[0;34m\u001b[0m\u001b[0;34m\u001b[0m\u001b[0m\n",
      "\u001b[0;32m~/opt/anaconda3/lib/python3.8/site-packages/pandas/io/parsers/readers.py\u001b[0m in \u001b[0;36mread_csv\u001b[0;34m(filepath_or_buffer, sep, delimiter, header, names, index_col, usecols, squeeze, prefix, mangle_dupe_cols, dtype, engine, converters, true_values, false_values, skipinitialspace, skiprows, skipfooter, nrows, na_values, keep_default_na, na_filter, verbose, skip_blank_lines, parse_dates, infer_datetime_format, keep_date_col, date_parser, dayfirst, cache_dates, iterator, chunksize, compression, thousands, decimal, lineterminator, quotechar, quoting, doublequote, escapechar, comment, encoding, encoding_errors, dialect, error_bad_lines, warn_bad_lines, on_bad_lines, delim_whitespace, low_memory, memory_map, float_precision, storage_options)\u001b[0m\n\u001b[1;32m    584\u001b[0m     \u001b[0mkwds\u001b[0m\u001b[0;34m.\u001b[0m\u001b[0mupdate\u001b[0m\u001b[0;34m(\u001b[0m\u001b[0mkwds_defaults\u001b[0m\u001b[0;34m)\u001b[0m\u001b[0;34m\u001b[0m\u001b[0;34m\u001b[0m\u001b[0m\n\u001b[1;32m    585\u001b[0m \u001b[0;34m\u001b[0m\u001b[0m\n\u001b[0;32m--> 586\u001b[0;31m     \u001b[0;32mreturn\u001b[0m \u001b[0m_read\u001b[0m\u001b[0;34m(\u001b[0m\u001b[0mfilepath_or_buffer\u001b[0m\u001b[0;34m,\u001b[0m \u001b[0mkwds\u001b[0m\u001b[0;34m)\u001b[0m\u001b[0;34m\u001b[0m\u001b[0;34m\u001b[0m\u001b[0m\n\u001b[0m\u001b[1;32m    587\u001b[0m \u001b[0;34m\u001b[0m\u001b[0m\n\u001b[1;32m    588\u001b[0m \u001b[0;34m\u001b[0m\u001b[0m\n",
      "\u001b[0;32m~/opt/anaconda3/lib/python3.8/site-packages/pandas/io/parsers/readers.py\u001b[0m in \u001b[0;36m_read\u001b[0;34m(filepath_or_buffer, kwds)\u001b[0m\n\u001b[1;32m    480\u001b[0m \u001b[0;34m\u001b[0m\u001b[0m\n\u001b[1;32m    481\u001b[0m     \u001b[0;31m# Create the parser.\u001b[0m\u001b[0;34m\u001b[0m\u001b[0;34m\u001b[0m\u001b[0;34m\u001b[0m\u001b[0m\n\u001b[0;32m--> 482\u001b[0;31m     \u001b[0mparser\u001b[0m \u001b[0;34m=\u001b[0m \u001b[0mTextFileReader\u001b[0m\u001b[0;34m(\u001b[0m\u001b[0mfilepath_or_buffer\u001b[0m\u001b[0;34m,\u001b[0m \u001b[0;34m**\u001b[0m\u001b[0mkwds\u001b[0m\u001b[0;34m)\u001b[0m\u001b[0;34m\u001b[0m\u001b[0;34m\u001b[0m\u001b[0m\n\u001b[0m\u001b[1;32m    483\u001b[0m \u001b[0;34m\u001b[0m\u001b[0m\n\u001b[1;32m    484\u001b[0m     \u001b[0;32mif\u001b[0m \u001b[0mchunksize\u001b[0m \u001b[0;32mor\u001b[0m \u001b[0miterator\u001b[0m\u001b[0;34m:\u001b[0m\u001b[0;34m\u001b[0m\u001b[0;34m\u001b[0m\u001b[0m\n",
      "\u001b[0;32m~/opt/anaconda3/lib/python3.8/site-packages/pandas/io/parsers/readers.py\u001b[0m in \u001b[0;36m__init__\u001b[0;34m(self, f, engine, **kwds)\u001b[0m\n\u001b[1;32m    809\u001b[0m             \u001b[0mself\u001b[0m\u001b[0;34m.\u001b[0m\u001b[0moptions\u001b[0m\u001b[0;34m[\u001b[0m\u001b[0;34m\"has_index_names\"\u001b[0m\u001b[0;34m]\u001b[0m \u001b[0;34m=\u001b[0m \u001b[0mkwds\u001b[0m\u001b[0;34m[\u001b[0m\u001b[0;34m\"has_index_names\"\u001b[0m\u001b[0;34m]\u001b[0m\u001b[0;34m\u001b[0m\u001b[0;34m\u001b[0m\u001b[0m\n\u001b[1;32m    810\u001b[0m \u001b[0;34m\u001b[0m\u001b[0m\n\u001b[0;32m--> 811\u001b[0;31m         \u001b[0mself\u001b[0m\u001b[0;34m.\u001b[0m\u001b[0m_engine\u001b[0m \u001b[0;34m=\u001b[0m \u001b[0mself\u001b[0m\u001b[0;34m.\u001b[0m\u001b[0m_make_engine\u001b[0m\u001b[0;34m(\u001b[0m\u001b[0mself\u001b[0m\u001b[0;34m.\u001b[0m\u001b[0mengine\u001b[0m\u001b[0;34m)\u001b[0m\u001b[0;34m\u001b[0m\u001b[0;34m\u001b[0m\u001b[0m\n\u001b[0m\u001b[1;32m    812\u001b[0m \u001b[0;34m\u001b[0m\u001b[0m\n\u001b[1;32m    813\u001b[0m     \u001b[0;32mdef\u001b[0m \u001b[0mclose\u001b[0m\u001b[0;34m(\u001b[0m\u001b[0mself\u001b[0m\u001b[0;34m)\u001b[0m\u001b[0;34m:\u001b[0m\u001b[0;34m\u001b[0m\u001b[0;34m\u001b[0m\u001b[0m\n",
      "\u001b[0;32m~/opt/anaconda3/lib/python3.8/site-packages/pandas/io/parsers/readers.py\u001b[0m in \u001b[0;36m_make_engine\u001b[0;34m(self, engine)\u001b[0m\n\u001b[1;32m   1038\u001b[0m             )\n\u001b[1;32m   1039\u001b[0m         \u001b[0;31m# error: Too many arguments for \"ParserBase\"\u001b[0m\u001b[0;34m\u001b[0m\u001b[0;34m\u001b[0m\u001b[0;34m\u001b[0m\u001b[0m\n\u001b[0;32m-> 1040\u001b[0;31m         \u001b[0;32mreturn\u001b[0m \u001b[0mmapping\u001b[0m\u001b[0;34m[\u001b[0m\u001b[0mengine\u001b[0m\u001b[0;34m]\u001b[0m\u001b[0;34m(\u001b[0m\u001b[0mself\u001b[0m\u001b[0;34m.\u001b[0m\u001b[0mf\u001b[0m\u001b[0;34m,\u001b[0m \u001b[0;34m**\u001b[0m\u001b[0mself\u001b[0m\u001b[0;34m.\u001b[0m\u001b[0moptions\u001b[0m\u001b[0;34m)\u001b[0m  \u001b[0;31m# type: ignore[call-arg]\u001b[0m\u001b[0;34m\u001b[0m\u001b[0;34m\u001b[0m\u001b[0m\n\u001b[0m\u001b[1;32m   1041\u001b[0m \u001b[0;34m\u001b[0m\u001b[0m\n\u001b[1;32m   1042\u001b[0m     \u001b[0;32mdef\u001b[0m \u001b[0m_failover_to_python\u001b[0m\u001b[0;34m(\u001b[0m\u001b[0mself\u001b[0m\u001b[0;34m)\u001b[0m\u001b[0;34m:\u001b[0m\u001b[0;34m\u001b[0m\u001b[0;34m\u001b[0m\u001b[0m\n",
      "\u001b[0;32m~/opt/anaconda3/lib/python3.8/site-packages/pandas/io/parsers/c_parser_wrapper.py\u001b[0m in \u001b[0;36m__init__\u001b[0;34m(self, src, **kwds)\u001b[0m\n\u001b[1;32m     49\u001b[0m \u001b[0;34m\u001b[0m\u001b[0m\n\u001b[1;32m     50\u001b[0m         \u001b[0;31m# open handles\u001b[0m\u001b[0;34m\u001b[0m\u001b[0;34m\u001b[0m\u001b[0;34m\u001b[0m\u001b[0m\n\u001b[0;32m---> 51\u001b[0;31m         \u001b[0mself\u001b[0m\u001b[0;34m.\u001b[0m\u001b[0m_open_handles\u001b[0m\u001b[0;34m(\u001b[0m\u001b[0msrc\u001b[0m\u001b[0;34m,\u001b[0m \u001b[0mkwds\u001b[0m\u001b[0;34m)\u001b[0m\u001b[0;34m\u001b[0m\u001b[0;34m\u001b[0m\u001b[0m\n\u001b[0m\u001b[1;32m     52\u001b[0m         \u001b[0;32massert\u001b[0m \u001b[0mself\u001b[0m\u001b[0;34m.\u001b[0m\u001b[0mhandles\u001b[0m \u001b[0;32mis\u001b[0m \u001b[0;32mnot\u001b[0m \u001b[0;32mNone\u001b[0m\u001b[0;34m\u001b[0m\u001b[0;34m\u001b[0m\u001b[0m\n\u001b[1;32m     53\u001b[0m \u001b[0;34m\u001b[0m\u001b[0m\n",
      "\u001b[0;32m~/opt/anaconda3/lib/python3.8/site-packages/pandas/io/parsers/base_parser.py\u001b[0m in \u001b[0;36m_open_handles\u001b[0;34m(self, src, kwds)\u001b[0m\n\u001b[1;32m    220\u001b[0m         \u001b[0mLet\u001b[0m \u001b[0mthe\u001b[0m \u001b[0mreaders\u001b[0m \u001b[0mopen\u001b[0m \u001b[0mIOHandles\u001b[0m \u001b[0mafter\u001b[0m \u001b[0mthey\u001b[0m \u001b[0mare\u001b[0m \u001b[0mdone\u001b[0m \u001b[0;32mwith\u001b[0m \u001b[0mtheir\u001b[0m \u001b[0mpotential\u001b[0m \u001b[0mraises\u001b[0m\u001b[0;34m.\u001b[0m\u001b[0;34m\u001b[0m\u001b[0;34m\u001b[0m\u001b[0m\n\u001b[1;32m    221\u001b[0m         \"\"\"\n\u001b[0;32m--> 222\u001b[0;31m         self.handles = get_handle(\n\u001b[0m\u001b[1;32m    223\u001b[0m             \u001b[0msrc\u001b[0m\u001b[0;34m,\u001b[0m\u001b[0;34m\u001b[0m\u001b[0;34m\u001b[0m\u001b[0m\n\u001b[1;32m    224\u001b[0m             \u001b[0;34m\"r\"\u001b[0m\u001b[0;34m,\u001b[0m\u001b[0;34m\u001b[0m\u001b[0;34m\u001b[0m\u001b[0m\n",
      "\u001b[0;32m~/opt/anaconda3/lib/python3.8/site-packages/pandas/io/common.py\u001b[0m in \u001b[0;36mget_handle\u001b[0;34m(path_or_buf, mode, encoding, compression, memory_map, is_text, errors, storage_options)\u001b[0m\n\u001b[1;32m    700\u001b[0m         \u001b[0;32mif\u001b[0m \u001b[0mioargs\u001b[0m\u001b[0;34m.\u001b[0m\u001b[0mencoding\u001b[0m \u001b[0;32mand\u001b[0m \u001b[0;34m\"b\"\u001b[0m \u001b[0;32mnot\u001b[0m \u001b[0;32min\u001b[0m \u001b[0mioargs\u001b[0m\u001b[0;34m.\u001b[0m\u001b[0mmode\u001b[0m\u001b[0;34m:\u001b[0m\u001b[0;34m\u001b[0m\u001b[0;34m\u001b[0m\u001b[0m\n\u001b[1;32m    701\u001b[0m             \u001b[0;31m# Encoding\u001b[0m\u001b[0;34m\u001b[0m\u001b[0;34m\u001b[0m\u001b[0;34m\u001b[0m\u001b[0m\n\u001b[0;32m--> 702\u001b[0;31m             handle = open(\n\u001b[0m\u001b[1;32m    703\u001b[0m                 \u001b[0mhandle\u001b[0m\u001b[0;34m,\u001b[0m\u001b[0;34m\u001b[0m\u001b[0;34m\u001b[0m\u001b[0m\n\u001b[1;32m    704\u001b[0m                 \u001b[0mioargs\u001b[0m\u001b[0;34m.\u001b[0m\u001b[0mmode\u001b[0m\u001b[0;34m,\u001b[0m\u001b[0;34m\u001b[0m\u001b[0;34m\u001b[0m\u001b[0m\n",
      "\u001b[0;31mFileNotFoundError\u001b[0m: [Errno 2] No such file or directory: 'weather.csv'"
     ]
    }
   ],
   "source": [
    "weather_=pd.read_csv('weather.csv')"
   ]
  },
  {
   "cell_type": "code",
   "execution_count": 34,
   "metadata": {},
   "outputs": [],
   "source": [
    "# On rajoute la météo au dataframe results\n",
    "weather_merged = results.merge( weather, how=\"left\", on=[\"circuit_id\",\"season\",\"round\"])"
   ]
  },
  {
   "cell_type": "code",
   "execution_count": 41,
   "metadata": {},
   "outputs": [
    {
     "data": {
      "text/html": [
       "<div>\n",
       "<style scoped>\n",
       "    .dataframe tbody tr th:only-of-type {\n",
       "        vertical-align: middle;\n",
       "    }\n",
       "\n",
       "    .dataframe tbody tr th {\n",
       "        vertical-align: top;\n",
       "    }\n",
       "\n",
       "    .dataframe thead th {\n",
       "        text-align: right;\n",
       "    }\n",
       "</style>\n",
       "<table border=\"1\" class=\"dataframe\">\n",
       "  <thead>\n",
       "    <tr style=\"text-align: right;\">\n",
       "      <th></th>\n",
       "      <th>season</th>\n",
       "      <th>round</th>\n",
       "      <th>circuit_id</th>\n",
       "      <th>driver</th>\n",
       "      <th>date_of_birth</th>\n",
       "      <th>nationality</th>\n",
       "      <th>constructor</th>\n",
       "      <th>grid</th>\n",
       "      <th>time</th>\n",
       "      <th>status</th>\n",
       "      <th>points</th>\n",
       "      <th>podium</th>\n",
       "      <th>weather</th>\n",
       "    </tr>\n",
       "  </thead>\n",
       "  <tbody>\n",
       "    <tr>\n",
       "      <th>0</th>\n",
       "      <td>1990</td>\n",
       "      <td>1</td>\n",
       "      <td>phoenix</td>\n",
       "      <td>senna</td>\n",
       "      <td>1960-03-21</td>\n",
       "      <td>Brazilian</td>\n",
       "      <td>mclaren</td>\n",
       "      <td>5</td>\n",
       "      <td>6752829.0</td>\n",
       "      <td>Finished</td>\n",
       "      <td>9.0</td>\n",
       "      <td>1</td>\n",
       "      <td>Cloudy and cool with temperatures reaching up ...</td>\n",
       "    </tr>\n",
       "    <tr>\n",
       "      <th>1</th>\n",
       "      <td>1990</td>\n",
       "      <td>1</td>\n",
       "      <td>phoenix</td>\n",
       "      <td>alesi</td>\n",
       "      <td>1964-06-11</td>\n",
       "      <td>French</td>\n",
       "      <td>tyrrell</td>\n",
       "      <td>4</td>\n",
       "      <td>6761514.0</td>\n",
       "      <td>Finished</td>\n",
       "      <td>6.0</td>\n",
       "      <td>2</td>\n",
       "      <td>Cloudy and cool with temperatures reaching up ...</td>\n",
       "    </tr>\n",
       "    <tr>\n",
       "      <th>2</th>\n",
       "      <td>1990</td>\n",
       "      <td>1</td>\n",
       "      <td>phoenix</td>\n",
       "      <td>boutsen</td>\n",
       "      <td>1957-07-13</td>\n",
       "      <td>Belgian</td>\n",
       "      <td>williams</td>\n",
       "      <td>9</td>\n",
       "      <td>6806909.0</td>\n",
       "      <td>Finished</td>\n",
       "      <td>4.0</td>\n",
       "      <td>3</td>\n",
       "      <td>Cloudy and cool with temperatures reaching up ...</td>\n",
       "    </tr>\n",
       "    <tr>\n",
       "      <th>3</th>\n",
       "      <td>1990</td>\n",
       "      <td>1</td>\n",
       "      <td>phoenix</td>\n",
       "      <td>piquet</td>\n",
       "      <td>1952-08-17</td>\n",
       "      <td>Brazilian</td>\n",
       "      <td>benetton</td>\n",
       "      <td>6</td>\n",
       "      <td>6821187.0</td>\n",
       "      <td>Finished</td>\n",
       "      <td>3.0</td>\n",
       "      <td>4</td>\n",
       "      <td>Cloudy and cool with temperatures reaching up ...</td>\n",
       "    </tr>\n",
       "    <tr>\n",
       "      <th>4</th>\n",
       "      <td>1990</td>\n",
       "      <td>1</td>\n",
       "      <td>phoenix</td>\n",
       "      <td>modena</td>\n",
       "      <td>1963-05-12</td>\n",
       "      <td>Italian</td>\n",
       "      <td>brabham</td>\n",
       "      <td>10</td>\n",
       "      <td>6822332.0</td>\n",
       "      <td>Finished</td>\n",
       "      <td>2.0</td>\n",
       "      <td>5</td>\n",
       "      <td>Cloudy and cool with temperatures reaching up ...</td>\n",
       "    </tr>\n",
       "    <tr>\n",
       "      <th>...</th>\n",
       "      <td>...</td>\n",
       "      <td>...</td>\n",
       "      <td>...</td>\n",
       "      <td>...</td>\n",
       "      <td>...</td>\n",
       "      <td>...</td>\n",
       "      <td>...</td>\n",
       "      <td>...</td>\n",
       "      <td>...</td>\n",
       "      <td>...</td>\n",
       "      <td>...</td>\n",
       "      <td>...</td>\n",
       "      <td>...</td>\n",
       "    </tr>\n",
       "    <tr>\n",
       "      <th>12392</th>\n",
       "      <td>2020</td>\n",
       "      <td>17</td>\n",
       "      <td>yas_marina</td>\n",
       "      <td>giovinazzi</td>\n",
       "      <td>1993-12-14</td>\n",
       "      <td>Italian</td>\n",
       "      <td>alfa</td>\n",
       "      <td>14</td>\n",
       "      <td>NaN</td>\n",
       "      <td>+1 Lap</td>\n",
       "      <td>0.0</td>\n",
       "      <td>16</td>\n",
       "      <td>Clear</td>\n",
       "    </tr>\n",
       "    <tr>\n",
       "      <th>12393</th>\n",
       "      <td>2020</td>\n",
       "      <td>17</td>\n",
       "      <td>yas_marina</td>\n",
       "      <td>latifi</td>\n",
       "      <td>1995-06-29</td>\n",
       "      <td>Canadian</td>\n",
       "      <td>williams</td>\n",
       "      <td>18</td>\n",
       "      <td>NaN</td>\n",
       "      <td>+1 Lap</td>\n",
       "      <td>0.0</td>\n",
       "      <td>17</td>\n",
       "      <td>Clear</td>\n",
       "    </tr>\n",
       "    <tr>\n",
       "      <th>12394</th>\n",
       "      <td>2020</td>\n",
       "      <td>17</td>\n",
       "      <td>yas_marina</td>\n",
       "      <td>kevin_magnussen</td>\n",
       "      <td>1992-10-05</td>\n",
       "      <td>Danish</td>\n",
       "      <td>haas</td>\n",
       "      <td>20</td>\n",
       "      <td>NaN</td>\n",
       "      <td>+1 Lap</td>\n",
       "      <td>0.0</td>\n",
       "      <td>18</td>\n",
       "      <td>Clear</td>\n",
       "    </tr>\n",
       "    <tr>\n",
       "      <th>12395</th>\n",
       "      <td>2020</td>\n",
       "      <td>17</td>\n",
       "      <td>yas_marina</td>\n",
       "      <td>pietro_fittipaldi</td>\n",
       "      <td>1996-06-25</td>\n",
       "      <td>Brazilian</td>\n",
       "      <td>haas</td>\n",
       "      <td>17</td>\n",
       "      <td>NaN</td>\n",
       "      <td>+2 Laps</td>\n",
       "      <td>0.0</td>\n",
       "      <td>19</td>\n",
       "      <td>Clear</td>\n",
       "    </tr>\n",
       "    <tr>\n",
       "      <th>12396</th>\n",
       "      <td>2020</td>\n",
       "      <td>17</td>\n",
       "      <td>yas_marina</td>\n",
       "      <td>perez</td>\n",
       "      <td>1990-01-26</td>\n",
       "      <td>Mexican</td>\n",
       "      <td>racing_point</td>\n",
       "      <td>19</td>\n",
       "      <td>NaN</td>\n",
       "      <td>Transmission</td>\n",
       "      <td>0.0</td>\n",
       "      <td>20</td>\n",
       "      <td>Clear</td>\n",
       "    </tr>\n",
       "  </tbody>\n",
       "</table>\n",
       "<p>12397 rows × 13 columns</p>\n",
       "</div>"
      ],
      "text/plain": [
       "       season  round  circuit_id             driver date_of_birth nationality  \\\n",
       "0        1990      1     phoenix              senna    1960-03-21   Brazilian   \n",
       "1        1990      1     phoenix              alesi    1964-06-11      French   \n",
       "2        1990      1     phoenix            boutsen    1957-07-13     Belgian   \n",
       "3        1990      1     phoenix             piquet    1952-08-17   Brazilian   \n",
       "4        1990      1     phoenix             modena    1963-05-12     Italian   \n",
       "...       ...    ...         ...                ...           ...         ...   \n",
       "12392    2020     17  yas_marina         giovinazzi    1993-12-14     Italian   \n",
       "12393    2020     17  yas_marina             latifi    1995-06-29    Canadian   \n",
       "12394    2020     17  yas_marina    kevin_magnussen    1992-10-05      Danish   \n",
       "12395    2020     17  yas_marina  pietro_fittipaldi    1996-06-25   Brazilian   \n",
       "12396    2020     17  yas_marina              perez    1990-01-26     Mexican   \n",
       "\n",
       "        constructor  grid       time        status  points  podium  \\\n",
       "0           mclaren     5  6752829.0      Finished     9.0       1   \n",
       "1           tyrrell     4  6761514.0      Finished     6.0       2   \n",
       "2          williams     9  6806909.0      Finished     4.0       3   \n",
       "3          benetton     6  6821187.0      Finished     3.0       4   \n",
       "4           brabham    10  6822332.0      Finished     2.0       5   \n",
       "...             ...   ...        ...           ...     ...     ...   \n",
       "12392          alfa    14        NaN        +1 Lap     0.0      16   \n",
       "12393      williams    18        NaN        +1 Lap     0.0      17   \n",
       "12394          haas    20        NaN        +1 Lap     0.0      18   \n",
       "12395          haas    17        NaN       +2 Laps     0.0      19   \n",
       "12396  racing_point    19        NaN  Transmission     0.0      20   \n",
       "\n",
       "                                                 weather  \n",
       "0      Cloudy and cool with temperatures reaching up ...  \n",
       "1      Cloudy and cool with temperatures reaching up ...  \n",
       "2      Cloudy and cool with temperatures reaching up ...  \n",
       "3      Cloudy and cool with temperatures reaching up ...  \n",
       "4      Cloudy and cool with temperatures reaching up ...  \n",
       "...                                                  ...  \n",
       "12392                                              Clear  \n",
       "12393                                              Clear  \n",
       "12394                                              Clear  \n",
       "12395                                              Clear  \n",
       "12396                                              Clear  \n",
       "\n",
       "[12397 rows x 13 columns]"
      ]
     },
     "execution_count": 41,
     "metadata": {},
     "output_type": "execute_result"
    }
   ],
   "source": [
    "weather_merged"
   ]
  },
  {
   "cell_type": "code",
   "execution_count": 37,
   "metadata": {},
   "outputs": [
    {
     "data": {
      "text/plain": [
       "363"
      ]
     },
     "execution_count": 37,
     "metadata": {},
     "output_type": "execute_result"
    }
   ],
   "source": [
    "weather_merged[\"weather\"].nunique()"
   ]
  },
  {
   "cell_type": "code",
   "execution_count": 40,
   "metadata": {},
   "outputs": [
    {
     "data": {
      "text/plain": [
       "array(['Cloudy and cool with temperatures reaching up to 18\\xa0°C (64\\xa0°F)[1]',\n",
       "       'Hot, dry, sunny', 'Warm, dry, sunny',\n",
       "       'Warm and cloudy with temperatures approaching 19.8\\xa0°C (67.6\\xa0°F); wind speeds up to 27.8 kilometres per hour (17.3\\xa0mph)[1]',\n",
       "       'Overcast21\\xa0°C (70\\xa0°F)[1]', 'Dry', 'not found',\n",
       "       'Dry, hot, sunny', 'Sunny', 'Overcast25\\xa0°C (77\\xa0°F)[1]',\n",
       "       'Cloudy at start, rainy later. Ambient temperature: 29.4°C (85°F).Humidity: 95%.Wind speed: 33.7 km/h (21 mph).',\n",
       "       'Wet at start, dry by finish', 'Cloudy, mild, dry',\n",
       "       'Mild with temperatures approaching 25\\xa0°C (77\\xa0°F);Wind speeds up to 12\\xa0km/h (7.5\\xa0mph)[1]',\n",
       "       'Mostly Cloudy24\\xa0°C (75\\xa0°F)[1]', 'Hot and sunny',\n",
       "       'Hot dry, sunny', 'Sunny and warm', 'Warm and overcast, drying',\n",
       "       'Sunny, warm', 'Torrential rain', 'Hot, dry and dull',\n",
       "       'Scattered Clouds27\\xa0°C (81\\xa0°F)[1]',\n",
       "       'Dry at start, wet later',\n",
       "       'Dry with temperatures reaching up to 25\\xa0°C (77\\xa0°F);Wind speeds up to 14\\xa0km/h (8.7\\xa0mph)[1]',\n",
       "       'Dry, then raining', 'Overcast, brief rain mid-race',\n",
       "       'Dry, sunny, windy', 'Dry, warm, cloudy', 'Cloudy',\n",
       "       'Very hot and humid, with torrential thunderstorms. Air temp: 33\\xa0°C (91\\xa0°F)',\n",
       "       'Dry first then torrential rain for a short period; later drying and staying dry for the rest of the race',\n",
       "       'Very cold, rain with dry spells', 'Wet at start, dry later',\n",
       "       'Partly cloudy, mild, dry',\n",
       "       'Temperatures reaching up to 29.0\\xa0°C (84.2\\xa0°F);Wind speeds up to 18.3\\xa0km/h (11.4\\xa0mph)[1]',\n",
       "       'Sunny and clear', 'Dry/wet, warm, cloudy',\n",
       "       'Temperatures approaching 26.3\\xa0°C (79.3\\xa0°F);Wind speeds up to 21\\xa0km/h (13\\xa0mph)[1]',\n",
       "       'Heavy rain, followed by light showers', 'Sunny with clouds',\n",
       "       'Overcast', 'Heavy rain before the start, before brightening up',\n",
       "       'Warm, sunny',\n",
       "       'Cloudy at start, sunny later with temperatures reaching up to 24.3\\xa0°C (75.7\\xa0°F)Wind speeds up to 8\\xa0km/h (5.0\\xa0mph)[1]',\n",
       "       'Cloudy, light drizzle at times', 'Warm, cloudy, windy',\n",
       "       'Sunny, 28\\xa0°C (82\\xa0°F)', 'Cloudy, then heavy rain',\n",
       "       'Rain, later dried out, air temperature 11\\xa0°C (52\\xa0°F)',\n",
       "       'Cloudy, dry', 'Rain, later dried out', 'Sunny[2]',\n",
       "       'Dry with temperatures reaching up to 23\\xa0°C (73\\xa0°F)[1]',\n",
       "       'Wet, then drying with temperatures reaching up to 24\\xa0°C (75\\xa0°F)[1]',\n",
       "       'Dry with temperatures reaching up to 21\\xa0°C (70\\xa0°F)[1]',\n",
       "       'Cloudy, but dry',\n",
       "       'Overcast, mild, wet at first, drying later, light rain at finish',\n",
       "       'Rain',\n",
       "       'Mostly sunny and warm with temperatures approaching 26\\xa0°C (79\\xa0°F)[1]',\n",
       "       'Warm and sunny with temperatures reaching up to 25\\xa0°C (77\\xa0°F)[1]',\n",
       "       'Sunny, dry',\n",
       "       'Sunny with temperatures reaching up to 27\\xa0°C (81\\xa0°F)[1]',\n",
       "       'Overcast and dry with temperatures reaching up to 17\\xa0°C (63\\xa0°F)[1]',\n",
       "       'Mostly sunny with ambient temperatures reaching 25 °C during the day.',\n",
       "       'Sunny, mild and dry', 'Partly Cloudy, Dry',\n",
       "       'Overcast and dry with temperatures reaching up to 23\\xa0°C (73\\xa0°F)[1]',\n",
       "       'Partially cloudy and dry, with temperatures reaching up to 21\\xa0°C (70\\xa0°F)[1]',\n",
       "       'Cloudy, Dry, 17 °C',\n",
       "       'Overcast, cold and rain, air temperature 11\\xa0°C (52\\xa0°F)',\n",
       "       'Clear',\n",
       "       'Clear and mild with temperatures approaching 22.7\\xa0°C (72.9\\xa0°F)Wind speeds up to 4.1\\xa0km/h (2.5\\xa0mph)[1]',\n",
       "       'Dry at first, rain in closing stages', 'Sunny, Dry Track',\n",
       "       'Sunny, dry track', 'Sunny, Dry Track, 27°C',\n",
       "       'Wet, then drying out with temperatures reaching up to 28\\xa0°C (82\\xa0°F)[1]',\n",
       "       'Dry with temperatures reaching up to 29\\xa0°C (84\\xa0°F)[1]',\n",
       "       'Partially cloudy, mild and dry', 'Sunny[1]',\n",
       "       'Sunny with temperatures reaching up to 25\\xa0°C (77\\xa0°F)[3]',\n",
       "       'Clear with maximum temperatures reaching 24 degrees at the start, increasing to 30 degrees by the end of the race.',\n",
       "       'Mostly cloudy, 31\\xa0°C (88\\xa0°F)',\n",
       "       'Cloudy with variable levels of dryness; temperatures reaching up to 19\\xa0°C (66\\xa0°F)[2]',\n",
       "       'Sunny, 25\\xa0°C',\n",
       "       'Hot and sunny with temperatures reaching up to 22\\xa0°C (72\\xa0°F)[1]',\n",
       "       'Cool and overcast with air temperatures reaching up to 16.0\\xa0°C (60.8\\xa0°F)Wind speeds up to 2.9\\xa0km/h (1.8\\xa0mph) reported[1]',\n",
       "       'Rain, Wet Track', 'Cloudy but dry', 'Cloudy, hot, dry, 30°C',\n",
       "       'Cold and wet with rain becoming heavier', 'Cloudy, cold, dry',\n",
       "       'Fine',\n",
       "       'Sunny and dry with temperatures reaching up to 19\\xa0°C (66\\xa0°F)[1]',\n",
       "       'Sunny, hot, dry 25\\xa0°C (77\\xa0°F)[1]',\n",
       "       'Sunny, mild, dry, 23\\xa0°C', 'Sunny, hot, dry',\n",
       "       'Cloudy, hot, dry 22\\xa0°C (72\\xa0°F)[1]',\n",
       "       'Hot with temperatures approaching 31.0\\xa0°C (87.8\\xa0°F)Wind speeds up to 5.1\\xa0km/h (3.2\\xa0mph)[1]Track 41–43\\xa0°C (106–109\\xa0°F)',\n",
       "       'Overcast, mild, dry at first, rain later on', 'Sunny, mild, dry',\n",
       "       'Overcast, mild, dry', 'Partially cloudy, very hot, dry',\n",
       "       'Partially cloudy, hot, dry, Air: 25\\xa0°C (77\\xa0°F), Track 37\\xa0°C (99\\xa0°F)',\n",
       "       'Partially cloudy, mild, dry',\n",
       "       'Hot and dry with temperatures reaching up to 30\\xa0°C (86\\xa0°F)[1]',\n",
       "       'Wet/Dry', 'Cloudy, hot, dry', 'Sunny,[2] Air Temp: 20\\xa0°C',\n",
       "       'Sunny, Air: 22\\xa0°C (72\\xa0°F), Track: 35\\xa0°C (95\\xa0°F)',\n",
       "       'Overcast, Mild, Dry, 16\\xa0°C',\n",
       "       'Sunny, mild, dry, Air Temp: 10\\xa0°C (50\\xa0°F)',\n",
       "       'Sunny, Mild, Dry',\n",
       "       'Dry at first, rain later on, Air: 11\\xa0°C (52\\xa0°F), Track: 12\\xa0°C (54\\xa0°F)',\n",
       "       'Cloudy and raining; Air 17\\xa0°C (63\\xa0°F),Track 21\\xa0°C (70\\xa0°F)',\n",
       "       'Sunny, dry, Air Temp: 27°C', 'Partially cloudy, dry', 'Dry/Wet',\n",
       "       'Wet at start, drying, Air & track temperature; 15\\xa0°C (59\\xa0°F)',\n",
       "       'Sunny with temperatures reaching up to 29\\xa0°C (84\\xa0°F)[3]',\n",
       "       'Cloudy, drying, Air 12\\xa0°C (54\\xa0°F);Track 14\\xa0°C (57\\xa0°F)',\n",
       "       'Dry/wet', 'Overcast, Very hot, Dry', 'Cloudy, sunny later',\n",
       "       'Rain and Thunderstorms at start, dry later; Air Temp at start: 32\\xa0°C (90\\xa0°F)',\n",
       "       'Dry first, rain and thunderstorms later; Air temp: 25–30\\xa0°C (77–86\\xa0°F)[1] Track 27–40\\xa0°C (81–104\\xa0°F)',\n",
       "       'Sunny. Air Temp: 14\\xa0°C (57\\xa0°F), Track 26\\xa0°C (79\\xa0°F)',\n",
       "       'Overcast, Mild, Dry, Air Temp: 18°C',\n",
       "       'Sunny, Air: 18 to 19\\xa0°C (64 to 66\\xa0°F), Track 18 to 32\\xa0°C (64 to 90\\xa0°F)',\n",
       "       'Warm and Sunny, Air Temp: 23\\xa0°C (73\\xa0°F), Track 36 to 39\\xa0°C (97 to 102\\xa0°F)',\n",
       "       'Sunny, mild, dry, Air Temp: 21°C',\n",
       "       'Partially cloudy, mild, dry, Air Temp: 16\\xa0°C (61\\xa0°F), Track 27\\xa0°C (81\\xa0°F)',\n",
       "       'Hot, dry and partially cloudy',\n",
       "       'Overcast, mild, dry, Air Temp: 12 to 16\\xa0°C (54 to 61\\xa0°F)',\n",
       "       'Sunny, partly cloudy, Air: 19 to 20\\xa0°C (66 to 68\\xa0°F), Track 26\\xa0°C (79\\xa0°F)',\n",
       "       'Sunny, cool, Air: 19–21\\xa0°C (66–70\\xa0°F);Track 27\\xa0°C (81\\xa0°F)',\n",
       "       'Cloudy, Mild, Dry, Air Temp: 24°C',\n",
       "       'Cloudy at start, clearing to sunny skies.',\n",
       "       'Partially cloudy, hot and dry', 'Clear, Air Temp: 30°C',\n",
       "       'Scattered thunderstorms, but remaining dry. Air Temp: 18°C',\n",
       "       'Clear, Air Temp: 20°C',\n",
       "       'Fine; air temperature 22\\xa0°C (72\\xa0°F)',\n",
       "       'Mostly fine and humid with temperatures reaching a maximum of 24.1\\xa0°C (75.4\\xa0°F)Wind speeds up to 8\\xa0km/h (5.0\\xa0mph)[1]',\n",
       "       'Mainly Fine, Air Temp: 18°C', 'Dry/Wet, Air Temp: 21°C',\n",
       "       'Warm and sunny, Air Temp: 25°C', 'Fine, Air Temp: 28°C',\n",
       "       'Partially cloudy, hot and sunny, Air Temp: 28\\xa0°C (82\\xa0°F)[1]',\n",
       "       'Cloudy, Air: 17\\xa0°C (63\\xa0°F), Track 25\\xa0°C (77\\xa0°F)[1]',\n",
       "       'Sunny, hot, dry 23°C',\n",
       "       'Sunny with temperatures reaching up to 26.7\\xa0°C (80.1\\xa0°F);Wind speeds approaching a maximum of 18.70\\xa0km/h (11.62\\xa0mph)[1]Track 34\\xa0°C (93\\xa0°F)',\n",
       "       'Sunny, Air: 26\\xa0°C (79\\xa0°F), Track 30\\xa0°C (86\\xa0°F)',\n",
       "       'Damp at beginning, dry later, cloudy, mild',\n",
       "       'Fine, air temperature 34°C (93°F)', 'Rainy: 20\\xa0°C (68\\xa0°F)',\n",
       "       'Mostly cloudy with maximum ambient temperatures reaching 13 degrees during the day.',\n",
       "       'Mostly cloudy with isolated showers in the area',\n",
       "       'Partly cloudy and mild with temperatures reaching a maximum of 19.3\\xa0°C (66.7\\xa0°F)Wind speeds up to 12.9\\xa0km/h (8.0\\xa0mph)[1]',\n",
       "       'Mostly cloudy with maximum ambient temperatures reaching 25 degrees celsius during the day.',\n",
       "       'Cloudy, Air: 26\\xa0°C (79\\xa0°F), Track 35\\xa0°C (95\\xa0°F)',\n",
       "       'Sunny at start, cloudy later, Air: 24\\xa0°C (75\\xa0°F), Track 29\\xa0°C (84\\xa0°F)',\n",
       "       'Warm, dry and sunny, 28\\xa0°C (82\\xa0°F)',\n",
       "       'Scattered showers with temperatures up to 20.6\\xa0°C (69.1\\xa0°F);Wind speeds up to 25.93\\xa0km/h (16.11\\xa0mph)[1]',\n",
       "       'Cloudy, Air: 22\\xa0°C (72\\xa0°F), Track 25\\xa0°C (77\\xa0°F)',\n",
       "       'Dry & cloudyAir Temp 20\\xa0°C (68\\xa0°F)',\n",
       "       'Dry, light rain at the startAir Temp 34\\xa0°C (93\\xa0°F)',\n",
       "       'Warm, dry and overcast', 'Clear, air temp: 22°C', 'Dry and sunny',\n",
       "       'Cloudy at start, sunny later',\n",
       "       'Clear and mild with temperatures approaching 25.0\\xa0°C (77.0\\xa0°F)Wind speeds up to 5.8\\xa0km/h (3.6\\xa0mph)[1]Track 35\\xa0°C (95\\xa0°F)[2]',\n",
       "       'Fine with temperatures reaching up to 24\\xa0°C (75\\xa0°F);Wind speeds up to 20.55\\xa0km/h (12.77\\xa0mph)[1]',\n",
       "       'Cloudy, Air: 17\\xa0°C (63\\xa0°F), Track 27\\xa0°C (81\\xa0°F)',\n",
       "       'Warm, dry and sunny, Air: 26\\xa0°C (79\\xa0°F), Track 42\\xa0°C (108\\xa0°F)',\n",
       "       'Dry with temperatures reaching up to 15\\xa0°C (59\\xa0°F)[1]',\n",
       "       'Wet track at the start, dry later on', 'Cool, partly cloudy',\n",
       "       'Fine, Air: 34–36°C (93–97°F) and Track: 44–50°C (111–122°F)',\n",
       "       'Sunny, 42\\xa0°C (108\\xa0°F)[1]', 'Warm and cloudy',\n",
       "       'Partly cloudy, hot and dry',\n",
       "       'Cloudy and hot with temperatures approaching 32.5\\xa0°C (90.5\\xa0°F)Wind speeds up to 5.1\\xa0km/h (3.2\\xa0mph)[1]Track 43–47\\xa0°C (109–117\\xa0°F)',\n",
       "       'Cloudy, temperatures up to 25.0\\xa0°C (77.0\\xa0°F); wind speeds up to 17.9\\xa0km/h (11.1\\xa0mph)[4]',\n",
       "       'Sunny, Air: 32\\xa0°C (90\\xa0°F), Track 53\\xa0°C (127\\xa0°F)',\n",
       "       'Sunny, Air: 27\\xa0°C (81\\xa0°F), Track 47\\xa0°C (117\\xa0°F)',\n",
       "       'Cloudy with drizzle, but staying dry during the race. Air temp: 24°C.',\n",
       "       'Sunny, Air: 34\\xa0°C (93\\xa0°F), Track 45\\xa0°C (113\\xa0°F)',\n",
       "       'Sunny; 30°C Air; 45°C Track', 'Wet and dry',\n",
       "       'Cloudy, dry, Air: 23\\xa0°C (73\\xa0°F), Track 22\\xa0°C (72\\xa0°F)',\n",
       "       'Partially cloudy and dry with temperatures reaching up to 25\\xa0°C (77\\xa0°F)[1]',\n",
       "       'Fine, Dry and HotAir Temp 23\\xa0°C (73\\xa0°F)[1]Track Temp 40\\xa0°C (104\\xa0°F)[1] dropping to 34\\xa0°C (93\\xa0°F)',\n",
       "       'Fine, Air Temp: 33°C, Wind Speed: 1.5 m/s, Humidity: 61%',\n",
       "       'Cloudy with sunny breaks. Air temperature 20°C',\n",
       "       'Sunny and warm with temperatures reaching up to 28\\xa0°C (82\\xa0°F); wind speeds up to 4.1 kilometres per hour (2.5\\xa0mph)[1]',\n",
       "       'Sunny, hot',\n",
       "       'Cool and rainy with temperatures reaching up to 20\\xa0°C (68\\xa0°F)[1]',\n",
       "       'Warm and sunny with temperatures reaching up to 27\\xa0°C (81\\xa0°F)[1]',\n",
       "       'Cloudy, wet track that progressively dried up.Rainy during the last few laps.',\n",
       "       'Temperatures reaching up to 23\\xa0°C (73\\xa0°F)[1]',\n",
       "       'Clear with temperatures reaching up to 21\\xa0°C (70\\xa0°F)[1]',\n",
       "       'Sunny, dry, windy',\n",
       "       'Cloudy, air temp 24–27\\xa0°C (75–81\\xa0°F), track temp 33–42\\xa0°C (91–108\\xa0°F)',\n",
       "       'Warm with temperatures approaching 26\\xa0°C (79\\xa0°F); wind speeds up to 5.8 kilometres per hour (3.6\\xa0mph)[1]',\n",
       "       'Warm (33C/91F) and clear',\n",
       "       'Heavy Rain on Lap 1. Drying track at restart. Light Rain before the finish.',\n",
       "       'Sunny, temperatures reaching up to 27\\xa0°C (81\\xa0°F)[1]',\n",
       "       'Partly cloudy, mild and dry', 'Very heavy rain',\n",
       "       'Intermittent light rain', '37\\xa0°C (Air), 63\\xa0°C (Track)',\n",
       "       'Sunny,very hot with air temperature 39°C.',\n",
       "       'Sunny, partly cloudy',\n",
       "       'Sunny with temperatures reaching up to 17\\xa0°C (63\\xa0°F)[3]',\n",
       "       'Wet, drying later.',\n",
       "       'Hot with temperatures approaching 31\\xa0°C (88\\xa0°F); wind speeds up to 8.9 kilometres per hour (5.5\\xa0mph)[1]',\n",
       "       'Dry at first; light rain in the final stages',\n",
       "       'Rain, later drying', 'Cloudy, later sunny[1]',\n",
       "       'Sunny; Air 30–31\\xa0°C (86–88\\xa0°F), Track 40–43\\xa0°C (104–109\\xa0°F)',\n",
       "       'Cloudy, rain in last 3 laps', 'Heavy rain, dry towards the end',\n",
       "       'Dry, Air Temp: 28\\xa0°C (82\\xa0°F), Wind Speed: 2.2 metres per second (7.2\\xa0ft/s), Humidity: 79%',\n",
       "       'Cloudy with temperatures reaching up to 17\\xa0°C (63\\xa0°F)[4]',\n",
       "       'Rain at beginning and end, otherwise drying',\n",
       "       'Sunny with temperatures reaching up to 27\\xa0°C (81\\xa0°F)[2]',\n",
       "       'Dry start, with heavy rain and thunderstorm/monsoon later',\n",
       "       'Warm, Sunny', 'Dry, overcast', 'Sunny and overcast',\n",
       "       'Sunny25\\xa0°C (77\\xa0°F)[2]',\n",
       "       'Hot and dry with temperatures reaching up to 33\\xa0°C (91\\xa0°F)[1]',\n",
       "       'Clear but Mild', 'Mainly sunny', 'Hot and Dry', 'Sunny, Dry',\n",
       "       'Partially cloudy and dry', 'Overcast with light rain at start',\n",
       "       'Mainly cloudy, dry', 'Cloudy, rain',\n",
       "       'Air: 28 to 29\\xa0°C (82 to 84\\xa0°F) Track: 39 to 49\\xa0°C (102 to 120\\xa0°F)',\n",
       "       'Warm with temperatures approaching 26\\xa0°C (79\\xa0°F); wind speeds up to 4.9 kilometres per hour (3.0\\xa0mph)[1]',\n",
       "       'Dry[3]', 'Mainly cloudy, dry[4]',\n",
       "       'Mainly sunny28\\xa0°C (82\\xa0°F)[1]', 'Intermittent rain',\n",
       "       'Clear; Air temp 29 to 30\\xa0°C (84 to 86\\xa0°F), Track temp 31\\xa0°C (88\\xa0°F)[4][5]',\n",
       "       'Rain; Air 20\\xa0°C (68\\xa0°F), Track 18\\xa0°C (64\\xa0°F)',\n",
       "       'Clear; 25\\xa0°C (77\\xa0°F)',\n",
       "       'Dry[3] Air Temp 28\\xa0°C (82\\xa0°F)[3] Track Temp 33\\xa0°C (91\\xa0°F) dropping to 29\\xa0°C (84\\xa0°F)[3]',\n",
       "       'Sunny, 18°C',\n",
       "       'Fine and Dry[1] Air Temp 22\\xa0°C (72\\xa0°F)[1] Track Temp 32\\xa0°C (90\\xa0°F) dropping to 26\\xa0°C (79\\xa0°F)[1]',\n",
       "       'Sunny, Fine and Dry[2] Air Temp 17\\xa0°C (63\\xa0°F)[2] Track Temp 35\\xa0°C (95\\xa0°F) dropping to 30\\xa0°C (86\\xa0°F)[2]',\n",
       "       'Mainly sunny, Fine and Dry[2][3] Air Temp 27\\xa0°C (81\\xa0°F)[3] Track Temp 33\\xa0°C (91\\xa0°F) to 44\\xa0°C (111\\xa0°F)[3]',\n",
       "       'Sunny, Fine and Dry[2]Air Temp 24\\xa0°C (75\\xa0°F)[2]Track Temp 44\\xa0°C (111\\xa0°F)[2]',\n",
       "       'Wet at start, very heavy rain later, after rain stops, track drying towards the end. Temperatures up to 27\\xa0°C (81\\xa0°F); wind speeds up to 12 kilometres per hour (7.5\\xa0mph)[2]',\n",
       "       'Clear, Fine and Dry[1][2] Air Temp 27\\xa0°C (81\\xa0°F)[2] Track Temp 47\\xa0°C (117\\xa0°F)[2]',\n",
       "       'Wet track at start; subsequently drying[1]Air Temp 20\\xa0°C (68\\xa0°F)[1]Track Temp 22\\xa0°C (72\\xa0°F)[1]',\n",
       "       'Cloudy, (light) rain at start', 'Cloudy, rain showers',\n",
       "       'Hot and humid Air Temp 31\\xa0°C (88\\xa0°F)[1]',\n",
       "       'Sunny and dry Air Temp 24\\xa0°C (75\\xa0°F)[2]',\n",
       "       'Dry, light rain at the start Air Temp 21\\xa0°C (70\\xa0°F)[2]',\n",
       "       'Fine and Dry Air Temp 30\\xa0°C (86\\xa0°F)[1]',\n",
       "       'Fine and Dry Air Temp 25\\xa0°C (77\\xa0°F)[1]',\n",
       "       'Fine Air Temp 24\\xa0°C (75\\xa0°F) Track Temp 43\\xa0°C (109\\xa0°F)[1]',\n",
       "       'Fine[1] Air Temp 22\\xa0°C (72\\xa0°F)[1] Track Temp 30\\xa0°C (86\\xa0°F) dropping to 22\\xa0°C (72\\xa0°F)[1]',\n",
       "       'Heavy rain clearing to cloudy and dry[2] Air Temp 26\\xa0°C (79\\xa0°F)[2]  Track Temp 29\\xa0°C (84\\xa0°F) dropping to 24\\xa0°C (75\\xa0°F) [2]',\n",
       "       'Overcast but Dry[1] Air Temp 22\\xa0°C (72\\xa0°F)[1] Track Temp 23\\xa0°C (73\\xa0°F)[1]',\n",
       "       'Sunny and hot[1][2] Air Temp 27\\xa0°C (81\\xa0°F)[2] Track Temp 33\\xa0°C (91\\xa0°F) dropping to 29\\xa0°C (84\\xa0°F)[2]',\n",
       "       'Partially cloudy, dry: Air 23\\xa0°C (73\\xa0°F), Track 36\\xa0°C (97\\xa0°F)',\n",
       "       'Fine and Dry, showers threatening at end[2] Air Temp 21\\xa0°C (70\\xa0°F)[2] Track Temp 38\\xa0°C (100\\xa0°F) dropping to 31\\xa0°C (88\\xa0°F)[2]',\n",
       "       'Fine, dry and warm;[2] with air temperature approaching 29\\xa0°C (84\\xa0°F)[2] Track Temp 45\\xa0°C (113\\xa0°F) dropping to 39\\xa0°C (102\\xa0°F)[2]',\n",
       "       'Fine and Dry[2] Air Temp 27\\xa0°C (81\\xa0°F)[2] Track Temp 45\\xa0°C (113\\xa0°F)[2]',\n",
       "       'DryAir Temp 20\\xa0°C (68\\xa0°F)[2]Track Temp 31\\xa0°C (88\\xa0°F)[2]',\n",
       "       'Fine and Dry[2] Air Temp 22\\xa0°C (72\\xa0°F)[2] Track Temp 30\\xa0°C (86\\xa0°F)[2]',\n",
       "       'Fine and Dry. Very Hot[2][3] Air Temp 30\\xa0°C (86\\xa0°F)[3] Track Temp 45\\xa0°C (113\\xa0°F)[3]',\n",
       "       'Fine and Dry[2] Air Temp 23\\xa0°C (73\\xa0°F)[2] Track Temp 33\\xa0°C (91\\xa0°F)[2]',\n",
       "       'Dry and sizzlingly sunny[2] Air temp 28\\xa0°C (82\\xa0°F)[2] Track temp 40\\xa0°C (104\\xa0°F)[2]',\n",
       "       'Hot and humid[2]Air Temp 29\\xa0°C (84\\xa0°F)[2]Track Temp 31\\xa0°C (88\\xa0°F)[2]',\n",
       "       'Fine and Dry[2] Air Temp 23\\xa0°C (73\\xa0°F)[2] Track Temp 32\\xa0°C (90\\xa0°F)[2]',\n",
       "       'Fine and Dry[3] Air Temp 21\\xa0°C (70\\xa0°F)[3] Track Temp 27\\xa0°C (81\\xa0°F) dropping to 23\\xa0°C (73\\xa0°F)[3]',\n",
       "       'Fine, Dry, a little hazy and a little dusty[2] Air Temp 30\\xa0°C (86\\xa0°F)[2] Track Temp 36\\xa0°C (97\\xa0°F) dropping to 31\\xa0°C (88\\xa0°F)[2]',\n",
       "       'Dry[2] Air Temp 29\\xa0°C (84\\xa0°F)[2] Track Temp 34\\xa0°C (93\\xa0°F) dropping to 29\\xa0°C (84\\xa0°F)[2]',\n",
       "       'Scattered clouds[2][3]Air temp 24\\xa0°C (75\\xa0°F)[3]Track temp 32\\xa0°C (90\\xa0°F)[3]',\n",
       "       'Race start: drops of rain, light rain shower getting heavier at the end.[2] Air Temp 19\\xa0°C (66\\xa0°F)[2] Track Temp 21\\xa0°C (70\\xa0°F)[2]',\n",
       "       'Scattered Clouds, Fine and Dry[2] Air Temp 18\\xa0°C (64\\xa0°F)[2] Track Temp 25\\xa0°C (77\\xa0°F) dropping to 19\\xa0°C (66\\xa0°F)[2]',\n",
       "       'Light rain clearing to cloudy and dry', 'Warm and sunny',\n",
       "       'Mild with temperatures approaching 23\\xa0°C (73\\xa0°F); wind speeds up to 15 kilometres per hour (9.3\\xa0mph)[2]',\n",
       "       'Very hot and sunny, 35°C.', 'Dry and 29 degrees',\n",
       "       'Cloudy with maximum temperatures reaching 29 degrees during the day',\n",
       "       'Sunny, haze',\n",
       "       'Partly cloudy, warmTemperatures reaching up to 89.1\\xa0°F (31.7\\xa0°C); wind speeds approaching speeds of 11.1 miles per hour (17.9\\xa0km/h)[2]',\n",
       "       'Cloudy, Air Temp: 18°C', 'Overcast, 19\\xa0°C(66\\xa0°F)',\n",
       "       'Dry, 32°C', 'Mostly cloudy, dry',\n",
       "       'Overcast, Air: 20 to 21\\xa0°C (68 to 70\\xa0°F), Track: 28 to 30\\xa0°C (82 to 86\\xa0°F).',\n",
       "       'Temperatures up to 27.6\\xa0°C (81.7\\xa0°F); wind speeds up to 16.4 kilometres per hour (10.2\\xa0mph)[5]',\n",
       "       'Mostly cloudy with maximum temperatures reaching 21 degrees during the day.',\n",
       "       'Cloudy with maximum temperatures reaching 26 degrees during the day.',\n",
       "       'Overcast. Wet track at start, then drying.Scattered thunderstorms during the day, temperatures reaching a maximum of 26 degrees.[1]',\n",
       "       'Mostly cloudy',\n",
       "       'Sunny; Air: 25\\xa0°C (77\\xa0°F), Track: 37 to 42\\xa0°C (99 to 108\\xa0°F)',\n",
       "       'Clear. Air: 28 to 30\\xa0°C (82 to 86\\xa0°F) Track: 33 to 37\\xa0°C (91 to 99\\xa0°F).',\n",
       "       'Rain. Air: 20\\xa0°C (68\\xa0°F) Track: 24\\xa0°C (75\\xa0°F)',\n",
       "       'Fine and dry;21\\xa0°C (70\\xa0°F) ambient temperature,33\\xa0°C (91\\xa0°F) track temperature[4]',\n",
       "       'Sunny,',\n",
       "       'Sunny, Air: 23 to 24\\xa0°C (73 to 75\\xa0°F), Track: 46 to 50\\xa0°C (115 to 122\\xa0°F)',\n",
       "       'Clear skies; Air temp: 30 °C (86 °F) during the day, dropping to 24 °C (75.2 °F). Wind speed: 8 km/h (4.9 mph).[2] (Night race)',\n",
       "       'Partly cloudy17–18\\xa0°C (63–64\\xa0°F) air temperature32–37\\xa0°C (90–99\\xa0°F) track temperature6\\xa0m/s (20\\xa0ft/s) wind from the south[3]',\n",
       "       'Sunny32–33\\xa0°C (90–91\\xa0°F) air temperature53–58\\xa0°C (127–136\\xa0°F) track temperature2\\xa0m/s (6.6\\xa0ft/s) wind from the south[3]',\n",
       "       'Sunny21\\xa0°C (70\\xa0°F) air temperature46\\xa0°C (115\\xa0°F) track temperature1.4\\xa0m/s (4.6\\xa0ft/s) wind from the northwest[1]',\n",
       "       'Sunny, clear24–26\\xa0°C (75–79\\xa0°F) air temperature28–31\\xa0°C (82–88\\xa0°F) track temperature1.5\\xa0m/s (4.9\\xa0ft/s) wind from the north[1]',\n",
       "       'Sunny25\\xa0°C (77\\xa0°F) air temperature44\\xa0°C (111\\xa0°F) track temperature1.8\\xa0m/s (5.9\\xa0ft/s) wind from the northeast[3]',\n",
       "       'Partly cloudy18–19\\xa0°C (64–66\\xa0°F) air temperature31–37\\xa0°C (88–99\\xa0°F) track temperature1.5\\xa0m/s (4.9\\xa0ft/s) wind from the west[2]',\n",
       "       'Sunny20–21\\xa0°C (68–70\\xa0°F) air temperature39\\xa0°C (102\\xa0°F) track temperature4\\xa0m/s (13\\xa0ft/s) wind from the north[2]',\n",
       "       'Cloudy14–15\\xa0°C (57–59\\xa0°F) air temperature27–32\\xa0°C (81–90\\xa0°F) track temperature2\\xa0m/s (6.6\\xa0ft/s) wind from the west[2]',\n",
       "       'Cloudy, rain at times17–20\\xa0°C (63–68\\xa0°F) air temperature24–32\\xa0°C (75–90\\xa0°F) track temperature2.5\\xa0m/s (8.2\\xa0ft/s) wind from the east[2]',\n",
       "       'Sunny22–24\\xa0°C (72–75\\xa0°F) air temperature41–48\\xa0°C (106–118\\xa0°F) track temperature3.2\\xa0m/s (10\\xa0ft/s) wind from the east[2]',\n",
       "       'Cloudy23\\xa0°C (73\\xa0°F) air temperature33–37\\xa0°C (91–99\\xa0°F) track temperature3.5\\xa0m/s (11\\xa0ft/s) wind from the northwest[2]',\n",
       "       'Partly cloudy22–23\\xa0°C (72–73\\xa0°F) air temperature38–39\\xa0°C (100–102\\xa0°F) track temperature1.5\\xa0m/s (4.9\\xa0ft/s) wind from changing directions[2]',\n",
       "       'Dry28–29\\xa0°C (82–84\\xa0°F) air temperature34–36\\xa0°C (93–97\\xa0°F) track temperature0.5\\xa0m/s (1.6\\xa0ft/s) wind from the west[2]',\n",
       "       'Partly cloudy27\\xa0°C (81\\xa0°F) air temperature52–54\\xa0°C (126–129\\xa0°F) track temperature4.5\\xa0m/s (15\\xa0ft/s) wind from the east[2]',\n",
       "       'Partly cloudy18\\xa0°C (64\\xa0°F) air temperature25–27\\xa0°C (77–81\\xa0°F) track temperature1.5\\xa0m/s (4.9\\xa0ft/s) wind from the north[2]',\n",
       "       'Very cloudy17\\xa0°C (63\\xa0°F) air temperature17–20\\xa0°C (63–68\\xa0°F) track temperature8\\xa0m/s (26\\xa0ft/s) wind from the south[2]',\n",
       "       'Partly cloudy22–24\\xa0°C (72–75\\xa0°F) air temperature48–56\\xa0°C (118–133\\xa0°F) track temperature1.5\\xa0m/s (4.9\\xa0ft/s) wind from the northwest[2]',\n",
       "       'Dry22–28\\xa0°C (72–82\\xa0°F) air temperature38–48\\xa0°C (100–118\\xa0°F) track temperature2.5\\xa0m/s (8.2\\xa0ft/s) wind from the north[2]',\n",
       "       'Clear25–27\\xa0°C (77–81\\xa0°F) air temperature28–29\\xa0°C (82–84\\xa0°F) track temperature1.5\\xa0m/s (4.9\\xa0ft/s) wind from the south[3]',\n",
       "       'Partly cloudy22–23\\xa0°C (72–73\\xa0°F) air temperature26–36\\xa0°C (79–97\\xa0°F) track temperature4\\xa0m/s (8.9\\xa0mph; 14\\xa0km/h) wind from the south[4]',\n",
       "       'Dry21–22\\xa0°C (70–72\\xa0°F) air temperature26–29\\xa0°C (79–84\\xa0°F) track temperature2\\xa0m/s (6.6\\xa0ft/s) wind from the southwest[4]',\n",
       "       'Sunny21\\xa0°C (70\\xa0°F) air temperature37\\xa0°C (99\\xa0°F) track temperature4.8\\xa0m/s (16\\xa0ft/s) wind from the northeast[4]',\n",
       "       'Partly cloudy16\\xa0°C (61\\xa0°F) air temperature37–41\\xa0°C (99–106\\xa0°F) track temperature2.5\\xa0m/s (8.2\\xa0ft/s) wind from the southwest[4]',\n",
       "       'Partly cloudy20–22\\xa0°C (68–72\\xa0°F) air temperature39–41\\xa0°C (102–106\\xa0°F) track temperature2\\xa0m/s (6.6\\xa0ft/s) wind from the north[4]',\n",
       "       'Rainy at start, dry later17–18\\xa0°C (63–64\\xa0°F) air temperature20–22\\xa0°C (68–72\\xa0°F) track temperature2\\xa0m/s (6.6\\xa0ft/s) wind from the north[4]',\n",
       "       'Cloudy12\\xa0°C (54\\xa0°F) air temperature21–23\\xa0°C (70–73\\xa0°F) track temperature2.5\\xa0m/s (8.2\\xa0ft/s) wind from the southeast[4]',\n",
       "       'Partly cloudy30–33\\xa0°C (86–91\\xa0°F) air temperature39–45\\xa0°C (102–113\\xa0°F) track temperature2.5\\xa0m/s (8.2\\xa0ft/s) wind from the southeast[4]',\n",
       "       'Clear30\\xa0°C (86\\xa0°F) air temperature34–35\\xa0°C (93–95\\xa0°F) track temperature1.5\\xa0m/s (4.9\\xa0ft/s) wind from the east[2]',\n",
       "       'Sunny33\\xa0°C (91\\xa0°F) air temperature49\\xa0°C (120\\xa0°F) track temperature2.8\\xa0m/s (9.2\\xa0ft/s) wind from the west[2]',\n",
       "       'Sunny and hot with temperatures reaching up to 84\\xa0°F (29\\xa0°C); wind speeds approaching speeds of 9.2 miles per hour (14.8\\xa0km/h)[2]',\n",
       "       'Rain and 16\\xa0°C (60.8\\xa0°F)',\n",
       "       'Partly cloudy24\\xa0°C (75\\xa0°F) air temperature31–36\\xa0°C (88–97\\xa0°F) track temperature2\\xa0m/s (4.5\\xa0mph; 7.2\\xa0km/h) wind from the northwest[3]',\n",
       "       'Light rain at start, drying later.',\n",
       "       'Sunny and hot with temperatures reaching up to 29\\xa0°C (84\\xa0°F); wind speeds reaching 12.9 kilometres per hour (8.0\\xa0mph)[4]',\n",
       "       'Partly cloudy',\n",
       "       'Wet at start, then drying. Air temperature: 28°C (82°F)',\n",
       "       'Sunny with temperatures reaching up to 82.9\\xa0°F (28.3\\xa0°C); wind speeds approaching speeds of 13.8 miles per hour (22.2\\xa0km/h)[4]',\n",
       "       'Partially cloudy and dry, 16°C and cold.',\n",
       "       'Temperatures reaching up to 22.7\\xa0°C (72.9\\xa0°F); with wind speeds reaching 11.1 kilometres per hour (6.9\\xa0mph)[2]',\n",
       "       'Partially cloudy, warm and dry',\n",
       "       'Sunny 27.0\\xa0°C (80.6\\xa0°F)[2]',\n",
       "       'Overcast with intermittent rain',\n",
       "       'Temperatures reaching up to 29.6\\xa0°C (85.3\\xa0°F); wind speeds negligible[2]',\n",
       "       'Sunny, 36C (97F)', 'Early rain, Late clouds', 'Slightly hazy',\n",
       "       'Wet at start, partly cloudy',\n",
       "       'Partly cloudy, 10\\xa0°C (50\\xa0°F)',\n",
       "       'Overcast. Wet and drying track. Air: 11–14\\xa0°C (52–57\\xa0°F); Track: 14–17\\xa0°C (57–63\\xa0°F)'],\n",
       "      dtype=object)"
      ]
     },
     "execution_count": 40,
     "metadata": {},
     "output_type": "execute_result"
    }
   ],
   "source": [
    "weather_merged[\"weather\"].unique()"
   ]
  },
  {
   "cell_type": "markdown",
   "metadata": {},
   "source": [
    "* Il y a 363 types de temps différents nous allons donc nous interesser à ceux qui nous paraissent les plus communs"
   ]
  },
  {
   "cell_type": "code",
   "execution_count": 39,
   "metadata": {},
   "outputs": [
    {
     "data": {
      "text/plain": [
       "<seaborn.axisgrid.FacetGrid at 0x11e197340>"
      ]
     },
     "execution_count": 39,
     "metadata": {},
     "output_type": "execute_result"
    },
    {
     "data": {
      "image/png": "[encoded data removed]",
      "text/plain": [
       "<Figure size 360x360 with 1 Axes>"
      ]
     },
     "metadata": {},
     "output_type": "display_data"
    }
   ],
   "source": [
    "df_dry=weather_merged[weather_merged['weather']=='dry']\n",
    "sns.relplot(x=\"grid\", y=\"podium\", data=df_dry,hue=\"circuit_id\")"
   ]
  }
 ],
 "metadata": {
  "kernelspec": {
   "display_name": "Python 3",
   "language": "python",
   "name": "python3"
  },
  "language_info": {
   "codemirror_mode": {
    "name": "ipython",
    "version": 3
   },
   "file_extension": ".py",
   "mimetype": "text/x-python",
   "name": "python",
   "nbconvert_exporter": "python",
   "pygments_lexer": "ipython3",
   "version": "3.8.8"
  }
 },
 "nbformat": 4,
 "nbformat_minor": 4
}
