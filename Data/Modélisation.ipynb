{
 "cells": [
  {
   "cell_type": "code",
   "execution_count": 21,
   "metadata": {},
   "outputs": [],
   "source": [
    "import numpy as np\n",
    "import pandas as pd\n",
    "import datetime\n",
    "from sklearn.metrics import confusion_matrix, precision_score\n",
    "from sklearn.linear_model import LogisticRegression, LinearRegression\n",
    "from sklearn import svm\n",
    "from sklearn.preprocessing import StandardScaler, MinMaxScaler\n",
    "from sklearn.ensemble import RandomForestClassifier, RandomForestRegressor\n",
    "from sklearn.neural_network import MLPClassifier, MLPRegressor"
   ]
  },
  {
   "cell_type": "code",
   "execution_count": 2,
   "metadata": {},
   "outputs": [],
   "source": [
    "np.set_printoptions(precision=4)"
   ]
  },
  {
   "cell_type": "code",
   "execution_count": 18,
   "metadata": {},
   "outputs": [],
   "source": [
    "data = pd.read_csv('final_df_merged.csv')"
   ]
  },
  {
   "cell_type": "code",
   "execution_count": 20,
   "metadata": {},
   "outputs": [
    {
     "name": "stdout",
     "output_type": "stream",
     "text": [
      "<class 'pandas.core.frame.DataFrame'>\n",
      "RangeIndex: 9984 entries, 0 to 9983\n",
      "Data columns (total 85 columns):\n",
      " #   Column                     Non-Null Count  Dtype  \n",
      "---  ------                     --------------  -----  \n",
      " 0   season                     9984 non-null   int64  \n",
      " 1   round                      9984 non-null   int64  \n",
      " 2   driver                     9984 non-null   object \n",
      " 3   grid                       9984 non-null   int64  \n",
      " 4   points                     9984 non-null   float64\n",
      " 5   podium                     9984 non-null   int64  \n",
      " 6   constructor_points         9984 non-null   int64  \n",
      " 7   constructor_wins           9984 non-null   int64  \n",
      " 8   constructor_standings_pos  9984 non-null   int64  \n",
      " 9   driver_points              9984 non-null   int64  \n",
      " 10  driver_wins                9984 non-null   int64  \n",
      " 11  driver_standings_pos       9984 non-null   int64  \n",
      " 12  qualifying_time            9984 non-null   float64\n",
      " 13  weather_warm               9984 non-null   bool   \n",
      " 14  weather_cold               9984 non-null   bool   \n",
      " 15  weather_dry                9984 non-null   bool   \n",
      " 16  weather_wet                9984 non-null   bool   \n",
      " 17  weather_cloudy             9984 non-null   bool   \n",
      " 18  age                        9984 non-null   float64\n",
      " 19  circuit_id_adelaide        9984 non-null   int64  \n",
      " 20  circuit_id_albert_park     9984 non-null   int64  \n",
      " 21  circuit_id_americas        9984 non-null   int64  \n",
      " 22  circuit_id_bahrain         9984 non-null   int64  \n",
      " 23  circuit_id_catalunya       9984 non-null   int64  \n",
      " 24  circuit_id_estoril         9984 non-null   int64  \n",
      " 25  circuit_id_galvez          9984 non-null   int64  \n",
      " 26  circuit_id_hockenheimring  9984 non-null   int64  \n",
      " 27  circuit_id_hungaroring     9984 non-null   int64  \n",
      " 28  circuit_id_imola           9984 non-null   int64  \n",
      " 29  circuit_id_indianapolis    9984 non-null   int64  \n",
      " 30  circuit_id_interlagos      9984 non-null   int64  \n",
      " 31  circuit_id_istanbul        9984 non-null   int64  \n",
      " 32  circuit_id_magny_cours     9984 non-null   int64  \n",
      " 33  circuit_id_marina_bay      9984 non-null   int64  \n",
      " 34  circuit_id_monaco          9984 non-null   int64  \n",
      " 35  circuit_id_monza           9984 non-null   int64  \n",
      " 36  circuit_id_nurburgring     9984 non-null   int64  \n",
      " 37  circuit_id_osterreichring  9984 non-null   int64  \n",
      " 38  circuit_id_red_bull_ring   9984 non-null   int64  \n",
      " 39  circuit_id_rodriguez       9984 non-null   int64  \n",
      " 40  circuit_id_sepang          9984 non-null   int64  \n",
      " 41  circuit_id_shanghai        9984 non-null   int64  \n",
      " 42  circuit_id_silverstone     9984 non-null   int64  \n",
      " 43  circuit_id_sochi           9984 non-null   int64  \n",
      " 44  circuit_id_spa             9984 non-null   int64  \n",
      " 45  circuit_id_suzuka          9984 non-null   int64  \n",
      " 46  circuit_id_valencia        9984 non-null   int64  \n",
      " 47  circuit_id_villeneuve      9984 non-null   int64  \n",
      " 48  circuit_id_yas_marina      9984 non-null   int64  \n",
      " 49  circuit_id_yeongam         9984 non-null   int64  \n",
      " 50  nationality_Australian     9984 non-null   int64  \n",
      " 51  nationality_Austrian       9984 non-null   int64  \n",
      " 52  nationality_Belgian        9984 non-null   int64  \n",
      " 53  nationality_Brazilian      9984 non-null   int64  \n",
      " 54  nationality_British        9984 non-null   int64  \n",
      " 55  nationality_Canadian       9984 non-null   int64  \n",
      " 56  nationality_Dutch          9984 non-null   int64  \n",
      " 57  nationality_Finnish        9984 non-null   int64  \n",
      " 58  nationality_French         9984 non-null   int64  \n",
      " 59  nationality_German         9984 non-null   int64  \n",
      " 60  nationality_Italian        9984 non-null   int64  \n",
      " 61  nationality_Japanese       9984 non-null   int64  \n",
      " 62  nationality_Mexican        9984 non-null   int64  \n",
      " 63  nationality_Russian        9984 non-null   int64  \n",
      " 64  nationality_Spanish        9984 non-null   int64  \n",
      " 65  constructor_arrows         9984 non-null   int64  \n",
      " 66  constructor_bar            9984 non-null   int64  \n",
      " 67  constructor_benetton       9984 non-null   int64  \n",
      " 68  constructor_ferrari        9984 non-null   int64  \n",
      " 69  constructor_footwork       9984 non-null   int64  \n",
      " 70  constructor_force_india    9984 non-null   int64  \n",
      " 71  constructor_jordan         9984 non-null   int64  \n",
      " 72  constructor_ligier         9984 non-null   int64  \n",
      " 73  constructor_mclaren        9984 non-null   int64  \n",
      " 74  constructor_mercedes       9984 non-null   int64  \n",
      " 75  constructor_minardi        9984 non-null   int64  \n",
      " 76  constructor_prost          9984 non-null   int64  \n",
      " 77  constructor_red_bull       9984 non-null   int64  \n",
      " 78  constructor_renault        9984 non-null   int64  \n",
      " 79  constructor_sauber         9984 non-null   int64  \n",
      " 80  constructor_team_lotus     9984 non-null   int64  \n",
      " 81  constructor_toro_rosso     9984 non-null   int64  \n",
      " 82  constructor_toyota         9984 non-null   int64  \n",
      " 83  constructor_tyrrell        9984 non-null   int64  \n",
      " 84  constructor_williams       9984 non-null   int64  \n",
      "dtypes: bool(5), float64(3), int64(76), object(1)\n",
      "memory usage: 6.1+ MB\n"
     ]
    }
   ],
   "source": [
    "data.info()"
   ]
  },
  {
   "cell_type": "markdown",
   "metadata": {},
   "source": [
    "# 1- Dataset d'entraînement "
   ]
  },
  {
   "cell_type": "code",
   "execution_count": 10,
   "metadata": {},
   "outputs": [],
   "source": [
    "df = data.copy()\n",
    "df.podium = df.podium.map(lambda x: 1 if x == 1 else 0)\n",
    "\n",
    "train = df[df.season<2020]\n",
    "X_train = train.drop(['driver', 'podium'], axis = 1)\n",
    "y_train = train.podium\n",
    "\n",
    "scaler = StandardScaler()\n",
    "X_train = pd.DataFrame(scaler.fit_transform(X_train), columns = X_train.columns)"
   ]
  },
  {
   "cell_type": "code",
   "execution_count": null,
   "metadata": {},
   "outputs": [],
   "source": [
    "comparison_dict ={'model':[],\n",
    "                  'params': [],\n",
    "                  'score': []}"
   ]
  },
  {
   "cell_type": "markdown",
   "metadata": {},
   "source": [
    "# 2- Classification"
   ]
  },
  {
   "cell_type": "code",
   "execution_count": 5,
   "metadata": {},
   "outputs": [],
   "source": [
    "def score_classification(model):\n",
    "    score = 0\n",
    "    for circuit in df[df.season == 2020]['round'].unique():\n",
    "\n",
    "        test = df[(df.season == 2020) & (df['round'] == circuit)]\n",
    "        X_test = test.drop(['driver', 'podium'], axis = 1)\n",
    "        y_test = test.podium\n",
    "\n",
    "        #scaling\n",
    "        X_test = pd.DataFrame(scaler.transform(X_test), columns = X_test.columns)\n",
    "\n",
    "        # make predictions\n",
    "        prediction_df = pd.DataFrame(model.predict_proba(X_test), columns = ['proba_0', 'proba_1'])\n",
    "        prediction_df['actual'] = y_test.reset_index(drop = True)\n",
    "        prediction_df.sort_values('proba_1', ascending = False, inplace = True)\n",
    "        prediction_df.reset_index(inplace = True, drop = True)\n",
    "        prediction_df['predicted'] = prediction_df.index\n",
    "        prediction_df['predicted'] = prediction_df.predicted.map(lambda x: 1 if x == 0 else 0)\n",
    "\n",
    "        score += precision_score(prediction_df.actual, prediction_df.predicted)\n",
    "\n",
    "    model_score = score / df[df.season == 2020]['round'].unique().max()\n",
    "    return model_score"
   ]
  },
  {
   "cell_type": "markdown",
   "metadata": {},
   "source": [
    "## SVM Classifier"
   ]
  },
  {
   "cell_type": "markdown",
   "metadata": {},
   "source": [
    "Assez lent à faire tourner"
   ]
  },
  {
   "cell_type": "code",
   "execution_count": 8,
   "metadata": {},
   "outputs": [],
   "source": [
    "params={'gamma': np.logspace(-4, -1, 20),\n",
    "        'C': np.logspace(-2, 1, 20),\n",
    "        'kernel': ['linear', 'poly', 'rbf', 'sigmoid']} \n",
    "\n",
    "for gamma in params['gamma']:\n",
    "    for c in params['C']:\n",
    "        for kernel in params['kernel']:\n",
    "            model_params = (gamma, c, kernel)\n",
    "            model = svm.SVC(probability = True, gamma = gamma, C = c, kernel = kernel )\n",
    "            model.fit(X_train, y_train)\n",
    "            \n",
    "            model_score = score_classification(model)\n",
    "            \n",
    "            comparison_dict['model'].append('svm_classifier')\n",
    "            comparison_dict['params'].append(model_params)\n",
    "            comparison_dict['score'].append(model_score)"
   ]
  },
  {
   "cell_type": "code",
   "execution_count": 14,
   "metadata": {
    "scrolled": true
   },
   "outputs": [
    {
     "name": "stdout",
     "output_type": "stream",
     "text": [
      "0.8235294117647058\n"
     ]
    }
   ],
   "source": [
    "# Le score maximal est \n",
    "print(max(comparison_dict[\"score\"]))\n",
    " \n",
    "## En déduire les paramétres correspondant au score optimal "
   ]
  },
  {
   "cell_type": "markdown",
   "metadata": {},
   "source": [
    "# 3- Régression"
   ]
  },
  {
   "cell_type": "markdown",
   "metadata": {},
   "source": [
    "Le but sera de tester plusieurs combinaison de variable explicative et choisir celle qui permettra d'avoir le meilleur \n",
    "score. On prendra comme critère (comme score) le pourcentage de course correctement prédites en 2020."
   ]
  },
  {
   "cell_type": "code",
   "execution_count": 31,
   "metadata": {},
   "outputs": [],
   "source": [
    "# la fonction score: \n",
    "\n",
    "def score_regression(model,xvar):\n",
    "    score=0\n",
    "    les_circuits=df[df['season']==2020][\"round\"].unique()\n",
    "    for circuit in les_circuits:\n",
    "        test=df[(df['season']==2020) & (df['round']==circuit)]\n",
    "        X_test=test[xvar]\n",
    "        y_test=test[\"podium\"]\n",
    "        \n",
    "        X_test = pd.DataFrame(scaler.transform(X_test), columns = X_test.columns)\n",
    "        \n",
    "        #On fait les prédictions\n",
    "        \n",
    "        prediction_df = pd.DataFrame(model.predict(X_test), columns = ['results'])\n",
    "        prediction_df['podium'] = y_test.reset_index(drop = True)\n",
    "        prediction_df['actual'] = prediction_df['podium'].map(lambda x: 1 if x == 1 else 0)\n",
    "        prediction_df.sort_values('results', ascending = True, inplace = True)\n",
    "        prediction_df.reset_index(inplace = True, drop = True)\n",
    "        prediction_df['predicted'] = prediction_df.index\n",
    "        prediction_df['predicted'] = prediction_df.predicted.map(lambda x: 1 if x == 0 else 0)\n",
    "        \n",
    "        score += precision_score(prediction_df['actual'],prediction_df['predicted'])\n",
    "    \n",
    "    model_score = score / df[df.season == 2020]['round'].unique().max()\n",
    "    return model_score"
   ]
  },
  {
   "cell_type": "markdown",
   "metadata": {},
   "source": [
    "## 3.1 Régression linéaire"
   ]
  },
  {
   "cell_type": "markdown",
   "metadata": {},
   "source": [
    "Nous faisons une regression linéaire en utilisant toutes les features dont nous disposons. L'idée sera ensuite de comparer les résultats de ce modèle avec le SVM classifier.  "
   ]
  },
  {
   "cell_type": "code",
   "execution_count": null,
   "metadata": {},
   "outputs": [],
   "source": [
    "model = LinearRegression(fit_intercept = 'True')\n",
    "model.fit(X_train, y_train)\n",
    "model_score=score_regression(model,train.columns.drop([\"driver\",\"podium\"])\n",
    "comparison_dict['model'].append('regression_lineaire')\n",
    "comparison_dict['params'].append('True')\n",
    "comparison_dict['score'].append(model_score)"
   ]
  },
  {
   "cell_type": "markdown",
   "metadata": {},
   "source": [
    "Maintenant nous pouvons nous interesser à la regression linéaire en prenant comme variables nous aidant à prédire des combinaisons de variable. Cela nous permettra de comprendre quelles variables sont les plus importantes pour prédire notre target, c'est à dire le gagnant de la course. "
   ]
  },
  {
   "cell_type": "code",
   "execution_count": 33,
   "metadata": {},
   "outputs": [],
   "source": [
    "xvar_total=df.columns.drop([\"driver\",'podium'])\n",
    "xvar_series=pd.Series(xvar_total)\n",
    "\n",
    "xvar_weather=list(xvar_series[xvar_series.str.contains(\"weather\")])\n",
    "xvar_nationality=list(xvar_series[xvar_series.str.contains(\"nationality\")])\n",
    "xvar_circuit=list(xvar_series[xvar_series.str.contains(\"circuit\")])\n",
    "xvar_constructor=list(xvar_series[xvar_series.str.contains(\"constructor\")])\n",
    "xvar_grid=list([\"grid\",\"constructor_standings_pos\",\"driver_standings_pos\",\"qualifying_time\"])\n",
    "\n",
    "xvar_comparison={'xvar':[],'score':[]}\n",
    "\n",
    "xvar_combinaison=[xvar_weather,xvar_nationality,xvar_circuit,xvar_constructor,xvar_grid]\n",
    "    \n",
    "for xvar in xvar_combinaison:\n",
    "    X_train_2 = train[xvar]\n",
    "    y_train_2 = train[\"podium\"]\n",
    "\n",
    "    scaler = StandardScaler()\n",
    "    X_train = pd.DataFrame(scaler.fit_transform(X_train_2), columns = X_train_2.columns)\n",
    "    \n",
    "    model = LinearRegression(fit_intercept = 'True')\n",
    "    model.fit(X_train_2, y_train_2)\n",
    "    \n",
    "    model_score=score_regression(model,xvar)\n",
    "    \n",
    "    \n",
    "    xvar_comparison['xvar'].append(xvar)\n",
    "    xvar_comparison['score'].append(model_score)"
   ]
  },
  {
   "cell_type": "code",
   "execution_count": 35,
   "metadata": {},
   "outputs": [
    {
     "name": "stderr",
     "output_type": "stream",
     "text": [
      "<ipython-input-35-6591f1473c20>:1: FutureWarning: elementwise comparison failed; returning scalar instead, but in the future will perform elementwise comparison\n",
      "  max(xvar_comparison, key=xvar_comparison.get)\n"
     ]
    },
    {
     "ename": "TypeError",
     "evalue": "'>' not supported between instances of 'numpy.ndarray' and 'list'",
     "output_type": "error",
     "traceback": [
      "\u001b[0;31m---------------------------------------------------------------------------\u001b[0m",
      "\u001b[0;31mTypeError\u001b[0m                                 Traceback (most recent call last)",
      "\u001b[0;32m<ipython-input-35-6591f1473c20>\u001b[0m in \u001b[0;36m<module>\u001b[0;34m\u001b[0m\n\u001b[0;32m----> 1\u001b[0;31m \u001b[0mmax\u001b[0m\u001b[0;34m(\u001b[0m\u001b[0mxvar_comparison\u001b[0m\u001b[0;34m,\u001b[0m \u001b[0mkey\u001b[0m\u001b[0;34m=\u001b[0m\u001b[0mxvar_comparison\u001b[0m\u001b[0;34m.\u001b[0m\u001b[0mget\u001b[0m\u001b[0;34m)\u001b[0m\u001b[0;34m\u001b[0m\u001b[0;34m\u001b[0m\u001b[0m\n\u001b[0m",
      "\u001b[0;31mTypeError\u001b[0m: '>' not supported between instances of 'numpy.ndarray' and 'list'"
     ]
    }
   ],
   "source": [
    "def keywithmaxval(d):\n",
    "     v=list(d.values())\n",
    "     k=list(d.keys())\n",
    "     return k[v.index(max(v))]\n",
    "    \n",
    "return "
   ]
  },
  {
   "cell_type": "code",
   "execution_count": 30,
   "metadata": {},
   "outputs": [
    {
     "name": "stdout",
     "output_type": "stream",
     "text": [
      "<class 'pandas.core.frame.DataFrame'>\n",
      "RangeIndex: 9984 entries, 0 to 9983\n",
      "Data columns (total 85 columns):\n",
      " #   Column                     Non-Null Count  Dtype  \n",
      "---  ------                     --------------  -----  \n",
      " 0   season                     9984 non-null   int64  \n",
      " 1   round                      9984 non-null   int64  \n",
      " 2   driver                     9984 non-null   object \n",
      " 3   grid                       9984 non-null   int64  \n",
      " 4   points                     9984 non-null   float64\n",
      " 5   podium                     9984 non-null   int64  \n",
      " 6   constructor_points         9984 non-null   int64  \n",
      " 7   constructor_wins           9984 non-null   int64  \n",
      " 8   constructor_standings_pos  9984 non-null   int64  \n",
      " 9   driver_points              9984 non-null   int64  \n",
      " 10  driver_wins                9984 non-null   int64  \n",
      " 11  driver_standings_pos       9984 non-null   int64  \n",
      " 12  qualifying_time            9984 non-null   float64\n",
      " 13  weather_warm               9984 non-null   bool   \n",
      " 14  weather_cold               9984 non-null   bool   \n",
      " 15  weather_dry                9984 non-null   bool   \n",
      " 16  weather_wet                9984 non-null   bool   \n",
      " 17  weather_cloudy             9984 non-null   bool   \n",
      " 18  age                        9984 non-null   float64\n",
      " 19  circuit_id_adelaide        9984 non-null   int64  \n",
      " 20  circuit_id_albert_park     9984 non-null   int64  \n",
      " 21  circuit_id_americas        9984 non-null   int64  \n",
      " 22  circuit_id_bahrain         9984 non-null   int64  \n",
      " 23  circuit_id_catalunya       9984 non-null   int64  \n",
      " 24  circuit_id_estoril         9984 non-null   int64  \n",
      " 25  circuit_id_galvez          9984 non-null   int64  \n",
      " 26  circuit_id_hockenheimring  9984 non-null   int64  \n",
      " 27  circuit_id_hungaroring     9984 non-null   int64  \n",
      " 28  circuit_id_imola           9984 non-null   int64  \n",
      " 29  circuit_id_indianapolis    9984 non-null   int64  \n",
      " 30  circuit_id_interlagos      9984 non-null   int64  \n",
      " 31  circuit_id_istanbul        9984 non-null   int64  \n",
      " 32  circuit_id_magny_cours     9984 non-null   int64  \n",
      " 33  circuit_id_marina_bay      9984 non-null   int64  \n",
      " 34  circuit_id_monaco          9984 non-null   int64  \n",
      " 35  circuit_id_monza           9984 non-null   int64  \n",
      " 36  circuit_id_nurburgring     9984 non-null   int64  \n",
      " 37  circuit_id_osterreichring  9984 non-null   int64  \n",
      " 38  circuit_id_red_bull_ring   9984 non-null   int64  \n",
      " 39  circuit_id_rodriguez       9984 non-null   int64  \n",
      " 40  circuit_id_sepang          9984 non-null   int64  \n",
      " 41  circuit_id_shanghai        9984 non-null   int64  \n",
      " 42  circuit_id_silverstone     9984 non-null   int64  \n",
      " 43  circuit_id_sochi           9984 non-null   int64  \n",
      " 44  circuit_id_spa             9984 non-null   int64  \n",
      " 45  circuit_id_suzuka          9984 non-null   int64  \n",
      " 46  circuit_id_valencia        9984 non-null   int64  \n",
      " 47  circuit_id_villeneuve      9984 non-null   int64  \n",
      " 48  circuit_id_yas_marina      9984 non-null   int64  \n",
      " 49  circuit_id_yeongam         9984 non-null   int64  \n",
      " 50  nationality_Australian     9984 non-null   int64  \n",
      " 51  nationality_Austrian       9984 non-null   int64  \n",
      " 52  nationality_Belgian        9984 non-null   int64  \n",
      " 53  nationality_Brazilian      9984 non-null   int64  \n",
      " 54  nationality_British        9984 non-null   int64  \n",
      " 55  nationality_Canadian       9984 non-null   int64  \n",
      " 56  nationality_Dutch          9984 non-null   int64  \n",
      " 57  nationality_Finnish        9984 non-null   int64  \n",
      " 58  nationality_French         9984 non-null   int64  \n",
      " 59  nationality_German         9984 non-null   int64  \n",
      " 60  nationality_Italian        9984 non-null   int64  \n",
      " 61  nationality_Japanese       9984 non-null   int64  \n",
      " 62  nationality_Mexican        9984 non-null   int64  \n",
      " 63  nationality_Russian        9984 non-null   int64  \n",
      " 64  nationality_Spanish        9984 non-null   int64  \n",
      " 65  constructor_arrows         9984 non-null   int64  \n",
      " 66  constructor_bar            9984 non-null   int64  \n",
      " 67  constructor_benetton       9984 non-null   int64  \n",
      " 68  constructor_ferrari        9984 non-null   int64  \n",
      " 69  constructor_footwork       9984 non-null   int64  \n",
      " 70  constructor_force_india    9984 non-null   int64  \n",
      " 71  constructor_jordan         9984 non-null   int64  \n",
      " 72  constructor_ligier         9984 non-null   int64  \n",
      " 73  constructor_mclaren        9984 non-null   int64  \n",
      " 74  constructor_mercedes       9984 non-null   int64  \n",
      " 75  constructor_minardi        9984 non-null   int64  \n",
      " 76  constructor_prost          9984 non-null   int64  \n",
      " 77  constructor_red_bull       9984 non-null   int64  \n",
      " 78  constructor_renault        9984 non-null   int64  \n",
      " 79  constructor_sauber         9984 non-null   int64  \n",
      " 80  constructor_team_lotus     9984 non-null   int64  \n",
      " 81  constructor_toro_rosso     9984 non-null   int64  \n",
      " 82  constructor_toyota         9984 non-null   int64  \n",
      " 83  constructor_tyrrell        9984 non-null   int64  \n",
      " 84  constructor_williams       9984 non-null   int64  \n",
      "dtypes: bool(5), float64(3), int64(76), object(1)\n",
      "memory usage: 6.1+ MB\n"
     ]
    }
   ],
   "source": [
    "data.info()"
   ]
  }
 ],
 "metadata": {
  "kernelspec": {
   "display_name": "Python 3",
   "language": "python",
   "name": "python3"
  },
  "language_info": {
   "codemirror_mode": {
    "name": "ipython",
    "version": 3
   },
   "file_extension": ".py",
   "mimetype": "text/x-python",
   "name": "python",
   "nbconvert_exporter": "python",
   "pygments_lexer": "ipython3",
   "version": "3.8.8"
  }
 },
 "nbformat": 4,
 "nbformat_minor": 4
}
