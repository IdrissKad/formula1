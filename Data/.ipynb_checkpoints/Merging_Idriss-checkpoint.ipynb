{
 "cells": [
  {
   "cell_type": "code",
   "execution_count": 84,
   "metadata": {},
   "outputs": [],
   "source": [
    "import lxml\n",
    "import selenium\n",
    "import pandas as pd\n",
    "import matplotlib.pyplot as plt\n",
    "import seaborn as sns\n",
    "import numpy as np\n",
    "sns.set(rc={'figure.figsize':(20,10)})\n",
    "sns.set_theme()"
   ]
  },
  {
   "cell_type": "code",
   "execution_count": 85,
   "metadata": {},
   "outputs": [],
   "source": [
    "races=pd.read_csv(\"race.csv\")\n",
    "results=pd.read_csv(\"results.csv\")\n",
    "constructor_standings=pd.read_csv(\"constructor_standings.csv\")\n",
    "driver_standings=pd.read_csv(\"driver_standings.csv\")\n",
    "qualifying_results=pd.read_csv(\"qualifying_results.csv\")\n",
    "weather=pd.read_csv(\"weather.csv\")"
   ]
  },
  {
   "cell_type": "code",
   "execution_count": 86,
   "metadata": {},
   "outputs": [],
   "source": [
    "races=races.drop(columns=\"Unnamed: 0\")\n",
    "results=results.drop(columns=\"Unnamed: 0\")\n",
    "constructor_standings=constructor_standings.drop(columns=\"Unnamed: 0\")\n",
    "driver_standings=driver_standings.drop(columns=\"Unnamed: 0\")\n",
    "qualifying_results=qualifying_results.drop(columns=\"Unnamed: 0\")\n",
    "weather=weather.drop(columns=\"Unnamed: 0\")"
   ]
  },
  {
   "cell_type": "code",
   "execution_count": 87,
   "metadata": {},
   "outputs": [],
   "source": [
    "qualifying_results[\"driver_name\"]=qualifying_results[\"driver_name\"].str.split()"
   ]
  },
  {
   "cell_type": "code",
   "execution_count": 88,
   "metadata": {},
   "outputs": [
    {
     "data": {
      "text/plain": [
       "0            Berger\n",
       "1           Martini\n",
       "2                de\n",
       "3             Alesi\n",
       "4             Senna\n",
       "            ...    \n",
       "12069       Russell\n",
       "12070    Fittipaldi\n",
       "12071        Latifi\n",
       "12072         Perez\n",
       "12073     Magnussen\n",
       "Name: driver_name, Length: 12074, dtype: object"
      ]
     },
     "execution_count": 88,
     "metadata": {},
     "output_type": "execute_result"
    }
   ],
   "source": [
    "# on modifie la colonne \"driver_name\" de qualifying_results pour faciliter le merge\n",
    "taille=len(qualifying_results)\n",
    "for i in range(taille):\n",
    "    qualifying_results.iloc[i,1]=qualifying_results.iloc[i,1][1]\n",
    "    \n",
    "qualifying_results[\"driver_name\"]"
   ]
  },
  {
   "cell_type": "code",
   "execution_count": 89,
   "metadata": {},
   "outputs": [],
   "source": [
    "qualifying_results.rename(columns={'driver_name': 'driver'}, inplace=True)\n",
    "qualifying_results[\"driver\"]=qualifying_results[\"driver\"].str.lower()"
   ]
  },
  {
   "cell_type": "code",
   "execution_count": 90,
   "metadata": {},
   "outputs": [],
   "source": [
    "## on merge constructor_standings sur results \n",
    "\n",
    "results_2=results.merge(how=\"left\",on=[\"season\",\"round\",\"constructor\"],right=constructor_standings)\n",
    "results_2.head()\n",
    "results_3=results_2.merge(how=\"left\",on=[\"season\",\"round\",\"driver\"],right=driver_standings)\n",
    "results_3.head(30)\n",
    "results_4=results_3.merge(how=\"left\",on=[\"season\",\"round\",\"driver\"],right=qualifying_results)\n",
    "results_5=results_4.merge(how=\"left\",on=[\"season\",\"round\",\"circuit_id\"],right=weather)"
   ]
  },
  {
   "cell_type": "code",
   "execution_count": 91,
   "metadata": {},
   "outputs": [],
   "source": [
    "results_5=results_5.drop(columns=\"grid_y\")\n",
    "results_5.rename(columns={'grid_x': 'grid'}, inplace=True)\n",
    "df_merged=results_5.copy()"
   ]
  },
  {
   "cell_type": "code",
   "execution_count": 92,
   "metadata": {},
   "outputs": [],
   "source": [
    "df_merged_na=df_merged.isna().copy()"
   ]
  },
  {
   "cell_type": "code",
   "execution_count": 93,
   "metadata": {},
   "outputs": [],
   "source": [
    "df_merged.drop(columns='time', inplace=True)"
   ]
  },
  {
   "cell_type": "code",
   "execution_count": 94,
   "metadata": {},
   "outputs": [],
   "source": [
    "var= ['driver_points', 'driver_wins', 'driver_standings_pos', 'constructor_points', \n",
    "            'constructor_wins' , 'constructor_standings_pos']\n",
    "for variable in var:\n",
    "    df_merged[variable].fillna(0, inplace = True)\n",
    "    df_merged[variable] = df_merged[variable].map(lambda x: int(x))\n",
    "df_merged.dropna(inplace = True )"
   ]
  },
  {
   "cell_type": "code",
   "execution_count": 95,
   "metadata": {},
   "outputs": [],
   "source": [
    "# Ajout de l'âge des pilote\n",
    "df_merged[\"date_of_birth\"]=pd.to_datetime(df_merged[\"date_of_birth\"])\n",
    "df_merged[\"season\"]=pd.to_datetime(df_merged[\"season\"], format=\"%Y\") # conversion en format date\n",
    "df_merged[\"age\"]=round(((df_merged[\"season\"]-df_merged['date_of_birth']).dt.days)/365) #On détermine l'âge du pilote"
   ]
  },
  {
   "cell_type": "code",
   "execution_count": 96,
   "metadata": {},
   "outputs": [
    {
     "data": {
      "text/plain": [
       "0        30.0\n",
       "1        26.0\n",
       "2        32.0\n",
       "3        37.0\n",
       "4        27.0\n",
       "         ... \n",
       "12391    22.0\n",
       "12392    33.0\n",
       "12393    22.0\n",
       "12394    26.0\n",
       "12395    25.0\n",
       "Name: age, Length: 10004, dtype: float64"
      ]
     },
     "execution_count": 96,
     "metadata": {},
     "output_type": "execute_result"
    }
   ],
   "source": [
    "df_merged['age']"
   ]
  },
  {
   "cell_type": "code",
   "execution_count": 97,
   "metadata": {},
   "outputs": [],
   "source": [
    "for col in ['weather_warm', 'weather_cold','weather_dry', 'weather_wet', 'weather_cloudy']:\n",
    "    df_merged[col] = df_merged[col].map(lambda x: bool(x))"
   ]
  },
  {
   "cell_type": "code",
   "execution_count": 98,
   "metadata": {},
   "outputs": [],
   "source": [
    "df_merged['qualifying_time'] = df_merged.qualifying_time.map(lambda x: 0 if str(x) == '00.000' else(float(str(x).split(':')[1]) + (60 * float(str(x).split(':')[0])) if len(x.split(':'))>1 else 0))"
   ]
  },
  {
   "cell_type": "code",
   "execution_count": 99,
   "metadata": {},
   "outputs": [],
   "source": [
    "df_merged = df_merged[df_merged['qualifying_time'] != 0] # On enlève les valeurs manquantes\n",
    "df_merged.sort_values(['season', 'round', 'grid'], inplace = True)\n",
    "df_merged['qualifying_time_diff'] = df_merged.groupby(['season', 'round']).qualifying_time.diff()\n",
    "df_merged['qualifying_time'] = df_merged.groupby(['season', \n",
    "                                                'round']).qualifying_time_diff.cumsum().fillna(0)\n",
    "df_merged.drop('qualifying_time_diff', axis = 1, inplace = True)"
   ]
  },
  {
   "cell_type": "code",
   "execution_count": 100,
   "metadata": {},
   "outputs": [
    {
     "data": {
      "text/plain": [
       "17       0.000\n",
       "6        0.067\n",
       "1        0.744\n",
       "0        0.767\n",
       "3        1.198\n",
       "         ...  \n",
       "12391    0.794\n",
       "12392    1.360\n",
       "12394    2.977\n",
       "12393    2.774\n",
       "12395    3.172\n",
       "Name: qualifying_time, Length: 9984, dtype: float64"
      ]
     },
     "execution_count": 100,
     "metadata": {},
     "output_type": "execute_result"
    }
   ],
   "source": [
    "df_merged['qualifying_time']"
   ]
  },
  {
   "cell_type": "code",
   "execution_count": 101,
   "metadata": {},
   "outputs": [],
   "source": [
    "df_dum = pd.get_dummies(df_merged, columns = ['circuit_id', 'nationality', 'constructor'] )\n",
    "\n",
    "for col in df_dum.columns:\n",
    "    if 'nationality' in col and df_dum[col].sum() < 140: # critère arbitraire pour enlever les colonnes non significatives (pris chez la fille)\n",
    "        df_dum.drop(columns=col,inplace=True)\n",
    "        \n",
    "    elif 'constructor' in col and df_dum[col].sum() < 140: # critère arbitraire pour enlever les colonnes non significatives\n",
    "        df_dum.drop(columns=col,inplace=True)\n",
    "        \n",
    "    elif 'circuit_id' in col and df_dum[col].sum() < 70:  # critère arbitraire pour enlever les colonnes non significatives\n",
    "        df_dum.drop(columns=col,inplace=True)"
   ]
  },
  {
   "cell_type": "code",
   "execution_count": 102,
   "metadata": {},
   "outputs": [],
   "source": [
    "del df_dum['date_of_birth']\n",
    "del df_dum['status']\n",
    "del df_dum['car']\n",
    "del df_dum['weather']"
   ]
  },
  {
   "cell_type": "code",
   "execution_count": 103,
   "metadata": {},
   "outputs": [],
   "source": [
    "df_dum['season']=pd.to_datetime(df_dum['season'])\n",
    "df_dum['season'] = df_dum['season'].dt.year"
   ]
  },
  {
   "cell_type": "code",
   "execution_count": 104,
   "metadata": {},
   "outputs": [],
   "source": [
    "df_dum.to_csv('final_df_merged.csv', index = False)"
   ]
  },
  {
   "cell_type": "code",
   "execution_count": null,
   "metadata": {},
   "outputs": [],
   "source": []
  }
 ],
 "metadata": {
  "kernelspec": {
   "display_name": "Python 3",
   "language": "python",
   "name": "python3"
  },
  "language_info": {
   "codemirror_mode": {
    "name": "ipython",
    "version": 3
   },
   "file_extension": ".py",
   "mimetype": "text/x-python",
   "name": "python",
   "nbconvert_exporter": "python",
   "pygments_lexer": "ipython3",
   "version": "3.8.5"
  }
 },
 "nbformat": 4,
 "nbformat_minor": 4
}
