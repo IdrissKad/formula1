{
 "cells": [
  {
   "cell_type": "code",
   "execution_count": 2,
   "id": "ef254488",
   "metadata": {},
   "outputs": [],
   "source": [
    "import pandas as pd\n",
    "import numpy as np\n",
    "from sklearn.linear_model import LinearRegression\n",
    "from sklearn.model_selection import train_test_split\n",
    "import sklearn.metrics\n",
    "import matplotlib.pyplot as plt\n",
    "import seaborn as sns"
   ]
  },
  {
   "cell_type": "code",
   "execution_count": 4,
   "id": "163d1545",
   "metadata": {},
   "outputs": [],
   "source": [
    "data = pd.read_csv('final_df_merged.csv')\n",
    "df=data.copy()"
   ]
  },
  {
   "cell_type": "code",
   "execution_count": 6,
   "id": "7d47685c",
   "metadata": {
    "scrolled": true
   },
   "outputs": [
    {
     "name": "stdout",
     "output_type": "stream",
     "text": [
      "<class 'pandas.core.frame.DataFrame'>\n",
      "RangeIndex: 9984 entries, 0 to 9983\n",
      "Data columns (total 85 columns):\n",
      " #   Column                     Non-Null Count  Dtype  \n",
      "---  ------                     --------------  -----  \n",
      " 0   season                     9984 non-null   int64  \n",
      " 1   round                      9984 non-null   int64  \n",
      " 2   driver                     9984 non-null   object \n",
      " 3   grid                       9984 non-null   int64  \n",
      " 4   points                     9984 non-null   float64\n",
      " 5   podium                     9984 non-null   int64  \n",
      " 6   constructor_points         9984 non-null   int64  \n",
      " 7   constructor_wins           9984 non-null   int64  \n",
      " 8   constructor_standings_pos  9984 non-null   int64  \n",
      " 9   driver_points              9984 non-null   int64  \n",
      " 10  driver_wins                9984 non-null   int64  \n",
      " 11  driver_standings_pos       9984 non-null   int64  \n",
      " 12  qualifying_time            9984 non-null   float64\n",
      " 13  weather_warm               9984 non-null   bool   \n",
      " 14  weather_cold               9984 non-null   bool   \n",
      " 15  weather_dry                9984 non-null   bool   \n",
      " 16  weather_wet                9984 non-null   bool   \n",
      " 17  weather_cloudy             9984 non-null   bool   \n",
      " 18  age                        9984 non-null   float64\n",
      " 19  circuit_id_adelaide        9984 non-null   int64  \n",
      " 20  circuit_id_albert_park     9984 non-null   int64  \n",
      " 21  circuit_id_americas        9984 non-null   int64  \n",
      " 22  circuit_id_bahrain         9984 non-null   int64  \n",
      " 23  circuit_id_catalunya       9984 non-null   int64  \n",
      " 24  circuit_id_estoril         9984 non-null   int64  \n",
      " 25  circuit_id_galvez          9984 non-null   int64  \n",
      " 26  circuit_id_hockenheimring  9984 non-null   int64  \n",
      " 27  circuit_id_hungaroring     9984 non-null   int64  \n",
      " 28  circuit_id_imola           9984 non-null   int64  \n",
      " 29  circuit_id_indianapolis    9984 non-null   int64  \n",
      " 30  circuit_id_interlagos      9984 non-null   int64  \n",
      " 31  circuit_id_istanbul        9984 non-null   int64  \n",
      " 32  circuit_id_magny_cours     9984 non-null   int64  \n",
      " 33  circuit_id_marina_bay      9984 non-null   int64  \n",
      " 34  circuit_id_monaco          9984 non-null   int64  \n",
      " 35  circuit_id_monza           9984 non-null   int64  \n",
      " 36  circuit_id_nurburgring     9984 non-null   int64  \n",
      " 37  circuit_id_osterreichring  9984 non-null   int64  \n",
      " 38  circuit_id_red_bull_ring   9984 non-null   int64  \n",
      " 39  circuit_id_rodriguez       9984 non-null   int64  \n",
      " 40  circuit_id_sepang          9984 non-null   int64  \n",
      " 41  circuit_id_shanghai        9984 non-null   int64  \n",
      " 42  circuit_id_silverstone     9984 non-null   int64  \n",
      " 43  circuit_id_sochi           9984 non-null   int64  \n",
      " 44  circuit_id_spa             9984 non-null   int64  \n",
      " 45  circuit_id_suzuka          9984 non-null   int64  \n",
      " 46  circuit_id_valencia        9984 non-null   int64  \n",
      " 47  circuit_id_villeneuve      9984 non-null   int64  \n",
      " 48  circuit_id_yas_marina      9984 non-null   int64  \n",
      " 49  circuit_id_yeongam         9984 non-null   int64  \n",
      " 50  nationality_Australian     9984 non-null   int64  \n",
      " 51  nationality_Austrian       9984 non-null   int64  \n",
      " 52  nationality_Belgian        9984 non-null   int64  \n",
      " 53  nationality_Brazilian      9984 non-null   int64  \n",
      " 54  nationality_British        9984 non-null   int64  \n",
      " 55  nationality_Canadian       9984 non-null   int64  \n",
      " 56  nationality_Dutch          9984 non-null   int64  \n",
      " 57  nationality_Finnish        9984 non-null   int64  \n",
      " 58  nationality_French         9984 non-null   int64  \n",
      " 59  nationality_German         9984 non-null   int64  \n",
      " 60  nationality_Italian        9984 non-null   int64  \n",
      " 61  nationality_Japanese       9984 non-null   int64  \n",
      " 62  nationality_Mexican        9984 non-null   int64  \n",
      " 63  nationality_Russian        9984 non-null   int64  \n",
      " 64  nationality_Spanish        9984 non-null   int64  \n",
      " 65  constructor_arrows         9984 non-null   int64  \n",
      " 66  constructor_bar            9984 non-null   int64  \n",
      " 67  constructor_benetton       9984 non-null   int64  \n",
      " 68  constructor_ferrari        9984 non-null   int64  \n",
      " 69  constructor_footwork       9984 non-null   int64  \n",
      " 70  constructor_force_india    9984 non-null   int64  \n",
      " 71  constructor_jordan         9984 non-null   int64  \n",
      " 72  constructor_ligier         9984 non-null   int64  \n",
      " 73  constructor_mclaren        9984 non-null   int64  \n",
      " 74  constructor_mercedes       9984 non-null   int64  \n",
      " 75  constructor_minardi        9984 non-null   int64  \n",
      " 76  constructor_prost          9984 non-null   int64  \n",
      " 77  constructor_red_bull       9984 non-null   int64  \n",
      " 78  constructor_renault        9984 non-null   int64  \n",
      " 79  constructor_sauber         9984 non-null   int64  \n",
      " 80  constructor_team_lotus     9984 non-null   int64  \n",
      " 81  constructor_toro_rosso     9984 non-null   int64  \n",
      " 82  constructor_toyota         9984 non-null   int64  \n",
      " 83  constructor_tyrrell        9984 non-null   int64  \n",
      " 84  constructor_williams       9984 non-null   int64  \n",
      "dtypes: bool(5), float64(3), int64(76), object(1)\n",
      "memory usage: 6.1+ MB\n"
     ]
    }
   ],
   "source": [
    "df.info()\n",
    "df[\"podium\"] = df['podium'].map(lambda x: 1 if x == 1 else 0)\n"
   ]
  },
  {
   "cell_type": "code",
   "execution_count": null,
   "id": "0bc6ea38",
   "metadata": {},
   "outputs": [],
   "source": [
    "# On fait un essai avec ces variables\n",
    "xvars=[\"grid\",\"driver_points\",\"constructor_points\",\"weather_warm\",\"weather_cold\",\"weather_dry\",\"weather_wet\",\"weather_cloudy\"]"
   ]
  }
 ],
 "metadata": {
  "kernelspec": {
   "display_name": "Python 3",
   "language": "python",
   "name": "python3"
  },
  "language_info": {
   "codemirror_mode": {
    "name": "ipython",
    "version": 3
   },
   "file_extension": ".py",
   "mimetype": "text/x-python",
   "name": "python",
   "nbconvert_exporter": "python",
   "pygments_lexer": "ipython3",
   "version": "3.8.8"
  }
 },
 "nbformat": 4,
 "nbformat_minor": 5
}
