{
 "cells": [
  {
   "cell_type": "code",
   "execution_count": 1,
   "id": "ba8de8f2",
   "metadata": {},
   "outputs": [],
   "source": [
    "import lxml\n",
    "import selenium\n",
    "import pandas as pd\n",
    "import matplotlib.pyplot as plt\n",
    "import seaborn as sns\n",
    "import numpy as np\n",
    "sns.set(rc={'figure.figsize':(20,10)})\n",
    "sns.set_theme()"
   ]
  },
  {
   "cell_type": "code",
   "execution_count": 2,
   "id": "cff534f2",
   "metadata": {},
   "outputs": [],
   "source": [
    "races=pd.read_csv(\"/Users/hurtadoemmanuel/Desktop/ensae 2A/python/formula1/Data/race.csv\")\n",
    "results=pd.read_csv(\"/Users/hurtadoemmanuel/Desktop/ensae 2A/python/formula1/Data/results.csv\")\n",
    "constructor_standings=pd.read_csv(\"/Users/hurtadoemmanuel/Desktop/ensae 2A/python/formula1/Data/constructor_standings.csv\")\n",
    "driver_standings=pd.read_csv(\"/Users/hurtadoemmanuel/Desktop/ensae 2A/python/formula1/Data/driver_standings.csv\")\n",
    "qualifying_results=pd.read_csv(\"/Users/hurtadoemmanuel/Desktop/ensae 2A/python/formula1/Data/qualifying_results.csv\")\n",
    "weather=pd.read_csv(\"/Users/hurtadoemmanuel/Desktop/ensae 2A/python/formula1/Data/weather.csv\")\n"
   ]
  },
  {
   "cell_type": "markdown",
   "id": "824bdf06",
   "metadata": {},
   "source": [
    "## Préparation du merge des dataframes "
   ]
  },
  {
   "cell_type": "code",
   "execution_count": 3,
   "id": "f0fba7e8",
   "metadata": {},
   "outputs": [],
   "source": [
    "# On retire les colonnes en \"Unnamed 0\"\n",
    "\n",
    "races=races.drop(columns=\"Unnamed: 0\")\n",
    "results=results.drop(columns=\"Unnamed: 0\")\n",
    "constructor_standings=constructor_standings.drop(columns=\"Unnamed: 0\")\n",
    "driver_standings=driver_standings.drop(columns=\"Unnamed: 0\")\n",
    "qualifying_results=qualifying_results.drop(columns=\"Unnamed: 0\")\n",
    "weather=weather.drop(columns=\"Unnamed: 0\")"
   ]
  },
  {
   "cell_type": "code",
   "execution_count": 9,
   "id": "b05f2427",
   "metadata": {},
   "outputs": [],
   "source": [
    "# On modifie la colonne driver_name de \"qualifying_results\" pour pouvoir par la suite effectuer le merge\n",
    "\n",
    "qualifying_results[\"driver_name\"]=qualifying_results[\"driver_name\"].str.split()\n",
    "\n",
    "taille=len(qualifying_results)\n",
    "for i in range(taille):\n",
    "    qualifying_results.iloc[i,1]=qualifying_results.iloc[i,1][1]\n",
    "\n",
    "qualifying_results.rename(columns={'driver_name': 'driver'}, inplace=True)\n",
    "qualifying_results[\"driver\"]=qualifying_results[\"driver\"].str.lower()"
   ]
  },
  {
   "cell_type": "markdown",
   "id": "9bf57cd7",
   "metadata": {},
   "source": [
    "## Merge des dataframes "
   ]
  },
  {
   "cell_type": "markdown",
   "id": "457f66a2",
   "metadata": {},
   "source": [
    "Nous allons merger les dataframes à partir du dataframe results car ce dernier est selon nous le plus complet. Nous allons ainsi merger les dataframes les uns après les autres sur des clés uniques et communes avec la méthode \"left\""
   ]
  },
  {
   "cell_type": "code",
   "execution_count": 12,
   "id": "a9d851a1",
   "metadata": {},
   "outputs": [],
   "source": [
    "# On merge les dataframes\n",
    "results_2=results.merge(how=\"left\",on=[\"season\",\"round\",\"constructor\"],right=constructor_standings)\n",
    "results_2.head()\n",
    "results_3=results_2.merge(how=\"left\",on=[\"season\",\"round\",\"driver\"],right=driver_standings)\n",
    "results_3.head(30)\n",
    "results_4=results_3.merge(how=\"left\",on=[\"season\",\"round\",\"driver\"],right=qualifying_results)\n",
    "results_5=results_4.merge(how=\"left\",on=[\"season\",\"round\",\"circuit_id\"],right=weather)"
   ]
  },
  {
   "cell_type": "code",
   "execution_count": 14,
   "id": "6c0cd73c",
   "metadata": {},
   "outputs": [],
   "source": [
    "# Nous renommons quelques variables et nous conservons notre dataframe mergé sous le nom de \"df_merged\"\n",
    "results_5=results_5.drop(columns=\"grid_y\")\n",
    "results_5.rename(columns={'grid_x': 'grid'}, inplace=True)\n",
    "df_merged=results_5.copy()"
   ]
  },
  {
   "cell_type": "markdown",
   "id": "6d363866",
   "metadata": {},
   "source": [
    "On dispose maintenant d'un dataframe contenant toutes nos metrics: df_merged: "
   ]
  },
  {
   "cell_type": "code",
   "execution_count": 114,
   "id": "67bf074b",
   "metadata": {},
   "outputs": [
    {
     "name": "stdout",
     "output_type": "stream",
     "text": [
      "<class 'pandas.core.frame.DataFrame'>\n",
      "Int64Index: 12399 entries, 0 to 12398\n",
      "Data columns (total 26 columns):\n",
      " #   Column                     Non-Null Count  Dtype  \n",
      "---  ------                     --------------  -----  \n",
      " 0   season                     12399 non-null  int64  \n",
      " 1   round                      12399 non-null  int64  \n",
      " 2   circuit_id                 12399 non-null  object \n",
      " 3   driver                     12399 non-null  object \n",
      " 4   date_of_birth              12399 non-null  object \n",
      " 5   nationality                12399 non-null  object \n",
      " 6   constructor                12399 non-null  object \n",
      " 7   grid                       12399 non-null  int64  \n",
      " 8   time                       4464 non-null   float64\n",
      " 9   status                     12399 non-null  object \n",
      " 10  points                     12394 non-null  float64\n",
      " 11  podium                     12399 non-null  int64  \n",
      " 12  constructor_points         12213 non-null  float64\n",
      " 13  constructor_wins           12213 non-null  float64\n",
      " 14  constructor_standings_pos  12213 non-null  float64\n",
      " 15  driver_points              11794 non-null  float64\n",
      " 16  driver_wins                11794 non-null  float64\n",
      " 17  driver_standings_pos       11794 non-null  float64\n",
      " 18  car                        10219 non-null  object \n",
      " 19  qualifying_time            10009 non-null  object \n",
      " 20  weather                    12399 non-null  object \n",
      " 21  weather_warm               12399 non-null  int64  \n",
      " 22  weather_cold               12399 non-null  int64  \n",
      " 23  weather_dry                12399 non-null  int64  \n",
      " 24  weather_wet                12399 non-null  int64  \n",
      " 25  weather_cloudy             12399 non-null  int64  \n",
      "dtypes: float64(8), int64(9), object(9)\n",
      "memory usage: 2.6+ MB\n"
     ]
    }
   ],
   "source": [
    "df_merged.info()"
   ]
  },
  {
   "cell_type": "code",
   "execution_count": 15,
   "id": "b379547f",
   "metadata": {
    "scrolled": false
   },
   "outputs": [
    {
     "data": {
      "text/plain": [
       "<AxesSubplot:>"
      ]
     },
     "execution_count": 15,
     "metadata": {},
     "output_type": "execute_result"
    },
    {
     "data": {
      "image/png": "[encoded data removed]",
      "text/plain": [
       "<Figure size 1440x720 with 2 Axes>"
      ]
     },
     "metadata": {},
     "output_type": "display_data"
    }
   ],
   "source": [
    "# Visualisation rapide des valeurs manquantes par variable\n",
    "df_merged_na=df_merged.isna().copy()\n",
    "sns.heatmap(df_merged_na)"
   ]
  },
  {
   "cell_type": "markdown",
   "id": "e57a5bbb",
   "metadata": {},
   "source": [
    "Comme vu précédemment il y a trop de valeurs manquantes pour 'time' et on va devoir gérer quelques valeurs manquantes pour 'qualifying_time', 'driver_wins, 'driver_points', driver_standings_pos notamment.   "
   ]
  },
  {
   "cell_type": "markdown",
   "id": "714a990a",
   "metadata": {},
   "source": [
    "## Gestion des valeurs manquantes"
   ]
  },
  {
   "cell_type": "markdown",
   "id": "6e819d4b",
   "metadata": {},
   "source": [
    "On va supprimer la colonne 'time' : trop de valeurs manquantes et metrics pas inutile pour la prédiction car c'est une données ex-course.\n",
    "On remplace certaines valeurs manquantes par des 0 (Voir ci-dessous les catégories importantes) ce qui est très simple à implémenter et qui est plausibles pour ces valeurs manquantes. \n",
    "On supprime ensuite toutes les lignes contenant encore des valeurs manquantes."
   ]
  },
  {
   "cell_type": "code",
   "execution_count": 16,
   "id": "fc2fe8f0",
   "metadata": {},
   "outputs": [],
   "source": [
    "df_merged.drop(columns='time', inplace=True)"
   ]
  },
  {
   "cell_type": "code",
   "execution_count": 17,
   "id": "d1abe2c3",
   "metadata": {},
   "outputs": [],
   "source": [
    "x_var= ['driver_points', 'driver_wins', 'driver_standings_pos', 'constructor_points', \n",
    "            'constructor_wins' , 'constructor_standings_pos']\n",
    "for var in x_var:\n",
    "    df_merged[variable].fillna(0, inplace = True) # On remplit les valeurs manquantes par des 0\n",
    "    df_merged[variable] = df_merged[variable].map(lambda x: int(x)) # conversion des valeurs en entier.\n"
   ]
  },
  {
   "cell_type": "code",
   "execution_count": 119,
   "id": "aa8f8665",
   "metadata": {},
   "outputs": [],
   "source": [
    "df_merged.dropna(inplace = True )"
   ]
  },
  {
   "cell_type": "markdown",
   "id": "f6883494",
   "metadata": {},
   "source": [
    "## Création de nouvelle variables "
   ]
  },
  {
   "cell_type": "markdown",
   "id": "d27bbc6f",
   "metadata": {},
   "source": [
    "Nous allons maintenant créer des variables qui ne sont pas directement accesssibles dans nos données et qui vont sans nous permettre de prédire le vainqueur de la course. Nous allons ainsi créer la variables \"age\" qui correspondra à l'âge (à l'année prêt) des pilotes, mais également la variables \"qualifying_time\" contenant la différence cumulée des temps de qualification par rapport au pilote en pôle position. "
   ]
  },
  {
   "cell_type": "code",
   "execution_count": 120,
   "id": "55281fc9",
   "metadata": {},
   "outputs": [
    {
     "data": {
      "text/html": [
       "<div>\n",
       "<style scoped>\n",
       "    .dataframe tbody tr th:only-of-type {\n",
       "        vertical-align: middle;\n",
       "    }\n",
       "\n",
       "    .dataframe tbody tr th {\n",
       "        vertical-align: top;\n",
       "    }\n",
       "\n",
       "    .dataframe thead th {\n",
       "        text-align: right;\n",
       "    }\n",
       "</style>\n",
       "<table border=\"1\" class=\"dataframe\">\n",
       "  <thead>\n",
       "    <tr style=\"text-align: right;\">\n",
       "      <th></th>\n",
       "      <th>season</th>\n",
       "      <th>round</th>\n",
       "      <th>circuit_id</th>\n",
       "      <th>driver</th>\n",
       "      <th>date_of_birth</th>\n",
       "      <th>nationality</th>\n",
       "      <th>constructor</th>\n",
       "      <th>grid</th>\n",
       "      <th>status</th>\n",
       "      <th>points</th>\n",
       "      <th>...</th>\n",
       "      <th>driver_wins</th>\n",
       "      <th>driver_standings_pos</th>\n",
       "      <th>car</th>\n",
       "      <th>qualifying_time</th>\n",
       "      <th>weather</th>\n",
       "      <th>weather_warm</th>\n",
       "      <th>weather_cold</th>\n",
       "      <th>weather_dry</th>\n",
       "      <th>weather_wet</th>\n",
       "      <th>weather_cloudy</th>\n",
       "    </tr>\n",
       "  </thead>\n",
       "  <tbody>\n",
       "    <tr>\n",
       "      <th>0</th>\n",
       "      <td>1990</td>\n",
       "      <td>1</td>\n",
       "      <td>phoenix</td>\n",
       "      <td>senna</td>\n",
       "      <td>1960-03-21</td>\n",
       "      <td>Brazilian</td>\n",
       "      <td>mclaren</td>\n",
       "      <td>5</td>\n",
       "      <td>Finished</td>\n",
       "      <td>9.0</td>\n",
       "      <td>...</td>\n",
       "      <td>0</td>\n",
       "      <td>0</td>\n",
       "      <td>McLaren Honda</td>\n",
       "      <td>1:29.431</td>\n",
       "      <td>Cloudy and cool with temperatures reaching up ...</td>\n",
       "      <td>0</td>\n",
       "      <td>1</td>\n",
       "      <td>0</td>\n",
       "      <td>0</td>\n",
       "      <td>1</td>\n",
       "    </tr>\n",
       "    <tr>\n",
       "      <th>1</th>\n",
       "      <td>1990</td>\n",
       "      <td>1</td>\n",
       "      <td>phoenix</td>\n",
       "      <td>alesi</td>\n",
       "      <td>1964-06-11</td>\n",
       "      <td>French</td>\n",
       "      <td>tyrrell</td>\n",
       "      <td>4</td>\n",
       "      <td>Finished</td>\n",
       "      <td>6.0</td>\n",
       "      <td>...</td>\n",
       "      <td>0</td>\n",
       "      <td>0</td>\n",
       "      <td>Tyrrell Ford</td>\n",
       "      <td>1:29.408</td>\n",
       "      <td>Cloudy and cool with temperatures reaching up ...</td>\n",
       "      <td>0</td>\n",
       "      <td>1</td>\n",
       "      <td>0</td>\n",
       "      <td>0</td>\n",
       "      <td>1</td>\n",
       "    </tr>\n",
       "    <tr>\n",
       "      <th>2</th>\n",
       "      <td>1990</td>\n",
       "      <td>1</td>\n",
       "      <td>phoenix</td>\n",
       "      <td>boutsen</td>\n",
       "      <td>1957-07-13</td>\n",
       "      <td>Belgian</td>\n",
       "      <td>williams</td>\n",
       "      <td>9</td>\n",
       "      <td>Finished</td>\n",
       "      <td>4.0</td>\n",
       "      <td>...</td>\n",
       "      <td>0</td>\n",
       "      <td>0</td>\n",
       "      <td>Williams Renault</td>\n",
       "      <td>1:30.059</td>\n",
       "      <td>Cloudy and cool with temperatures reaching up ...</td>\n",
       "      <td>0</td>\n",
       "      <td>1</td>\n",
       "      <td>0</td>\n",
       "      <td>0</td>\n",
       "      <td>1</td>\n",
       "    </tr>\n",
       "    <tr>\n",
       "      <th>3</th>\n",
       "      <td>1990</td>\n",
       "      <td>1</td>\n",
       "      <td>phoenix</td>\n",
       "      <td>piquet</td>\n",
       "      <td>1952-08-17</td>\n",
       "      <td>Brazilian</td>\n",
       "      <td>benetton</td>\n",
       "      <td>6</td>\n",
       "      <td>Finished</td>\n",
       "      <td>3.0</td>\n",
       "      <td>...</td>\n",
       "      <td>0</td>\n",
       "      <td>0</td>\n",
       "      <td>Benetton Ford</td>\n",
       "      <td>1:29.862</td>\n",
       "      <td>Cloudy and cool with temperatures reaching up ...</td>\n",
       "      <td>0</td>\n",
       "      <td>1</td>\n",
       "      <td>0</td>\n",
       "      <td>0</td>\n",
       "      <td>1</td>\n",
       "    </tr>\n",
       "    <tr>\n",
       "      <th>4</th>\n",
       "      <td>1990</td>\n",
       "      <td>1</td>\n",
       "      <td>phoenix</td>\n",
       "      <td>modena</td>\n",
       "      <td>1963-05-12</td>\n",
       "      <td>Italian</td>\n",
       "      <td>brabham</td>\n",
       "      <td>10</td>\n",
       "      <td>Finished</td>\n",
       "      <td>2.0</td>\n",
       "      <td>...</td>\n",
       "      <td>0</td>\n",
       "      <td>0</td>\n",
       "      <td>Brabham Judd</td>\n",
       "      <td>1:30.127</td>\n",
       "      <td>Cloudy and cool with temperatures reaching up ...</td>\n",
       "      <td>0</td>\n",
       "      <td>1</td>\n",
       "      <td>0</td>\n",
       "      <td>0</td>\n",
       "      <td>1</td>\n",
       "    </tr>\n",
       "  </tbody>\n",
       "</table>\n",
       "<p>5 rows × 25 columns</p>\n",
       "</div>"
      ],
      "text/plain": [
       "   season  round circuit_id   driver date_of_birth nationality constructor  \\\n",
       "0    1990      1    phoenix    senna    1960-03-21   Brazilian     mclaren   \n",
       "1    1990      1    phoenix    alesi    1964-06-11      French     tyrrell   \n",
       "2    1990      1    phoenix  boutsen    1957-07-13     Belgian    williams   \n",
       "3    1990      1    phoenix   piquet    1952-08-17   Brazilian    benetton   \n",
       "4    1990      1    phoenix   modena    1963-05-12     Italian     brabham   \n",
       "\n",
       "   grid    status  points  ...  driver_wins  driver_standings_pos  \\\n",
       "0     5  Finished     9.0  ...            0                     0   \n",
       "1     4  Finished     6.0  ...            0                     0   \n",
       "2     9  Finished     4.0  ...            0                     0   \n",
       "3     6  Finished     3.0  ...            0                     0   \n",
       "4    10  Finished     2.0  ...            0                     0   \n",
       "\n",
       "                car  qualifying_time  \\\n",
       "0     McLaren Honda         1:29.431   \n",
       "1      Tyrrell Ford         1:29.408   \n",
       "2  Williams Renault         1:30.059   \n",
       "3     Benetton Ford         1:29.862   \n",
       "4      Brabham Judd         1:30.127   \n",
       "\n",
       "                                             weather  weather_warm  \\\n",
       "0  Cloudy and cool with temperatures reaching up ...             0   \n",
       "1  Cloudy and cool with temperatures reaching up ...             0   \n",
       "2  Cloudy and cool with temperatures reaching up ...             0   \n",
       "3  Cloudy and cool with temperatures reaching up ...             0   \n",
       "4  Cloudy and cool with temperatures reaching up ...             0   \n",
       "\n",
       "   weather_cold weather_dry weather_wet weather_cloudy  \n",
       "0             1           0           0              1  \n",
       "1             1           0           0              1  \n",
       "2             1           0           0              1  \n",
       "3             1           0           0              1  \n",
       "4             1           0           0              1  \n",
       "\n",
       "[5 rows x 25 columns]"
      ]
     },
     "execution_count": 120,
     "metadata": {},
     "output_type": "execute_result"
    }
   ],
   "source": [
    "df_merged.head()"
   ]
  },
  {
   "cell_type": "code",
   "execution_count": 18,
   "id": "8da02ae7",
   "metadata": {},
   "outputs": [],
   "source": [
    "# Ajout de l'âge des pilote\n",
    "df_merged[\"date_of_birth\"]=pd.to_datetime(df_merged[\"date_of_birth\"])\n",
    "df_merged[\"season\"]=pd.to_datetime(df_merged[\"season\"], format=\"%Y\") # conversion en format date\n",
    "df_merged[\"age\"]=round(((df_merged[\"season\"]-df_merged['date_of_birth']).dt.days)/365) #On détermine l'âge du pilote à l'année prêt \n"
   ]
  },
  {
   "cell_type": "code",
   "execution_count": 21,
   "id": "d2af3dd3",
   "metadata": {
    "scrolled": true
   },
   "outputs": [
    {
     "ename": "AttributeError",
     "evalue": "'float' object has no attribute 'split'",
     "output_type": "error",
     "traceback": [
      "\u001b[0;31m---------------------------------------------------------------------------\u001b[0m",
      "\u001b[0;31mAttributeError\u001b[0m                            Traceback (most recent call last)",
      "\u001b[0;32m<ipython-input-21-17f4da289cbe>\u001b[0m in \u001b[0;36m<module>\u001b[0;34m\u001b[0m\n\u001b[1;32m      1\u001b[0m \u001b[0;31m# Ajout de la différence du temps de qualification avec le premier sur la grille\u001b[0m\u001b[0;34m\u001b[0m\u001b[0;34m\u001b[0m\u001b[0;34m\u001b[0m\u001b[0m\n\u001b[0;32m----> 2\u001b[0;31m \u001b[0mdf_merged\u001b[0m\u001b[0;34m[\u001b[0m\u001b[0;34m'qualifying_time'\u001b[0m\u001b[0;34m]\u001b[0m \u001b[0;34m=\u001b[0m \u001b[0mdf_merged\u001b[0m\u001b[0;34m.\u001b[0m\u001b[0mqualifying_time\u001b[0m\u001b[0;34m.\u001b[0m\u001b[0mmap\u001b[0m\u001b[0;34m(\u001b[0m\u001b[0;32mlambda\u001b[0m \u001b[0mx\u001b[0m\u001b[0;34m:\u001b[0m \u001b[0;36m0\u001b[0m \u001b[0;32mif\u001b[0m \u001b[0mstr\u001b[0m\u001b[0;34m(\u001b[0m\u001b[0mx\u001b[0m\u001b[0;34m)\u001b[0m \u001b[0;34m==\u001b[0m \u001b[0;34m'00.000'\u001b[0m \u001b[0;32melse\u001b[0m\u001b[0;34m(\u001b[0m\u001b[0mfloat\u001b[0m\u001b[0;34m(\u001b[0m\u001b[0mstr\u001b[0m\u001b[0;34m(\u001b[0m\u001b[0mx\u001b[0m\u001b[0;34m)\u001b[0m\u001b[0;34m.\u001b[0m\u001b[0msplit\u001b[0m\u001b[0;34m(\u001b[0m\u001b[0;34m':'\u001b[0m\u001b[0;34m)\u001b[0m\u001b[0;34m[\u001b[0m\u001b[0;36m1\u001b[0m\u001b[0;34m]\u001b[0m\u001b[0;34m)\u001b[0m \u001b[0;34m+\u001b[0m \u001b[0;34m(\u001b[0m\u001b[0;36m60\u001b[0m \u001b[0;34m*\u001b[0m \u001b[0mfloat\u001b[0m\u001b[0;34m(\u001b[0m\u001b[0mstr\u001b[0m\u001b[0;34m(\u001b[0m\u001b[0mx\u001b[0m\u001b[0;34m)\u001b[0m\u001b[0;34m.\u001b[0m\u001b[0msplit\u001b[0m\u001b[0;34m(\u001b[0m\u001b[0;34m':'\u001b[0m\u001b[0;34m)\u001b[0m\u001b[0;34m[\u001b[0m\u001b[0;36m0\u001b[0m\u001b[0;34m]\u001b[0m\u001b[0;34m)\u001b[0m\u001b[0;34m)\u001b[0m \u001b[0;32mif\u001b[0m \u001b[0mlen\u001b[0m\u001b[0;34m(\u001b[0m\u001b[0mx\u001b[0m\u001b[0;34m.\u001b[0m\u001b[0msplit\u001b[0m\u001b[0;34m(\u001b[0m\u001b[0;34m':'\u001b[0m\u001b[0;34m)\u001b[0m\u001b[0;34m)\u001b[0m\u001b[0;34m>\u001b[0m\u001b[0;36m1\u001b[0m \u001b[0;32melse\u001b[0m \u001b[0;36m0\u001b[0m\u001b[0;34m)\u001b[0m\u001b[0;34m)\u001b[0m\u001b[0;34m\u001b[0m\u001b[0;34m\u001b[0m\u001b[0m\n\u001b[0m\u001b[1;32m      3\u001b[0m \u001b[0mdf_merged\u001b[0m \u001b[0;34m=\u001b[0m \u001b[0mdf_merged\u001b[0m\u001b[0;34m[\u001b[0m\u001b[0mdf_merged\u001b[0m\u001b[0;34m[\u001b[0m\u001b[0;34m'qualifying_time'\u001b[0m\u001b[0;34m]\u001b[0m \u001b[0;34m!=\u001b[0m \u001b[0;36m0\u001b[0m\u001b[0;34m]\u001b[0m \u001b[0;31m# On enlève les valeurs manquantes\u001b[0m\u001b[0;34m\u001b[0m\u001b[0;34m\u001b[0m\u001b[0m\n\u001b[1;32m      4\u001b[0m \u001b[0mdf_merged\u001b[0m\u001b[0;34m.\u001b[0m\u001b[0msort_values\u001b[0m\u001b[0;34m(\u001b[0m\u001b[0;34m[\u001b[0m\u001b[0;34m'season'\u001b[0m\u001b[0;34m,\u001b[0m \u001b[0;34m'round'\u001b[0m\u001b[0;34m,\u001b[0m \u001b[0;34m'grid'\u001b[0m\u001b[0;34m]\u001b[0m\u001b[0;34m,\u001b[0m \u001b[0minplace\u001b[0m \u001b[0;34m=\u001b[0m \u001b[0;32mTrue\u001b[0m\u001b[0;34m)\u001b[0m\u001b[0;34m\u001b[0m\u001b[0;34m\u001b[0m\u001b[0m\n\u001b[1;32m      5\u001b[0m \u001b[0mdf_merged\u001b[0m\u001b[0;34m[\u001b[0m\u001b[0;34m'qualifying_time_diff'\u001b[0m\u001b[0;34m]\u001b[0m \u001b[0;34m=\u001b[0m \u001b[0mdf_merged\u001b[0m\u001b[0;34m.\u001b[0m\u001b[0mgroupby\u001b[0m\u001b[0;34m(\u001b[0m\u001b[0;34m[\u001b[0m\u001b[0;34m'season'\u001b[0m\u001b[0;34m,\u001b[0m \u001b[0;34m'round'\u001b[0m\u001b[0;34m]\u001b[0m\u001b[0;34m)\u001b[0m\u001b[0;34m.\u001b[0m\u001b[0mqualifying_time\u001b[0m\u001b[0;34m.\u001b[0m\u001b[0mdiff\u001b[0m\u001b[0;34m(\u001b[0m\u001b[0;34m)\u001b[0m\u001b[0;34m\u001b[0m\u001b[0;34m\u001b[0m\u001b[0m\n",
      "\u001b[0;32m~/opt/anaconda3/lib/python3.8/site-packages/pandas/core/series.py\u001b[0m in \u001b[0;36mmap\u001b[0;34m(self, arg, na_action)\u001b[0m\n\u001b[1;32m   4159\u001b[0m         \u001b[0mdtype\u001b[0m\u001b[0;34m:\u001b[0m \u001b[0mobject\u001b[0m\u001b[0;34m\u001b[0m\u001b[0;34m\u001b[0m\u001b[0m\n\u001b[1;32m   4160\u001b[0m         \"\"\"\n\u001b[0;32m-> 4161\u001b[0;31m         \u001b[0mnew_values\u001b[0m \u001b[0;34m=\u001b[0m \u001b[0msuper\u001b[0m\u001b[0;34m(\u001b[0m\u001b[0;34m)\u001b[0m\u001b[0;34m.\u001b[0m\u001b[0m_map_values\u001b[0m\u001b[0;34m(\u001b[0m\u001b[0marg\u001b[0m\u001b[0;34m,\u001b[0m \u001b[0mna_action\u001b[0m\u001b[0;34m=\u001b[0m\u001b[0mna_action\u001b[0m\u001b[0;34m)\u001b[0m\u001b[0;34m\u001b[0m\u001b[0;34m\u001b[0m\u001b[0m\n\u001b[0m\u001b[1;32m   4162\u001b[0m         return self._constructor(new_values, index=self.index).__finalize__(\n\u001b[1;32m   4163\u001b[0m             \u001b[0mself\u001b[0m\u001b[0;34m,\u001b[0m \u001b[0mmethod\u001b[0m\u001b[0;34m=\u001b[0m\u001b[0;34m\"map\"\u001b[0m\u001b[0;34m\u001b[0m\u001b[0;34m\u001b[0m\u001b[0m\n",
      "\u001b[0;32m~/opt/anaconda3/lib/python3.8/site-packages/pandas/core/base.py\u001b[0m in \u001b[0;36m_map_values\u001b[0;34m(self, mapper, na_action)\u001b[0m\n\u001b[1;32m    868\u001b[0m \u001b[0;34m\u001b[0m\u001b[0m\n\u001b[1;32m    869\u001b[0m         \u001b[0;31m# mapper is a function\u001b[0m\u001b[0;34m\u001b[0m\u001b[0;34m\u001b[0m\u001b[0;34m\u001b[0m\u001b[0m\n\u001b[0;32m--> 870\u001b[0;31m         \u001b[0mnew_values\u001b[0m \u001b[0;34m=\u001b[0m \u001b[0mmap_f\u001b[0m\u001b[0;34m(\u001b[0m\u001b[0mvalues\u001b[0m\u001b[0;34m,\u001b[0m \u001b[0mmapper\u001b[0m\u001b[0;34m)\u001b[0m\u001b[0;34m\u001b[0m\u001b[0;34m\u001b[0m\u001b[0m\n\u001b[0m\u001b[1;32m    871\u001b[0m \u001b[0;34m\u001b[0m\u001b[0m\n\u001b[1;32m    872\u001b[0m         \u001b[0;32mreturn\u001b[0m \u001b[0mnew_values\u001b[0m\u001b[0;34m\u001b[0m\u001b[0;34m\u001b[0m\u001b[0m\n",
      "\u001b[0;32m~/opt/anaconda3/lib/python3.8/site-packages/pandas/_libs/lib.pyx\u001b[0m in \u001b[0;36mpandas._libs.lib.map_infer\u001b[0;34m()\u001b[0m\n",
      "\u001b[0;32m<ipython-input-21-17f4da289cbe>\u001b[0m in \u001b[0;36m<lambda>\u001b[0;34m(x)\u001b[0m\n\u001b[1;32m      1\u001b[0m \u001b[0;31m# Ajout de la différence du temps de qualification avec le premier sur la grille\u001b[0m\u001b[0;34m\u001b[0m\u001b[0;34m\u001b[0m\u001b[0;34m\u001b[0m\u001b[0m\n\u001b[0;32m----> 2\u001b[0;31m \u001b[0mdf_merged\u001b[0m\u001b[0;34m[\u001b[0m\u001b[0;34m'qualifying_time'\u001b[0m\u001b[0;34m]\u001b[0m \u001b[0;34m=\u001b[0m \u001b[0mdf_merged\u001b[0m\u001b[0;34m.\u001b[0m\u001b[0mqualifying_time\u001b[0m\u001b[0;34m.\u001b[0m\u001b[0mmap\u001b[0m\u001b[0;34m(\u001b[0m\u001b[0;32mlambda\u001b[0m \u001b[0mx\u001b[0m\u001b[0;34m:\u001b[0m \u001b[0;36m0\u001b[0m \u001b[0;32mif\u001b[0m \u001b[0mstr\u001b[0m\u001b[0;34m(\u001b[0m\u001b[0mx\u001b[0m\u001b[0;34m)\u001b[0m \u001b[0;34m==\u001b[0m \u001b[0;34m'00.000'\u001b[0m \u001b[0;32melse\u001b[0m\u001b[0;34m(\u001b[0m\u001b[0mfloat\u001b[0m\u001b[0;34m(\u001b[0m\u001b[0mstr\u001b[0m\u001b[0;34m(\u001b[0m\u001b[0mx\u001b[0m\u001b[0;34m)\u001b[0m\u001b[0;34m.\u001b[0m\u001b[0msplit\u001b[0m\u001b[0;34m(\u001b[0m\u001b[0;34m':'\u001b[0m\u001b[0;34m)\u001b[0m\u001b[0;34m[\u001b[0m\u001b[0;36m1\u001b[0m\u001b[0;34m]\u001b[0m\u001b[0;34m)\u001b[0m \u001b[0;34m+\u001b[0m \u001b[0;34m(\u001b[0m\u001b[0;36m60\u001b[0m \u001b[0;34m*\u001b[0m \u001b[0mfloat\u001b[0m\u001b[0;34m(\u001b[0m\u001b[0mstr\u001b[0m\u001b[0;34m(\u001b[0m\u001b[0mx\u001b[0m\u001b[0;34m)\u001b[0m\u001b[0;34m.\u001b[0m\u001b[0msplit\u001b[0m\u001b[0;34m(\u001b[0m\u001b[0;34m':'\u001b[0m\u001b[0;34m)\u001b[0m\u001b[0;34m[\u001b[0m\u001b[0;36m0\u001b[0m\u001b[0;34m]\u001b[0m\u001b[0;34m)\u001b[0m\u001b[0;34m)\u001b[0m \u001b[0;32mif\u001b[0m \u001b[0mlen\u001b[0m\u001b[0;34m(\u001b[0m\u001b[0mx\u001b[0m\u001b[0;34m.\u001b[0m\u001b[0msplit\u001b[0m\u001b[0;34m(\u001b[0m\u001b[0;34m':'\u001b[0m\u001b[0;34m)\u001b[0m\u001b[0;34m)\u001b[0m\u001b[0;34m>\u001b[0m\u001b[0;36m1\u001b[0m \u001b[0;32melse\u001b[0m \u001b[0;36m0\u001b[0m\u001b[0;34m)\u001b[0m\u001b[0;34m)\u001b[0m\u001b[0;34m\u001b[0m\u001b[0;34m\u001b[0m\u001b[0m\n\u001b[0m\u001b[1;32m      3\u001b[0m \u001b[0mdf_merged\u001b[0m \u001b[0;34m=\u001b[0m \u001b[0mdf_merged\u001b[0m\u001b[0;34m[\u001b[0m\u001b[0mdf_merged\u001b[0m\u001b[0;34m[\u001b[0m\u001b[0;34m'qualifying_time'\u001b[0m\u001b[0;34m]\u001b[0m \u001b[0;34m!=\u001b[0m \u001b[0;36m0\u001b[0m\u001b[0;34m]\u001b[0m \u001b[0;31m# On enlève les valeurs manquantes\u001b[0m\u001b[0;34m\u001b[0m\u001b[0;34m\u001b[0m\u001b[0m\n\u001b[1;32m      4\u001b[0m \u001b[0mdf_merged\u001b[0m\u001b[0;34m.\u001b[0m\u001b[0msort_values\u001b[0m\u001b[0;34m(\u001b[0m\u001b[0;34m[\u001b[0m\u001b[0;34m'season'\u001b[0m\u001b[0;34m,\u001b[0m \u001b[0;34m'round'\u001b[0m\u001b[0;34m,\u001b[0m \u001b[0;34m'grid'\u001b[0m\u001b[0;34m]\u001b[0m\u001b[0;34m,\u001b[0m \u001b[0minplace\u001b[0m \u001b[0;34m=\u001b[0m \u001b[0;32mTrue\u001b[0m\u001b[0;34m)\u001b[0m\u001b[0;34m\u001b[0m\u001b[0;34m\u001b[0m\u001b[0m\n\u001b[1;32m      5\u001b[0m \u001b[0mdf_merged\u001b[0m\u001b[0;34m[\u001b[0m\u001b[0;34m'qualifying_time_diff'\u001b[0m\u001b[0;34m]\u001b[0m \u001b[0;34m=\u001b[0m \u001b[0mdf_merged\u001b[0m\u001b[0;34m.\u001b[0m\u001b[0mgroupby\u001b[0m\u001b[0;34m(\u001b[0m\u001b[0;34m[\u001b[0m\u001b[0;34m'season'\u001b[0m\u001b[0;34m,\u001b[0m \u001b[0;34m'round'\u001b[0m\u001b[0;34m]\u001b[0m\u001b[0;34m)\u001b[0m\u001b[0;34m.\u001b[0m\u001b[0mqualifying_time\u001b[0m\u001b[0;34m.\u001b[0m\u001b[0mdiff\u001b[0m\u001b[0;34m(\u001b[0m\u001b[0;34m)\u001b[0m\u001b[0;34m\u001b[0m\u001b[0;34m\u001b[0m\u001b[0m\n",
      "\u001b[0;31mAttributeError\u001b[0m: 'float' object has no attribute 'split'"
     ]
    }
   ],
   "source": [
    "### TOUJOURS PB DANS LE CODE DE MON CÔTÉ (MILAN)\n",
    "# Ajout de la différence du temps de qualification avec le premier sur la grille\n",
    "df_merged['qualifying_time'] = df_merged.qualifying_time.map(lambda x: 0 if str(x) == '00.000' else(float(str(x).split(':')[1]) + (60 * float(str(x).split(':')[0])) if len(x.split(':'))>1 else 0))\n",
    "df_merged = df_merged[df_merged['qualifying_time'] != 0] # On enlève les valeurs manquantes\n",
    "df_merged.sort_values(['season', 'round', 'grid'], inplace = True)\n",
    "df_merged['qualifying_time_diff'] = df_merged.groupby(['season', 'round']).qualifying_time.diff()\n",
    "df_merged['qualifying_time'] = df_merged.groupby(['season', 'round']).qualifying_time_diff.cumsum().fillna(0)\n",
    "df_merged.drop('qualifying_time_diff', axis = 1, inplace = True)"
   ]
  },
  {
   "cell_type": "markdown",
   "id": "2d3f2318",
   "metadata": {},
   "source": [
    "## Préparation de nos variables catégorielles pour la modélisation"
   ]
  },
  {
   "cell_type": "markdown",
   "id": "99302200",
   "metadata": {},
   "source": [
    "Nous disposons de multiples variables catégorielles telles que les variables liées aux constructeurs, aux nationalité, aux circuits. Ces variables sont à priori utiles pour les prédiction du gagnant d'un grand prix. Ainsi, pour pouvoir les exploiter lors de la modélisation, nous devons les représenter sous forme d'indicatrice: "
   ]
  },
  {
   "cell_type": "code",
   "execution_count": 22,
   "id": "484e46c7",
   "metadata": {},
   "outputs": [],
   "source": [
    "# Code et idée inspiré du code de la fille \n",
    "\n",
    "df_ind = pd.get_dummies(df_merged, columns = ['circuit_id', 'nationality', 'constructor'] )\n",
    "\n",
    "for col in df_ind.columns:\n",
    "    if 'nationality' in col and df_ind[col].sum() < 100: # critère arbitraire pour enlever les colonnes non significatives \n",
    "        df_ind.drop(columns=col,inplace=True)\n",
    "        \n",
    "    elif 'constructor' in col and df_ind[col].sum() < 100: # critère arbitraire pour enlever les colonnes non significatives\n",
    "        df_ind.drop(columns=col,inplace=True)\n",
    "        \n",
    "    elif 'circuit_id' in col and df_ind[col].sum() < 100:  # critère arbitraire pour enlever les colonnes non significatives\n",
    "        df_ind.drop(columns=col,inplace=True)"
   ]
  },
  {
   "cell_type": "code",
   "execution_count": null,
   "id": "782504a6",
   "metadata": {},
   "outputs": [],
   "source": [
    "del df_ind['date_of_birth'] #On enlèves les colonnes en trop\n",
    "del df_ind['status']\n",
    "del df_ind['car']\n",
    "del df_ind['weather']"
   ]
  },
  {
   "cell_type": "code",
   "execution_count": null,
   "id": "52c2f967",
   "metadata": {},
   "outputs": [],
   "source": [
    "df_ind['season']=pd.to_datetime(df_ind['season']) # On passe sous le format date\n",
    "df_ind['season'] = df_ind['season'].dt.year"
   ]
  },
  {
   "cell_type": "code",
   "execution_count": 23,
   "id": "9e4860f8",
   "metadata": {},
   "outputs": [],
   "source": [
    "final_merged_csv=df_ind.copy()"
   ]
  },
  {
   "cell_type": "code",
   "execution_count": 79,
   "id": "e8dbda2b",
   "metadata": {},
   "outputs": [],
   "source": [
    "import numpy as np\n",
    "import pandas as pd\n",
    "import datetime\n",
    "from sklearn.metrics import confusion_matrix, precision_score\n",
    "from sklearn.linear_model import LogisticRegression, LinearRegression\n",
    "from sklearn import svm\n",
    "from sklearn.preprocessing import StandardScaler, MinMaxScaler\n",
    "from sklearn.ensemble import RandomForestClassifier, RandomForestRegressor\n",
    "from sklearn.neural_network import MLPClassifier, MLPRegressor\n",
    "import matplotlib.pyplot as plt\n",
    "import seaborn as sns\n",
    "sns.set(rc={'figure.figsize':(20,10)})\n",
    "sns.set_theme()"
   ]
  },
  {
   "cell_type": "code",
   "execution_count": 64,
   "id": "a9019785",
   "metadata": {},
   "outputs": [],
   "source": [
    "np.set_printoptions(precision=4)"
   ]
  },
  {
   "cell_type": "code",
   "execution_count": 65,
   "id": "9cf680d2",
   "metadata": {},
   "outputs": [],
   "source": [
    "data = pd.read_csv('final_df_merged.csv')"
   ]
  },
  {
   "cell_type": "code",
   "execution_count": 66,
   "id": "a1f3dc0c",
   "metadata": {},
   "outputs": [],
   "source": [
    "comparison_dict ={'model':[],\n",
    "                  'params': [],\n",
    "                  'score': []}"
   ]
  },
  {
   "cell_type": "markdown",
   "id": "e89a1bcb",
   "metadata": {},
   "source": [
    "# 1- Classification"
   ]
  },
  {
   "cell_type": "code",
   "execution_count": 67,
   "id": "c252ba5b",
   "metadata": {},
   "outputs": [],
   "source": [
    "df = data.copy()\n",
    "df.podium = df.podium.map(lambda x: 1 if x == 1 else 0)\n",
    "\n",
    "train = df[df.season<2020]\n",
    "X_train = train.drop(['driver', 'podium'], axis = 1)\n",
    "y_train = train.podium\n",
    "\n",
    "scaler = StandardScaler()\n",
    "X_train = pd.DataFrame(scaler.fit_transform(X_train), columns = X_train.columns)"
   ]
  },
  {
   "cell_type": "code",
   "execution_count": 68,
   "id": "f1636719",
   "metadata": {},
   "outputs": [],
   "source": [
    "def score_classification(model,xvar):\n",
    "    score = 0\n",
    "    for circuit in df[df.season == 2020]['round'].unique():\n",
    "\n",
    "        test = df[(df.season == 2020) & (df['round'] == circuit)]\n",
    "        X_test = test[\"xvar\"]\n",
    "        y_test = test.['podium']\n",
    "\n",
    "        #scaling\n",
    "        X_test = pd.DataFrame(scaler.transform(X_test), columns = X_test.columns)\n",
    "\n",
    "        # make predictions\n",
    "        prediction_df = pd.DataFrame(model.predict_proba(X_test), columns = ['proba_0', 'proba_1'])\n",
    "        prediction_df['actual'] = y_test.reset_index(drop = True)\n",
    "        prediction_df.sort_values('proba_1', ascending = False, inplace = True)\n",
    "        prediction_df.reset_index(inplace = True, drop = True)\n",
    "        prediction_df['predicted'] = prediction_df.index\n",
    "        prediction_df['predicted'] = prediction_df.predicted.map(lambda x: 1 if x == 0 else 0)\n",
    "\n",
    "        score += precision_score(prediction_df.actual, prediction_df.predicted)\n",
    "\n",
    "    model_score = score / df[df.season == 2020]['round'].unique().max()\n",
    "    return model_score"
   ]
  },
  {
   "cell_type": "markdown",
   "id": "9ab92fc3",
   "metadata": {},
   "source": [
    "## SVM Classifier"
   ]
  },
  {
   "cell_type": "markdown",
   "id": "007f204c",
   "metadata": {},
   "source": [
    "Assez lent à faire tourner"
   ]
  },
  {
   "cell_type": "code",
   "execution_count": 8,
   "id": "b166b74f",
   "metadata": {},
   "outputs": [],
   "source": [
    "params={'gamma': np.logspace(-4, -1, 20),\n",
    "        'C': np.logspace(-2, 1, 20),\n",
    "        'kernel': ['linear', 'poly', 'rbf', 'sigmoid']} \n",
    "\n",
    "for gamma in params['gamma']:\n",
    "    for c in params['C']:\n",
    "        for kernel in params['kernel']:\n",
    "            model_params = (gamma, c, kernel)\n",
    "            model = svm.SVC(probability = True, gamma = gamma, C = c, kernel = kernel )\n",
    "            model.fit(X_train, y_train)\n",
    "            \n",
    "            model_score = score_classification(model,train.columns.drop([\"driver\",\"podium\"])\n",
    "            \n",
    "            comparison_dict['model'].append('svm_classifier')\n",
    "            comparison_dict['params'].append(model_params)\n",
    "            comparison_dict['score'].append(model_score)"
   ]
  },
  {
   "cell_type": "markdown",
   "id": "5ea25f3e",
   "metadata": {},
   "source": [
    "# 2- Régression"
   ]
  },
  {
   "cell_type": "code",
   "execution_count": 69,
   "id": "0d080d27",
   "metadata": {},
   "outputs": [],
   "source": [
    "df = data.copy()\n",
    "\n",
    "train = df[df.season<2020]\n",
    "X_train = train.drop(['driver', 'podium'], axis = 1)\n",
    "y_train = train.podium\n",
    "\n",
    "scaler = StandardScaler()\n",
    "X_train = pd.DataFrame(scaler.fit_transform(X_train), columns = X_train.columns)"
   ]
  },
  {
   "cell_type": "code",
   "execution_count": 70,
   "id": "138466e4",
   "metadata": {},
   "outputs": [],
   "source": [
    "# la fonction score: \n",
    "\n",
    "def score_regression(model,xvar):\n",
    "    score=0\n",
    "    les_circuits=df[df['season']==2020][\"round\"].unique()\n",
    "    for circuit in les_circuits:\n",
    "        test=df[(df['season']==2020) & (df['round']==circuit)]\n",
    "        X_test=test[xvar]\n",
    "        y_test=test[\"podium\"]\n",
    "        \n",
    "        X_test = pd.DataFrame(scaler.transform(X_test), columns = X_test.columns)\n",
    "        \n",
    "        #On fait les prédictions\n",
    "        \n",
    "        prediction_df = pd.DataFrame(model.predict(X_test), columns = ['results'])\n",
    "        prediction_df['podium'] = y_test.reset_index(drop = True)\n",
    "        prediction_df['actual'] = prediction_df['podium'].map(lambda x: 1 if x == 1 else 0)\n",
    "        prediction_df.sort_values('results', ascending = True, inplace = True)\n",
    "        prediction_df.reset_index(inplace = True, drop = True)\n",
    "        prediction_df['predicted'] = prediction_df.index\n",
    "        prediction_df['predicted'] = prediction_df.predicted.map(lambda x: 1 if x == 0 else 0)\n",
    "        \n",
    "        score += precision_score(prediction_df['actual'],prediction_df['predicted'])\n",
    "    \n",
    "    model_score = score / df[df.season == 2020]['round'].unique().max()\n",
    "    return model_score"
   ]
  },
  {
   "cell_type": "markdown",
   "id": "0bc28b09",
   "metadata": {},
   "source": [
    "## Régression linéaire"
   ]
  },
  {
   "cell_type": "code",
   "execution_count": 71,
   "id": "5f62df2f",
   "metadata": {},
   "outputs": [],
   "source": [
    "model = LinearRegression(fit_intercept = 'True')\n",
    "model.fit(X_train, y_train)\n",
    "model_score=score_regression(model,train.columns.drop([\"driver\",\"podium\"]))\n",
    "comparison_dict['model'].append('regression_lineaire')\n",
    "comparison_dict['params'].append('True')\n",
    "comparison_dict['score'].append(model_score)"
   ]
  },
  {
   "cell_type": "code",
   "execution_count": 44,
   "id": "6dd7dd8d",
   "metadata": {},
   "outputs": [
    {
     "data": {
      "text/plain": [
       "{'model': ['regression_lineaire'],\n",
       " 'params': ['True'],\n",
       " 'score': [0.8235294117647058]}"
      ]
     },
     "execution_count": 44,
     "metadata": {},
     "output_type": "execute_result"
    }
   ],
   "source": [
    "comparison_dict"
   ]
  },
  {
   "cell_type": "markdown",
   "id": "f5a98dda",
   "metadata": {},
   "source": [
    "Maintenant nous pouvons nous interesser à la regression linéaire en prenant comme variables nous aidant à prédire des combinaisons de variables. Cela nous permettra de comprendre quelles variables sont les plus importantes pour prédire notre target, c'est à dire le gagnant de la course. "
   ]
  },
  {
   "cell_type": "code",
   "execution_count": 94,
   "id": "2aff9849",
   "metadata": {},
   "outputs": [],
   "source": [
    "xvar_total=df.columns.drop([\"driver\",'podium'])\n",
    "xvar_series=pd.Series(xvar_total)\n",
    "\n",
    "xvar_weather=list(xvar_series[xvar_series.str.contains(\"weather\")])\n",
    "xvar_nationality=list(xvar_series[xvar_series.str.contains(\"nationality\")])\n",
    "xvar_circuit=list(xvar_series[xvar_series.str.contains(\"circuit\")])\n",
    "xvar_constructor=list(xvar_series[xvar_series.str.contains(\"constructor\")])\n",
    "xvar_grid=list([\"grid\",\"constructor_standings_pos\",\"driver_standings_pos\",\"qualifying_time\"])\n",
    "\n",
    "xvar_comparison={'xvar':[],'score':[]}\n",
    "\n",
    "xvar_combinaison=[xvar_weather+xvar_grid,xvar_grid+xvar_circuit,xvar_nationality+xvar_circuit,xvar_constructor+xvar_circuit,xvar_weather+xvar_grid+xvar_constructor]\n",
    "xvar_comparison['type_var']=[\"weather+grid\",\"grid+circuit\",'nationality+circuit','constructor+circuit',\"weather+grid+constructor\"]\n",
    "    \n",
    "for xvar in xvar_combinaison:\n",
    "    X_train_2 = train[xvar].copy()\n",
    "    y_train_2 = train[\"podium\"].copy()\n",
    "\n",
    "    scaler = StandardScaler()\n",
    "    X_train_2 = pd.DataFrame(scaler.fit_transform(X_train_2), columns = X_train_2.columns)\n",
    "    \n",
    "    model = LinearRegression(fit_intercept = 'True')\n",
    "    model.fit(X_train_2, y_train_2)\n",
    "    \n",
    "    model_score=score_regression(model,xvar)\n",
    "    \n",
    "    \n",
    "    xvar_comparison['xvar'].append(xvar)\n",
    "    xvar_comparison['score'].append(model_score)"
   ]
  },
  {
   "cell_type": "code",
   "execution_count": 95,
   "id": "686b1ea4",
   "metadata": {
    "scrolled": false
   },
   "outputs": [
    {
     "data": {
      "text/plain": [
       "<AxesSubplot:xlabel='type_var', ylabel='score'>"
      ]
     },
     "execution_count": 95,
     "metadata": {},
     "output_type": "execute_result"
    },
    {
     "data": {
      "image/png": "[encoded data removed]",
      "text/plain": [
       "<Figure size 1440x720 with 1 Axes>"
      ]
     },
     "metadata": {},
     "output_type": "display_data"
    }
   ],
   "source": [
    "comparaison_xvar=pd.DataFrame(xvar_comparison)\n",
    "comparaison_xvar=comparaison_xvar.groupby(\"type_var\")[\"score\"].max().reset_index()\n",
    "_,(ax1) = plt.subplots(ncols=1)\n",
    "sns.barplot(data=comparaison_xvar, x='type_var', y='score', ax=ax1, palette=sns.color_palette(\"icefire\"))"
   ]
  },
  {
   "cell_type": "markdown",
   "id": "7148fb28",
   "metadata": {},
   "source": [
    "qq lignes pour analyser et essayer d'expliquer cela "
   ]
  },
  {
   "cell_type": "markdown",
   "id": "d5cce9ad",
   "metadata": {},
   "source": [
    "# 3- Comparaison de nos deux modèles "
   ]
  },
  {
   "cell_type": "code",
   "execution_count": 80,
   "id": "2e86a71d",
   "metadata": {
    "scrolled": false
   },
   "outputs": [
    {
     "data": {
      "text/plain": [
       "<AxesSubplot:xlabel='model', ylabel='score'>"
      ]
     },
     "execution_count": 80,
     "metadata": {},
     "output_type": "execute_result"
    },
    {
     "data": {
      "image/png": "[encoded data removed]",
      "text/plain": [
       "<Figure size 1440x720 with 1 Axes>"
      ]
     },
     "metadata": {},
     "output_type": "display_data"
    }
   ],
   "source": [
    "comparaison_model=pd.DataFrame(comparison_dict)\n",
    "comparaison_model=comparaison_model.groupby(\"model\")[\"score\"].max().reset_index()\n",
    "_,(ax1) = plt.subplots(ncols=1)\n",
    "sns.barplot(data=comparaison_model, x='model', y='score', ax=ax1, palette=sns.color_palette(\"icefire\"))"
   ]
  },
  {
   "cell_type": "markdown",
   "id": "d6c853e1",
   "metadata": {},
   "source": [
    "rédiger qq lignes pour analyser le résulat "
   ]
  }
 ],
 "metadata": {
  "kernelspec": {
   "display_name": "Python 3",
   "language": "python",
   "name": "python3"
  },
  "language_info": {
   "codemirror_mode": {
    "name": "ipython",
    "version": 3
   },
   "file_extension": ".py",
   "mimetype": "text/x-python",
   "name": "python",
   "nbconvert_exporter": "python",
   "pygments_lexer": "ipython3",
   "version": "3.8.8"
  }
 },
 "nbformat": 4,
 "nbformat_minor": 5
}
