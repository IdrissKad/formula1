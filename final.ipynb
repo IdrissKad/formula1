{
 "cells": [
  {
   "cell_type": "markdown",
   "metadata": {},
   "source": [
    "# I. Importation et découverte des données"
   ]
  },
  {
   "cell_type": "markdown",
   "metadata": {},
   "source": [
    "##  Installation des Packages"
   ]
  },
  {
   "cell_type": "code",
   "execution_count": 1,
   "metadata": {},
   "outputs": [
    {
     "name": "stdout",
     "output_type": "stream",
     "text": [
      "Requirement already satisfied: requests in /Users/hurtadoemmanuel/opt/anaconda3/lib/python3.8/site-packages (2.26.0)\n",
      "Requirement already satisfied: certifi>=2017.4.17 in /Users/hurtadoemmanuel/opt/anaconda3/lib/python3.8/site-packages (from requests) (2021.10.8)\n",
      "Requirement already satisfied: idna<4,>=2.5 in /Users/hurtadoemmanuel/opt/anaconda3/lib/python3.8/site-packages (from requests) (3.3)\n",
      "Requirement already satisfied: charset-normalizer~=2.0.0 in /Users/hurtadoemmanuel/opt/anaconda3/lib/python3.8/site-packages (from requests) (2.0.7)\n",
      "Requirement already satisfied: urllib3<1.27,>=1.21.1 in /Users/hurtadoemmanuel/opt/anaconda3/lib/python3.8/site-packages (from requests) (1.26.7)\n",
      "Note: you may need to restart the kernel to use updated packages.\n"
     ]
    }
   ],
   "source": [
    "pip install requests "
   ]
  },
  {
   "cell_type": "code",
   "execution_count": 2,
   "metadata": {},
   "outputs": [
    {
     "name": "stdout",
     "output_type": "stream",
     "text": [
      "Requirement already satisfied: lxml in /Users/hurtadoemmanuel/opt/anaconda3/lib/python3.8/site-packages (4.6.3)\n",
      "Note: you may need to restart the kernel to use updated packages.\n"
     ]
    }
   ],
   "source": [
    "pip install lxml "
   ]
  },
  {
   "cell_type": "code",
   "execution_count": 3,
   "metadata": {},
   "outputs": [
    {
     "name": "stdout",
     "output_type": "stream",
     "text": [
      "Requirement already satisfied: selenium in /Users/hurtadoemmanuel/opt/anaconda3/lib/python3.8/site-packages (4.1.0)\n",
      "Requirement already satisfied: trio~=0.17 in /Users/hurtadoemmanuel/opt/anaconda3/lib/python3.8/site-packages (from selenium) (0.19.0)\n",
      "Requirement already satisfied: trio-websocket~=0.9 in /Users/hurtadoemmanuel/opt/anaconda3/lib/python3.8/site-packages (from selenium) (0.9.2)\n",
      "Requirement already satisfied: urllib3[secure]~=1.26 in /Users/hurtadoemmanuel/opt/anaconda3/lib/python3.8/site-packages (from selenium) (1.26.7)\n",
      "Requirement already satisfied: sortedcontainers in /Users/hurtadoemmanuel/opt/anaconda3/lib/python3.8/site-packages (from trio~=0.17->selenium) (2.3.0)\n",
      "Requirement already satisfied: attrs>=19.2.0 in /Users/hurtadoemmanuel/opt/anaconda3/lib/python3.8/site-packages (from trio~=0.17->selenium) (20.3.0)\n",
      "Requirement already satisfied: idna in /Users/hurtadoemmanuel/opt/anaconda3/lib/python3.8/site-packages (from trio~=0.17->selenium) (3.3)\n",
      "Requirement already satisfied: outcome in /Users/hurtadoemmanuel/opt/anaconda3/lib/python3.8/site-packages (from trio~=0.17->selenium) (1.1.0)\n",
      "Requirement already satisfied: sniffio in /Users/hurtadoemmanuel/opt/anaconda3/lib/python3.8/site-packages (from trio~=0.17->selenium) (1.2.0)\n",
      "Requirement already satisfied: async-generator>=1.9 in /Users/hurtadoemmanuel/opt/anaconda3/lib/python3.8/site-packages (from trio~=0.17->selenium) (1.10)\n",
      "Requirement already satisfied: wsproto>=0.14 in /Users/hurtadoemmanuel/opt/anaconda3/lib/python3.8/site-packages (from trio-websocket~=0.9->selenium) (1.0.0)\n",
      "Requirement already satisfied: cryptography>=1.3.4 in /Users/hurtadoemmanuel/opt/anaconda3/lib/python3.8/site-packages (from urllib3[secure]~=1.26->selenium) (3.4.7)\n",
      "Requirement already satisfied: certifi in /Users/hurtadoemmanuel/opt/anaconda3/lib/python3.8/site-packages (from urllib3[secure]~=1.26->selenium) (2021.10.8)\n",
      "Requirement already satisfied: pyOpenSSL>=0.14 in /Users/hurtadoemmanuel/opt/anaconda3/lib/python3.8/site-packages (from urllib3[secure]~=1.26->selenium) (20.0.1)\n",
      "Requirement already satisfied: cffi>=1.12 in /Users/hurtadoemmanuel/opt/anaconda3/lib/python3.8/site-packages (from cryptography>=1.3.4->urllib3[secure]~=1.26->selenium) (1.14.5)\n",
      "Requirement already satisfied: pycparser in /Users/hurtadoemmanuel/opt/anaconda3/lib/python3.8/site-packages (from cffi>=1.12->cryptography>=1.3.4->urllib3[secure]~=1.26->selenium) (2.20)\n",
      "Requirement already satisfied: six>=1.5.2 in /Users/hurtadoemmanuel/opt/anaconda3/lib/python3.8/site-packages (from pyOpenSSL>=0.14->urllib3[secure]~=1.26->selenium) (1.16.0)\n",
      "Requirement already satisfied: h11<1,>=0.9.0 in /Users/hurtadoemmanuel/opt/anaconda3/lib/python3.8/site-packages (from wsproto>=0.14->trio-websocket~=0.9->selenium) (0.12.0)\n",
      "Note: you may need to restart the kernel to use updated packages.\n"
     ]
    }
   ],
   "source": [
    "pip install selenium "
   ]
  },
  {
   "cell_type": "code",
   "execution_count": 4,
   "metadata": {},
   "outputs": [
    {
     "name": "stdout",
     "output_type": "stream",
     "text": [
      "Requirement already satisfied: geopandas in /Users/hurtadoemmanuel/opt/anaconda3/lib/python3.8/site-packages (0.10.2)\n",
      "Requirement already satisfied: shapely>=1.6 in /Users/hurtadoemmanuel/opt/anaconda3/lib/python3.8/site-packages (from geopandas) (1.8.0)\n",
      "Requirement already satisfied: pandas>=0.25.0 in /Users/hurtadoemmanuel/opt/anaconda3/lib/python3.8/site-packages (from geopandas) (1.3.4)\n",
      "Requirement already satisfied: pyproj>=2.2.0 in /Users/hurtadoemmanuel/opt/anaconda3/lib/python3.8/site-packages (from geopandas) (3.3.0)\n",
      "Requirement already satisfied: fiona>=1.8 in /Users/hurtadoemmanuel/opt/anaconda3/lib/python3.8/site-packages (from geopandas) (1.8.20)\n",
      "Requirement already satisfied: click-plugins>=1.0 in /Users/hurtadoemmanuel/opt/anaconda3/lib/python3.8/site-packages (from fiona>=1.8->geopandas) (1.1.1)\n",
      "Requirement already satisfied: munch in /Users/hurtadoemmanuel/opt/anaconda3/lib/python3.8/site-packages (from fiona>=1.8->geopandas) (2.5.0)\n",
      "Requirement already satisfied: six>=1.7 in /Users/hurtadoemmanuel/opt/anaconda3/lib/python3.8/site-packages (from fiona>=1.8->geopandas) (1.16.0)\n",
      "Requirement already satisfied: certifi in /Users/hurtadoemmanuel/opt/anaconda3/lib/python3.8/site-packages (from fiona>=1.8->geopandas) (2021.10.8)\n",
      "Requirement already satisfied: setuptools in /Users/hurtadoemmanuel/opt/anaconda3/lib/python3.8/site-packages (from fiona>=1.8->geopandas) (58.3.0)\n",
      "Requirement already satisfied: click>=4.0 in /Users/hurtadoemmanuel/opt/anaconda3/lib/python3.8/site-packages (from fiona>=1.8->geopandas) (7.1.2)\n",
      "Requirement already satisfied: attrs>=17 in /Users/hurtadoemmanuel/opt/anaconda3/lib/python3.8/site-packages (from fiona>=1.8->geopandas) (20.3.0)\n",
      "Requirement already satisfied: cligj>=0.5 in /Users/hurtadoemmanuel/opt/anaconda3/lib/python3.8/site-packages (from fiona>=1.8->geopandas) (0.7.2)\n",
      "Requirement already satisfied: pytz>=2017.3 in /Users/hurtadoemmanuel/opt/anaconda3/lib/python3.8/site-packages (from pandas>=0.25.0->geopandas) (2021.3)\n",
      "Requirement already satisfied: python-dateutil>=2.7.3 in /Users/hurtadoemmanuel/opt/anaconda3/lib/python3.8/site-packages (from pandas>=0.25.0->geopandas) (2.8.2)\n",
      "Requirement already satisfied: numpy>=1.17.3 in /Users/hurtadoemmanuel/opt/anaconda3/lib/python3.8/site-packages (from pandas>=0.25.0->geopandas) (1.21.3)\n",
      "Note: you may need to restart the kernel to use updated packages.\n"
     ]
    }
   ],
   "source": [
    "pip install geopandas"
   ]
  },
  {
   "cell_type": "markdown",
   "metadata": {},
   "source": [
    "* requests est un package servant à récupérer les données d'un site web\n",
    "* lxml est un package servant à télécharger des fichiers lxml\n",
    "* selenium est un package servant à l'interaction automatisée avec un serveur"
   ]
  },
  {
   "cell_type": "markdown",
   "metadata": {},
   "source": [
    "## Importation des Librairies"
   ]
  },
  {
   "cell_type": "code",
   "execution_count": 5,
   "metadata": {},
   "outputs": [],
   "source": [
    "import lxml\n",
    "import selenium\n",
    "import pandas as pd\n",
    "import matplotlib.pyplot as plt\n",
    "import seaborn as sns\n",
    "import numpy as np\n",
    "import requests\n",
    "import bs4\n",
    "import geopandas as gpd\n",
    "from shapely.geometry import Point\n",
    "from geopandas import GeoDataFrame\n",
    "from sklearn.metrics import confusion_matrix, precision_score\n",
    "from sklearn.linear_model import LogisticRegression, LinearRegression\n",
    "from sklearn import svm\n",
    "from sklearn.preprocessing import StandardScaler, MinMaxScaler\n",
    "from sklearn.ensemble import RandomForestClassifier, RandomForestRegressor\n",
    "from sklearn.neural_network import MLPClassifier, MLPRegressor\n",
    "import matplotlib.pyplot as plt\n",
    "sns.set(rc={'figure.figsize':(20,10)})\n",
    "sns.set_theme()\n"
   ]
  },
  {
   "cell_type": "markdown",
   "metadata": {},
   "source": [
    "##  Création de la base \"Races\""
   ]
  },
  {
   "cell_type": "markdown",
   "metadata": {},
   "source": [
    "* Récupération des données à partir d'une API en ligne : \"ergast.com\"\n",
    "* Objectif : création d'une base \"Races\" regroupant les années des saisons, le nom et le rang du circuit dans la saison, la latitude et la longitude du circuit (utile plus tard pour les représentations géographiques), le pays et la date du circuit, ainsi que l'url wikipédia associé\n",
    "* La base contient 550 lignes correspondant aux saisons comprises entre 1990 et 2020"
   ]
  },
  {
   "cell_type": "code",
   "execution_count": 6,
   "metadata": {},
   "outputs": [
    {
     "ename": "JSONDecodeError",
     "evalue": "Expecting value: line 1 column 1 (char 0)",
     "output_type": "error",
     "traceback": [
      "\u001b[0;31m---------------------------------------------------------------------------\u001b[0m",
      "\u001b[0;31mJSONDecodeError\u001b[0m                           Traceback (most recent call last)",
      "\u001b[0;32m<ipython-input-6-392a1137ba9c>\u001b[0m in \u001b[0;36m<module>\u001b[0;34m\u001b[0m\n\u001b[1;32m     12\u001b[0m     \u001b[0murl\u001b[0m \u001b[0;34m=\u001b[0m \u001b[0;34m'https://ergast.com/api/f1/{}.json'\u001b[0m\u001b[0;34m\u001b[0m\u001b[0;34m\u001b[0m\u001b[0m\n\u001b[1;32m     13\u001b[0m     \u001b[0mr\u001b[0m \u001b[0;34m=\u001b[0m \u001b[0mrequests\u001b[0m\u001b[0;34m.\u001b[0m\u001b[0mget\u001b[0m\u001b[0;34m(\u001b[0m\u001b[0murl\u001b[0m\u001b[0;34m.\u001b[0m\u001b[0mformat\u001b[0m\u001b[0;34m(\u001b[0m\u001b[0myear\u001b[0m\u001b[0;34m)\u001b[0m\u001b[0;34m)\u001b[0m\u001b[0;34m\u001b[0m\u001b[0;34m\u001b[0m\u001b[0m\n\u001b[0;32m---> 14\u001b[0;31m     \u001b[0mjson\u001b[0m \u001b[0;34m=\u001b[0m \u001b[0mr\u001b[0m\u001b[0;34m.\u001b[0m\u001b[0mjson\u001b[0m\u001b[0;34m(\u001b[0m\u001b[0;34m)\u001b[0m\u001b[0;34m\u001b[0m\u001b[0;34m\u001b[0m\u001b[0m\n\u001b[0m\u001b[1;32m     15\u001b[0m \u001b[0;34m\u001b[0m\u001b[0m\n\u001b[1;32m     16\u001b[0m     \u001b[0;32mfor\u001b[0m \u001b[0mitem\u001b[0m \u001b[0;32min\u001b[0m \u001b[0mjson\u001b[0m\u001b[0;34m[\u001b[0m\u001b[0;34m'MRData'\u001b[0m\u001b[0;34m]\u001b[0m\u001b[0;34m[\u001b[0m\u001b[0;34m'RaceTable'\u001b[0m\u001b[0;34m]\u001b[0m\u001b[0;34m[\u001b[0m\u001b[0;34m'Races'\u001b[0m\u001b[0;34m]\u001b[0m\u001b[0;34m:\u001b[0m\u001b[0;34m\u001b[0m\u001b[0;34m\u001b[0m\u001b[0m\n",
      "\u001b[0;32m~/opt/anaconda3/lib/python3.8/site-packages/requests/models.py\u001b[0m in \u001b[0;36mjson\u001b[0;34m(self, **kwargs)\u001b[0m\n\u001b[1;32m    908\u001b[0m                     \u001b[0;31m# used.\u001b[0m\u001b[0;34m\u001b[0m\u001b[0;34m\u001b[0m\u001b[0;34m\u001b[0m\u001b[0m\n\u001b[1;32m    909\u001b[0m                     \u001b[0;32mpass\u001b[0m\u001b[0;34m\u001b[0m\u001b[0;34m\u001b[0m\u001b[0m\n\u001b[0;32m--> 910\u001b[0;31m         \u001b[0;32mreturn\u001b[0m \u001b[0mcomplexjson\u001b[0m\u001b[0;34m.\u001b[0m\u001b[0mloads\u001b[0m\u001b[0;34m(\u001b[0m\u001b[0mself\u001b[0m\u001b[0;34m.\u001b[0m\u001b[0mtext\u001b[0m\u001b[0;34m,\u001b[0m \u001b[0;34m**\u001b[0m\u001b[0mkwargs\u001b[0m\u001b[0;34m)\u001b[0m\u001b[0;34m\u001b[0m\u001b[0;34m\u001b[0m\u001b[0m\n\u001b[0m\u001b[1;32m    911\u001b[0m \u001b[0;34m\u001b[0m\u001b[0m\n\u001b[1;32m    912\u001b[0m     \u001b[0;34m@\u001b[0m\u001b[0mproperty\u001b[0m\u001b[0;34m\u001b[0m\u001b[0;34m\u001b[0m\u001b[0m\n",
      "\u001b[0;32m~/opt/anaconda3/lib/python3.8/json/__init__.py\u001b[0m in \u001b[0;36mloads\u001b[0;34m(s, cls, object_hook, parse_float, parse_int, parse_constant, object_pairs_hook, **kw)\u001b[0m\n\u001b[1;32m    355\u001b[0m             \u001b[0mparse_int\u001b[0m \u001b[0;32mis\u001b[0m \u001b[0;32mNone\u001b[0m \u001b[0;32mand\u001b[0m \u001b[0mparse_float\u001b[0m \u001b[0;32mis\u001b[0m \u001b[0;32mNone\u001b[0m \u001b[0;32mand\u001b[0m\u001b[0;34m\u001b[0m\u001b[0;34m\u001b[0m\u001b[0m\n\u001b[1;32m    356\u001b[0m             parse_constant is None and object_pairs_hook is None and not kw):\n\u001b[0;32m--> 357\u001b[0;31m         \u001b[0;32mreturn\u001b[0m \u001b[0m_default_decoder\u001b[0m\u001b[0;34m.\u001b[0m\u001b[0mdecode\u001b[0m\u001b[0;34m(\u001b[0m\u001b[0ms\u001b[0m\u001b[0;34m)\u001b[0m\u001b[0;34m\u001b[0m\u001b[0;34m\u001b[0m\u001b[0m\n\u001b[0m\u001b[1;32m    358\u001b[0m     \u001b[0;32mif\u001b[0m \u001b[0mcls\u001b[0m \u001b[0;32mis\u001b[0m \u001b[0;32mNone\u001b[0m\u001b[0;34m:\u001b[0m\u001b[0;34m\u001b[0m\u001b[0;34m\u001b[0m\u001b[0m\n\u001b[1;32m    359\u001b[0m         \u001b[0mcls\u001b[0m \u001b[0;34m=\u001b[0m \u001b[0mJSONDecoder\u001b[0m\u001b[0;34m\u001b[0m\u001b[0;34m\u001b[0m\u001b[0m\n",
      "\u001b[0;32m~/opt/anaconda3/lib/python3.8/json/decoder.py\u001b[0m in \u001b[0;36mdecode\u001b[0;34m(self, s, _w)\u001b[0m\n\u001b[1;32m    335\u001b[0m \u001b[0;34m\u001b[0m\u001b[0m\n\u001b[1;32m    336\u001b[0m         \"\"\"\n\u001b[0;32m--> 337\u001b[0;31m         \u001b[0mobj\u001b[0m\u001b[0;34m,\u001b[0m \u001b[0mend\u001b[0m \u001b[0;34m=\u001b[0m \u001b[0mself\u001b[0m\u001b[0;34m.\u001b[0m\u001b[0mraw_decode\u001b[0m\u001b[0;34m(\u001b[0m\u001b[0ms\u001b[0m\u001b[0;34m,\u001b[0m \u001b[0midx\u001b[0m\u001b[0;34m=\u001b[0m\u001b[0m_w\u001b[0m\u001b[0;34m(\u001b[0m\u001b[0ms\u001b[0m\u001b[0;34m,\u001b[0m \u001b[0;36m0\u001b[0m\u001b[0;34m)\u001b[0m\u001b[0;34m.\u001b[0m\u001b[0mend\u001b[0m\u001b[0;34m(\u001b[0m\u001b[0;34m)\u001b[0m\u001b[0;34m)\u001b[0m\u001b[0;34m\u001b[0m\u001b[0;34m\u001b[0m\u001b[0m\n\u001b[0m\u001b[1;32m    338\u001b[0m         \u001b[0mend\u001b[0m \u001b[0;34m=\u001b[0m \u001b[0m_w\u001b[0m\u001b[0;34m(\u001b[0m\u001b[0ms\u001b[0m\u001b[0;34m,\u001b[0m \u001b[0mend\u001b[0m\u001b[0;34m)\u001b[0m\u001b[0;34m.\u001b[0m\u001b[0mend\u001b[0m\u001b[0;34m(\u001b[0m\u001b[0;34m)\u001b[0m\u001b[0;34m\u001b[0m\u001b[0;34m\u001b[0m\u001b[0m\n\u001b[1;32m    339\u001b[0m         \u001b[0;32mif\u001b[0m \u001b[0mend\u001b[0m \u001b[0;34m!=\u001b[0m \u001b[0mlen\u001b[0m\u001b[0;34m(\u001b[0m\u001b[0ms\u001b[0m\u001b[0;34m)\u001b[0m\u001b[0;34m:\u001b[0m\u001b[0;34m\u001b[0m\u001b[0;34m\u001b[0m\u001b[0m\n",
      "\u001b[0;32m~/opt/anaconda3/lib/python3.8/json/decoder.py\u001b[0m in \u001b[0;36mraw_decode\u001b[0;34m(self, s, idx)\u001b[0m\n\u001b[1;32m    353\u001b[0m             \u001b[0mobj\u001b[0m\u001b[0;34m,\u001b[0m \u001b[0mend\u001b[0m \u001b[0;34m=\u001b[0m \u001b[0mself\u001b[0m\u001b[0;34m.\u001b[0m\u001b[0mscan_once\u001b[0m\u001b[0;34m(\u001b[0m\u001b[0ms\u001b[0m\u001b[0;34m,\u001b[0m \u001b[0midx\u001b[0m\u001b[0;34m)\u001b[0m\u001b[0;34m\u001b[0m\u001b[0;34m\u001b[0m\u001b[0m\n\u001b[1;32m    354\u001b[0m         \u001b[0;32mexcept\u001b[0m \u001b[0mStopIteration\u001b[0m \u001b[0;32mas\u001b[0m \u001b[0merr\u001b[0m\u001b[0;34m:\u001b[0m\u001b[0;34m\u001b[0m\u001b[0;34m\u001b[0m\u001b[0m\n\u001b[0;32m--> 355\u001b[0;31m             \u001b[0;32mraise\u001b[0m \u001b[0mJSONDecodeError\u001b[0m\u001b[0;34m(\u001b[0m\u001b[0;34m\"Expecting value\"\u001b[0m\u001b[0;34m,\u001b[0m \u001b[0ms\u001b[0m\u001b[0;34m,\u001b[0m \u001b[0merr\u001b[0m\u001b[0;34m.\u001b[0m\u001b[0mvalue\u001b[0m\u001b[0;34m)\u001b[0m \u001b[0;32mfrom\u001b[0m \u001b[0;32mNone\u001b[0m\u001b[0;34m\u001b[0m\u001b[0;34m\u001b[0m\u001b[0m\n\u001b[0m\u001b[1;32m    356\u001b[0m         \u001b[0;32mreturn\u001b[0m \u001b[0mobj\u001b[0m\u001b[0;34m,\u001b[0m \u001b[0mend\u001b[0m\u001b[0;34m\u001b[0m\u001b[0;34m\u001b[0m\u001b[0m\n",
      "\u001b[0;31mJSONDecodeError\u001b[0m: Expecting value: line 1 column 1 (char 0)"
     ]
    }
   ],
   "source": [
    "\n",
    "races = {'season': [],\n",
    "        'round': [],\n",
    "        'circuit_id': [],\n",
    "        'lat': [],\n",
    "        'long': [],\n",
    "        'country': [],\n",
    "        'date': [],\n",
    "        'url': []}\n",
    "\n",
    "for year in list(range(1990,2021)):\n",
    "    \n",
    "    url = 'https://ergast.com/api/f1/{}.json'\n",
    "    r = requests.get(url.format(year))\n",
    "    json = r.json()\n",
    "\n",
    "    for item in json['MRData']['RaceTable']['Races']:\n",
    "        try:\n",
    "            races['season'].append(int(item['season']))\n",
    "        except:\n",
    "            races['season'].append(None)\n",
    "\n",
    "        try:\n",
    "            races['round'].append(int(item['round']))\n",
    "        except:\n",
    "            races['round'].append(None)\n",
    "\n",
    "        try:\n",
    "            races['circuit_id'].append(item['Circuit']['circuitId'])\n",
    "        except:\n",
    "            races['circuit_id'].append(None)\n",
    "\n",
    "        try:\n",
    "            races['lat'].append(float(item['Circuit']['Location']['lat']))\n",
    "        except:\n",
    "            races['lat'].append(None)\n",
    "\n",
    "        try:\n",
    "            races['long'].append(float(item['Circuit']['Location']['long']))\n",
    "        except:\n",
    "            races['long'].append(None)\n",
    "\n",
    "        try:\n",
    "            races['country'].append(item['Circuit']['Location']['country'])\n",
    "        except:\n",
    "            races['country'].append(None)\n",
    "\n",
    "        try:\n",
    "            races['date'].append(item['date'])\n",
    "        except:\n",
    "            races['date'].append(None)\n",
    "\n",
    "        try:\n",
    "            races['url'].append(item['url'])\n",
    "        except:\n",
    "            races['url'].append(None)\n",
    "        \n",
    "races= pd.DataFrame(races)"
   ]
  },
  {
   "cell_type": "code",
   "execution_count": 3,
   "metadata": {},
   "outputs": [
    {
     "data": {
      "text/html": [
       "<div>\n",
       "<style scoped>\n",
       "    .dataframe tbody tr th:only-of-type {\n",
       "        vertical-align: middle;\n",
       "    }\n",
       "\n",
       "    .dataframe tbody tr th {\n",
       "        vertical-align: top;\n",
       "    }\n",
       "\n",
       "    .dataframe thead th {\n",
       "        text-align: right;\n",
       "    }\n",
       "</style>\n",
       "<table border=\"1\" class=\"dataframe\">\n",
       "  <thead>\n",
       "    <tr style=\"text-align: right;\">\n",
       "      <th></th>\n",
       "      <th>season</th>\n",
       "      <th>round</th>\n",
       "      <th>circuit_id</th>\n",
       "      <th>lat</th>\n",
       "      <th>long</th>\n",
       "      <th>country</th>\n",
       "      <th>date</th>\n",
       "      <th>url</th>\n",
       "    </tr>\n",
       "  </thead>\n",
       "  <tbody>\n",
       "    <tr>\n",
       "      <th>0</th>\n",
       "      <td>2018</td>\n",
       "      <td>1</td>\n",
       "      <td>albert_park</td>\n",
       "      <td>-37.8497</td>\n",
       "      <td>144.96800</td>\n",
       "      <td>Australia</td>\n",
       "      <td>2018-03-25</td>\n",
       "      <td>https://en.wikipedia.org/wiki/2018_Australian_...</td>\n",
       "    </tr>\n",
       "    <tr>\n",
       "      <th>1</th>\n",
       "      <td>2018</td>\n",
       "      <td>2</td>\n",
       "      <td>bahrain</td>\n",
       "      <td>26.0325</td>\n",
       "      <td>50.51060</td>\n",
       "      <td>Bahrain</td>\n",
       "      <td>2018-04-08</td>\n",
       "      <td>https://en.wikipedia.org/wiki/2018_Bahrain_Gra...</td>\n",
       "    </tr>\n",
       "    <tr>\n",
       "      <th>2</th>\n",
       "      <td>2018</td>\n",
       "      <td>3</td>\n",
       "      <td>shanghai</td>\n",
       "      <td>31.3389</td>\n",
       "      <td>121.22000</td>\n",
       "      <td>China</td>\n",
       "      <td>2018-04-15</td>\n",
       "      <td>https://en.wikipedia.org/wiki/2018_Chinese_Gra...</td>\n",
       "    </tr>\n",
       "    <tr>\n",
       "      <th>3</th>\n",
       "      <td>2018</td>\n",
       "      <td>4</td>\n",
       "      <td>BAK</td>\n",
       "      <td>40.3725</td>\n",
       "      <td>49.85330</td>\n",
       "      <td>Azerbaijan</td>\n",
       "      <td>2018-04-29</td>\n",
       "      <td>https://en.wikipedia.org/wiki/2018_Azerbaijan_...</td>\n",
       "    </tr>\n",
       "    <tr>\n",
       "      <th>4</th>\n",
       "      <td>2018</td>\n",
       "      <td>5</td>\n",
       "      <td>catalunya</td>\n",
       "      <td>41.5700</td>\n",
       "      <td>2.26111</td>\n",
       "      <td>Spain</td>\n",
       "      <td>2018-05-13</td>\n",
       "      <td>https://en.wikipedia.org/wiki/2018_Spanish_Gra...</td>\n",
       "    </tr>\n",
       "  </tbody>\n",
       "</table>\n",
       "</div>"
      ],
      "text/plain": [
       "   season  round   circuit_id      lat       long     country        date  \\\n",
       "0    2018      1  albert_park -37.8497  144.96800   Australia  2018-03-25   \n",
       "1    2018      2      bahrain  26.0325   50.51060     Bahrain  2018-04-08   \n",
       "2    2018      3     shanghai  31.3389  121.22000       China  2018-04-15   \n",
       "3    2018      4          BAK  40.3725   49.85330  Azerbaijan  2018-04-29   \n",
       "4    2018      5    catalunya  41.5700    2.26111       Spain  2018-05-13   \n",
       "\n",
       "                                                 url  \n",
       "0  https://en.wikipedia.org/wiki/2018_Australian_...  \n",
       "1  https://en.wikipedia.org/wiki/2018_Bahrain_Gra...  \n",
       "2  https://en.wikipedia.org/wiki/2018_Chinese_Gra...  \n",
       "3  https://en.wikipedia.org/wiki/2018_Azerbaijan_...  \n",
       "4  https://en.wikipedia.org/wiki/2018_Spanish_Gra...  "
      ]
     },
     "execution_count": 3,
     "metadata": {},
     "output_type": "execute_result"
    }
   ],
   "source": [
    "races.head()"
   ]
  },
  {
   "cell_type": "code",
   "execution_count": 4,
   "metadata": {},
   "outputs": [
    {
     "name": "stdout",
     "output_type": "stream",
     "text": [
      "<class 'pandas.core.frame.DataFrame'>\n",
      "RangeIndex: 59 entries, 0 to 58\n",
      "Data columns (total 8 columns):\n",
      " #   Column      Non-Null Count  Dtype  \n",
      "---  ------      --------------  -----  \n",
      " 0   season      59 non-null     int64  \n",
      " 1   round       59 non-null     int64  \n",
      " 2   circuit_id  59 non-null     object \n",
      " 3   lat         59 non-null     float64\n",
      " 4   long        59 non-null     float64\n",
      " 5   country     59 non-null     object \n",
      " 6   date        59 non-null     object \n",
      " 7   url         59 non-null     object \n",
      "dtypes: float64(2), int64(2), object(4)\n",
      "memory usage: 3.8+ KB\n"
     ]
    }
   ],
   "source": [
    "races.info()"
   ]
  },
  {
   "cell_type": "markdown",
   "metadata": {},
   "source": [
    "##  Création de la  base \"Results\""
   ]
  },
  {
   "cell_type": "markdown",
   "metadata": {},
   "source": [
    "## Création de la bas \"driver standings\""
   ]
  },
  {
   "cell_type": "markdown",
   "metadata": {},
   "source": [
    "* Objectif : création d'une deuxième base incluant notamment la position sur la grille de départ et le podium final\n",
    "* Observations de valeurs manquantes sur la variable \"time\" : on choisit donc de l'exclure (64% de valeurs manquantes)"
   ]
  },
  {
   "cell_type": "code",
   "execution_count": 8,
   "metadata": {},
   "outputs": [
    {
     "ename": "AttributeError",
     "evalue": "'dict' object has no attribute 'season'",
     "output_type": "error",
     "traceback": [
      "\u001b[0;31m---------------------------------------------------------------------------\u001b[0m",
      "\u001b[0;31mAttributeError\u001b[0m                            Traceback (most recent call last)",
      "\u001b[0;32m<ipython-input-8-9d926e2deb0d>\u001b[0m in \u001b[0;36m<module>\u001b[0;34m\u001b[0m\n\u001b[1;32m      1\u001b[0m \u001b[0mrounds\u001b[0m \u001b[0;34m=\u001b[0m \u001b[0;34m[\u001b[0m\u001b[0;34m]\u001b[0m\u001b[0;34m\u001b[0m\u001b[0;34m\u001b[0m\u001b[0m\n\u001b[0;32m----> 2\u001b[0;31m \u001b[0;32mfor\u001b[0m \u001b[0myear\u001b[0m \u001b[0;32min\u001b[0m \u001b[0mnp\u001b[0m\u001b[0;34m.\u001b[0m\u001b[0marray\u001b[0m\u001b[0;34m(\u001b[0m\u001b[0mraces\u001b[0m\u001b[0;34m.\u001b[0m\u001b[0mseason\u001b[0m\u001b[0;34m.\u001b[0m\u001b[0munique\u001b[0m\u001b[0;34m(\u001b[0m\u001b[0;34m)\u001b[0m\u001b[0;34m)\u001b[0m\u001b[0;34m:\u001b[0m\u001b[0;34m\u001b[0m\u001b[0;34m\u001b[0m\u001b[0m\n\u001b[0m\u001b[1;32m      3\u001b[0m     \u001b[0mrounds\u001b[0m\u001b[0;34m.\u001b[0m\u001b[0mappend\u001b[0m\u001b[0;34m(\u001b[0m\u001b[0;34m[\u001b[0m\u001b[0myear\u001b[0m\u001b[0;34m,\u001b[0m \u001b[0mlist\u001b[0m\u001b[0;34m(\u001b[0m\u001b[0mraces\u001b[0m\u001b[0;34m[\u001b[0m\u001b[0mraces\u001b[0m\u001b[0;34m.\u001b[0m\u001b[0mseason\u001b[0m \u001b[0;34m==\u001b[0m \u001b[0myear\u001b[0m\u001b[0;34m]\u001b[0m\u001b[0;34m[\u001b[0m\u001b[0;34m'round'\u001b[0m\u001b[0;34m]\u001b[0m\u001b[0;34m)\u001b[0m\u001b[0;34m]\u001b[0m\u001b[0;34m)\u001b[0m\u001b[0;34m\u001b[0m\u001b[0;34m\u001b[0m\u001b[0m\n\u001b[1;32m      4\u001b[0m \u001b[0;34m\u001b[0m\u001b[0m\n\u001b[1;32m      5\u001b[0m \u001b[0mprint\u001b[0m\u001b[0;34m(\u001b[0m\u001b[0mrounds\u001b[0m\u001b[0;34m)\u001b[0m\u001b[0;34m\u001b[0m\u001b[0;34m\u001b[0m\u001b[0m\n",
      "\u001b[0;31mAttributeError\u001b[0m: 'dict' object has no attribute 'season'"
     ]
    }
   ],
   "source": [
    "rounds = []\n",
    "for year in np.array(races.season.unique()):\n",
    "    rounds.append([year, list(races[races.season == year]['round'])])\n",
    "\n",
    "print(rounds)\n",
    "# query API\n",
    "    \n",
    "results = {'season': [],\n",
    "          'round':[],\n",
    "           'circuit_id':[],\n",
    "          'driver': [],\n",
    "           'date_of_birth': [],\n",
    "           'nationality': [],\n",
    "          'constructor': [],\n",
    "          'grid': [],\n",
    "          'time': [],\n",
    "          'status': [],\n",
    "          'points': [],\n",
    "          'podium': []}\n",
    "\n",
    "for n in list(range(len(rounds))):\n",
    "    for i in rounds[n][1]:\n",
    "    \n",
    "        url = 'http://ergast.com/api/f1/{}/{}/results.json'\n",
    "        r = requests.get(url.format(rounds[n][0], i))\n",
    "        json = r.json()\n",
    "\n",
    "        for item in json['MRData']['RaceTable']['Races'][0]['Results']:\n",
    "            try:\n",
    "                results['season'].append(int(json['MRData']['RaceTable']['Races'][0]['season']))\n",
    "            except:\n",
    "                results['season'].append(None)\n",
    "\n",
    "            try:\n",
    "                results['round'].append(int(json['MRData']['RaceTable']['Races'][0]['round']))\n",
    "            except:\n",
    "                results['round'].append(None)\n",
    "\n",
    "            try:\n",
    "                results['circuit_id'].append(json['MRData']['RaceTable']['Races'][0]['Circuit']['circuitId'])\n",
    "            except:\n",
    "                results['circuit_id'].append(None)\n",
    "\n",
    "            try:\n",
    "                results['driver'].append(item['Driver']['driverId'])\n",
    "            except:\n",
    "                results['driver'].append(None)\n",
    "            \n",
    "            try:\n",
    "                results['date_of_birth'].append(item['Driver']['dateOfBirth'])\n",
    "            except:\n",
    "                results['date_of_birth'].append(None)\n",
    "                \n",
    "            try:\n",
    "                results['nationality'].append(item['Driver']['nationality'])\n",
    "            except:\n",
    "                results['nationality'].append(None)\n",
    "\n",
    "            try:\n",
    "                results['constructor'].append(item['Constructor']['constructorId'])\n",
    "            except:\n",
    "                results['constructor'].append(None)\n",
    "\n",
    "            try:\n",
    "                results['grid'].append(int(item['grid']))\n",
    "            except:\n",
    "                results['grid'].append(None)\n",
    "\n",
    "            try:\n",
    "                results['time'].append(int(item['Time']['millis']))\n",
    "            except:\n",
    "                results['time'].append(None)\n",
    "\n",
    "            try:\n",
    "                results['status'].append(item['status'])\n",
    "            except:\n",
    "                results['status'].append(None)\n",
    "\n",
    "            try:\n",
    "                results['points'].append(int(item['points']))\n",
    "            except:\n",
    "                results['points'].append(None)\n",
    "\n",
    "            try:\n",
    "                results['podium'].append(int(item['position']))\n",
    "            except:\n",
    "                results['podium'].append(None)\n",
    "\n",
    "           \n",
    "results = pd.DataFrame(results)"
   ]
  },
  {
   "cell_type": "code",
   "execution_count": 6,
   "metadata": {},
   "outputs": [
    {
     "data": {
      "text/html": [
       "<div>\n",
       "<style scoped>\n",
       "    .dataframe tbody tr th:only-of-type {\n",
       "        vertical-align: middle;\n",
       "    }\n",
       "\n",
       "    .dataframe tbody tr th {\n",
       "        vertical-align: top;\n",
       "    }\n",
       "\n",
       "    .dataframe thead th {\n",
       "        text-align: right;\n",
       "    }\n",
       "</style>\n",
       "<table border=\"1\" class=\"dataframe\">\n",
       "  <thead>\n",
       "    <tr style=\"text-align: right;\">\n",
       "      <th></th>\n",
       "      <th>season</th>\n",
       "      <th>round</th>\n",
       "      <th>circuit_id</th>\n",
       "      <th>driver</th>\n",
       "      <th>date_of_birth</th>\n",
       "      <th>nationality</th>\n",
       "      <th>constructor</th>\n",
       "      <th>grid</th>\n",
       "      <th>time</th>\n",
       "      <th>status</th>\n",
       "      <th>points</th>\n",
       "      <th>podium</th>\n",
       "    </tr>\n",
       "  </thead>\n",
       "  <tbody>\n",
       "    <tr>\n",
       "      <th>0</th>\n",
       "      <td>2018</td>\n",
       "      <td>1</td>\n",
       "      <td>albert_park</td>\n",
       "      <td>vettel</td>\n",
       "      <td>1987-07-03</td>\n",
       "      <td>German</td>\n",
       "      <td>ferrari</td>\n",
       "      <td>3</td>\n",
       "      <td>5373283.0</td>\n",
       "      <td>Finished</td>\n",
       "      <td>25</td>\n",
       "      <td>1</td>\n",
       "    </tr>\n",
       "    <tr>\n",
       "      <th>1</th>\n",
       "      <td>2018</td>\n",
       "      <td>1</td>\n",
       "      <td>albert_park</td>\n",
       "      <td>hamilton</td>\n",
       "      <td>1985-01-07</td>\n",
       "      <td>British</td>\n",
       "      <td>mercedes</td>\n",
       "      <td>1</td>\n",
       "      <td>5378319.0</td>\n",
       "      <td>Finished</td>\n",
       "      <td>18</td>\n",
       "      <td>2</td>\n",
       "    </tr>\n",
       "    <tr>\n",
       "      <th>2</th>\n",
       "      <td>2018</td>\n",
       "      <td>1</td>\n",
       "      <td>albert_park</td>\n",
       "      <td>raikkonen</td>\n",
       "      <td>1979-10-17</td>\n",
       "      <td>Finnish</td>\n",
       "      <td>ferrari</td>\n",
       "      <td>2</td>\n",
       "      <td>5379592.0</td>\n",
       "      <td>Finished</td>\n",
       "      <td>15</td>\n",
       "      <td>3</td>\n",
       "    </tr>\n",
       "    <tr>\n",
       "      <th>3</th>\n",
       "      <td>2018</td>\n",
       "      <td>1</td>\n",
       "      <td>albert_park</td>\n",
       "      <td>ricciardo</td>\n",
       "      <td>1989-07-01</td>\n",
       "      <td>Australian</td>\n",
       "      <td>red_bull</td>\n",
       "      <td>8</td>\n",
       "      <td>5380352.0</td>\n",
       "      <td>Finished</td>\n",
       "      <td>12</td>\n",
       "      <td>4</td>\n",
       "    </tr>\n",
       "    <tr>\n",
       "      <th>4</th>\n",
       "      <td>2018</td>\n",
       "      <td>1</td>\n",
       "      <td>albert_park</td>\n",
       "      <td>alonso</td>\n",
       "      <td>1981-07-29</td>\n",
       "      <td>Spanish</td>\n",
       "      <td>mclaren</td>\n",
       "      <td>10</td>\n",
       "      <td>5401169.0</td>\n",
       "      <td>Finished</td>\n",
       "      <td>10</td>\n",
       "      <td>5</td>\n",
       "    </tr>\n",
       "  </tbody>\n",
       "</table>\n",
       "</div>"
      ],
      "text/plain": [
       "   season  round   circuit_id     driver date_of_birth nationality  \\\n",
       "0    2018      1  albert_park     vettel    1987-07-03      German   \n",
       "1    2018      1  albert_park   hamilton    1985-01-07     British   \n",
       "2    2018      1  albert_park  raikkonen    1979-10-17     Finnish   \n",
       "3    2018      1  albert_park  ricciardo    1989-07-01  Australian   \n",
       "4    2018      1  albert_park     alonso    1981-07-29     Spanish   \n",
       "\n",
       "  constructor  grid       time    status  points  podium  \n",
       "0     ferrari     3  5373283.0  Finished      25       1  \n",
       "1    mercedes     1  5378319.0  Finished      18       2  \n",
       "2     ferrari     2  5379592.0  Finished      15       3  \n",
       "3    red_bull     8  5380352.0  Finished      12       4  \n",
       "4     mclaren    10  5401169.0  Finished      10       5  "
      ]
     },
     "execution_count": 6,
     "metadata": {},
     "output_type": "execute_result"
    }
   ],
   "source": [
    "results.head()"
   ]
  },
  {
   "cell_type": "code",
   "execution_count": 7,
   "metadata": {},
   "outputs": [
    {
     "name": "stdout",
     "output_type": "stream",
     "text": [
      "<class 'pandas.core.frame.DataFrame'>\n",
      "RangeIndex: 1180 entries, 0 to 1179\n",
      "Data columns (total 12 columns):\n",
      " #   Column         Non-Null Count  Dtype  \n",
      "---  ------         --------------  -----  \n",
      " 0   season         1180 non-null   int64  \n",
      " 1   round          1180 non-null   int64  \n",
      " 2   circuit_id     1180 non-null   object \n",
      " 3   driver         1180 non-null   object \n",
      " 4   date_of_birth  1180 non-null   object \n",
      " 5   nationality    1180 non-null   object \n",
      " 6   constructor    1180 non-null   object \n",
      " 7   grid           1180 non-null   int64  \n",
      " 8   time           579 non-null    float64\n",
      " 9   status         1180 non-null   object \n",
      " 10  points         1180 non-null   int64  \n",
      " 11  podium         1180 non-null   int64  \n",
      "dtypes: float64(1), int64(5), object(6)\n",
      "memory usage: 110.8+ KB\n"
     ]
    }
   ],
   "source": [
    "results.info()"
   ]
  },
  {
   "cell_type": "code",
   "execution_count": 8,
   "metadata": {
    "scrolled": true
   },
   "outputs": [
    {
     "data": {
      "image/png": "[encoded data removed]",
      "text/plain": [
       "<Figure size 1440x720 with 2 Axes>"
      ]
     },
     "metadata": {},
     "output_type": "display_data"
    }
   ],
   "source": [
    "results_na=results.copy()\n",
    "sns.heatmap(results_na.isna()) # On visualise l'emplacements des valeurs manquantes On a bcp de valeurs manquantes et un peu partout\n",
    "results_na.isna()['time'].mean() # 64% de valeurs manquantes on ne va donc pas utilise\n",
    "\n",
    "results=results.drop(labels='time', axis=1) #suppression de la colonne aux données manquantes"
   ]
  },
  {
   "cell_type": "markdown",
   "metadata": {},
   "source": [
    "## Création de la base \"driver_standings\""
   ]
  },
  {
   "cell_type": "code",
   "execution_count": 21,
   "metadata": {},
   "outputs": [],
   "source": [
    "driver_standings = {'season': [],\n",
    "                    'round':[],\n",
    "                    'driver': [],\n",
    "                    'driver_points': [],\n",
    "                    'driver_wins': [],\n",
    "                   'driver_standings_pos': []}\n",
    "\n",
    "# query API\n",
    "\n",
    "for n in list(range(len(rounds))):     \n",
    "    for i in rounds[n][1]:    # iterate through rounds of each year\n",
    "    \n",
    "        url = 'https://ergast.com/api/f1/{}/{}/driverStandings.json'\n",
    "        r = requests.get(url.format(rounds[n][0], i))\n",
    "        json = r.json()\n",
    "\n",
    "        for item in json['MRData']['StandingsTable']['StandingsLists'][0]['DriverStandings']:\n",
    "            try:\n",
    "                driver_standings['season'].append(int(json['MRData']['StandingsTable']['StandingsLists'][0]['season']))\n",
    "            except:\n",
    "                driver_standings['season'].append(None)\n",
    "\n",
    "            try:\n",
    "                driver_standings['round'].append(int(json['MRData']['StandingsTable']['StandingsLists'][0]['round']))\n",
    "            except:\n",
    "                driver_standings['round'].append(None)\n",
    "                                         \n",
    "            try:\n",
    "                driver_standings['driver'].append(item['Driver']['driverId'])\n",
    "            except:\n",
    "                driver_standings['driver'].append(None)\n",
    "            \n",
    "            try:\n",
    "                driver_standings['driver_points'].append(int(item['points']))\n",
    "            except:\n",
    "                driver_standings['driver_points'].append(None)\n",
    "            \n",
    "            try:\n",
    "                driver_standings['driver_wins'].append(int(item['wins']))\n",
    "            except:\n",
    "                driver_standings['driver_wins'].append(None)\n",
    "                \n",
    "            try:\n",
    "                driver_standings['driver_standings_pos'].append(int(item['position']))\n",
    "            except:\n",
    "                driver_standings['driver_standings_pos'].append(None)\n",
    "            \n",
    "driver_standings = pd.DataFrame(driver_standings)\n",
    "\n",
    "# define lookup function to shift points and number of wins from previous rounds\n",
    "\n",
    "def lookup (df, team, points):\n",
    "    df['lookup1'] = df.season.astype(str) + df[team] + df['round'].astype(str)\n",
    "    df['lookup2'] = df.season.astype(str) + df[team] + (df['round']-1).astype(str)\n",
    "    new_df = df.merge(df[['lookup1', points]], how = 'left', left_on='lookup2',right_on='lookup1')\n",
    "    new_df.drop(['lookup1_x', 'lookup2', 'lookup1_y'], axis = 1, inplace = True)\n",
    "    new_df.rename(columns = {points+'_x': points+'_after_race', points+'_y': points}, inplace = True)\n",
    "    new_df[points].fillna(0, inplace = True)\n",
    "    return new_df\n",
    "  \n",
    "driver_standings = lookup(driver_standings, 'driver', 'driver_points')\n",
    "driver_standings = lookup(driver_standings, 'driver', 'driver_wins')\n",
    "driver_standings = lookup(driver_standings, 'driver', 'driver_standings_pos')\n",
    "\n",
    "driver_standings.drop(['driver_points_after_race', 'driver_wins_after_race', 'driver_standings_pos_after_race'], \n",
    "                      axis = 1, inplace = True)"
   ]
  },
  {
   "cell_type": "markdown",
   "metadata": {},
   "source": [
    "## Création de la base \"constructor_standings\""
   ]
  },
  {
   "cell_type": "code",
   "execution_count": 22,
   "metadata": {},
   "outputs": [],
   "source": [
    "# start from year 1990\n",
    "\n",
    "constructor_rounds = rounds\n",
    "\n",
    "constructor_standings = {'season': [],\n",
    "                    'round':[],\n",
    "                    'constructor': [],\n",
    "                    'constructor_points': [],\n",
    "                    'constructor_wins': [],\n",
    "                   'constructor_standings_pos': []}\n",
    "# query API\n",
    "\n",
    "for n in list(range(len(constructor_rounds))):\n",
    "    for i in constructor_rounds[n][1]:\n",
    "    \n",
    "        url = 'https://ergast.com/api/f1/{}/{}/constructorStandings.json'\n",
    "        r = requests.get(url.format(constructor_rounds[n][0], i))\n",
    "        json = r.json()\n",
    "\n",
    "        for item in json['MRData']['StandingsTable']['StandingsLists'][0]['ConstructorStandings']:\n",
    "            try:\n",
    "                constructor_standings['season'].append(int(json['MRData']['StandingsTable']['StandingsLists'][0]['season']))\n",
    "            except:\n",
    "                constructor_standings['season'].append(None)\n",
    "\n",
    "            try:\n",
    "                constructor_standings['round'].append(int(json['MRData']['StandingsTable']['StandingsLists'][0]['round']))\n",
    "            except:\n",
    "                constructor_standings['round'].append(None)\n",
    "                                         \n",
    "            try:\n",
    "                constructor_standings['constructor'].append(item['Constructor']['constructorId'])\n",
    "            except:\n",
    "                constructor_standings['constructor'].append(None)\n",
    "            \n",
    "            try:\n",
    "                constructor_standings['constructor_points'].append(int(item['points']))\n",
    "            except:\n",
    "                constructor_standings['constructor_points'].append(None)\n",
    "            \n",
    "            try:\n",
    "                constructor_standings['constructor_wins'].append(int(item['wins']))\n",
    "            except:\n",
    "                constructor_standings['constructor_wins'].append(None)\n",
    "                \n",
    "            try:\n",
    "                constructor_standings['constructor_standings_pos'].append(int(item['position']))\n",
    "            except:\n",
    "                constructor_standings['constructor_standings_pos'].append(None)\n",
    "            \n",
    "constructor_standings = pd.DataFrame(constructor_standings)\n",
    "\n",
    "constructor_standings = lookup(constructor_standings, 'constructor', 'constructor_points')\n",
    "constructor_standings = lookup(constructor_standings, 'constructor', 'constructor_wins')\n",
    "constructor_standings = lookup(constructor_standings, 'constructor', 'constructor_standings_pos')\n",
    "\n",
    "constructor_standings.drop(['constructor_points_after_race', 'constructor_wins_after_race','constructor_standings_pos_after_race' ],\n",
    "                           axis = 1, inplace = True)"
   ]
  },
  {
   "cell_type": "markdown",
   "metadata": {},
   "source": [
    "## Création de la base \"qualifying_results\""
   ]
  },
  {
   "cell_type": "code",
   "execution_count": 23,
   "metadata": {},
   "outputs": [],
   "source": [
    "import bs4\n",
    "from bs4 import BeautifulSoup\n",
    "\n",
    "qualifying_results = pd.DataFrame()\n",
    "\n",
    "for year in list(range(1990,2021)):\n",
    "    url = 'https://www.formula1.com/en/results.html/{}/races.html'\n",
    "    r = requests.get(url.format(year))\n",
    "    soup = BeautifulSoup(r.text, 'html.parser')\n",
    "    \n",
    "    # find links to all circuits for a certain year\n",
    "    \n",
    "    year_links = []\n",
    "    for page in soup.find_all('a', attrs = {'class':\"resultsarchive-filter-item-link FilterTrigger\"}):\n",
    "        link = page.get('href')\n",
    "        if f'/en/results.html/{year}/races/' in link: \n",
    "            year_links.append(link)\n",
    "    \n",
    "    # for each circuit, switch to the starting grid page and read table\n",
    "\n",
    "    year_df = pd.DataFrame()\n",
    "    new_url = 'https://www.formula1.com{}'\n",
    "    for n, link in list(enumerate(year_links)):\n",
    "        link = link.replace('race-result.html', 'starting-grid.html')\n",
    "        df = pd.read_html(new_url.format(link))\n",
    "        df = df[0]\n",
    "        df['season'] = year\n",
    "        df['round'] = n+1\n",
    "        for col in df:\n",
    "            if 'Unnamed' in col:\n",
    "                df.drop(col, axis = 1, inplace = True)\n",
    "\n",
    "        year_df = pd.concat([year_df, df])\n",
    "\n",
    "    # concatenate all tables from all years  \n",
    "        \n",
    "    qualifying_results = pd.concat([qualifying_results, year_df])\n",
    "\n",
    "# rename columns\n",
    "    \n",
    "qualifying_results.rename(columns = {'Pos': 'grid', 'Driver': 'driver_name', 'Car': 'car',\n",
    "                                     'Time': 'qualifying_time'}, inplace = True)\n",
    "# drop driver number column\n",
    "\n",
    "qualifying_results.drop('No', axis = 1, inplace = True)"
   ]
  },
  {
   "cell_type": "markdown",
   "metadata": {},
   "source": [
    "##  Création de la base \"weather\" "
   ]
  },
  {
   "cell_type": "markdown",
   "metadata": {},
   "source": [
    "* Objectif : création d'une deuxième base incluant les conditions météorologiques pour chaque course "
   ]
  },
  {
   "cell_type": "code",
   "execution_count": 24,
   "metadata": {
    "scrolled": true
   },
   "outputs": [
    {
     "name": "stderr",
     "output_type": "stream",
     "text": [
      "<ipython-input-24-84e46cc0848e>:48: SettingWithCopyWarning: \n",
      "A value is trying to be set on a copy of a slice from a DataFrame.\n",
      "Try using .loc[row_indexer,col_indexer] = value instead\n",
      "\n",
      "See the caveats in the documentation: https://pandas.pydata.org/pandas-docs/stable/user_guide/indexing.html#returning-a-view-versus-a-copy\n",
      "  weather['weather'] = info\n"
     ]
    }
   ],
   "source": [
    "from selenium import webdriver\n",
    "\n",
    "weather = races.iloc[:,[0,1,2]]\n",
    "\n",
    "info = []\n",
    "\n",
    "# read wikipedia tables\n",
    "\n",
    "for link in races.url:\n",
    "    try:\n",
    "        df = pd.read_html(link)[0]\n",
    "        if 'Weather' in list(df.iloc[:,0]):\n",
    "            n = list(df.iloc[:,0]).index('Weather')\n",
    "            info.append(df.iloc[n,1])\n",
    "        else:\n",
    "            df = pd.read_html(link)[1]\n",
    "            if 'Weather' in list(df.iloc[:,0]):\n",
    "                n = list(df.iloc[:,0]).index('Weather')\n",
    "                info.append(df.iloc[n,1])\n",
    "            else:\n",
    "                df = pd.read_html(link)[2]\n",
    "                if 'Weather' in list(df.iloc[:,0]):\n",
    "                    n = list(df.iloc[:,0]).index('Weather')\n",
    "                    info.append(df.iloc[n,1])\n",
    "                else:\n",
    "                    df = pd.read_html(link)[3]\n",
    "                    if 'Weather' in list(df.iloc[:,0]):\n",
    "                        n = list(df.iloc[:,0]).index('Weather')\n",
    "                        info.append(df.iloc[n,1])\n",
    "                    else:\n",
    "                        driver = webdriver.Chrome()\n",
    "                        driver.get(link)\n",
    "\n",
    "                        # click language button\n",
    "                        button = driver.find_element_by_link_text('Français')\n",
    "                        button.click()\n",
    "                        \n",
    "                        # find weather in italian with selenium\n",
    "                        \n",
    "                        clima = driver.find_element_by_xpath('//*[@id=\"mw-content-text\"]/div/table[1]/tbody/tr[9]/td').text\n",
    "                        info.append(clima) \n",
    "                                \n",
    "    except:\n",
    "        info.append('not found')\n",
    "\n",
    "# append column with weather information to dataframe  \n",
    "  \n",
    "weather['weather'] = info\n",
    "\n",
    "# set up a dictionary to convert weather information into keywords\n",
    "\n",
    "weather_dict = {'weather_warm': ['clair', 'clear', 'warm', 'hot', 'sunny', 'fine', 'mild', 'dégagé'],\n",
    "               'weather_cold': ['cold', 'fresh', 'chilly', 'cool'],\n",
    "               'weather_dry': ['dry', 'humide'],\n",
    "               'weather_wet': ['showers', 'wet', 'rain', 'pluvieux', 'damp', 'thunderstorms', 'rainy'],\n",
    "               'weather_cloudy': ['overcast', 'nuageux', 'clouds', 'cloudy', 'grey', 'gris']}\n",
    "\n",
    "# map new df according to weather dictionary\n",
    "\n",
    "weather_df = pd.DataFrame(columns = weather_dict.keys())\n",
    "for col in weather_df:\n",
    "    weather_df[col] = weather['weather'].map(lambda x: 1 if any(i in weather_dict[col] for i in x.lower().split()) else 0)\n",
    "   \n",
    "weather_info = pd.concat([weather, weather_df], axis = 1)"
   ]
  },
  {
   "cell_type": "code",
   "execution_count": 25,
   "metadata": {},
   "outputs": [
    {
     "data": {
      "text/html": [
       "<div>\n",
       "<style scoped>\n",
       "    .dataframe tbody tr th:only-of-type {\n",
       "        vertical-align: middle;\n",
       "    }\n",
       "\n",
       "    .dataframe tbody tr th {\n",
       "        vertical-align: top;\n",
       "    }\n",
       "\n",
       "    .dataframe thead th {\n",
       "        text-align: right;\n",
       "    }\n",
       "</style>\n",
       "<table border=\"1\" class=\"dataframe\">\n",
       "  <thead>\n",
       "    <tr style=\"text-align: right;\">\n",
       "      <th></th>\n",
       "      <th>season</th>\n",
       "      <th>round</th>\n",
       "      <th>circuit_id</th>\n",
       "      <th>weather</th>\n",
       "      <th>weather_warm</th>\n",
       "      <th>weather_cold</th>\n",
       "      <th>weather_dry</th>\n",
       "      <th>weather_wet</th>\n",
       "      <th>weather_cloudy</th>\n",
       "    </tr>\n",
       "  </thead>\n",
       "  <tbody>\n",
       "    <tr>\n",
       "      <th>0</th>\n",
       "      <td>1990</td>\n",
       "      <td>1</td>\n",
       "      <td>phoenix</td>\n",
       "      <td>Cloudy and cool with temperatures reaching up ...</td>\n",
       "      <td>0</td>\n",
       "      <td>1</td>\n",
       "      <td>0</td>\n",
       "      <td>0</td>\n",
       "      <td>1</td>\n",
       "    </tr>\n",
       "    <tr>\n",
       "      <th>1</th>\n",
       "      <td>1990</td>\n",
       "      <td>2</td>\n",
       "      <td>interlagos</td>\n",
       "      <td>Hot, dry, sunny</td>\n",
       "      <td>1</td>\n",
       "      <td>0</td>\n",
       "      <td>0</td>\n",
       "      <td>0</td>\n",
       "      <td>0</td>\n",
       "    </tr>\n",
       "    <tr>\n",
       "      <th>2</th>\n",
       "      <td>1990</td>\n",
       "      <td>3</td>\n",
       "      <td>imola</td>\n",
       "      <td>Warm, dry, sunny</td>\n",
       "      <td>1</td>\n",
       "      <td>0</td>\n",
       "      <td>0</td>\n",
       "      <td>0</td>\n",
       "      <td>0</td>\n",
       "    </tr>\n",
       "    <tr>\n",
       "      <th>3</th>\n",
       "      <td>1990</td>\n",
       "      <td>4</td>\n",
       "      <td>monaco</td>\n",
       "      <td>Warm, dry, sunny</td>\n",
       "      <td>1</td>\n",
       "      <td>0</td>\n",
       "      <td>0</td>\n",
       "      <td>0</td>\n",
       "      <td>0</td>\n",
       "    </tr>\n",
       "    <tr>\n",
       "      <th>4</th>\n",
       "      <td>1990</td>\n",
       "      <td>5</td>\n",
       "      <td>villeneuve</td>\n",
       "      <td>Warm and cloudy with temperatures approaching ...</td>\n",
       "      <td>1</td>\n",
       "      <td>0</td>\n",
       "      <td>0</td>\n",
       "      <td>0</td>\n",
       "      <td>1</td>\n",
       "    </tr>\n",
       "    <tr>\n",
       "      <th>...</th>\n",
       "      <td>...</td>\n",
       "      <td>...</td>\n",
       "      <td>...</td>\n",
       "      <td>...</td>\n",
       "      <td>...</td>\n",
       "      <td>...</td>\n",
       "      <td>...</td>\n",
       "      <td>...</td>\n",
       "      <td>...</td>\n",
       "    </tr>\n",
       "    <tr>\n",
       "      <th>546</th>\n",
       "      <td>2020</td>\n",
       "      <td>13</td>\n",
       "      <td>imola</td>\n",
       "      <td>Partly cloudy</td>\n",
       "      <td>0</td>\n",
       "      <td>0</td>\n",
       "      <td>0</td>\n",
       "      <td>0</td>\n",
       "      <td>1</td>\n",
       "    </tr>\n",
       "    <tr>\n",
       "      <th>547</th>\n",
       "      <td>2020</td>\n",
       "      <td>14</td>\n",
       "      <td>istanbul</td>\n",
       "      <td>Overcast. Wet and drying track. Air: 11–14 °C ...</td>\n",
       "      <td>0</td>\n",
       "      <td>0</td>\n",
       "      <td>0</td>\n",
       "      <td>1</td>\n",
       "      <td>0</td>\n",
       "    </tr>\n",
       "    <tr>\n",
       "      <th>548</th>\n",
       "      <td>2020</td>\n",
       "      <td>15</td>\n",
       "      <td>bahrain</td>\n",
       "      <td>Clear</td>\n",
       "      <td>1</td>\n",
       "      <td>0</td>\n",
       "      <td>0</td>\n",
       "      <td>0</td>\n",
       "      <td>0</td>\n",
       "    </tr>\n",
       "    <tr>\n",
       "      <th>549</th>\n",
       "      <td>2020</td>\n",
       "      <td>16</td>\n",
       "      <td>bahrain</td>\n",
       "      <td>Clear</td>\n",
       "      <td>1</td>\n",
       "      <td>0</td>\n",
       "      <td>0</td>\n",
       "      <td>0</td>\n",
       "      <td>0</td>\n",
       "    </tr>\n",
       "    <tr>\n",
       "      <th>550</th>\n",
       "      <td>2020</td>\n",
       "      <td>17</td>\n",
       "      <td>yas_marina</td>\n",
       "      <td>Clear</td>\n",
       "      <td>1</td>\n",
       "      <td>0</td>\n",
       "      <td>0</td>\n",
       "      <td>0</td>\n",
       "      <td>0</td>\n",
       "    </tr>\n",
       "  </tbody>\n",
       "</table>\n",
       "<p>551 rows × 9 columns</p>\n",
       "</div>"
      ],
      "text/plain": [
       "     season  round  circuit_id  \\\n",
       "0      1990      1     phoenix   \n",
       "1      1990      2  interlagos   \n",
       "2      1990      3       imola   \n",
       "3      1990      4      monaco   \n",
       "4      1990      5  villeneuve   \n",
       "..      ...    ...         ...   \n",
       "546    2020     13       imola   \n",
       "547    2020     14    istanbul   \n",
       "548    2020     15     bahrain   \n",
       "549    2020     16     bahrain   \n",
       "550    2020     17  yas_marina   \n",
       "\n",
       "                                               weather  weather_warm  \\\n",
       "0    Cloudy and cool with temperatures reaching up ...             0   \n",
       "1                                      Hot, dry, sunny             1   \n",
       "2                                     Warm, dry, sunny             1   \n",
       "3                                     Warm, dry, sunny             1   \n",
       "4    Warm and cloudy with temperatures approaching ...             1   \n",
       "..                                                 ...           ...   \n",
       "546                                      Partly cloudy             0   \n",
       "547  Overcast. Wet and drying track. Air: 11–14 °C ...             0   \n",
       "548                                              Clear             1   \n",
       "549                                              Clear             1   \n",
       "550                                              Clear             1   \n",
       "\n",
       "     weather_cold  weather_dry  weather_wet  weather_cloudy  \n",
       "0               1            0            0               1  \n",
       "1               0            0            0               0  \n",
       "2               0            0            0               0  \n",
       "3               0            0            0               0  \n",
       "4               0            0            0               1  \n",
       "..            ...          ...          ...             ...  \n",
       "546             0            0            0               1  \n",
       "547             0            0            1               0  \n",
       "548             0            0            0               0  \n",
       "549             0            0            0               0  \n",
       "550             0            0            0               0  \n",
       "\n",
       "[551 rows x 9 columns]"
      ]
     },
     "execution_count": 25,
     "metadata": {},
     "output_type": "execute_result"
    }
   ],
   "source": [
    "weather_info"
   ]
  },
  {
   "cell_type": "markdown",
   "metadata": {},
   "source": [
    "# II- Statistiques descriptives et études du lien entre nos variables et la victoire "
   ]
  },
  {
   "cell_type": "markdown",
   "metadata": {},
   "source": [
    "## II-1. Corrélation entre la Grille de départ et le classement d'arrivée"
   ]
  },
  {
   "cell_type": "markdown",
   "metadata": {},
   "source": [
    "* La première idée est d'étudier le lien entre la grille de départ et le classement final. En effet, cela nous paraît le premier critère qui va determiner l'issue de la course"
   ]
  },
  {
   "cell_type": "markdown",
   "metadata": {},
   "source": [
    "###  Première étude de corrélation"
   ]
  },
  {
   "cell_type": "markdown",
   "metadata": {},
   "source": [
    "* On trace donc le nuage de point pour toutes les données dont nous disposons"
   ]
  },
  {
   "cell_type": "code",
   "execution_count": 26,
   "metadata": {},
   "outputs": [
    {
     "data": {
      "text/plain": [
       "<seaborn.axisgrid.FacetGrid at 0x7ff9ab72bb50>"
      ]
     },
     "execution_count": 26,
     "metadata": {},
     "output_type": "execute_result"
    },
    {
     "data": {
      "image/png": "[encoded data removed]",
      "text/plain": [
       "<Figure size 360x360 with 1 Axes>"
      ]
     },
     "metadata": {},
     "output_type": "display_data"
    }
   ],
   "source": [
    "sns.relplot(x=\"grid\", y=\"podium\", data=results)"
   ]
  },
  {
   "cell_type": "markdown",
   "metadata": {},
   "source": [
    "* Commentaires : A première vue, il n'y a pas de corrélations claires entre la position initiale sur la grille et la position d'arrivée. Cela est surement dû au nombre de données et aux années totalement différentes qu'on étudie : il y a beaucoup de bruit."
   ]
  },
  {
   "cell_type": "markdown",
   "metadata": {},
   "source": [
    "* Nous traçons ensuite ce nuage de point pour l'année 2020, afin de pouvoir mieux visualiser les points, et par circuit afin de visualiser des tendances par circuit."
   ]
  },
  {
   "cell_type": "code",
   "execution_count": 27,
   "metadata": {},
   "outputs": [
    {
     "data": {
      "text/plain": [
       "<seaborn.axisgrid.FacetGrid at 0x7ff9a87a49a0>"
      ]
     },
     "execution_count": 27,
     "metadata": {},
     "output_type": "execute_result"
    },
    {
     "data": {
      "image/png": "[encoded data removed]",
      "text/plain": [
       "<Figure size 463.725x360 with 1 Axes>"
      ]
     },
     "metadata": {},
     "output_type": "display_data"
    }
   ],
   "source": [
    "results_2020=results.copy()\n",
    "results_2020=results_2020[results_2020[\"season\"]>=2020]\n",
    "sns.relplot(x=\"grid\", y=\"podium\", data=results_2020[results_2020[\"season\"]==2020],hue=\"circuit_id\")"
   ]
  },
  {
   "cell_type": "markdown",
   "metadata": {},
   "source": [
    "\n",
    "* Commentaires : On n'observe pas une corrélation encore très franche, mais une tendance linéaire se dessine tout de même "
   ]
  },
  {
   "cell_type": "markdown",
   "metadata": {},
   "source": [
    "### Création d'une fonction de corrélation entre la grille et le podium"
   ]
  },
  {
   "cell_type": "code",
   "execution_count": 28,
   "metadata": {},
   "outputs": [],
   "source": [
    "results_2010=results[results[\"season\"]>=2010].copy() # je prends uniquement les courses à partir de 2010"
   ]
  },
  {
   "cell_type": "code",
   "execution_count": 29,
   "metadata": {},
   "outputs": [],
   "source": [
    "# Cette fonction donne la corrélation par circuit à l'année choisie entre le podium et la grille \n",
    "    \n",
    "def corr_grid_podium(annee):\n",
    "    \n",
    "    circuits=results_2010[results_2010[\"season\"] ==annee][\"circuit_id\"].unique()\n",
    "    df=results_2010[results_2010[\"season\"] ==annee]\n",
    "    les_correlations={}\n",
    "\n",
    "    for circuit in circuits:\n",
    "        df1=df[df[\"circuit_id\"]==circuit][['grid',\"podium\"]]\n",
    "        corr=df1.corr()[\"podium\"][0]\n",
    "        les_correlations[circuit]=corr\n",
    "    \n",
    "    df2=pd.DataFrame(list(les_correlations.items()),\n",
    "                   columns=['circuit_id', 'correlation_grid_pod'])\n",
    "    df2=df2.sort_values(by='correlation_grid_pod',ascending=False)\n",
    "\n",
    "    print(df2)\n",
    "\n",
    "    _,(ax1) = plt.subplots(ncols=1)\n",
    "    sns.barplot(data=df2, x='circuit_id', y='correlation_grid_pod', ax=ax1, palette=sns.color_palette(\"icefire\"))\n",
    "    "
   ]
  },
  {
   "cell_type": "code",
   "execution_count": 23,
   "metadata": {
    "scrolled": false
   },
   "outputs": [
    {
     "name": "stdout",
     "output_type": "stream",
     "text": [
      "        circuit_id  correlation_grid_pod\n",
      "7           ricard              0.851128\n",
      "5           monaco              0.846617\n",
      "14      marina_bay              0.840602\n",
      "11     hungaroring              0.803008\n",
      "4        catalunya              0.775940\n",
      "17       rodriguez              0.762406\n",
      "0      albert_park              0.718797\n",
      "2         shanghai              0.711278\n",
      "9      silverstone              0.684211\n",
      "20      yas_marina              0.664662\n",
      "1          bahrain              0.622556\n",
      "18        americas              0.590977\n",
      "6       villeneuve              0.575940\n",
      "8    red_bull_ring              0.544361\n",
      "15           sochi              0.535338\n",
      "16          suzuka              0.503759\n",
      "3              BAK              0.354306\n",
      "13           monza              0.324812\n",
      "12             spa              0.231579\n",
      "19      interlagos              0.129323\n",
      "10  hockenheimring             -0.073684\n",
      "None\n"
     ]
    },
    {
     "data": {
      "image/png": "[encoded data removed]",
      "text/plain": [
       "<Figure size 1440x720 with 1 Axes>"
      ]
     },
     "metadata": {},
     "output_type": "display_data"
    }
   ],
   "source": [
    "print(corr_grid_podium(2019)) # On choisit arbitraiement 2019 ici"
   ]
  },
  {
   "cell_type": "markdown",
   "metadata": {},
   "source": [
    "* Observations : On observe une corrélation proche de 0.84 (proche de 1) pour le circuit de Monaco, ce qui est cohérent car les rues sont très étroites pour effectuer un dépassement. Au contraire, il est très facile de manoeuvrer sur le circuit de SPa, d'où une corrélation bien plus faible."
   ]
  },
  {
   "cell_type": "markdown",
   "metadata": {},
   "source": [
    "# II-2. Corrélation entre le constructeur et les classemements sur la grille et à l'arrivée"
   ]
  },
  {
   "cell_type": "markdown",
   "metadata": {},
   "source": [
    "* Notre deuxième idée est d'étudier l'importance du constructeur dans la victoire finale"
   ]
  },
  {
   "cell_type": "markdown",
   "metadata": {},
   "source": [
    "##  Position Moyenne des constructeurs sur la grille et à l'arrivée"
   ]
  },
  {
   "cell_type": "code",
   "execution_count": 16,
   "metadata": {},
   "outputs": [],
   "source": [
    "results_constructeur=results.copy()\n",
    "results_constructeur=results_constructeur[[\"constructor\",\"podium\",\"grid\"]]"
   ]
  },
  {
   "cell_type": "code",
   "execution_count": 17,
   "metadata": {
    "scrolled": false
   },
   "outputs": [
    {
     "data": {
      "text/html": [
       "<div>\n",
       "<style scoped>\n",
       "    .dataframe tbody tr th:only-of-type {\n",
       "        vertical-align: middle;\n",
       "    }\n",
       "\n",
       "    .dataframe tbody tr th {\n",
       "        vertical-align: top;\n",
       "    }\n",
       "\n",
       "    .dataframe thead th {\n",
       "        text-align: right;\n",
       "    }\n",
       "</style>\n",
       "<table border=\"1\" class=\"dataframe\">\n",
       "  <thead>\n",
       "    <tr style=\"text-align: right;\">\n",
       "      <th></th>\n",
       "      <th>podium</th>\n",
       "      <th>grid</th>\n",
       "    </tr>\n",
       "    <tr>\n",
       "      <th>constructor</th>\n",
       "      <th></th>\n",
       "      <th></th>\n",
       "    </tr>\n",
       "  </thead>\n",
       "  <tbody>\n",
       "    <tr>\n",
       "      <th>mercedes</th>\n",
       "      <td>3.601695</td>\n",
       "      <td>2.898305</td>\n",
       "    </tr>\n",
       "    <tr>\n",
       "      <th>ferrari</th>\n",
       "      <td>6.974576</td>\n",
       "      <td>5.652542</td>\n",
       "    </tr>\n",
       "    <tr>\n",
       "      <th>red_bull</th>\n",
       "      <td>7.169492</td>\n",
       "      <td>6.279661</td>\n",
       "    </tr>\n",
       "    <tr>\n",
       "      <th>racing_point</th>\n",
       "      <td>10.631579</td>\n",
       "      <td>11.315789</td>\n",
       "    </tr>\n",
       "    <tr>\n",
       "      <th>alphatauri</th>\n",
       "      <td>10.705882</td>\n",
       "      <td>11.235294</td>\n",
       "    </tr>\n",
       "    <tr>\n",
       "      <th>renault</th>\n",
       "      <td>10.779661</td>\n",
       "      <td>10.076271</td>\n",
       "    </tr>\n",
       "    <tr>\n",
       "      <th>mclaren</th>\n",
       "      <td>10.830508</td>\n",
       "      <td>11.084746</td>\n",
       "    </tr>\n",
       "    <tr>\n",
       "      <th>force_india</th>\n",
       "      <td>11.190476</td>\n",
       "      <td>10.690476</td>\n",
       "    </tr>\n",
       "    <tr>\n",
       "      <th>toro_rosso</th>\n",
       "      <td>12.690476</td>\n",
       "      <td>13.214286</td>\n",
       "    </tr>\n",
       "    <tr>\n",
       "      <th>sauber</th>\n",
       "      <td>12.785714</td>\n",
       "      <td>13.833333</td>\n",
       "    </tr>\n",
       "    <tr>\n",
       "      <th>alfa</th>\n",
       "      <td>13.236842</td>\n",
       "      <td>14.131579</td>\n",
       "    </tr>\n",
       "    <tr>\n",
       "      <th>haas</th>\n",
       "      <td>13.940678</td>\n",
       "      <td>12.025424</td>\n",
       "    </tr>\n",
       "    <tr>\n",
       "      <th>williams</th>\n",
       "      <td>15.677966</td>\n",
       "      <td>16.262712</td>\n",
       "    </tr>\n",
       "  </tbody>\n",
       "</table>\n",
       "</div>"
      ],
      "text/plain": [
       "                 podium       grid\n",
       "constructor                       \n",
       "mercedes       3.601695   2.898305\n",
       "ferrari        6.974576   5.652542\n",
       "red_bull       7.169492   6.279661\n",
       "racing_point  10.631579  11.315789\n",
       "alphatauri    10.705882  11.235294\n",
       "renault       10.779661  10.076271\n",
       "mclaren       10.830508  11.084746\n",
       "force_india   11.190476  10.690476\n",
       "toro_rosso    12.690476  13.214286\n",
       "sauber        12.785714  13.833333\n",
       "alfa          13.236842  14.131579\n",
       "haas          13.940678  12.025424\n",
       "williams      15.677966  16.262712"
      ]
     },
     "execution_count": 17,
     "metadata": {},
     "output_type": "execute_result"
    }
   ],
   "source": [
    "results_constructeur.groupby(\"constructor\").mean().sort_values(by=\"podium\",ascending=True)"
   ]
  },
  {
   "cell_type": "markdown",
   "metadata": {},
   "source": [
    "* Observations : Comme l'on pouvait le prévoir, les constructeurs Mercedes, Ferrari et RedBull ont la meilleure moyenne en terme de position initiale et de place à l'arrivée"
   ]
  },
  {
   "cell_type": "markdown",
   "metadata": {},
   "source": [
    "##  Pourcentage de courses gagnées par constructeur depuis 1990"
   ]
  },
  {
   "cell_type": "code",
   "execution_count": 18,
   "metadata": {},
   "outputs": [
    {
     "data": {
      "text/plain": [
       "<AxesSubplot:xlabel='constructor', ylabel='podium'>"
      ]
     },
     "execution_count": 18,
     "metadata": {},
     "output_type": "execute_result"
    },
    {
     "data": {
      "image/png": "[encoded data removed]",
      "text/plain": [
       "<Figure size 1440x720 with 1 Axes>"
      ]
     },
     "metadata": {},
     "output_type": "display_data"
    }
   ],
   "source": [
    "results_constructeur_1=results_constructeur.copy()\n",
    "results_constructeur_1=results_constructeur_1[results_constructeur_1[\"podium\"]==1]\n",
    "df=(results_constructeur_1.groupby(\"constructor\").count())/len(results_constructeur_1)*100\n",
    "df=df.reset_index()\n",
    "_,(ax1) = plt.subplots(ncols=1)\n",
    "sns.barplot(data=df, x='constructor', y='podium', ax=ax1, palette=sns.color_palette(\"icefire\"))"
   ]
  },
  {
   "cell_type": "markdown",
   "metadata": {},
   "source": [
    "* Observations : là encore, sans grande surprise, des constructeurs sortent du lot, comme Ferrari, McLaren, et Mercedes. On observe une très grande disparité entre les constructeurs, ainsi le constructeur contient du signal à exploiter pour prédire la victoire finale"
   ]
  },
  {
   "cell_type": "markdown",
   "metadata": {},
   "source": [
    "# II-3. Corrélation entre la nationalité du pilote et la victoire finale "
   ]
  },
  {
   "cell_type": "markdown",
   "metadata": {},
   "source": [
    "* Nous nous interessons ensuite au lien entre la nationalité et la victoire. Nous allons essayer de savoir si cette variable permet d'expliquer, prédire la victoire finale. On va alors tout simplement tracer le pourcentage de victoire par nationalité. "
   ]
  },
  {
   "cell_type": "code",
   "execution_count": 19,
   "metadata": {},
   "outputs": [],
   "source": [
    "results_nationality=results.copy()\n",
    "results_nationality=results_nationality[[\"nationality\",\"grid\",\"podium\",\"circuit_id\"]]"
   ]
  },
  {
   "cell_type": "code",
   "execution_count": 20,
   "metadata": {
    "scrolled": false
   },
   "outputs": [
    {
     "data": {
      "text/plain": [
       "<AxesSubplot:xlabel='nationality', ylabel='podium'>"
      ]
     },
     "execution_count": 20,
     "metadata": {},
     "output_type": "execute_result"
    },
    {
     "data": {
      "image/png": "[encoded data removed]",
      "text/plain": [
       "<Figure size 1440x720 with 1 Axes>"
      ]
     },
     "metadata": {},
     "output_type": "display_data"
    }
   ],
   "source": [
    "nb_courses=len(results_nationality[results_nationality[\"podium\"]==1])\n",
    "df=((results_nationality[results_nationality[\"podium\"]==1].groupby(\"nationality\").count())/(nb_courses))*100\n",
    "df=df.reset_index()\n",
    "sns.barplot(x='nationality',y='podium',data=df,palette=sns.color_palette(\"icefire\"))"
   ]
  },
  {
   "cell_type": "markdown",
   "metadata": {},
   "source": [
    "* Commentaires : Sans surprise, les pilotes les plus titrés sur les grands prix sont de nationalité allemande (Vettel, Schumacher, Rosberg), Anglaise (Hamilton), Brésilienne (Senna) et FInlandaise (Räikkönen). On remarque une disparité entre les nationalité, cela signifie donc que la nationalité est une donnée importante"
   ]
  },
  {
   "cell_type": "code",
   "execution_count": 23,
   "metadata": {},
   "outputs": [],
   "source": [
    "# On rajoute alors la nationalité à notre dataframe results\n",
    "df_country_race=races[[\"circuit_id\",\"country\"]].copy()\n",
    "df_country_race.head()\n",
    "results_merged=results.merge(df_country_race ,how='left', on=\"circuit_id\")"
   ]
  },
  {
   "cell_type": "code",
   "execution_count": 24,
   "metadata": {},
   "outputs": [
    {
     "name": "stdout",
     "output_type": "stream",
     "text": [
      "      season  round   circuit_id             driver date_of_birth nationality  \\\n",
      "0       2018      1  albert_park             vettel    1987-07-03      German   \n",
      "1       2018      1  albert_park             vettel    1987-07-03      German   \n",
      "2       2018      1  albert_park           hamilton    1985-01-07     British   \n",
      "3       2018      1  albert_park           hamilton    1985-01-07     British   \n",
      "4       2018      1  albert_park          raikkonen    1979-10-17     Finnish   \n",
      "...      ...    ...          ...                ...           ...         ...   \n",
      "3095    2020     17   yas_marina  pietro_fittipaldi    1996-06-25   Brazilian   \n",
      "3096    2020     17   yas_marina  pietro_fittipaldi    1996-06-25   Brazilian   \n",
      "3097    2020     17   yas_marina              perez    1990-01-26     Mexican   \n",
      "3098    2020     17   yas_marina              perez    1990-01-26     Mexican   \n",
      "3099    2020     17   yas_marina              perez    1990-01-26     Mexican   \n",
      "\n",
      "       constructor  grid        status  points  podium    country  \n",
      "0          ferrari     3      Finished      25       1  Australia  \n",
      "1          ferrari     3      Finished      25       1  Australia  \n",
      "2         mercedes     1      Finished      18       2  Australia  \n",
      "3         mercedes     1      Finished      18       2  Australia  \n",
      "4          ferrari     2      Finished      15       3  Australia  \n",
      "...            ...   ...           ...     ...     ...        ...  \n",
      "3095          haas    17       +2 Laps       0      19        UAE  \n",
      "3096          haas    17       +2 Laps       0      19        UAE  \n",
      "3097  racing_point    19  Transmission       0      20        UAE  \n",
      "3098  racing_point    19  Transmission       0      20        UAE  \n",
      "3099  racing_point    19  Transmission       0      20        UAE  \n",
      "\n",
      "[3100 rows x 12 columns]\n",
      "['German' 'British' 'Finnish' 'Australian' 'Spanish' 'Dutch' 'Belgian'\n",
      " 'Mexican' 'French' 'Monegasque' 'Canadian' 'New Zealander' 'Danish'\n",
      " 'Swedish' 'Russian' 'Thai' 'Italian' 'Polish' 'Brazilian']\n",
      "['Australia' 'Bahrain' 'China' 'Azerbaijan' 'Spain' 'Monaco' 'Canada'\n",
      " 'France' 'Austria' 'UK' 'Germany' 'Hungary' 'Belgium' 'Italy' 'Singapore'\n",
      " 'Russia' 'Japan' 'USA' 'Mexico' 'Brazil' 'UAE' 'Portugal' 'Turkey']\n"
     ]
    }
   ],
   "source": [
    "print(results_merged)\n",
    "print(results_merged[\"nationality\"].unique())\n",
    "print(results_merged[\"country\"].unique())"
   ]
  },
  {
   "cell_type": "markdown",
   "metadata": {},
   "source": [
    "## II-4. Corrélation entre l'âge et les victoires sur les grands prix"
   ]
  },
  {
   "cell_type": "markdown",
   "metadata": {},
   "source": [
    "* Nous étudions maintenant le lien entre l'âge et la victoire finale."
   ]
  },
  {
   "cell_type": "markdown",
   "metadata": {},
   "source": [
    "* Pour cela on créé ci-dessous la variable âge en année qui correspond à l'âge au moment du grand prix"
   ]
  },
  {
   "cell_type": "code",
   "execution_count": 30,
   "metadata": {},
   "outputs": [],
   "source": [
    "results_age=results.copy() #on copie la base results dans une nouvelle base qu'on va retravailler\n",
    "\n",
    "results_age[\"date_of_birth\"]=pd.to_datetime(results_age[\"date_of_birth\"])\n",
    "\n",
    "results_age[\"season\"]=pd.to_datetime(results_age[\"season\"], format=\"%Y\") # conversion en format date\n",
    "\n",
    "results_age[\"age\"]=round(((results_age[\"season\"]-results_age['date_of_birth']).dt.days)/365) #On détermine l'âge en année"
   ]
  },
  {
   "cell_type": "markdown",
   "metadata": {},
   "source": [
    "* On visualise rapidement les variables qu'on a créée"
   ]
  },
  {
   "cell_type": "code",
   "execution_count": 26,
   "metadata": {},
   "outputs": [
    {
     "data": {
      "text/plain": [
       "0      1987-07-03\n",
       "1      1985-01-07\n",
       "2      1979-10-17\n",
       "3      1989-07-01\n",
       "4      1981-07-29\n",
       "          ...    \n",
       "1175   1993-12-14\n",
       "1176   1995-06-29\n",
       "1177   1992-10-05\n",
       "1178   1996-06-25\n",
       "1179   1990-01-26\n",
       "Name: date_of_birth, Length: 1180, dtype: datetime64[ns]"
      ]
     },
     "execution_count": 26,
     "metadata": {},
     "output_type": "execute_result"
    }
   ],
   "source": [
    "results_age[\"date_of_birth\"]"
   ]
  },
  {
   "cell_type": "code",
   "execution_count": 27,
   "metadata": {},
   "outputs": [
    {
     "data": {
      "text/plain": [
       "0      2018-01-01\n",
       "1      2018-01-01\n",
       "2      2018-01-01\n",
       "3      2018-01-01\n",
       "4      2018-01-01\n",
       "          ...    \n",
       "1175   2020-01-01\n",
       "1176   2020-01-01\n",
       "1177   2020-01-01\n",
       "1178   2020-01-01\n",
       "1179   2020-01-01\n",
       "Name: season, Length: 1180, dtype: datetime64[ns]"
      ]
     },
     "execution_count": 27,
     "metadata": {},
     "output_type": "execute_result"
    }
   ],
   "source": [
    "results_age[\"season\"]"
   ]
  },
  {
   "cell_type": "code",
   "execution_count": 28,
   "metadata": {},
   "outputs": [
    {
     "data": {
      "text/plain": [
       "0       31.0\n",
       "1       33.0\n",
       "2       38.0\n",
       "3       29.0\n",
       "4       36.0\n",
       "        ... \n",
       "1175    26.0\n",
       "1176    25.0\n",
       "1177    27.0\n",
       "1178    24.0\n",
       "1179    30.0\n",
       "Name: age, Length: 1180, dtype: float64"
      ]
     },
     "execution_count": 28,
     "metadata": {},
     "output_type": "execute_result"
    }
   ],
   "source": [
    "results_age[\"age\"]"
   ]
  },
  {
   "cell_type": "markdown",
   "metadata": {},
   "source": [
    "### Correlation entre le podium et l'âge des pilotes au moment de la course"
   ]
  },
  {
   "cell_type": "code",
   "execution_count": 32,
   "metadata": {
    "scrolled": false
   },
   "outputs": [
    {
     "data": {
      "text/plain": [
       "<AxesSubplot:>"
      ]
     },
     "execution_count": 32,
     "metadata": {},
     "output_type": "execute_result"
    },
    {
     "data": {
      "image/png": "[encoded data removed]",
      "text/plain": [
       "<Figure size 1440x720 with 2 Axes>"
      ]
     },
     "metadata": {},
     "output_type": "display_data"
    }
   ],
   "source": [
    "df=results_age[[\"age\",\"podium\"]]\n",
    "\n",
    "corr = df.corr()\n",
    "sns.heatmap(corr,annot=True,vmin=0, vmax=1)# légère corrélation négative avec l'âge, ce n'est pas très significatif "
   ]
  },
  {
   "cell_type": "markdown",
   "metadata": {},
   "source": [
    "* Commentaires : On obtient une légére corrélation négative entre l'âge et le classement : c'est à dire que plus on est agé plus on est associé à un classement bas et donc proche de la victoire."
   ]
  },
  {
   "cell_type": "markdown",
   "metadata": {},
   "source": [
    "### Répartition des victoires en fonction de l'âge"
   ]
  },
  {
   "cell_type": "markdown",
   "metadata": {},
   "source": [
    "* On trace le nombre de victoire par age, on trace également une approximation de la densité"
   ]
  },
  {
   "cell_type": "code",
   "execution_count": 33,
   "metadata": {},
   "outputs": [
    {
     "data": {
      "text/plain": [
       "<AxesSubplot:xlabel='age', ylabel='Count'>"
      ]
     },
     "execution_count": 33,
     "metadata": {},
     "output_type": "execute_result"
    },
    {
     "data": {
      "image/png": "[encoded data removed]",
      "text/plain": [
       "<Figure size 1440x720 with 1 Axes>"
      ]
     },
     "metadata": {},
     "output_type": "display_data"
    }
   ],
   "source": [
    "df_gagnant=df[df[\"podium\"]==1]\n",
    "sns.histplot(data=df_gagnant, x='age',kde=True) "
   ]
  },
  {
   "cell_type": "markdown",
   "metadata": {},
   "source": [
    "* Commentaires : On remarque qu'on a un pic à 30 ans, cela correspondrait donc au bon ratio entre âge et expérience. On observe encore une fois une disparité de la répartition, ce qui signifie que l'âge contient de l'information permettant de prédire la victoire "
   ]
  },
  {
   "cell_type": "markdown",
   "metadata": {},
   "source": [
    "## II-6. Analyse de la météo "
   ]
  },
  {
   "cell_type": "code",
   "execution_count": 10,
   "metadata": {},
   "outputs": [
    {
     "data": {
      "text/html": [
       "<div>\n",
       "<style scoped>\n",
       "    .dataframe tbody tr th:only-of-type {\n",
       "        vertical-align: middle;\n",
       "    }\n",
       "\n",
       "    .dataframe tbody tr th {\n",
       "        vertical-align: top;\n",
       "    }\n",
       "\n",
       "    .dataframe thead th {\n",
       "        text-align: right;\n",
       "    }\n",
       "</style>\n",
       "<table border=\"1\" class=\"dataframe\">\n",
       "  <thead>\n",
       "    <tr style=\"text-align: right;\">\n",
       "      <th></th>\n",
       "      <th>season</th>\n",
       "      <th>round</th>\n",
       "      <th>circuit_id</th>\n",
       "      <th>weather</th>\n",
       "      <th>weather_warm</th>\n",
       "      <th>weather_cold</th>\n",
       "      <th>weather_dry</th>\n",
       "      <th>weather_wet</th>\n",
       "      <th>weather_cloudy</th>\n",
       "    </tr>\n",
       "  </thead>\n",
       "  <tbody>\n",
       "    <tr>\n",
       "      <th>0</th>\n",
       "      <td>2018</td>\n",
       "      <td>1</td>\n",
       "      <td>albert_park</td>\n",
       "      <td>Sunny</td>\n",
       "      <td>1</td>\n",
       "      <td>0</td>\n",
       "      <td>0</td>\n",
       "      <td>0</td>\n",
       "      <td>0</td>\n",
       "    </tr>\n",
       "    <tr>\n",
       "      <th>1</th>\n",
       "      <td>2018</td>\n",
       "      <td>2</td>\n",
       "      <td>bahrain</td>\n",
       "      <td>not found</td>\n",
       "      <td>0</td>\n",
       "      <td>0</td>\n",
       "      <td>0</td>\n",
       "      <td>0</td>\n",
       "      <td>0</td>\n",
       "    </tr>\n",
       "    <tr>\n",
       "      <th>2</th>\n",
       "      <td>2018</td>\n",
       "      <td>3</td>\n",
       "      <td>shanghai</td>\n",
       "      <td>not found</td>\n",
       "      <td>0</td>\n",
       "      <td>0</td>\n",
       "      <td>0</td>\n",
       "      <td>0</td>\n",
       "      <td>0</td>\n",
       "    </tr>\n",
       "    <tr>\n",
       "      <th>3</th>\n",
       "      <td>2018</td>\n",
       "      <td>4</td>\n",
       "      <td>BAK</td>\n",
       "      <td>Cloudy</td>\n",
       "      <td>0</td>\n",
       "      <td>0</td>\n",
       "      <td>0</td>\n",
       "      <td>0</td>\n",
       "      <td>1</td>\n",
       "    </tr>\n",
       "    <tr>\n",
       "      <th>4</th>\n",
       "      <td>2018</td>\n",
       "      <td>5</td>\n",
       "      <td>catalunya</td>\n",
       "      <td>Partially cloudy and dry, 16°C and cold.</td>\n",
       "      <td>0</td>\n",
       "      <td>0</td>\n",
       "      <td>0</td>\n",
       "      <td>0</td>\n",
       "      <td>1</td>\n",
       "    </tr>\n",
       "    <tr>\n",
       "      <th>5</th>\n",
       "      <td>2018</td>\n",
       "      <td>6</td>\n",
       "      <td>monaco</td>\n",
       "      <td>not found</td>\n",
       "      <td>0</td>\n",
       "      <td>0</td>\n",
       "      <td>0</td>\n",
       "      <td>0</td>\n",
       "      <td>0</td>\n",
       "    </tr>\n",
       "    <tr>\n",
       "      <th>6</th>\n",
       "      <td>2018</td>\n",
       "      <td>7</td>\n",
       "      <td>villeneuve</td>\n",
       "      <td>Temperatures reaching up to 22.7 °C (72.9 °F);...</td>\n",
       "      <td>0</td>\n",
       "      <td>0</td>\n",
       "      <td>0</td>\n",
       "      <td>0</td>\n",
       "      <td>0</td>\n",
       "    </tr>\n",
       "    <tr>\n",
       "      <th>7</th>\n",
       "      <td>2018</td>\n",
       "      <td>8</td>\n",
       "      <td>ricard</td>\n",
       "      <td>Partially cloudy, warm and dry</td>\n",
       "      <td>1</td>\n",
       "      <td>0</td>\n",
       "      <td>1</td>\n",
       "      <td>0</td>\n",
       "      <td>0</td>\n",
       "    </tr>\n",
       "    <tr>\n",
       "      <th>8</th>\n",
       "      <td>2018</td>\n",
       "      <td>9</td>\n",
       "      <td>red_bull_ring</td>\n",
       "      <td>Sunny</td>\n",
       "      <td>1</td>\n",
       "      <td>0</td>\n",
       "      <td>0</td>\n",
       "      <td>0</td>\n",
       "      <td>0</td>\n",
       "    </tr>\n",
       "    <tr>\n",
       "      <th>9</th>\n",
       "      <td>2018</td>\n",
       "      <td>10</td>\n",
       "      <td>silverstone</td>\n",
       "      <td>Sunny 27.0 °C (80.6 °F)[2]</td>\n",
       "      <td>1</td>\n",
       "      <td>0</td>\n",
       "      <td>0</td>\n",
       "      <td>0</td>\n",
       "      <td>0</td>\n",
       "    </tr>\n",
       "    <tr>\n",
       "      <th>10</th>\n",
       "      <td>2018</td>\n",
       "      <td>11</td>\n",
       "      <td>hockenheimring</td>\n",
       "      <td>Overcast with intermittent rain</td>\n",
       "      <td>0</td>\n",
       "      <td>0</td>\n",
       "      <td>0</td>\n",
       "      <td>1</td>\n",
       "      <td>1</td>\n",
       "    </tr>\n",
       "    <tr>\n",
       "      <th>11</th>\n",
       "      <td>2018</td>\n",
       "      <td>12</td>\n",
       "      <td>hungaroring</td>\n",
       "      <td>not found</td>\n",
       "      <td>0</td>\n",
       "      <td>0</td>\n",
       "      <td>0</td>\n",
       "      <td>0</td>\n",
       "      <td>0</td>\n",
       "    </tr>\n",
       "    <tr>\n",
       "      <th>12</th>\n",
       "      <td>2018</td>\n",
       "      <td>13</td>\n",
       "      <td>spa</td>\n",
       "      <td>not found</td>\n",
       "      <td>0</td>\n",
       "      <td>0</td>\n",
       "      <td>0</td>\n",
       "      <td>0</td>\n",
       "      <td>0</td>\n",
       "    </tr>\n",
       "    <tr>\n",
       "      <th>13</th>\n",
       "      <td>2018</td>\n",
       "      <td>14</td>\n",
       "      <td>monza</td>\n",
       "      <td>not found</td>\n",
       "      <td>0</td>\n",
       "      <td>0</td>\n",
       "      <td>0</td>\n",
       "      <td>0</td>\n",
       "      <td>0</td>\n",
       "    </tr>\n",
       "    <tr>\n",
       "      <th>14</th>\n",
       "      <td>2018</td>\n",
       "      <td>15</td>\n",
       "      <td>marina_bay</td>\n",
       "      <td>not found</td>\n",
       "      <td>0</td>\n",
       "      <td>0</td>\n",
       "      <td>0</td>\n",
       "      <td>0</td>\n",
       "      <td>0</td>\n",
       "    </tr>\n",
       "    <tr>\n",
       "      <th>15</th>\n",
       "      <td>2018</td>\n",
       "      <td>16</td>\n",
       "      <td>sochi</td>\n",
       "      <td>not found</td>\n",
       "      <td>0</td>\n",
       "      <td>0</td>\n",
       "      <td>0</td>\n",
       "      <td>0</td>\n",
       "      <td>0</td>\n",
       "    </tr>\n",
       "    <tr>\n",
       "      <th>16</th>\n",
       "      <td>2018</td>\n",
       "      <td>17</td>\n",
       "      <td>suzuka</td>\n",
       "      <td>not found</td>\n",
       "      <td>0</td>\n",
       "      <td>0</td>\n",
       "      <td>0</td>\n",
       "      <td>0</td>\n",
       "      <td>0</td>\n",
       "    </tr>\n",
       "    <tr>\n",
       "      <th>17</th>\n",
       "      <td>2018</td>\n",
       "      <td>18</td>\n",
       "      <td>americas</td>\n",
       "      <td>not found</td>\n",
       "      <td>0</td>\n",
       "      <td>0</td>\n",
       "      <td>0</td>\n",
       "      <td>0</td>\n",
       "      <td>0</td>\n",
       "    </tr>\n",
       "    <tr>\n",
       "      <th>18</th>\n",
       "      <td>2018</td>\n",
       "      <td>19</td>\n",
       "      <td>rodriguez</td>\n",
       "      <td>not found</td>\n",
       "      <td>0</td>\n",
       "      <td>0</td>\n",
       "      <td>0</td>\n",
       "      <td>0</td>\n",
       "      <td>0</td>\n",
       "    </tr>\n",
       "    <tr>\n",
       "      <th>19</th>\n",
       "      <td>2018</td>\n",
       "      <td>20</td>\n",
       "      <td>interlagos</td>\n",
       "      <td>not found</td>\n",
       "      <td>0</td>\n",
       "      <td>0</td>\n",
       "      <td>0</td>\n",
       "      <td>0</td>\n",
       "      <td>0</td>\n",
       "    </tr>\n",
       "    <tr>\n",
       "      <th>20</th>\n",
       "      <td>2018</td>\n",
       "      <td>21</td>\n",
       "      <td>yas_marina</td>\n",
       "      <td>not found</td>\n",
       "      <td>0</td>\n",
       "      <td>0</td>\n",
       "      <td>0</td>\n",
       "      <td>0</td>\n",
       "      <td>0</td>\n",
       "    </tr>\n",
       "    <tr>\n",
       "      <th>21</th>\n",
       "      <td>2019</td>\n",
       "      <td>1</td>\n",
       "      <td>albert_park</td>\n",
       "      <td>not found</td>\n",
       "      <td>0</td>\n",
       "      <td>0</td>\n",
       "      <td>0</td>\n",
       "      <td>0</td>\n",
       "      <td>0</td>\n",
       "    </tr>\n",
       "    <tr>\n",
       "      <th>22</th>\n",
       "      <td>2019</td>\n",
       "      <td>2</td>\n",
       "      <td>bahrain</td>\n",
       "      <td>Clear</td>\n",
       "      <td>1</td>\n",
       "      <td>0</td>\n",
       "      <td>0</td>\n",
       "      <td>0</td>\n",
       "      <td>0</td>\n",
       "    </tr>\n",
       "    <tr>\n",
       "      <th>23</th>\n",
       "      <td>2019</td>\n",
       "      <td>3</td>\n",
       "      <td>shanghai</td>\n",
       "      <td>not found</td>\n",
       "      <td>0</td>\n",
       "      <td>0</td>\n",
       "      <td>0</td>\n",
       "      <td>0</td>\n",
       "      <td>0</td>\n",
       "    </tr>\n",
       "    <tr>\n",
       "      <th>24</th>\n",
       "      <td>2019</td>\n",
       "      <td>4</td>\n",
       "      <td>BAK</td>\n",
       "      <td>not found</td>\n",
       "      <td>0</td>\n",
       "      <td>0</td>\n",
       "      <td>0</td>\n",
       "      <td>0</td>\n",
       "      <td>0</td>\n",
       "    </tr>\n",
       "    <tr>\n",
       "      <th>25</th>\n",
       "      <td>2019</td>\n",
       "      <td>5</td>\n",
       "      <td>catalunya</td>\n",
       "      <td>not found</td>\n",
       "      <td>0</td>\n",
       "      <td>0</td>\n",
       "      <td>0</td>\n",
       "      <td>0</td>\n",
       "      <td>0</td>\n",
       "    </tr>\n",
       "    <tr>\n",
       "      <th>26</th>\n",
       "      <td>2019</td>\n",
       "      <td>6</td>\n",
       "      <td>monaco</td>\n",
       "      <td>Overcast</td>\n",
       "      <td>0</td>\n",
       "      <td>0</td>\n",
       "      <td>0</td>\n",
       "      <td>0</td>\n",
       "      <td>1</td>\n",
       "    </tr>\n",
       "    <tr>\n",
       "      <th>27</th>\n",
       "      <td>2019</td>\n",
       "      <td>7</td>\n",
       "      <td>villeneuve</td>\n",
       "      <td>Temperatures reaching up to 29.6 °C (85.3 °F);...</td>\n",
       "      <td>0</td>\n",
       "      <td>0</td>\n",
       "      <td>0</td>\n",
       "      <td>0</td>\n",
       "      <td>0</td>\n",
       "    </tr>\n",
       "    <tr>\n",
       "      <th>28</th>\n",
       "      <td>2019</td>\n",
       "      <td>8</td>\n",
       "      <td>ricard</td>\n",
       "      <td>Clear</td>\n",
       "      <td>1</td>\n",
       "      <td>0</td>\n",
       "      <td>0</td>\n",
       "      <td>0</td>\n",
       "      <td>0</td>\n",
       "    </tr>\n",
       "    <tr>\n",
       "      <th>29</th>\n",
       "      <td>2019</td>\n",
       "      <td>9</td>\n",
       "      <td>red_bull_ring</td>\n",
       "      <td>Sunny, 36C (97F)</td>\n",
       "      <td>0</td>\n",
       "      <td>0</td>\n",
       "      <td>0</td>\n",
       "      <td>0</td>\n",
       "      <td>0</td>\n",
       "    </tr>\n",
       "    <tr>\n",
       "      <th>30</th>\n",
       "      <td>2019</td>\n",
       "      <td>10</td>\n",
       "      <td>silverstone</td>\n",
       "      <td>Partly cloudy</td>\n",
       "      <td>0</td>\n",
       "      <td>0</td>\n",
       "      <td>0</td>\n",
       "      <td>0</td>\n",
       "      <td>1</td>\n",
       "    </tr>\n",
       "    <tr>\n",
       "      <th>31</th>\n",
       "      <td>2019</td>\n",
       "      <td>11</td>\n",
       "      <td>hockenheimring</td>\n",
       "      <td>Early rain, Late clouds</td>\n",
       "      <td>0</td>\n",
       "      <td>0</td>\n",
       "      <td>0</td>\n",
       "      <td>0</td>\n",
       "      <td>1</td>\n",
       "    </tr>\n",
       "    <tr>\n",
       "      <th>32</th>\n",
       "      <td>2019</td>\n",
       "      <td>12</td>\n",
       "      <td>hungaroring</td>\n",
       "      <td>Sunny</td>\n",
       "      <td>1</td>\n",
       "      <td>0</td>\n",
       "      <td>0</td>\n",
       "      <td>0</td>\n",
       "      <td>0</td>\n",
       "    </tr>\n",
       "    <tr>\n",
       "      <th>33</th>\n",
       "      <td>2019</td>\n",
       "      <td>13</td>\n",
       "      <td>spa</td>\n",
       "      <td>Partly cloudy</td>\n",
       "      <td>0</td>\n",
       "      <td>0</td>\n",
       "      <td>0</td>\n",
       "      <td>0</td>\n",
       "      <td>1</td>\n",
       "    </tr>\n",
       "    <tr>\n",
       "      <th>34</th>\n",
       "      <td>2019</td>\n",
       "      <td>14</td>\n",
       "      <td>monza</td>\n",
       "      <td>Partly cloudy</td>\n",
       "      <td>0</td>\n",
       "      <td>0</td>\n",
       "      <td>0</td>\n",
       "      <td>0</td>\n",
       "      <td>1</td>\n",
       "    </tr>\n",
       "    <tr>\n",
       "      <th>35</th>\n",
       "      <td>2019</td>\n",
       "      <td>15</td>\n",
       "      <td>marina_bay</td>\n",
       "      <td>Slightly hazy</td>\n",
       "      <td>0</td>\n",
       "      <td>0</td>\n",
       "      <td>0</td>\n",
       "      <td>0</td>\n",
       "      <td>0</td>\n",
       "    </tr>\n",
       "    <tr>\n",
       "      <th>36</th>\n",
       "      <td>2019</td>\n",
       "      <td>16</td>\n",
       "      <td>sochi</td>\n",
       "      <td>Partly cloudy</td>\n",
       "      <td>0</td>\n",
       "      <td>0</td>\n",
       "      <td>0</td>\n",
       "      <td>0</td>\n",
       "      <td>1</td>\n",
       "    </tr>\n",
       "    <tr>\n",
       "      <th>37</th>\n",
       "      <td>2019</td>\n",
       "      <td>17</td>\n",
       "      <td>suzuka</td>\n",
       "      <td>Sunny</td>\n",
       "      <td>1</td>\n",
       "      <td>0</td>\n",
       "      <td>0</td>\n",
       "      <td>0</td>\n",
       "      <td>0</td>\n",
       "    </tr>\n",
       "    <tr>\n",
       "      <th>38</th>\n",
       "      <td>2019</td>\n",
       "      <td>18</td>\n",
       "      <td>rodriguez</td>\n",
       "      <td>Partly cloudy</td>\n",
       "      <td>0</td>\n",
       "      <td>0</td>\n",
       "      <td>0</td>\n",
       "      <td>0</td>\n",
       "      <td>1</td>\n",
       "    </tr>\n",
       "    <tr>\n",
       "      <th>39</th>\n",
       "      <td>2019</td>\n",
       "      <td>19</td>\n",
       "      <td>americas</td>\n",
       "      <td>Sunny</td>\n",
       "      <td>1</td>\n",
       "      <td>0</td>\n",
       "      <td>0</td>\n",
       "      <td>0</td>\n",
       "      <td>0</td>\n",
       "    </tr>\n",
       "    <tr>\n",
       "      <th>40</th>\n",
       "      <td>2019</td>\n",
       "      <td>20</td>\n",
       "      <td>interlagos</td>\n",
       "      <td>Sunny</td>\n",
       "      <td>1</td>\n",
       "      <td>0</td>\n",
       "      <td>0</td>\n",
       "      <td>0</td>\n",
       "      <td>0</td>\n",
       "    </tr>\n",
       "    <tr>\n",
       "      <th>41</th>\n",
       "      <td>2019</td>\n",
       "      <td>21</td>\n",
       "      <td>yas_marina</td>\n",
       "      <td>Clear</td>\n",
       "      <td>1</td>\n",
       "      <td>0</td>\n",
       "      <td>0</td>\n",
       "      <td>0</td>\n",
       "      <td>0</td>\n",
       "    </tr>\n",
       "    <tr>\n",
       "      <th>42</th>\n",
       "      <td>2020</td>\n",
       "      <td>1</td>\n",
       "      <td>red_bull_ring</td>\n",
       "      <td>Sunny</td>\n",
       "      <td>1</td>\n",
       "      <td>0</td>\n",
       "      <td>0</td>\n",
       "      <td>0</td>\n",
       "      <td>0</td>\n",
       "    </tr>\n",
       "    <tr>\n",
       "      <th>43</th>\n",
       "      <td>2020</td>\n",
       "      <td>2</td>\n",
       "      <td>red_bull_ring</td>\n",
       "      <td>Sunny</td>\n",
       "      <td>1</td>\n",
       "      <td>0</td>\n",
       "      <td>0</td>\n",
       "      <td>0</td>\n",
       "      <td>0</td>\n",
       "    </tr>\n",
       "    <tr>\n",
       "      <th>44</th>\n",
       "      <td>2020</td>\n",
       "      <td>3</td>\n",
       "      <td>hungaroring</td>\n",
       "      <td>Wet at start, partly cloudy</td>\n",
       "      <td>0</td>\n",
       "      <td>0</td>\n",
       "      <td>0</td>\n",
       "      <td>1</td>\n",
       "      <td>1</td>\n",
       "    </tr>\n",
       "    <tr>\n",
       "      <th>45</th>\n",
       "      <td>2020</td>\n",
       "      <td>4</td>\n",
       "      <td>silverstone</td>\n",
       "      <td>Partly cloudy</td>\n",
       "      <td>0</td>\n",
       "      <td>0</td>\n",
       "      <td>0</td>\n",
       "      <td>0</td>\n",
       "      <td>1</td>\n",
       "    </tr>\n",
       "    <tr>\n",
       "      <th>46</th>\n",
       "      <td>2020</td>\n",
       "      <td>5</td>\n",
       "      <td>silverstone</td>\n",
       "      <td>Sunny</td>\n",
       "      <td>1</td>\n",
       "      <td>0</td>\n",
       "      <td>0</td>\n",
       "      <td>0</td>\n",
       "      <td>0</td>\n",
       "    </tr>\n",
       "    <tr>\n",
       "      <th>47</th>\n",
       "      <td>2020</td>\n",
       "      <td>6</td>\n",
       "      <td>catalunya</td>\n",
       "      <td>Partly cloudy</td>\n",
       "      <td>0</td>\n",
       "      <td>0</td>\n",
       "      <td>0</td>\n",
       "      <td>0</td>\n",
       "      <td>1</td>\n",
       "    </tr>\n",
       "    <tr>\n",
       "      <th>48</th>\n",
       "      <td>2020</td>\n",
       "      <td>7</td>\n",
       "      <td>spa</td>\n",
       "      <td>Partly cloudy</td>\n",
       "      <td>0</td>\n",
       "      <td>0</td>\n",
       "      <td>0</td>\n",
       "      <td>0</td>\n",
       "      <td>1</td>\n",
       "    </tr>\n",
       "    <tr>\n",
       "      <th>49</th>\n",
       "      <td>2020</td>\n",
       "      <td>8</td>\n",
       "      <td>monza</td>\n",
       "      <td>Sunny</td>\n",
       "      <td>1</td>\n",
       "      <td>0</td>\n",
       "      <td>0</td>\n",
       "      <td>0</td>\n",
       "      <td>0</td>\n",
       "    </tr>\n",
       "    <tr>\n",
       "      <th>50</th>\n",
       "      <td>2020</td>\n",
       "      <td>9</td>\n",
       "      <td>mugello</td>\n",
       "      <td>Sunny</td>\n",
       "      <td>1</td>\n",
       "      <td>0</td>\n",
       "      <td>0</td>\n",
       "      <td>0</td>\n",
       "      <td>0</td>\n",
       "    </tr>\n",
       "    <tr>\n",
       "      <th>51</th>\n",
       "      <td>2020</td>\n",
       "      <td>10</td>\n",
       "      <td>sochi</td>\n",
       "      <td>Sunny</td>\n",
       "      <td>1</td>\n",
       "      <td>0</td>\n",
       "      <td>0</td>\n",
       "      <td>0</td>\n",
       "      <td>0</td>\n",
       "    </tr>\n",
       "    <tr>\n",
       "      <th>52</th>\n",
       "      <td>2020</td>\n",
       "      <td>11</td>\n",
       "      <td>nurburgring</td>\n",
       "      <td>Partly cloudy, 10 °C (50 °F)</td>\n",
       "      <td>0</td>\n",
       "      <td>0</td>\n",
       "      <td>0</td>\n",
       "      <td>0</td>\n",
       "      <td>0</td>\n",
       "    </tr>\n",
       "    <tr>\n",
       "      <th>53</th>\n",
       "      <td>2020</td>\n",
       "      <td>12</td>\n",
       "      <td>portimao</td>\n",
       "      <td>Cloudy</td>\n",
       "      <td>0</td>\n",
       "      <td>0</td>\n",
       "      <td>0</td>\n",
       "      <td>0</td>\n",
       "      <td>1</td>\n",
       "    </tr>\n",
       "    <tr>\n",
       "      <th>54</th>\n",
       "      <td>2020</td>\n",
       "      <td>13</td>\n",
       "      <td>imola</td>\n",
       "      <td>Partly cloudy</td>\n",
       "      <td>0</td>\n",
       "      <td>0</td>\n",
       "      <td>0</td>\n",
       "      <td>0</td>\n",
       "      <td>1</td>\n",
       "    </tr>\n",
       "    <tr>\n",
       "      <th>55</th>\n",
       "      <td>2020</td>\n",
       "      <td>14</td>\n",
       "      <td>istanbul</td>\n",
       "      <td>Overcast. Wet and drying track. Air: 11–14 °C ...</td>\n",
       "      <td>0</td>\n",
       "      <td>0</td>\n",
       "      <td>0</td>\n",
       "      <td>1</td>\n",
       "      <td>0</td>\n",
       "    </tr>\n",
       "    <tr>\n",
       "      <th>56</th>\n",
       "      <td>2020</td>\n",
       "      <td>15</td>\n",
       "      <td>bahrain</td>\n",
       "      <td>Clear</td>\n",
       "      <td>1</td>\n",
       "      <td>0</td>\n",
       "      <td>0</td>\n",
       "      <td>0</td>\n",
       "      <td>0</td>\n",
       "    </tr>\n",
       "    <tr>\n",
       "      <th>57</th>\n",
       "      <td>2020</td>\n",
       "      <td>16</td>\n",
       "      <td>bahrain</td>\n",
       "      <td>Clear</td>\n",
       "      <td>1</td>\n",
       "      <td>0</td>\n",
       "      <td>0</td>\n",
       "      <td>0</td>\n",
       "      <td>0</td>\n",
       "    </tr>\n",
       "    <tr>\n",
       "      <th>58</th>\n",
       "      <td>2020</td>\n",
       "      <td>17</td>\n",
       "      <td>yas_marina</td>\n",
       "      <td>Clear</td>\n",
       "      <td>1</td>\n",
       "      <td>0</td>\n",
       "      <td>0</td>\n",
       "      <td>0</td>\n",
       "      <td>0</td>\n",
       "    </tr>\n",
       "  </tbody>\n",
       "</table>\n",
       "</div>"
      ],
      "text/plain": [
       "    season  round      circuit_id  \\\n",
       "0     2018      1     albert_park   \n",
       "1     2018      2         bahrain   \n",
       "2     2018      3        shanghai   \n",
       "3     2018      4             BAK   \n",
       "4     2018      5       catalunya   \n",
       "5     2018      6          monaco   \n",
       "6     2018      7      villeneuve   \n",
       "7     2018      8          ricard   \n",
       "8     2018      9   red_bull_ring   \n",
       "9     2018     10     silverstone   \n",
       "10    2018     11  hockenheimring   \n",
       "11    2018     12     hungaroring   \n",
       "12    2018     13             spa   \n",
       "13    2018     14           monza   \n",
       "14    2018     15      marina_bay   \n",
       "15    2018     16           sochi   \n",
       "16    2018     17          suzuka   \n",
       "17    2018     18        americas   \n",
       "18    2018     19       rodriguez   \n",
       "19    2018     20      interlagos   \n",
       "20    2018     21      yas_marina   \n",
       "21    2019      1     albert_park   \n",
       "22    2019      2         bahrain   \n",
       "23    2019      3        shanghai   \n",
       "24    2019      4             BAK   \n",
       "25    2019      5       catalunya   \n",
       "26    2019      6          monaco   \n",
       "27    2019      7      villeneuve   \n",
       "28    2019      8          ricard   \n",
       "29    2019      9   red_bull_ring   \n",
       "30    2019     10     silverstone   \n",
       "31    2019     11  hockenheimring   \n",
       "32    2019     12     hungaroring   \n",
       "33    2019     13             spa   \n",
       "34    2019     14           monza   \n",
       "35    2019     15      marina_bay   \n",
       "36    2019     16           sochi   \n",
       "37    2019     17          suzuka   \n",
       "38    2019     18       rodriguez   \n",
       "39    2019     19        americas   \n",
       "40    2019     20      interlagos   \n",
       "41    2019     21      yas_marina   \n",
       "42    2020      1   red_bull_ring   \n",
       "43    2020      2   red_bull_ring   \n",
       "44    2020      3     hungaroring   \n",
       "45    2020      4     silverstone   \n",
       "46    2020      5     silverstone   \n",
       "47    2020      6       catalunya   \n",
       "48    2020      7             spa   \n",
       "49    2020      8           monza   \n",
       "50    2020      9         mugello   \n",
       "51    2020     10           sochi   \n",
       "52    2020     11     nurburgring   \n",
       "53    2020     12        portimao   \n",
       "54    2020     13           imola   \n",
       "55    2020     14        istanbul   \n",
       "56    2020     15         bahrain   \n",
       "57    2020     16         bahrain   \n",
       "58    2020     17      yas_marina   \n",
       "\n",
       "                                              weather  weather_warm  \\\n",
       "0                                               Sunny             1   \n",
       "1                                           not found             0   \n",
       "2                                           not found             0   \n",
       "3                                              Cloudy             0   \n",
       "4            Partially cloudy and dry, 16°C and cold.             0   \n",
       "5                                           not found             0   \n",
       "6   Temperatures reaching up to 22.7 °C (72.9 °F);...             0   \n",
       "7                      Partially cloudy, warm and dry             1   \n",
       "8                                               Sunny             1   \n",
       "9                          Sunny 27.0 °C (80.6 °F)[2]             1   \n",
       "10                    Overcast with intermittent rain             0   \n",
       "11                                          not found             0   \n",
       "12                                          not found             0   \n",
       "13                                          not found             0   \n",
       "14                                          not found             0   \n",
       "15                                          not found             0   \n",
       "16                                          not found             0   \n",
       "17                                          not found             0   \n",
       "18                                          not found             0   \n",
       "19                                          not found             0   \n",
       "20                                          not found             0   \n",
       "21                                          not found             0   \n",
       "22                                              Clear             1   \n",
       "23                                          not found             0   \n",
       "24                                          not found             0   \n",
       "25                                          not found             0   \n",
       "26                                           Overcast             0   \n",
       "27  Temperatures reaching up to 29.6 °C (85.3 °F);...             0   \n",
       "28                                              Clear             1   \n",
       "29                                   Sunny, 36C (97F)             0   \n",
       "30                                      Partly cloudy             0   \n",
       "31                            Early rain, Late clouds             0   \n",
       "32                                              Sunny             1   \n",
       "33                                      Partly cloudy             0   \n",
       "34                                      Partly cloudy             0   \n",
       "35                                      Slightly hazy             0   \n",
       "36                                      Partly cloudy             0   \n",
       "37                                              Sunny             1   \n",
       "38                                      Partly cloudy             0   \n",
       "39                                              Sunny             1   \n",
       "40                                              Sunny             1   \n",
       "41                                              Clear             1   \n",
       "42                                              Sunny             1   \n",
       "43                                              Sunny             1   \n",
       "44                        Wet at start, partly cloudy             0   \n",
       "45                                      Partly cloudy             0   \n",
       "46                                              Sunny             1   \n",
       "47                                      Partly cloudy             0   \n",
       "48                                      Partly cloudy             0   \n",
       "49                                              Sunny             1   \n",
       "50                                              Sunny             1   \n",
       "51                                              Sunny             1   \n",
       "52                       Partly cloudy, 10 °C (50 °F)             0   \n",
       "53                                             Cloudy             0   \n",
       "54                                      Partly cloudy             0   \n",
       "55  Overcast. Wet and drying track. Air: 11–14 °C ...             0   \n",
       "56                                              Clear             1   \n",
       "57                                              Clear             1   \n",
       "58                                              Clear             1   \n",
       "\n",
       "    weather_cold  weather_dry  weather_wet  weather_cloudy  \n",
       "0              0            0            0               0  \n",
       "1              0            0            0               0  \n",
       "2              0            0            0               0  \n",
       "3              0            0            0               1  \n",
       "4              0            0            0               1  \n",
       "5              0            0            0               0  \n",
       "6              0            0            0               0  \n",
       "7              0            1            0               0  \n",
       "8              0            0            0               0  \n",
       "9              0            0            0               0  \n",
       "10             0            0            1               1  \n",
       "11             0            0            0               0  \n",
       "12             0            0            0               0  \n",
       "13             0            0            0               0  \n",
       "14             0            0            0               0  \n",
       "15             0            0            0               0  \n",
       "16             0            0            0               0  \n",
       "17             0            0            0               0  \n",
       "18             0            0            0               0  \n",
       "19             0            0            0               0  \n",
       "20             0            0            0               0  \n",
       "21             0            0            0               0  \n",
       "22             0            0            0               0  \n",
       "23             0            0            0               0  \n",
       "24             0            0            0               0  \n",
       "25             0            0            0               0  \n",
       "26             0            0            0               1  \n",
       "27             0            0            0               0  \n",
       "28             0            0            0               0  \n",
       "29             0            0            0               0  \n",
       "30             0            0            0               1  \n",
       "31             0            0            0               1  \n",
       "32             0            0            0               0  \n",
       "33             0            0            0               1  \n",
       "34             0            0            0               1  \n",
       "35             0            0            0               0  \n",
       "36             0            0            0               1  \n",
       "37             0            0            0               0  \n",
       "38             0            0            0               1  \n",
       "39             0            0            0               0  \n",
       "40             0            0            0               0  \n",
       "41             0            0            0               0  \n",
       "42             0            0            0               0  \n",
       "43             0            0            0               0  \n",
       "44             0            0            1               1  \n",
       "45             0            0            0               1  \n",
       "46             0            0            0               0  \n",
       "47             0            0            0               1  \n",
       "48             0            0            0               1  \n",
       "49             0            0            0               0  \n",
       "50             0            0            0               0  \n",
       "51             0            0            0               0  \n",
       "52             0            0            0               0  \n",
       "53             0            0            0               1  \n",
       "54             0            0            0               1  \n",
       "55             0            0            1               0  \n",
       "56             0            0            0               0  \n",
       "57             0            0            0               0  \n",
       "58             0            0            0               0  "
      ]
     },
     "execution_count": 10,
     "metadata": {},
     "output_type": "execute_result"
    }
   ],
   "source": [
    "weather_info"
   ]
  },
  {
   "cell_type": "code",
   "execution_count": 48,
   "metadata": {},
   "outputs": [],
   "source": [
    "# On rajoute la météo au dataframe results\n",
    "weather_merged=pd.merge(results, weather_info, how=\"right\", left_on=\"circuit_id\", right_on=\"circuit_id\")"
   ]
  },
  {
   "cell_type": "code",
   "execution_count": 45,
   "metadata": {},
   "outputs": [
    {
     "data": {
      "text/plain": [
       "363"
      ]
     },
     "execution_count": 45,
     "metadata": {},
     "output_type": "execute_result"
    }
   ],
   "source": [
    "weather_merged[\"weather\"].nunique()"
   ]
  },
  {
   "cell_type": "markdown",
   "metadata": {},
   "source": [
    "* Il y a 363 types de temps différents nous allons donc nous interesser à ceux qui nous paraissent les plus communs"
   ]
  },
  {
   "cell_type": "markdown",
   "metadata": {},
   "source": [
    "On s'intéresse d'abors aux circuits secs (dry)"
   ]
  },
  {
   "cell_type": "code",
   "execution_count": 49,
   "metadata": {},
   "outputs": [
    {
     "name": "stdout",
     "output_type": "stream",
     "text": [
      "        circuit_id  correlation_grid_pod\n",
      "12         bahrain              0.914783\n",
      "4   hockenheimring              0.903478\n",
      "2       villeneuve              0.852174\n",
      "13        shanghai              0.785217\n",
      "0       interlagos              0.771304\n",
      "9        catalunya              0.762609\n",
      "17      yas_marina              0.746957\n",
      "7            monza              0.701739\n",
      "16      marina_bay              0.621739\n",
      "10     albert_park              0.579130\n",
      "3      silverstone              0.551304\n",
      "1           monaco              0.532174\n",
      "15        valencia              0.528696\n",
      "5      hungaroring              0.487826\n",
      "8           suzuka              0.485217\n",
      "11          sepang              0.346957\n",
      "6              spa              0.273913\n",
      "14        istanbul                   NaN\n",
      "18         yeongam                   NaN\n"
     ]
    },
    {
     "data": {
      "text/plain": [
       "<AxesSubplot:xlabel='circuit_id', ylabel='correlation_grid_pod'>"
      ]
     },
     "execution_count": 49,
     "metadata": {},
     "output_type": "execute_result"
    },
    {
     "data": {
      "image/png": "[encoded data removed]",
      "text/plain": [
       "<Figure size 1440x720 with 1 Axes>"
      ]
     },
     "metadata": {},
     "output_type": "display_data"
    }
   ],
   "source": [
    "results_2010=weather_merged.copy()\n",
    "results_2010=results_2010[results_2010[\"season_x\"]>=2010]\n",
    "circuits=results_2010[results_2010[\"season_x\"] ==2010][\"circuit_id\"].unique()\n",
    "df=results_2010[results_2010[\"season_x\"] ==2010]\n",
    "df_dry=df[df[\"weather_dry\"]==1]\n",
    "les_correlations={}\n",
    "\n",
    "for circuit in circuits:\n",
    "    df_dry_1=df_dry[df_dry[\"circuit_id\"]==circuit][['grid',\"podium\"]]\n",
    "    corr=df_dry_1.corr()[\"podium\"][0]\n",
    "    les_correlations[circuit]=corr\n",
    "    \n",
    "df_dry_2=pd.DataFrame(list(les_correlations.items()),\n",
    "                   columns=['circuit_id', 'correlation_grid_pod'])\n",
    "df_dry_2=df_dry_2.sort_values(by='correlation_grid_pod',ascending=False)\n",
    "\n",
    "print(df_dry_2)\n",
    "\n",
    "_,(ax1) = plt.subplots(ncols=1)\n",
    "sns.barplot(data=df_dry_2, x='circuit_id', y='correlation_grid_pod', ax=ax1, palette=sns.color_palette(\"icefire\"))"
   ]
  },
  {
   "cell_type": "markdown",
   "metadata": {},
   "source": [
    "On remarque que pour des circuits comme celui de Bahrein, ou de Hockenheimring, il y a une forte corrélation entre la position sur la grille et le podium final, sur ces circuits secs, on voit donc qu'une bonne position sur la grille assure quasiment un podium final, cette corrélation étant plus importante que lorsqu'on ne considère pas le climat."
   ]
  },
  {
   "cell_type": "markdown",
   "metadata": {},
   "source": [
    "Ensuite, on s'intéresse aux circuits mouillés (wet)"
   ]
  },
  {
   "cell_type": "code",
   "execution_count": 50,
   "metadata": {},
   "outputs": [
    {
     "name": "stdout",
     "output_type": "stream",
     "text": [
      "        circuit_id  correlation_grid_pod\n",
      "4   hockenheimring              0.903478\n",
      "2       villeneuve              0.852174\n",
      "13        shanghai              0.785217\n",
      "0       interlagos              0.771304\n",
      "9        catalunya              0.762609\n",
      "14        istanbul              0.758261\n",
      "7            monza              0.701739\n",
      "16      marina_bay              0.621739\n",
      "10     albert_park              0.579130\n",
      "3      silverstone              0.551304\n",
      "1           monaco              0.532174\n",
      "5      hungaroring              0.487826\n",
      "8           suzuka              0.485217\n",
      "11          sepang              0.346957\n",
      "18         yeongam              0.312174\n",
      "6              spa              0.273913\n",
      "12         bahrain                   NaN\n",
      "15        valencia                   NaN\n",
      "17      yas_marina                   NaN\n"
     ]
    },
    {
     "data": {
      "text/plain": [
       "<AxesSubplot:xlabel='circuit_id', ylabel='correlation_grid_pod'>"
      ]
     },
     "execution_count": 50,
     "metadata": {},
     "output_type": "execute_result"
    },
    {
     "data": {
      "image/png": "[encoded data removed]",
      "text/plain": [
       "<Figure size 1440x720 with 1 Axes>"
      ]
     },
     "metadata": {},
     "output_type": "display_data"
    }
   ],
   "source": [
    "# On trace la correlation entre grid et podium par circuit en 2010, pour les circuits wet. On remarque que cela dépend vraiment des circuits\n",
    "circuits=results_2010[results_2010[\"season_x\"] ==2010][\"circuit_id\"].unique()\n",
    "df=results_2010[results_2010[\"season_x\"] ==2010]\n",
    "df_wet=df[df[\"weather_wet\"]==1]\n",
    "les_correlations={}\n",
    "\n",
    "for circuit in circuits:\n",
    "    df_wet_1=df_wet[df_wet[\"circuit_id\"]==circuit][['grid',\"podium\"]]\n",
    "    corr=df_wet_1.corr()[\"podium\"][0]\n",
    "    les_correlations[circuit]=corr\n",
    "    \n",
    "df_wet_2=pd.DataFrame(list(les_correlations.items()),\n",
    "                   columns=['circuit_id', 'correlation_grid_pod'])\n",
    "df_wet_2=df_wet_2.sort_values(by='correlation_grid_pod',ascending=False)\n",
    "\n",
    "print(df_wet_2)\n",
    "\n",
    "_,(ax1) = plt.subplots(ncols=1)\n",
    "sns.barplot(data=df_wet_2, x='circuit_id', y='correlation_grid_pod', ax=ax1, palette=sns.color_palette(\"icefire\"))"
   ]
  },
  {
   "cell_type": "markdown",
   "metadata": {},
   "source": [
    "On remarque encore que pour le circuit de Hockenheimring, il y a une forte corrélation entre la position sur la grille et le podium final, on voit donc qu'une bonne position sur la grille assure quasiment un podium final, cette corrélation étant plus importante que lorsqu'on ne considère pas le climat. Cela conforte l'idée que le circuit de Hockenheimring ne laisse pas beaucoup de place au suspens."
   ]
  },
  {
   "cell_type": "markdown",
   "metadata": {},
   "source": [
    "## II-7. Visualisation des différents circuits sur la carte"
   ]
  },
  {
   "cell_type": "code",
   "execution_count": 54,
   "metadata": {},
   "outputs": [],
   "source": [
    "#On crée un nouveau dataframe avec les localisations\n",
    "\n",
    "cities=pd.DataFrame({'circuit_id':races['circuit_id'],\n",
    "                    'lat':races['lat'],\n",
    "                    'long':races['long']})"
   ]
  },
  {
   "cell_type": "code",
   "execution_count": 58,
   "metadata": {},
   "outputs": [
    {
     "data": {
      "image/png": "[encoded data removed]",
      "text/plain": [
       "<Figure size 1080x504 with 1 Axes>"
      ]
     },
     "metadata": {},
     "output_type": "display_data"
    }
   ],
   "source": [
    "#On plot la carte du monde avec la localisation des différents circuits\n",
    "\n",
    "geometry = [Point(xy) for xy in zip(races['long'], races['lat'])]\n",
    "gdf = GeoDataFrame(races, geometry=geometry)   \n",
    "\n",
    "world = gpd.read_file(gpd.datasets.get_path('naturalearth_lowres'))\n",
    "gdf.plot(ax=world.plot(figsize=(15, 7)), marker='o', color='red', markersize=10);"
   ]
  },
  {
   "cell_type": "markdown",
   "metadata": {},
   "source": [
    "# III- Modélisation "
   ]
  },
  {
   "cell_type": "markdown",
   "metadata": {},
   "source": [
    "## III-1. Préparation des données pour la modélisation"
   ]
  },
  {
   "cell_type": "markdown",
   "metadata": {},
   "source": [
    "L'idée est de créer un dataframe unique dans lequel nous pouvons retrouver toutes les variables a priori utiles pour la modélisation, ainsi que notre target, c'est à dire le vainqueur de la course (ou un proxy : le classement de la course). Il faudra pour cela notamment mergé les dataframes, gérer les valeurs manquantes mais aussi préparer les variables catégorielles. "
   ]
  },
  {
   "cell_type": "markdown",
   "metadata": {},
   "source": [
    "### Préparation du merge des dataframes "
   ]
  },
  {
   "cell_type": "code",
   "execution_count": 59,
   "metadata": {},
   "outputs": [],
   "source": [
    "# On modifie la colonne driver_name de \"qualifying_results\" pour pouvoir par la suite effectuer le merge\n",
    "\n",
    "qualifying_results[\"driver_name\"]=qualifying_results[\"driver_name\"].str.split()\n",
    "\n",
    "taille=len(qualifying_results)\n",
    "for i in range(taille):\n",
    "    qualifying_results.iloc[i,1]=qualifying_results.iloc[i,1][1]\n",
    "\n",
    "qualifying_results.rename(columns={'driver_name': 'driver'}, inplace=True)\n",
    "qualifying_results[\"driver\"]=qualifying_results[\"driver\"].str.lower()"
   ]
  },
  {
   "cell_type": "markdown",
   "metadata": {},
   "source": [
    "### Merge des dataframes "
   ]
  },
  {
   "cell_type": "markdown",
   "metadata": {},
   "source": [
    "Nous allons merger les dataframes à partir du dataframe results car ce dernier est selon nous le plus complet. Nous allons ainsi merger les dataframes les uns après les autres sur des clés uniques et communes avec la méthode \"left\""
   ]
  },
  {
   "cell_type": "code",
   "execution_count": 62,
   "metadata": {},
   "outputs": [
    {
     "data": {
      "text/html": [
       "<div>\n",
       "<style scoped>\n",
       "    .dataframe tbody tr th:only-of-type {\n",
       "        vertical-align: middle;\n",
       "    }\n",
       "\n",
       "    .dataframe tbody tr th {\n",
       "        vertical-align: top;\n",
       "    }\n",
       "\n",
       "    .dataframe thead th {\n",
       "        text-align: right;\n",
       "    }\n",
       "</style>\n",
       "<table border=\"1\" class=\"dataframe\">\n",
       "  <thead>\n",
       "    <tr style=\"text-align: right;\">\n",
       "      <th></th>\n",
       "      <th>season</th>\n",
       "      <th>round</th>\n",
       "      <th>circuit_id</th>\n",
       "      <th>weather</th>\n",
       "      <th>weather_warm</th>\n",
       "      <th>weather_cold</th>\n",
       "      <th>weather_dry</th>\n",
       "      <th>weather_wet</th>\n",
       "      <th>weather_cloudy</th>\n",
       "    </tr>\n",
       "  </thead>\n",
       "  <tbody>\n",
       "    <tr>\n",
       "      <th>0</th>\n",
       "      <td>1990</td>\n",
       "      <td>1</td>\n",
       "      <td>phoenix</td>\n",
       "      <td>Cloudy and cool with temperatures reaching up ...</td>\n",
       "      <td>0</td>\n",
       "      <td>1</td>\n",
       "      <td>0</td>\n",
       "      <td>0</td>\n",
       "      <td>1</td>\n",
       "    </tr>\n",
       "    <tr>\n",
       "      <th>1</th>\n",
       "      <td>1990</td>\n",
       "      <td>2</td>\n",
       "      <td>interlagos</td>\n",
       "      <td>Hot, dry, sunny</td>\n",
       "      <td>1</td>\n",
       "      <td>0</td>\n",
       "      <td>0</td>\n",
       "      <td>0</td>\n",
       "      <td>0</td>\n",
       "    </tr>\n",
       "    <tr>\n",
       "      <th>2</th>\n",
       "      <td>1990</td>\n",
       "      <td>3</td>\n",
       "      <td>imola</td>\n",
       "      <td>Warm, dry, sunny</td>\n",
       "      <td>1</td>\n",
       "      <td>0</td>\n",
       "      <td>0</td>\n",
       "      <td>0</td>\n",
       "      <td>0</td>\n",
       "    </tr>\n",
       "    <tr>\n",
       "      <th>3</th>\n",
       "      <td>1990</td>\n",
       "      <td>4</td>\n",
       "      <td>monaco</td>\n",
       "      <td>Warm, dry, sunny</td>\n",
       "      <td>1</td>\n",
       "      <td>0</td>\n",
       "      <td>0</td>\n",
       "      <td>0</td>\n",
       "      <td>0</td>\n",
       "    </tr>\n",
       "    <tr>\n",
       "      <th>4</th>\n",
       "      <td>1990</td>\n",
       "      <td>5</td>\n",
       "      <td>villeneuve</td>\n",
       "      <td>Warm and cloudy with temperatures approaching ...</td>\n",
       "      <td>1</td>\n",
       "      <td>0</td>\n",
       "      <td>0</td>\n",
       "      <td>0</td>\n",
       "      <td>1</td>\n",
       "    </tr>\n",
       "    <tr>\n",
       "      <th>...</th>\n",
       "      <td>...</td>\n",
       "      <td>...</td>\n",
       "      <td>...</td>\n",
       "      <td>...</td>\n",
       "      <td>...</td>\n",
       "      <td>...</td>\n",
       "      <td>...</td>\n",
       "      <td>...</td>\n",
       "      <td>...</td>\n",
       "    </tr>\n",
       "    <tr>\n",
       "      <th>546</th>\n",
       "      <td>2020</td>\n",
       "      <td>13</td>\n",
       "      <td>imola</td>\n",
       "      <td>Partly cloudy</td>\n",
       "      <td>0</td>\n",
       "      <td>0</td>\n",
       "      <td>0</td>\n",
       "      <td>0</td>\n",
       "      <td>1</td>\n",
       "    </tr>\n",
       "    <tr>\n",
       "      <th>547</th>\n",
       "      <td>2020</td>\n",
       "      <td>14</td>\n",
       "      <td>istanbul</td>\n",
       "      <td>Overcast. Wet and drying track. Air: 11–14 °C ...</td>\n",
       "      <td>0</td>\n",
       "      <td>0</td>\n",
       "      <td>0</td>\n",
       "      <td>1</td>\n",
       "      <td>0</td>\n",
       "    </tr>\n",
       "    <tr>\n",
       "      <th>548</th>\n",
       "      <td>2020</td>\n",
       "      <td>15</td>\n",
       "      <td>bahrain</td>\n",
       "      <td>Clear</td>\n",
       "      <td>1</td>\n",
       "      <td>0</td>\n",
       "      <td>0</td>\n",
       "      <td>0</td>\n",
       "      <td>0</td>\n",
       "    </tr>\n",
       "    <tr>\n",
       "      <th>549</th>\n",
       "      <td>2020</td>\n",
       "      <td>16</td>\n",
       "      <td>bahrain</td>\n",
       "      <td>Clear</td>\n",
       "      <td>1</td>\n",
       "      <td>0</td>\n",
       "      <td>0</td>\n",
       "      <td>0</td>\n",
       "      <td>0</td>\n",
       "    </tr>\n",
       "    <tr>\n",
       "      <th>550</th>\n",
       "      <td>2020</td>\n",
       "      <td>17</td>\n",
       "      <td>yas_marina</td>\n",
       "      <td>Clear</td>\n",
       "      <td>1</td>\n",
       "      <td>0</td>\n",
       "      <td>0</td>\n",
       "      <td>0</td>\n",
       "      <td>0</td>\n",
       "    </tr>\n",
       "  </tbody>\n",
       "</table>\n",
       "<p>551 rows × 9 columns</p>\n",
       "</div>"
      ],
      "text/plain": [
       "     season  round  circuit_id  \\\n",
       "0      1990      1     phoenix   \n",
       "1      1990      2  interlagos   \n",
       "2      1990      3       imola   \n",
       "3      1990      4      monaco   \n",
       "4      1990      5  villeneuve   \n",
       "..      ...    ...         ...   \n",
       "546    2020     13       imola   \n",
       "547    2020     14    istanbul   \n",
       "548    2020     15     bahrain   \n",
       "549    2020     16     bahrain   \n",
       "550    2020     17  yas_marina   \n",
       "\n",
       "                                               weather  weather_warm  \\\n",
       "0    Cloudy and cool with temperatures reaching up ...             0   \n",
       "1                                      Hot, dry, sunny             1   \n",
       "2                                     Warm, dry, sunny             1   \n",
       "3                                     Warm, dry, sunny             1   \n",
       "4    Warm and cloudy with temperatures approaching ...             1   \n",
       "..                                                 ...           ...   \n",
       "546                                      Partly cloudy             0   \n",
       "547  Overcast. Wet and drying track. Air: 11–14 °C ...             0   \n",
       "548                                              Clear             1   \n",
       "549                                              Clear             1   \n",
       "550                                              Clear             1   \n",
       "\n",
       "     weather_cold  weather_dry  weather_wet  weather_cloudy  \n",
       "0               1            0            0               1  \n",
       "1               0            0            0               0  \n",
       "2               0            0            0               0  \n",
       "3               0            0            0               0  \n",
       "4               0            0            0               1  \n",
       "..            ...          ...          ...             ...  \n",
       "546             0            0            0               1  \n",
       "547             0            0            1               0  \n",
       "548             0            0            0               0  \n",
       "549             0            0            0               0  \n",
       "550             0            0            0               0  \n",
       "\n",
       "[551 rows x 9 columns]"
      ]
     },
     "execution_count": 62,
     "metadata": {},
     "output_type": "execute_result"
    }
   ],
   "source": [
    "weather_info"
   ]
  },
  {
   "cell_type": "code",
   "execution_count": 63,
   "metadata": {},
   "outputs": [],
   "source": [
    "# On merge les dataframes\n",
    "\n",
    "results_2=results.merge(how=\"left\",on=[\"season\",\"round\",\"constructor\"],right=constructor_standings)\n",
    "results_2.head()\n",
    "results_3=results_2.merge(how=\"left\",on=[\"season\",\"round\",\"driver\"],right=driver_standings)\n",
    "results_3.head(30)\n",
    "results_4=results_3.merge(how=\"left\",on=[\"season\",\"round\",\"driver\"],right=qualifying_results)\n",
    "results_5=results_4.merge(how=\"left\",on=[\"season\",\"round\",\"circuit_id\"],right=weather)"
   ]
  },
  {
   "cell_type": "code",
   "execution_count": 64,
   "metadata": {},
   "outputs": [],
   "source": [
    "# Nous renommons quelques variables et nous conservons notre dataframe mergé sous le nom de \"df_merged\"\n",
    "\n",
    "results_5=results_5.drop(columns=\"grid_y\")\n",
    "results_5.rename(columns={'grid_x': 'grid'}, inplace=True)\n",
    "df_merged=results_5.copy()"
   ]
  },
  {
   "cell_type": "markdown",
   "metadata": {},
   "source": [
    "On dispose maintenant d'un dataframe contenant toutes nos metrics: df_merged: "
   ]
  },
  {
   "cell_type": "code",
   "execution_count": 65,
   "metadata": {},
   "outputs": [
    {
     "name": "stdout",
     "output_type": "stream",
     "text": [
      "<class 'pandas.core.frame.DataFrame'>\n",
      "Int64Index: 12399 entries, 0 to 12398\n",
      "Data columns (total 27 columns):\n",
      " #   Column                     Non-Null Count  Dtype  \n",
      "---  ------                     --------------  -----  \n",
      " 0   season                     12399 non-null  int64  \n",
      " 1   round                      12399 non-null  int64  \n",
      " 2   circuit_id                 12399 non-null  object \n",
      " 3   driver                     12399 non-null  object \n",
      " 4   date_of_birth              12399 non-null  object \n",
      " 5   nationality                12399 non-null  object \n",
      " 6   constructor                12399 non-null  object \n",
      " 7   grid                       12399 non-null  int64  \n",
      " 8   time                       4464 non-null   float64\n",
      " 9   status                     12399 non-null  object \n",
      " 10  points                     12394 non-null  float64\n",
      " 11  podium                     12399 non-null  int64  \n",
      " 12  constructor_points         12213 non-null  float64\n",
      " 13  constructor_wins           12213 non-null  float64\n",
      " 14  constructor_standings_pos  12213 non-null  float64\n",
      " 15  driver_points              11794 non-null  float64\n",
      " 16  driver_wins                11794 non-null  float64\n",
      " 17  driver_standings_pos       11794 non-null  float64\n",
      " 18  car                        10219 non-null  object \n",
      " 19  qualifying_time            10009 non-null  object \n",
      " 20  Unnamed: 0                 12399 non-null  int64  \n",
      " 21  weather                    12399 non-null  object \n",
      " 22  weather_warm               12399 non-null  int64  \n",
      " 23  weather_cold               12399 non-null  int64  \n",
      " 24  weather_dry                12399 non-null  int64  \n",
      " 25  weather_wet                12399 non-null  int64  \n",
      " 26  weather_cloudy             12399 non-null  int64  \n",
      "dtypes: float64(8), int64(10), object(9)\n",
      "memory usage: 2.6+ MB\n"
     ]
    }
   ],
   "source": [
    "df_merged.info()"
   ]
  },
  {
   "cell_type": "code",
   "execution_count": 68,
   "metadata": {
    "scrolled": false
   },
   "outputs": [
    {
     "data": {
      "text/plain": [
       "<AxesSubplot:>"
      ]
     },
     "execution_count": 68,
     "metadata": {},
     "output_type": "execute_result"
    },
    {
     "data": {
      "image/png": "[encoded data removed]",
      "text/plain": [
       "<Figure size 1440x720 with 2 Axes>"
      ]
     },
     "metadata": {},
     "output_type": "display_data"
    }
   ],
   "source": [
    "# Visualisation rapide des valeurs manquantes par variable\n",
    "\n",
    "df_merged_na=df_merged.isna().copy()\n",
    "sns.heatmap(df_merged_na)\n"
   ]
  },
  {
   "cell_type": "markdown",
   "metadata": {},
   "source": [
    "* On va devoir gérer quelques valeurs manquantes pour 'qualifying_time', 'driver_wins, 'driver_points', driver_standings_pos notamment.   "
   ]
  },
  {
   "cell_type": "markdown",
   "metadata": {},
   "source": [
    "### Gestion des valeurs manquantes"
   ]
  },
  {
   "cell_type": "markdown",
   "metadata": {},
   "source": [
    "* On remplace certaines valeurs manquantes par des 0 (Voir ci-dessous les catégories importantes) ce qui est très simple à implémenter et qui est plausibles pour ces valeurs manquantes. \n",
    "* On supprime ensuite toutes les lignes contenant encore des valeurs manquantes."
   ]
  },
  {
   "cell_type": "code",
   "execution_count": 69,
   "metadata": {},
   "outputs": [],
   "source": [
    "x_var= ['driver_points', 'driver_wins', 'driver_standings_pos', 'constructor_points', \n",
    "            'constructor_wins' , 'constructor_standings_pos']\n",
    "for var in x_var:\n",
    "    df_merged[var].fillna(0, inplace = True) # On remplit les valeurs manquantes par des 0\n",
    "    df_merged[var] = df_merged[var].map(lambda x: int(x)) # conversion des valeurs en entier.\n"
   ]
  },
  {
   "cell_type": "code",
   "execution_count": 70,
   "metadata": {},
   "outputs": [],
   "source": [
    "df_merged.dropna(inplace = True ) # supression des valeurs manquantes restantes "
   ]
  },
  {
   "cell_type": "markdown",
   "metadata": {},
   "source": [
    "### Création de nouvelle variables "
   ]
  },
  {
   "cell_type": "markdown",
   "metadata": {},
   "source": [
    "Nous allons maintenant créer des variables qui ne sont pas directement accesssibles dans nos données et qui vont sans nous permettre de prédire le vainqueur de la course. Nous allons ainsi créer la variables \"age\" qui correspondra à l'âge (à l'année prêt) des pilotes, mais également la variables \"qualifying_time\" contenant la différence cumulée des temps de qualification par rapport au pilote en pôle position. "
   ]
  },
  {
   "cell_type": "code",
   "execution_count": 71,
   "metadata": {},
   "outputs": [],
   "source": [
    "# Ajout de l'âge des pilote\n",
    "df_merged[\"date_of_birth\"]=pd.to_datetime(df_merged[\"date_of_birth\"])\n",
    "df_merged[\"season\"]=pd.to_datetime(df_merged[\"season\"], format=\"%Y\") # conversion en format date\n",
    "df_merged[\"age\"]=round(((df_merged[\"season\"]-df_merged['date_of_birth']).dt.days)/365) #On détermine l'âge du pilote à l'année prêt \n"
   ]
  },
  {
   "cell_type": "code",
   "execution_count": 72,
   "metadata": {},
   "outputs": [],
   "source": [
    "df_merged['qualifying_time'] = df_merged.qualifying_time.map(lambda x: 0 if str(x) == '00.000' else(float(str(x).split(':')[1]) + (60 * float(str(x).split(':')[0])) if len(str(x).split(':'))>1 else 0))\n",
    "df_merged = df_merged[df_merged['qualifying_time'] != 0] # On enlève les valeurs manquantes\n",
    "df_merged.sort_values(['season', 'round', 'grid'], inplace = True)\n",
    "df_merged['qualifying_time_diff'] = df_merged.groupby(['season', 'round']).qualifying_time.diff()\n",
    "df_merged['qualifying_time'] = df_merged.groupby(['season', 'round']).qualifying_time_diff.cumsum().fillna(0)\n",
    "df_merged.drop('qualifying_time_diff', axis = 1, inplace = True)"
   ]
  },
  {
   "cell_type": "code",
   "execution_count": 73,
   "metadata": {},
   "outputs": [
    {
     "data": {
      "text/plain": [
       "1        0.000\n",
       "0        0.023\n",
       "3        0.454\n",
       "2        0.651\n",
       "4        0.719\n",
       "         ...  \n",
       "12384    0.544\n",
       "12388    0.775\n",
       "12386    0.971\n",
       "12387    1.088\n",
       "12385    1.135\n",
       "Name: qualifying_time, Length: 3498, dtype: float64"
      ]
     },
     "execution_count": 73,
     "metadata": {},
     "output_type": "execute_result"
    }
   ],
   "source": [
    "df_merged['qualifying_time']"
   ]
  },
  {
   "cell_type": "markdown",
   "metadata": {},
   "source": [
    "### Préparation de nos variables catégorielles pour la modélisation"
   ]
  },
  {
   "cell_type": "markdown",
   "metadata": {},
   "source": [
    "Nous disposons de multiples variables catégorielles telles que les variables liées aux constructeurs, aux nationalité, aux circuits. Ces variables sont à priori utiles pour les prédiction du gagnant d'un grand prix. Ainsi, pour pouvoir les exploiter lors de la modélisation, nous devons les représenter sous forme d'indicatrice: "
   ]
  },
  {
   "cell_type": "code",
   "execution_count": 74,
   "metadata": {},
   "outputs": [],
   "source": [
    "\n",
    "\n",
    "df_ind = pd.get_dummies(df_merged, columns = ['circuit_id', 'nationality', 'constructor'] )\n",
    "\n",
    "for col in df_ind.columns:\n",
    "    if 'nationality' in col and df_ind[col].sum() < 100: # critère arbitraire pour enlever les colonnes non significatives \n",
    "        df_ind.drop(columns=col,inplace=True)\n",
    "        \n",
    "    elif 'constructor' in col and df_ind[col].sum() < 100: # critère arbitraire pour enlever les colonnes non significatives\n",
    "        df_ind.drop(columns=col,inplace=True)\n",
    "        \n",
    "    elif 'circuit_id' in col and df_ind[col].sum() < 100:  # critère arbitraire pour enlever les colonnes non significatives\n",
    "        df_ind.drop(columns=col,inplace=True)"
   ]
  },
  {
   "cell_type": "code",
   "execution_count": 75,
   "metadata": {},
   "outputs": [],
   "source": [
    "del df_ind['date_of_birth'] #On enlèves les colonnes en trop\n",
    "del df_ind['status']\n",
    "del df_ind['car']\n",
    "del df_ind['weather']"
   ]
  },
  {
   "cell_type": "code",
   "execution_count": 76,
   "metadata": {},
   "outputs": [],
   "source": [
    "df_ind['season']=pd.to_datetime(df_ind['season']) # On passe sous le format date\n",
    "df_ind['season'] = df_ind['season'].dt.year"
   ]
  },
  {
   "cell_type": "code",
   "execution_count": 77,
   "metadata": {},
   "outputs": [],
   "source": [
    "final_merged=df_ind.copy() #On renomme et copie notre dataframe final sous le nom de final_merged"
   ]
  },
  {
   "cell_type": "code",
   "execution_count": 78,
   "metadata": {},
   "outputs": [],
   "source": [
    "np.set_printoptions(precision=4)"
   ]
  },
  {
   "cell_type": "markdown",
   "metadata": {},
   "source": [
    "## III-2. Classification"
   ]
  },
  {
   "cell_type": "markdown",
   "metadata": {},
   "source": [
    "Nous souhaitons à travers ce projet prédire le gagnant d'un grand prix de F1. Nous pouvons alors procéder par classification en considérant que le gagnant est de la catégorie 1 et le perdant de la catégorie 0.\n",
    "\n",
    "Pour évaluer la performance de notre modèle, nous avons décidé d'entraîner notre modèle sur les années précédants 2020 et de mesurer la performance de notre modèle comme le pourcentage de course \"bien\" prédite en 2020. Il existe d'autres approches mais nous avons choisie cette dernière car elle permet d'évaluer intuitivement la pertinence ou non du modèle sur une année récente. "
   ]
  },
  {
   "cell_type": "code",
   "execution_count": 79,
   "metadata": {},
   "outputs": [],
   "source": [
    "# On initialise notre dictionnaire qui va nous permettre de comparer nos modèles \n",
    "comparison_dict ={'model':[],\n",
    "                  'params': [],\n",
    "                  'score': []}"
   ]
  },
  {
   "cell_type": "code",
   "execution_count": 80,
   "metadata": {},
   "outputs": [],
   "source": [
    "df = final_merged.copy()\n",
    "\n",
    "df[\"podium\"] = df[\"podium\"].map(lambda x: 1 if x == 1 else 0) # on divise en 2 classes les gagnants et les perdants\n",
    "\n",
    "# On prépare le dataset d'entraînement\n",
    "\n",
    "train = df[df[\"season\"]<2020] # données d'entraînement\n",
    "X_train = train.drop(['driver', 'podium'], axis = 1) # les variables explicatives\n",
    "y_train = train[\"podium\"] # la target\n",
    "\n",
    "scaler = StandardScaler()\n",
    "X_train = pd.DataFrame(scaler.fit_transform(X_train), columns = X_train.columns) # process pour préparer les données "
   ]
  },
  {
   "cell_type": "markdown",
   "metadata": {},
   "source": [
    "On implémente une fonction qui va nous retourner la performance de notre modèle, c'est à dire : le poucentage de course \"bien\" prédite en 2020"
   ]
  },
  {
   "cell_type": "code",
   "execution_count": 81,
   "metadata": {},
   "outputs": [],
   "source": [
    "# On implémente une fonction qui va nous retourner la performance de notre modèle, c'est à dire\n",
    "# le poucentage de course \"bien\" prédite en 2020\n",
    "\n",
    "def score_classification(model,xvar):\n",
    "    score = 0\n",
    "    for circuit in df[df.season == 2020]['round'].unique():\n",
    "\n",
    "        test = df[(df.season == 2020) & (df['round'] == circuit)]\n",
    "        X_test = test[\"xvar\"]\n",
    "        y_test = test['podium']\n",
    "\n",
    "        #scaling\n",
    "        X_test = pd.DataFrame(scaler.transform(X_test), columns = X_test.columns)\n",
    "\n",
    "        # make predictions\n",
    "        prediction_df = pd.DataFrame(model.predict_proba(X_test), columns = ['proba_0', 'proba_1'])\n",
    "        prediction_df['actual'] = y_test.reset_index(drop = True)\n",
    "        prediction_df.sort_values('proba_1', ascending = False, inplace = True)\n",
    "        prediction_df.reset_index(inplace = True, drop = True)\n",
    "        prediction_df['predicted'] = prediction_df.index\n",
    "        prediction_df['predicted'] = prediction_df['predicted'].map(lambda x: 1 if x == 0 else 0)\n",
    "\n",
    "        score += precision_score(prediction_df.actual, prediction_df.predicted)\n",
    "\n",
    "    model_score = score / df[df.season == 2020]['round'].unique().max()\n",
    "    return model_score"
   ]
  },
  {
   "cell_type": "markdown",
   "metadata": {},
   "source": [
    "###  SVM Classifier"
   ]
  },
  {
   "cell_type": "markdown",
   "metadata": {},
   "source": [
    "Nous avons choisi d'utiliser le modèle SVM pour la classification car ce dernier est très courant pour résoudre des problèmes de classifications. \n",
    "\n",
    "Nous allons pour trouver les paramètres du modèles permettant d'avoir le meilleur score, tester différentes combinaisons de paramètres. Ce code est assez lent à faire tourner. "
   ]
  },
  {
   "cell_type": "code",
   "execution_count": 8,
   "metadata": {},
   "outputs": [],
   "source": [
    "params={'gamma': np.logspace(-4, -1, 20),\n",
    "        'C': np.logspace(-2, 1, 20),\n",
    "        'kernel': ['linear', 'poly', 'rbf', 'sigmoid']} \n",
    "\n",
    "for gamma in params['gamma']:\n",
    "    for c in params['C']:\n",
    "        for kernel in params['kernel']:\n",
    "            model_params = (gamma, c, kernel)\n",
    "            model = svm.SVC(probability = True, gamma = gamma, C = c, kernel = kernel )\n",
    "            model.fit(X_train, y_train)\n",
    "            \n",
    "            model_score = score_classification(model,train.columns.drop([\"driver\",\"podium\"])\n",
    "            \n",
    "            # On stocke nos résultats dans ce dictionnaire afin de les comparer par la suite\n",
    "                                               \n",
    "            comparison_dict['model'].append('svm_classifier') \n",
    "            comparison_dict['params'].append(model_params)\n",
    "            comparison_dict['score'].append(model_score)"
   ]
  },
  {
   "cell_type": "markdown",
   "metadata": {},
   "source": [
    "## III-3. Régression"
   ]
  },
  {
   "cell_type": "markdown",
   "metadata": {},
   "source": [
    "Nous pouvons également considérer notre problème comme un problème de regression. En effet, le classsement de la course peut être vu comme une variables continue, le vainqueur correspondra alors à cela dont la prédication de classement sera la plus basse. \n",
    "\n",
    "Afin de pouvoir comparer notre classfication à notre régression nous utilisons bien évidemment les mêmes données de test (2020) et le même indicateur de performance du modèle. "
   ]
  },
  {
   "cell_type": "code",
   "execution_count": 82,
   "metadata": {},
   "outputs": [],
   "source": [
    "# On prépare notre dataset d'entraînement\n",
    "\n",
    "df = final_merged.copy()\n",
    "\n",
    "train = df[df.season<2020]\n",
    "X_train = train.drop(['driver', 'podium'], axis = 1)\n",
    "y_train = train.podium\n",
    "\n",
    "scaler = StandardScaler()\n",
    "X_train = pd.DataFrame(scaler.fit_transform(X_train), columns = X_train.columns)"
   ]
  },
  {
   "cell_type": "markdown",
   "metadata": {},
   "source": [
    "On implémente une fonction qui va nous retourner la performance de notre modèle, c'est à dire : le poucentage de courses \"bien\" prédite en 2020"
   ]
  },
  {
   "cell_type": "code",
   "execution_count": 70,
   "metadata": {},
   "outputs": [],
   "source": [
    "# la fonction score: \n",
    "\n",
    "def score_regression(model,xvar):\n",
    "    score=0\n",
    "    les_circuits=df[df['season']==2020][\"round\"].unique()\n",
    "    for circuit in les_circuits:\n",
    "        test=df[(df['season']==2020) & (df['round']==circuit)]\n",
    "        X_test=test[xvar]\n",
    "        y_test=test[\"podium\"]\n",
    "        \n",
    "        X_test = pd.DataFrame(scaler.transform(X_test), columns = X_test.columns)\n",
    "        \n",
    "        #On fait les prédictions\n",
    "        \n",
    "        prediction_df = pd.DataFrame(model.predict(X_test), columns = ['results'])\n",
    "        prediction_df['podium'] = y_test.reset_index(drop = True)\n",
    "        prediction_df['actual'] = prediction_df['podium'].map(lambda x: 1 if x == 1 else 0)\n",
    "        prediction_df.sort_values('results', ascending = True, inplace = True)\n",
    "        prediction_df.reset_index(inplace = True, drop = True)\n",
    "        prediction_df['predicted'] = prediction_df.index\n",
    "        prediction_df['predicted'] = prediction_df.predicted.map(lambda x: 1 if x == 0 else 0)\n",
    "        \n",
    "        score += precision_score(prediction_df['actual'],prediction_df['predicted'])\n",
    "    \n",
    "    model_score = score / df[df.season == 2020]['round'].unique().max()\n",
    "    return model_score"
   ]
  },
  {
   "cell_type": "markdown",
   "metadata": {},
   "source": [
    "### Régression linéaire"
   ]
  },
  {
   "cell_type": "markdown",
   "metadata": {},
   "source": [
    "Pour la regression nous avons choisi de réaliser une regression linéaire. En effet, c'est un modèle très standard, facile à interpréter et relativement rapide à faire tourner.\n",
    "\n",
    "Dans un premier temps nous allons réaliser la regression sur toutes les variables explicatives afin de stocker son score dns notre dictionnaire de comparaison. \n",
    "\n",
    "Dans un second temps, nous allons regresser sur différentes combinaisons de variables afin de comprendre quelles types de variables permettent le mieux de prédire le vainqueur de la course. "
   ]
  },
  {
   "cell_type": "code",
   "execution_count": 71,
   "metadata": {},
   "outputs": [],
   "source": [
    "# Regression sur toutes les variables explicatives. \n",
    "model = LinearRegression(fit_intercept = 'True')\n",
    "model.fit(X_train, y_train)\n",
    "model_score=score_regression(model,train.columns.drop([\"driver\",\"podium\"]))\n",
    "comparison_dict['model'].append('regression_lineaire')\n",
    "comparison_dict['params'].append('True')\n",
    "comparison_dict['score'].append(model_score)"
   ]
  },
  {
   "cell_type": "raw",
   "metadata": {},
   "source": [
    "On regresse maintenant sur différentes combinaisons de groupe de variables : \n",
    "- weather pour toutes les données météo\n",
    "- grid pour toute les données liées aux qualifs\n",
    "- circuit pour toutes les données liées aux circuits \n",
    "- constructor pour toutes les données liées aux constructeurs\n"
   ]
  },
  {
   "cell_type": "code",
   "execution_count": 94,
   "metadata": {},
   "outputs": [],
   "source": [
    "xvar_total=df.columns.drop([\"driver\",'podium'])\n",
    "xvar_series=pd.Series(xvar_total)\n",
    "\n",
    "xvar_weather=list(xvar_series[xvar_series.str.contains(\"weather\")])\n",
    "xvar_nationality=list(xvar_series[xvar_series.str.contains(\"nationality\")])\n",
    "xvar_circuit=list(xvar_series[xvar_series.str.contains(\"circuit\")])\n",
    "xvar_constructor=list(xvar_series[xvar_series.str.contains(\"constructor\")])\n",
    "xvar_grid=list([\"grid\",\"constructor_standings_pos\",\"driver_standings_pos\",\"qualifying_time\"])\n",
    "\n",
    "xvar_comparison={'xvar':[],'score':[]}\n",
    "\n",
    "xvar_combinaison=[xvar_weather+xvar_grid,xvar_grid+xvar_circuit,xvar_nationality+xvar_circuit,xvar_constructor+xvar_circuit,xvar_weather+xvar_grid+xvar_constructor]\n",
    "xvar_comparison['type_var']=[\"weather+grid\",\"grid+circuit\",'nationality+circuit','constructor+circuit',\"weather+grid+constructor\"]\n",
    "    \n",
    "for xvar in xvar_combinaison:\n",
    "    X_train_2 = train[xvar].copy()\n",
    "    y_train_2 = train[\"podium\"].copy()\n",
    "\n",
    "    scaler = StandardScaler()\n",
    "    X_train_2 = pd.DataFrame(scaler.fit_transform(X_train_2), columns = X_train_2.columns)\n",
    "    \n",
    "    model = LinearRegression(fit_intercept = 'True')\n",
    "    model.fit(X_train_2, y_train_2)\n",
    "    \n",
    "    model_score=score_regression(model,xvar)\n",
    "    \n",
    "    \n",
    "    xvar_comparison['xvar'].append(xvar)\n",
    "    xvar_comparison['score'].append(model_score)"
   ]
  },
  {
   "cell_type": "code",
   "execution_count": 95,
   "metadata": {
    "scrolled": false
   },
   "outputs": [
    {
     "data": {
      "text/plain": [
       "<AxesSubplot:xlabel='type_var', ylabel='score'>"
      ]
     },
     "execution_count": 95,
     "metadata": {},
     "output_type": "execute_result"
    },
    {
     "data": {
      "image/png": "[encoded data removed]",
      "text/plain": [
       "<Figure size 1440x720 with 1 Axes>"
      ]
     },
     "metadata": {},
     "output_type": "display_data"
    }
   ],
   "source": [
    "# Tracé d'un graphique pour ocomparer le scores \n",
    "\n",
    "comparaison_xvar=pd.DataFrame(xvar_comparison)\n",
    "comparaison_xvar=comparaison_xvar.groupby(\"type_var\")[\"score\"].max().reset_index()\n",
    "_,(ax1) = plt.subplots(ncols=1)\n",
    "sns.barplot(data=comparaison_xvar, x='type_var', y='score', ax=ax1, palette=sns.color_palette(\"icefire\"))"
   ]
  },
  {
   "cell_type": "markdown",
   "metadata": {},
   "source": [
    "qq lignes pour analyser et essayer d'expliquer cela "
   ]
  },
  {
   "cell_type": "markdown",
   "metadata": {},
   "source": [
    "# III-4. Comparaison de nos deux modèles "
   ]
  },
  {
   "cell_type": "markdown",
   "metadata": {},
   "source": [
    "Dans cette dernière section liée à la modélisation nous allons comparer nos modèles en comparant les scores maximaux obtenus. "
   ]
  },
  {
   "cell_type": "code",
   "execution_count": 80,
   "metadata": {
    "scrolled": false
   },
   "outputs": [
    {
     "data": {
      "text/plain": [
       "<AxesSubplot:xlabel='model', ylabel='score'>"
      ]
     },
     "execution_count": 80,
     "metadata": {},
     "output_type": "execute_result"
    },
    {
     "data": {
      "image/png": "[encoded data removed]",
      "text/plain": [
       "<Figure size 1440x720 with 1 Axes>"
      ]
     },
     "metadata": {},
     "output_type": "display_data"
    }
   ],
   "source": [
    "comparaison_model=pd.DataFrame(comparison_dict)\n",
    "comparaison_model=comparaison_model.groupby(\"model\")[\"score\"].max().reset_index()\n",
    "_,(ax1) = plt.subplots(ncols=1)\n",
    "sns.barplot(data=comparaison_model, x='model', y='score', ax=ax1, palette=sns.color_palette(\"icefire\"))"
   ]
  },
  {
   "cell_type": "markdown",
   "metadata": {},
   "source": [
    "rédiger qq lignes pour analyser le résulat "
   ]
  }
 ],
 "metadata": {
  "kernelspec": {
   "display_name": "Python 3",
   "language": "python",
   "name": "python3"
  },
  "language_info": {
   "codemirror_mode": {
    "name": "ipython",
    "version": 3
   },
   "file_extension": ".py",
   "mimetype": "text/x-python",
   "name": "python",
   "nbconvert_exporter": "python",
   "pygments_lexer": "ipython3",
   "version": "3.8.8"
  }
 },
 "nbformat": 4,
 "nbformat_minor": 4
}
