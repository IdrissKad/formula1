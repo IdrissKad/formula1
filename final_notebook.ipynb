{
 "cells": [
  {
   "cell_type": "markdown",
   "metadata": {},
   "source": [
    "# I. Importation et découverte des données"
   ]
  },
  {
   "cell_type": "markdown",
   "metadata": {},
   "source": [
    "##  Installation des Packages"
   ]
  },
  {
   "cell_type": "code",
   "execution_count": 4,
   "metadata": {},
   "outputs": [
    {
     "name": "stdout",
     "output_type": "stream",
     "text": [
      "Requirement already satisfied: requests in /Users/hurtadoemmanuel/opt/anaconda3/lib/python3.8/site-packages (2.26.0)\n",
      "Requirement already satisfied: urllib3<1.27,>=1.21.1 in /Users/hurtadoemmanuel/opt/anaconda3/lib/python3.8/site-packages (from requests) (1.26.7)\n",
      "Requirement already satisfied: idna<4,>=2.5 in /Users/hurtadoemmanuel/opt/anaconda3/lib/python3.8/site-packages (from requests) (3.3)\n",
      "Requirement already satisfied: certifi>=2017.4.17 in /Users/hurtadoemmanuel/opt/anaconda3/lib/python3.8/site-packages (from requests) (2021.10.8)\n",
      "Requirement already satisfied: charset-normalizer~=2.0.0 in /Users/hurtadoemmanuel/opt/anaconda3/lib/python3.8/site-packages (from requests) (2.0.7)\n",
      "Note: you may need to restart the kernel to use updated packages.\n"
     ]
    }
   ],
   "source": [
    "pip install requests "
   ]
  },
  {
   "cell_type": "code",
   "execution_count": 5,
   "metadata": {},
   "outputs": [
    {
     "name": "stdout",
     "output_type": "stream",
     "text": [
      "Requirement already satisfied: lxml in /Users/hurtadoemmanuel/opt/anaconda3/lib/python3.8/site-packages (4.6.3)\n",
      "Note: you may need to restart the kernel to use updated packages.\n"
     ]
    }
   ],
   "source": [
    "pip install lxml "
   ]
  },
  {
   "cell_type": "code",
   "execution_count": 6,
   "metadata": {},
   "outputs": [
    {
     "name": "stdout",
     "output_type": "stream",
     "text": [
      "Requirement already satisfied: selenium in /Users/hurtadoemmanuel/opt/anaconda3/lib/python3.8/site-packages (4.1.0)\n",
      "Requirement already satisfied: urllib3[secure]~=1.26 in /Users/hurtadoemmanuel/opt/anaconda3/lib/python3.8/site-packages (from selenium) (1.26.7)\n",
      "Requirement already satisfied: trio-websocket~=0.9 in /Users/hurtadoemmanuel/opt/anaconda3/lib/python3.8/site-packages (from selenium) (0.9.2)\n",
      "Requirement already satisfied: trio~=0.17 in /Users/hurtadoemmanuel/opt/anaconda3/lib/python3.8/site-packages (from selenium) (0.19.0)\n",
      "Requirement already satisfied: sniffio in /Users/hurtadoemmanuel/opt/anaconda3/lib/python3.8/site-packages (from trio~=0.17->selenium) (1.2.0)\n",
      "Requirement already satisfied: idna in /Users/hurtadoemmanuel/opt/anaconda3/lib/python3.8/site-packages (from trio~=0.17->selenium) (3.3)\n",
      "Requirement already satisfied: outcome in /Users/hurtadoemmanuel/opt/anaconda3/lib/python3.8/site-packages (from trio~=0.17->selenium) (1.1.0)\n",
      "Requirement already satisfied: attrs>=19.2.0 in /Users/hurtadoemmanuel/opt/anaconda3/lib/python3.8/site-packages (from trio~=0.17->selenium) (20.3.0)\n",
      "Requirement already satisfied: async-generator>=1.9 in /Users/hurtadoemmanuel/opt/anaconda3/lib/python3.8/site-packages (from trio~=0.17->selenium) (1.10)\n",
      "Requirement already satisfied: sortedcontainers in /Users/hurtadoemmanuel/opt/anaconda3/lib/python3.8/site-packages (from trio~=0.17->selenium) (2.3.0)\n",
      "Requirement already satisfied: wsproto>=0.14 in /Users/hurtadoemmanuel/opt/anaconda3/lib/python3.8/site-packages (from trio-websocket~=0.9->selenium) (1.0.0)\n",
      "Requirement already satisfied: certifi in /Users/hurtadoemmanuel/opt/anaconda3/lib/python3.8/site-packages (from urllib3[secure]~=1.26->selenium) (2021.10.8)\n",
      "Requirement already satisfied: cryptography>=1.3.4 in /Users/hurtadoemmanuel/opt/anaconda3/lib/python3.8/site-packages (from urllib3[secure]~=1.26->selenium) (3.4.7)\n",
      "Requirement already satisfied: pyOpenSSL>=0.14 in /Users/hurtadoemmanuel/opt/anaconda3/lib/python3.8/site-packages (from urllib3[secure]~=1.26->selenium) (20.0.1)\n",
      "Requirement already satisfied: cffi>=1.12 in /Users/hurtadoemmanuel/opt/anaconda3/lib/python3.8/site-packages (from cryptography>=1.3.4->urllib3[secure]~=1.26->selenium) (1.14.5)\n",
      "Requirement already satisfied: pycparser in /Users/hurtadoemmanuel/opt/anaconda3/lib/python3.8/site-packages (from cffi>=1.12->cryptography>=1.3.4->urllib3[secure]~=1.26->selenium) (2.20)\n",
      "Requirement already satisfied: six>=1.5.2 in /Users/hurtadoemmanuel/opt/anaconda3/lib/python3.8/site-packages (from pyOpenSSL>=0.14->urllib3[secure]~=1.26->selenium) (1.16.0)\n",
      "Requirement already satisfied: h11<1,>=0.9.0 in /Users/hurtadoemmanuel/opt/anaconda3/lib/python3.8/site-packages (from wsproto>=0.14->trio-websocket~=0.9->selenium) (0.12.0)\n",
      "Note: you may need to restart the kernel to use updated packages.\n"
     ]
    }
   ],
   "source": [
    "pip install selenium "
   ]
  },
  {
   "cell_type": "markdown",
   "metadata": {},
   "source": [
    "* requests est un package servant à récupérer les données d'un site web\n",
    "* lxml est un package servant à télécharger des fichiers lxml\n",
    "* selenium est un package servant à l'interaction automatisée avec un serveur"
   ]
  },
  {
   "cell_type": "markdown",
   "metadata": {},
   "source": [
    "## Importation des Librairies"
   ]
  },
  {
   "cell_type": "code",
   "execution_count": 59,
   "metadata": {},
   "outputs": [],
   "source": [
    "import lxml\n",
    "import selenium\n",
    "import pandas as pd\n",
    "import matplotlib.pyplot as plt\n",
    "import seaborn as sns\n",
    "import numpy as np\n",
    "import requests\n",
    "import bs4\n",
    "from sklearn.metrics import confusion_matrix, precision_score\n",
    "from sklearn.linear_model import LogisticRegression, LinearRegression\n",
    "from sklearn import svm\n",
    "from sklearn.preprocessing import StandardScaler, MinMaxScaler\n",
    "from sklearn.ensemble import RandomForestClassifier, RandomForestRegressor\n",
    "from sklearn.neural_network import MLPClassifier, MLPRegressor\n",
    "import matplotlib.pyplot as plt\n",
    "sns.set(rc={'figure.figsize':(20,10)})\n",
    "sns.set_theme()\n"
   ]
  },
  {
   "cell_type": "markdown",
   "metadata": {},
   "source": [
    "##  Création de la base \"Races\""
   ]
  },
  {
   "cell_type": "markdown",
   "metadata": {},
   "source": [
    "* Récupération des données à partir d'une API en ligne : \"ergast.com\"\n",
    "* Objectif : création d'une base \"Races\" regroupant les années des saisons, le nom et le rang du circuit dans la saison, la latitude et la longitude du circuit (utile plus tard pour les représentations géographiques), le pays et la date du circuit, ainsi que l'url wikipédia associé\n",
    "* La base contient 550 lignes correspondant aux saisons comprises entre 1990 et 2020"
   ]
  },
  {
   "cell_type": "code",
   "execution_count": 10,
   "metadata": {},
   "outputs": [],
   "source": [
    "\n",
    "races = {'season': [],\n",
    "        'round': [],\n",
    "        'circuit_id': [],\n",
    "        'lat': [],\n",
    "        'long': [],\n",
    "        'country': [],\n",
    "        'date': [],\n",
    "        'url': []}\n",
    "\n",
    "for year in list(range(1990,2021)):\n",
    "    \n",
    "    url = 'https://ergast.com/api/f1/{}.json'\n",
    "    r = requests.get(url.format(year))\n",
    "    json = r.json()\n",
    "\n",
    "    for item in json['MRData']['RaceTable']['Races']:\n",
    "        try:\n",
    "            races['season'].append(int(item['season']))\n",
    "        except:\n",
    "            races['season'].append(None)\n",
    "\n",
    "        try:\n",
    "            races['round'].append(int(item['round']))\n",
    "        except:\n",
    "            races['round'].append(None)\n",
    "\n",
    "        try:\n",
    "            races['circuit_id'].append(item['Circuit']['circuitId'])\n",
    "        except:\n",
    "            races['circuit_id'].append(None)\n",
    "\n",
    "        try:\n",
    "            races['lat'].append(float(item['Circuit']['Location']['lat']))\n",
    "        except:\n",
    "            races['lat'].append(None)\n",
    "\n",
    "        try:\n",
    "            races['long'].append(float(item['Circuit']['Location']['long']))\n",
    "        except:\n",
    "            races['long'].append(None)\n",
    "\n",
    "        try:\n",
    "            races['country'].append(item['Circuit']['Location']['country'])\n",
    "        except:\n",
    "            races['country'].append(None)\n",
    "\n",
    "        try:\n",
    "            races['date'].append(item['date'])\n",
    "        except:\n",
    "            races['date'].append(None)\n",
    "\n",
    "        try:\n",
    "            races['url'].append(item['url'])\n",
    "        except:\n",
    "            races['url'].append(None)\n",
    "        \n",
    "races= pd.DataFrame(races)"
   ]
  },
  {
   "cell_type": "code",
   "execution_count": 11,
   "metadata": {},
   "outputs": [
    {
     "data": {
      "text/html": [
       "<div>\n",
       "<style scoped>\n",
       "    .dataframe tbody tr th:only-of-type {\n",
       "        vertical-align: middle;\n",
       "    }\n",
       "\n",
       "    .dataframe tbody tr th {\n",
       "        vertical-align: top;\n",
       "    }\n",
       "\n",
       "    .dataframe thead th {\n",
       "        text-align: right;\n",
       "    }\n",
       "</style>\n",
       "<table border=\"1\" class=\"dataframe\">\n",
       "  <thead>\n",
       "    <tr style=\"text-align: right;\">\n",
       "      <th></th>\n",
       "      <th>season</th>\n",
       "      <th>round</th>\n",
       "      <th>circuit_id</th>\n",
       "      <th>lat</th>\n",
       "      <th>long</th>\n",
       "      <th>country</th>\n",
       "      <th>date</th>\n",
       "      <th>url</th>\n",
       "    </tr>\n",
       "  </thead>\n",
       "  <tbody>\n",
       "    <tr>\n",
       "      <th>0</th>\n",
       "      <td>1990</td>\n",
       "      <td>1</td>\n",
       "      <td>phoenix</td>\n",
       "      <td>33.4479</td>\n",
       "      <td>-112.07500</td>\n",
       "      <td>USA</td>\n",
       "      <td>1990-03-11</td>\n",
       "      <td>http://en.wikipedia.org/wiki/1990_United_State...</td>\n",
       "    </tr>\n",
       "    <tr>\n",
       "      <th>1</th>\n",
       "      <td>1990</td>\n",
       "      <td>2</td>\n",
       "      <td>interlagos</td>\n",
       "      <td>-23.7036</td>\n",
       "      <td>-46.69970</td>\n",
       "      <td>Brazil</td>\n",
       "      <td>1990-03-25</td>\n",
       "      <td>http://en.wikipedia.org/wiki/1990_Brazilian_Gr...</td>\n",
       "    </tr>\n",
       "    <tr>\n",
       "      <th>2</th>\n",
       "      <td>1990</td>\n",
       "      <td>3</td>\n",
       "      <td>imola</td>\n",
       "      <td>44.3439</td>\n",
       "      <td>11.71670</td>\n",
       "      <td>Italy</td>\n",
       "      <td>1990-05-13</td>\n",
       "      <td>http://en.wikipedia.org/wiki/1990_San_Marino_G...</td>\n",
       "    </tr>\n",
       "    <tr>\n",
       "      <th>3</th>\n",
       "      <td>1990</td>\n",
       "      <td>4</td>\n",
       "      <td>monaco</td>\n",
       "      <td>43.7347</td>\n",
       "      <td>7.42056</td>\n",
       "      <td>Monaco</td>\n",
       "      <td>1990-05-27</td>\n",
       "      <td>http://en.wikipedia.org/wiki/1990_Monaco_Grand...</td>\n",
       "    </tr>\n",
       "    <tr>\n",
       "      <th>4</th>\n",
       "      <td>1990</td>\n",
       "      <td>5</td>\n",
       "      <td>villeneuve</td>\n",
       "      <td>45.5000</td>\n",
       "      <td>-73.52280</td>\n",
       "      <td>Canada</td>\n",
       "      <td>1990-06-10</td>\n",
       "      <td>http://en.wikipedia.org/wiki/1990_Canadian_Gra...</td>\n",
       "    </tr>\n",
       "  </tbody>\n",
       "</table>\n",
       "</div>"
      ],
      "text/plain": [
       "   season  round  circuit_id      lat       long country        date  \\\n",
       "0    1990      1     phoenix  33.4479 -112.07500     USA  1990-03-11   \n",
       "1    1990      2  interlagos -23.7036  -46.69970  Brazil  1990-03-25   \n",
       "2    1990      3       imola  44.3439   11.71670   Italy  1990-05-13   \n",
       "3    1990      4      monaco  43.7347    7.42056  Monaco  1990-05-27   \n",
       "4    1990      5  villeneuve  45.5000  -73.52280  Canada  1990-06-10   \n",
       "\n",
       "                                                 url  \n",
       "0  http://en.wikipedia.org/wiki/1990_United_State...  \n",
       "1  http://en.wikipedia.org/wiki/1990_Brazilian_Gr...  \n",
       "2  http://en.wikipedia.org/wiki/1990_San_Marino_G...  \n",
       "3  http://en.wikipedia.org/wiki/1990_Monaco_Grand...  \n",
       "4  http://en.wikipedia.org/wiki/1990_Canadian_Gra...  "
      ]
     },
     "execution_count": 11,
     "metadata": {},
     "output_type": "execute_result"
    }
   ],
   "source": [
    "races.head()"
   ]
  },
  {
   "cell_type": "code",
   "execution_count": 12,
   "metadata": {},
   "outputs": [
    {
     "name": "stdout",
     "output_type": "stream",
     "text": [
      "<class 'pandas.core.frame.DataFrame'>\n",
      "RangeIndex: 551 entries, 0 to 550\n",
      "Data columns (total 8 columns):\n",
      " #   Column      Non-Null Count  Dtype  \n",
      "---  ------      --------------  -----  \n",
      " 0   season      551 non-null    int64  \n",
      " 1   round       551 non-null    int64  \n",
      " 2   circuit_id  551 non-null    object \n",
      " 3   lat         551 non-null    float64\n",
      " 4   long        551 non-null    float64\n",
      " 5   country     551 non-null    object \n",
      " 6   date        551 non-null    object \n",
      " 7   url         551 non-null    object \n",
      "dtypes: float64(2), int64(2), object(4)\n",
      "memory usage: 34.6+ KB\n"
     ]
    }
   ],
   "source": [
    "races.info()"
   ]
  },
  {
   "cell_type": "markdown",
   "metadata": {},
   "source": [
    "##  Création de la  base \"Results\""
   ]
  },
  {
   "cell_type": "markdown",
   "metadata": {},
   "source": [
    "## Création de la bas \"driver standings\""
   ]
  },
  {
   "cell_type": "markdown",
   "metadata": {},
   "source": [
    "* Objectif : création d'une deuxième base incluant notamment la position sur la grille de départ et le podium final\n",
    "* Observations de valeurs manquantes sur la variable \"time\" : on choisit donc de l'exclure (64% de valeurs manquantes)"
   ]
  },
  {
   "cell_type": "code",
   "execution_count": 13,
   "metadata": {},
   "outputs": [
    {
     "name": "stdout",
     "output_type": "stream",
     "text": [
      "[[1990, [1, 2, 3, 4, 5, 6, 7, 8, 9, 10, 11, 12, 13, 14, 15, 16]], [1991, [1, 2, 3, 4, 5, 6, 7, 8, 9, 10, 11, 12, 13, 14, 15, 16]], [1992, [1, 2, 3, 4, 5, 6, 7, 8, 9, 10, 11, 12, 13, 14, 15, 16]], [1993, [1, 2, 3, 4, 5, 6, 7, 8, 9, 10, 11, 12, 13, 14, 15, 16]], [1994, [1, 2, 3, 4, 5, 6, 7, 8, 9, 10, 11, 12, 13, 14, 15, 16]], [1995, [1, 2, 3, 4, 5, 6, 7, 8, 9, 10, 11, 12, 13, 14, 15, 16, 17]], [1996, [1, 2, 3, 4, 5, 6, 7, 8, 9, 10, 11, 12, 13, 14, 15, 16]], [1997, [1, 2, 3, 4, 5, 6, 7, 8, 9, 10, 11, 12, 13, 14, 15, 16, 17]], [1998, [1, 2, 3, 4, 5, 6, 7, 8, 9, 10, 11, 12, 13, 14, 15, 16]], [1999, [1, 2, 3, 4, 5, 6, 7, 8, 9, 10, 11, 12, 13, 14, 15, 16]], [2000, [1, 2, 3, 4, 5, 6, 7, 8, 9, 10, 11, 12, 13, 14, 15, 16, 17]], [2001, [1, 2, 3, 4, 5, 6, 7, 8, 9, 10, 11, 12, 13, 14, 15, 16, 17]], [2002, [1, 2, 3, 4, 5, 6, 7, 8, 9, 10, 11, 12, 13, 14, 15, 16, 17]], [2003, [1, 2, 3, 4, 5, 6, 7, 8, 9, 10, 11, 12, 13, 14, 15, 16]], [2004, [1, 2, 3, 4, 5, 6, 7, 8, 9, 10, 11, 12, 13, 14, 15, 16, 17, 18]], [2005, [1, 2, 3, 4, 5, 6, 7, 8, 9, 10, 11, 12, 13, 14, 15, 16, 17, 18, 19]], [2006, [1, 2, 3, 4, 5, 6, 7, 8, 9, 10, 11, 12, 13, 14, 15, 16, 17, 18]], [2007, [1, 2, 3, 4, 5, 6, 7, 8, 9, 10, 11, 12, 13, 14, 15, 16, 17]], [2008, [1, 2, 3, 4, 5, 6, 7, 8, 9, 10, 11, 12, 13, 14, 15, 16, 17, 18]], [2009, [1, 2, 3, 4, 5, 6, 7, 8, 9, 10, 11, 12, 13, 14, 15, 16, 17]], [2010, [1, 2, 3, 4, 5, 6, 7, 8, 9, 10, 11, 12, 13, 14, 15, 16, 17, 18, 19]], [2011, [1, 2, 3, 4, 5, 6, 7, 8, 9, 10, 11, 12, 13, 14, 15, 16, 17, 18, 19]], [2012, [1, 2, 3, 4, 5, 6, 7, 8, 9, 10, 11, 12, 13, 14, 15, 16, 17, 18, 19, 20]], [2013, [1, 2, 3, 4, 5, 6, 7, 8, 9, 10, 11, 12, 13, 14, 15, 16, 17, 18, 19]], [2014, [1, 2, 3, 4, 5, 6, 7, 8, 9, 10, 11, 12, 13, 14, 15, 16, 17, 18, 19]], [2015, [1, 2, 3, 4, 5, 6, 7, 8, 9, 10, 11, 12, 13, 14, 15, 16, 17, 18, 19]], [2016, [1, 2, 3, 4, 5, 6, 7, 8, 9, 10, 11, 12, 13, 14, 15, 16, 17, 18, 19, 20, 21]], [2017, [1, 2, 3, 4, 5, 6, 7, 8, 9, 10, 11, 12, 13, 14, 15, 16, 17, 18, 19, 20]], [2018, [1, 2, 3, 4, 5, 6, 7, 8, 9, 10, 11, 12, 13, 14, 15, 16, 17, 18, 19, 20, 21]], [2019, [1, 2, 3, 4, 5, 6, 7, 8, 9, 10, 11, 12, 13, 14, 15, 16, 17, 18, 19, 20, 21]], [2020, [1, 2, 3, 4, 5, 6, 7, 8, 9, 10, 11, 12, 13, 14, 15, 16, 17]]]\n"
     ]
    }
   ],
   "source": [
    "rounds = []\n",
    "for year in np.array(race.season.unique()):\n",
    "    rounds.append([year, list(race[race.season == year]['round'])])\n",
    "\n",
    "print(rounds)\n",
    "# query API\n",
    "    \n",
    "results = {'season': [],\n",
    "          'round':[],\n",
    "           'circuit_id':[],\n",
    "          'driver': [],\n",
    "           'date_of_birth': [],\n",
    "           'nationality': [],\n",
    "          'constructor': [],\n",
    "          'grid': [],\n",
    "          'time': [],\n",
    "          'status': [],\n",
    "          'points': [],\n",
    "          'podium': []}\n",
    "\n",
    "for n in list(range(len(rounds))):\n",
    "    for i in rounds[n][1]:\n",
    "    \n",
    "        url = 'http://ergast.com/api/f1/{}/{}/results.json'\n",
    "        r = requests.get(url.format(rounds[n][0], i))\n",
    "        json = r.json()\n",
    "\n",
    "        for item in json['MRData']['RaceTable']['Races'][0]['Results']:\n",
    "            try:\n",
    "                results['season'].append(int(json['MRData']['RaceTable']['Races'][0]['season']))\n",
    "            except:\n",
    "                results['season'].append(None)\n",
    "\n",
    "            try:\n",
    "                results['round'].append(int(json['MRData']['RaceTable']['Races'][0]['round']))\n",
    "            except:\n",
    "                results['round'].append(None)\n",
    "\n",
    "            try:\n",
    "                results['circuit_id'].append(json['MRData']['RaceTable']['Races'][0]['Circuit']['circuitId'])\n",
    "            except:\n",
    "                results['circuit_id'].append(None)\n",
    "\n",
    "            try:\n",
    "                results['driver'].append(item['Driver']['driverId'])\n",
    "            except:\n",
    "                results['driver'].append(None)\n",
    "            \n",
    "            try:\n",
    "                results['date_of_birth'].append(item['Driver']['dateOfBirth'])\n",
    "            except:\n",
    "                results['date_of_birth'].append(None)\n",
    "                \n",
    "            try:\n",
    "                results['nationality'].append(item['Driver']['nationality'])\n",
    "            except:\n",
    "                results['nationality'].append(None)\n",
    "\n",
    "            try:\n",
    "                results['constructor'].append(item['Constructor']['constructorId'])\n",
    "            except:\n",
    "                results['constructor'].append(None)\n",
    "\n",
    "            try:\n",
    "                results['grid'].append(int(item['grid']))\n",
    "            except:\n",
    "                results['grid'].append(None)\n",
    "\n",
    "            try:\n",
    "                results['time'].append(int(item['Time']['millis']))\n",
    "            except:\n",
    "                results['time'].append(None)\n",
    "\n",
    "            try:\n",
    "                results['status'].append(item['status'])\n",
    "            except:\n",
    "                results['status'].append(None)\n",
    "\n",
    "            try:\n",
    "                results['points'].append(int(item['points']))\n",
    "            except:\n",
    "                results['points'].append(None)\n",
    "\n",
    "            try:\n",
    "                results['podium'].append(int(item['position']))\n",
    "            except:\n",
    "                results['podium'].append(None)\n",
    "\n",
    "           \n",
    "results = pd.DataFrame(results)"
   ]
  },
  {
   "cell_type": "code",
   "execution_count": 14,
   "metadata": {},
   "outputs": [
    {
     "data": {
      "text/html": [
       "<div>\n",
       "<style scoped>\n",
       "    .dataframe tbody tr th:only-of-type {\n",
       "        vertical-align: middle;\n",
       "    }\n",
       "\n",
       "    .dataframe tbody tr th {\n",
       "        vertical-align: top;\n",
       "    }\n",
       "\n",
       "    .dataframe thead th {\n",
       "        text-align: right;\n",
       "    }\n",
       "</style>\n",
       "<table border=\"1\" class=\"dataframe\">\n",
       "  <thead>\n",
       "    <tr style=\"text-align: right;\">\n",
       "      <th></th>\n",
       "      <th>season</th>\n",
       "      <th>round</th>\n",
       "      <th>circuit_id</th>\n",
       "      <th>driver</th>\n",
       "      <th>date_of_birth</th>\n",
       "      <th>nationality</th>\n",
       "      <th>constructor</th>\n",
       "      <th>grid</th>\n",
       "      <th>time</th>\n",
       "      <th>status</th>\n",
       "      <th>points</th>\n",
       "      <th>podium</th>\n",
       "    </tr>\n",
       "  </thead>\n",
       "  <tbody>\n",
       "    <tr>\n",
       "      <th>0</th>\n",
       "      <td>1990</td>\n",
       "      <td>1</td>\n",
       "      <td>phoenix</td>\n",
       "      <td>senna</td>\n",
       "      <td>1960-03-21</td>\n",
       "      <td>Brazilian</td>\n",
       "      <td>mclaren</td>\n",
       "      <td>5</td>\n",
       "      <td>6752829.0</td>\n",
       "      <td>Finished</td>\n",
       "      <td>9.0</td>\n",
       "      <td>1</td>\n",
       "    </tr>\n",
       "    <tr>\n",
       "      <th>1</th>\n",
       "      <td>1990</td>\n",
       "      <td>1</td>\n",
       "      <td>phoenix</td>\n",
       "      <td>alesi</td>\n",
       "      <td>1964-06-11</td>\n",
       "      <td>French</td>\n",
       "      <td>tyrrell</td>\n",
       "      <td>4</td>\n",
       "      <td>6761514.0</td>\n",
       "      <td>Finished</td>\n",
       "      <td>6.0</td>\n",
       "      <td>2</td>\n",
       "    </tr>\n",
       "    <tr>\n",
       "      <th>2</th>\n",
       "      <td>1990</td>\n",
       "      <td>1</td>\n",
       "      <td>phoenix</td>\n",
       "      <td>boutsen</td>\n",
       "      <td>1957-07-13</td>\n",
       "      <td>Belgian</td>\n",
       "      <td>williams</td>\n",
       "      <td>9</td>\n",
       "      <td>6806909.0</td>\n",
       "      <td>Finished</td>\n",
       "      <td>4.0</td>\n",
       "      <td>3</td>\n",
       "    </tr>\n",
       "    <tr>\n",
       "      <th>3</th>\n",
       "      <td>1990</td>\n",
       "      <td>1</td>\n",
       "      <td>phoenix</td>\n",
       "      <td>piquet</td>\n",
       "      <td>1952-08-17</td>\n",
       "      <td>Brazilian</td>\n",
       "      <td>benetton</td>\n",
       "      <td>6</td>\n",
       "      <td>6821187.0</td>\n",
       "      <td>Finished</td>\n",
       "      <td>3.0</td>\n",
       "      <td>4</td>\n",
       "    </tr>\n",
       "    <tr>\n",
       "      <th>4</th>\n",
       "      <td>1990</td>\n",
       "      <td>1</td>\n",
       "      <td>phoenix</td>\n",
       "      <td>modena</td>\n",
       "      <td>1963-05-12</td>\n",
       "      <td>Italian</td>\n",
       "      <td>brabham</td>\n",
       "      <td>10</td>\n",
       "      <td>6822332.0</td>\n",
       "      <td>Finished</td>\n",
       "      <td>2.0</td>\n",
       "      <td>5</td>\n",
       "    </tr>\n",
       "  </tbody>\n",
       "</table>\n",
       "</div>"
      ],
      "text/plain": [
       "   season  round circuit_id   driver date_of_birth nationality constructor  \\\n",
       "0    1990      1    phoenix    senna    1960-03-21   Brazilian     mclaren   \n",
       "1    1990      1    phoenix    alesi    1964-06-11      French     tyrrell   \n",
       "2    1990      1    phoenix  boutsen    1957-07-13     Belgian    williams   \n",
       "3    1990      1    phoenix   piquet    1952-08-17   Brazilian    benetton   \n",
       "4    1990      1    phoenix   modena    1963-05-12     Italian     brabham   \n",
       "\n",
       "   grid       time    status  points  podium  \n",
       "0     5  6752829.0  Finished     9.0       1  \n",
       "1     4  6761514.0  Finished     6.0       2  \n",
       "2     9  6806909.0  Finished     4.0       3  \n",
       "3     6  6821187.0  Finished     3.0       4  \n",
       "4    10  6822332.0  Finished     2.0       5  "
      ]
     },
     "execution_count": 14,
     "metadata": {},
     "output_type": "execute_result"
    }
   ],
   "source": [
    "results.head()"
   ]
  },
  {
   "cell_type": "code",
   "execution_count": 15,
   "metadata": {},
   "outputs": [
    {
     "name": "stdout",
     "output_type": "stream",
     "text": [
      "<class 'pandas.core.frame.DataFrame'>\n",
      "RangeIndex: 12397 entries, 0 to 12396\n",
      "Data columns (total 12 columns):\n",
      " #   Column         Non-Null Count  Dtype  \n",
      "---  ------         --------------  -----  \n",
      " 0   season         12397 non-null  int64  \n",
      " 1   round          12397 non-null  int64  \n",
      " 2   circuit_id     12397 non-null  object \n",
      " 3   driver         12397 non-null  object \n",
      " 4   date_of_birth  12397 non-null  object \n",
      " 5   nationality    12397 non-null  object \n",
      " 6   constructor    12397 non-null  object \n",
      " 7   grid           12397 non-null  int64  \n",
      " 8   time           4464 non-null   float64\n",
      " 9   status         12397 non-null  object \n",
      " 10  points         12392 non-null  float64\n",
      " 11  podium         12397 non-null  int64  \n",
      "dtypes: float64(2), int64(4), object(6)\n",
      "memory usage: 1.1+ MB\n"
     ]
    }
   ],
   "source": [
    "results.info()"
   ]
  },
  {
   "cell_type": "code",
   "execution_count": 17,
   "metadata": {
    "scrolled": true
   },
   "outputs": [
    {
     "data": {
      "image/png": "[encoded data removed]",
      "text/plain": [
       "<Figure size 1440x720 with 2 Axes>"
      ]
     },
     "metadata": {},
     "output_type": "display_data"
    }
   ],
   "source": [
    "results_na=results.copy()\n",
    "sns.heatmap(results_na.isna()) # On visualise l'emplacements des valeurs manquantes On a bcp de valeurs manquantes et un peu partout\n",
    "results_na.isna()['time'].mean() # 64% de valeurs manquantes on ne va donc pas utilise\n",
    "\n",
    "results=results.drop(labels='time', axis=1) #suppression de la colonne aux données manquantes"
   ]
  },
  {
   "cell_type": "markdown",
   "metadata": {},
   "source": [
    "## Création de la bas \"driver_standings\""
   ]
  },
  {
   "cell_type": "code",
   "execution_count": 42,
   "metadata": {},
   "outputs": [],
   "source": [
    "driver_standings = {'season': [],\n",
    "                    'round':[],\n",
    "                    'driver': [],\n",
    "                    'driver_points': [],\n",
    "                    'driver_wins': [],\n",
    "                   'driver_standings_pos': []}\n",
    "\n",
    "# query API\n",
    "\n",
    "for n in list(range(len(rounds))):     \n",
    "    for i in rounds[n][1]:    # iterate through rounds of each year\n",
    "    \n",
    "        url = 'https://ergast.com/api/f1/{}/{}/driverStandings.json'\n",
    "        r = requests.get(url.format(rounds[n][0], i))\n",
    "        json = r.json()\n",
    "\n",
    "        for item in json['MRData']['StandingsTable']['StandingsLists'][0]['DriverStandings']:\n",
    "            try:\n",
    "                driver_standings['season'].append(int(json['MRData']['StandingsTable']['StandingsLists'][0]['season']))\n",
    "            except:\n",
    "                driver_standings['season'].append(None)\n",
    "\n",
    "            try:\n",
    "                driver_standings['round'].append(int(json['MRData']['StandingsTable']['StandingsLists'][0]['round']))\n",
    "            except:\n",
    "                driver_standings['round'].append(None)\n",
    "                                         \n",
    "            try:\n",
    "                driver_standings['driver'].append(item['Driver']['driverId'])\n",
    "            except:\n",
    "                driver_standings['driver'].append(None)\n",
    "            \n",
    "            try:\n",
    "                driver_standings['driver_points'].append(int(item['points']))\n",
    "            except:\n",
    "                driver_standings['driver_points'].append(None)\n",
    "            \n",
    "            try:\n",
    "                driver_standings['driver_wins'].append(int(item['wins']))\n",
    "            except:\n",
    "                driver_standings['driver_wins'].append(None)\n",
    "                \n",
    "            try:\n",
    "                driver_standings['driver_standings_pos'].append(int(item['position']))\n",
    "            except:\n",
    "                driver_standings['driver_standings_pos'].append(None)\n",
    "            \n",
    "driver_standings = pd.DataFrame(driver_standings)\n",
    "\n",
    "# define lookup function to shift points and number of wins from previous rounds\n",
    "\n",
    "def lookup (df, team, points):\n",
    "    df['lookup1'] = df.season.astype(str) + df[team] + df['round'].astype(str)\n",
    "    df['lookup2'] = df.season.astype(str) + df[team] + (df['round']-1).astype(str)\n",
    "    new_df = df.merge(df[['lookup1', points]], how = 'left', left_on='lookup2',right_on='lookup1')\n",
    "    new_df.drop(['lookup1_x', 'lookup2', 'lookup1_y'], axis = 1, inplace = True)\n",
    "    new_df.rename(columns = {points+'_x': points+'_after_race', points+'_y': points}, inplace = True)\n",
    "    new_df[points].fillna(0, inplace = True)\n",
    "    return new_df\n",
    "  \n",
    "driver_standings = lookup(driver_standings, 'driver', 'driver_points')\n",
    "driver_standings = lookup(driver_standings, 'driver', 'driver_wins')\n",
    "driver_standings = lookup(driver_standings, 'driver', 'driver_standings_pos')\n",
    "\n",
    "driver_standings.drop(['driver_points_after_race', 'driver_wins_after_race', 'driver_standings_pos_after_race'], \n",
    "                      axis = 1, inplace = True)"
   ]
  },
  {
   "cell_type": "markdown",
   "metadata": {},
   "source": [
    "## Création de la base \"constructor_standings\""
   ]
  },
  {
   "cell_type": "code",
   "execution_count": 43,
   "metadata": {},
   "outputs": [],
   "source": [
    "# start from year 1990\n",
    "\n",
    "constructor_rounds = rounds\n",
    "\n",
    "constructor_standings = {'season': [],\n",
    "                    'round':[],\n",
    "                    'constructor': [],\n",
    "                    'constructor_points': [],\n",
    "                    'constructor_wins': [],\n",
    "                   'constructor_standings_pos': []}\n",
    "# query API\n",
    "\n",
    "for n in list(range(len(constructor_rounds))):\n",
    "    for i in constructor_rounds[n][1]:\n",
    "    \n",
    "        url = 'https://ergast.com/api/f1/{}/{}/constructorStandings.json'\n",
    "        r = requests.get(url.format(constructor_rounds[n][0], i))\n",
    "        json = r.json()\n",
    "\n",
    "        for item in json['MRData']['StandingsTable']['StandingsLists'][0]['ConstructorStandings']:\n",
    "            try:\n",
    "                constructor_standings['season'].append(int(json['MRData']['StandingsTable']['StandingsLists'][0]['season']))\n",
    "            except:\n",
    "                constructor_standings['season'].append(None)\n",
    "\n",
    "            try:\n",
    "                constructor_standings['round'].append(int(json['MRData']['StandingsTable']['StandingsLists'][0]['round']))\n",
    "            except:\n",
    "                constructor_standings['round'].append(None)\n",
    "                                         \n",
    "            try:\n",
    "                constructor_standings['constructor'].append(item['Constructor']['constructorId'])\n",
    "            except:\n",
    "                constructor_standings['constructor'].append(None)\n",
    "            \n",
    "            try:\n",
    "                constructor_standings['constructor_points'].append(int(item['points']))\n",
    "            except:\n",
    "                constructor_standings['constructor_points'].append(None)\n",
    "            \n",
    "            try:\n",
    "                constructor_standings['constructor_wins'].append(int(item['wins']))\n",
    "            except:\n",
    "                constructor_standings['constructor_wins'].append(None)\n",
    "                \n",
    "            try:\n",
    "                constructor_standings['constructor_standings_pos'].append(int(item['position']))\n",
    "            except:\n",
    "                constructor_standings['constructor_standings_pos'].append(None)\n",
    "            \n",
    "constructor_standings = pd.DataFrame(constructor_standings)\n",
    "\n",
    "constructor_standings = lookup(constructor_standings, 'constructor', 'constructor_points')\n",
    "constructor_standings = lookup(constructor_standings, 'constructor', 'constructor_wins')\n",
    "constructor_standings = lookup(constructor_standings, 'constructor', 'constructor_standings_pos')\n",
    "\n",
    "constructor_standings.drop(['constructor_points_after_race', 'constructor_wins_after_race','constructor_standings_pos_after_race' ],\n",
    "                           axis = 1, inplace = True)"
   ]
  },
  {
   "cell_type": "markdown",
   "metadata": {},
   "source": [
    "## Création de la base \"qualifying_results\""
   ]
  },
  {
   "cell_type": "code",
   "execution_count": 39,
   "metadata": {},
   "outputs": [],
   "source": [
    "import bs4\n",
    "from bs4 import BeautifulSoup\n",
    "\n",
    "qualifying_results = pd.DataFrame()\n",
    "\n",
    "for year in list(range(1990,2021)):\n",
    "    url = 'https://www.formula1.com/en/results.html/{}/races.html'\n",
    "    r = requests.get(url.format(year))\n",
    "    soup = BeautifulSoup(r.text, 'html.parser')\n",
    "    \n",
    "    # find links to all circuits for a certain year\n",
    "    \n",
    "    year_links = []\n",
    "    for page in soup.find_all('a', attrs = {'class':\"resultsarchive-filter-item-link FilterTrigger\"}):\n",
    "        link = page.get('href')\n",
    "        if f'/en/results.html/{year}/races/' in link: \n",
    "            year_links.append(link)\n",
    "    \n",
    "    # for each circuit, switch to the starting grid page and read table\n",
    "\n",
    "    year_df = pd.DataFrame()\n",
    "    new_url = 'https://www.formula1.com{}'\n",
    "    for n, link in list(enumerate(year_links)):\n",
    "        link = link.replace('race-result.html', 'starting-grid.html')\n",
    "        df = pd.read_html(new_url.format(link))\n",
    "        df = df[0]\n",
    "        df['season'] = year\n",
    "        df['round'] = n+1\n",
    "        for col in df:\n",
    "            if 'Unnamed' in col:\n",
    "                df.drop(col, axis = 1, inplace = True)\n",
    "\n",
    "        year_df = pd.concat([year_df, df])\n",
    "\n",
    "    # concatenate all tables from all years  \n",
    "        \n",
    "    qualifying_results = pd.concat([qualifying_results, year_df])\n",
    "\n",
    "# rename columns\n",
    "    \n",
    "qualifying_results.rename(columns = {'Pos': 'grid', 'Driver': 'driver_name', 'Car': 'car',\n",
    "                                     'Time': 'qualifying_time'}, inplace = True)\n",
    "# drop driver number column\n",
    "\n",
    "qualifying_results.drop('No', axis = 1, inplace = True)"
   ]
  },
  {
   "cell_type": "markdown",
   "metadata": {},
   "source": [
    "##  Création de la base \"weather\" "
   ]
  },
  {
   "cell_type": "markdown",
   "metadata": {},
   "source": [
    "* Objectif : création d'une deuxième base incluant les conditions météorologiques pour chaque course "
   ]
  },
  {
   "cell_type": "code",
   "execution_count": 42,
   "metadata": {
    "scrolled": true
   },
   "outputs": [
    {
     "name": "stderr",
     "output_type": "stream",
     "text": [
      "<ipython-input-42-dc7de05a27bc>:48: SettingWithCopyWarning: \n",
      "A value is trying to be set on a copy of a slice from a DataFrame.\n",
      "Try using .loc[row_indexer,col_indexer] = value instead\n",
      "\n",
      "See the caveats in the documentation: https://pandas.pydata.org/pandas-docs/stable/user_guide/indexing.html#returning-a-view-versus-a-copy\n",
      "  weather['weather'] = info\n"
     ]
    }
   ],
   "source": [
    "from selenium import webdriver\n",
    "\n",
    "weather = race.iloc[:,[0,1,2]]\n",
    "\n",
    "info = []\n",
    "\n",
    "# read wikipedia tables\n",
    "\n",
    "for link in race.url:\n",
    "    try:\n",
    "        df = pd.read_html(link)[0]\n",
    "        if 'Weather' in list(df.iloc[:,0]):\n",
    "            n = list(df.iloc[:,0]).index('Weather')\n",
    "            info.append(df.iloc[n,1])\n",
    "        else:\n",
    "            df = pd.read_html(link)[1]\n",
    "            if 'Weather' in list(df.iloc[:,0]):\n",
    "                n = list(df.iloc[:,0]).index('Weather')\n",
    "                info.append(df.iloc[n,1])\n",
    "            else:\n",
    "                df = pd.read_html(link)[2]\n",
    "                if 'Weather' in list(df.iloc[:,0]):\n",
    "                    n = list(df.iloc[:,0]).index('Weather')\n",
    "                    info.append(df.iloc[n,1])\n",
    "                else:\n",
    "                    df = pd.read_html(link)[3]\n",
    "                    if 'Weather' in list(df.iloc[:,0]):\n",
    "                        n = list(df.iloc[:,0]).index('Weather')\n",
    "                        info.append(df.iloc[n,1])\n",
    "                    else:\n",
    "                        driver = webdriver.Chrome()\n",
    "                        driver.get(link)\n",
    "\n",
    "                        # click language button\n",
    "                        button = driver.find_element_by_link_text('Français')\n",
    "                        button.click()\n",
    "                        \n",
    "                        # find weather in italian with selenium\n",
    "                        \n",
    "                        clima = driver.find_element_by_xpath('//*[@id=\"mw-content-text\"]/div/table[1]/tbody/tr[9]/td').text\n",
    "                        info.append(clima) \n",
    "                                \n",
    "    except:\n",
    "        info.append('not found')\n",
    "\n",
    "# append column with weather information to dataframe  \n",
    "  \n",
    "weather['weather'] = info\n",
    "\n",
    "# set up a dictionary to convert weather information into keywords\n",
    "\n",
    "weather_dict = {'weather_warm': ['clair', 'clear', 'warm', 'hot', 'sunny', 'fine', 'mild', 'dégagé'],\n",
    "               'weather_cold': ['cold', 'fresh', 'chilly', 'cool'],\n",
    "               'weather_dry': ['dry', 'humide'],\n",
    "               'weather_wet': ['showers', 'wet', 'rain', 'pluvieux', 'damp', 'thunderstorms', 'rainy'],\n",
    "               'weather_cloudy': ['overcast', 'nuageux', 'clouds', 'cloudy', 'grey', 'gris']}\n",
    "\n",
    "# map new df according to weather dictionary\n",
    "\n",
    "weather_df = pd.DataFrame(columns = weather_dict.keys())\n",
    "for col in weather_df:\n",
    "    weather_df[col] = weather['weather'].map(lambda x: 1 if any(i in weather_dict[col] for i in x.lower().split()) else 0)\n",
    "   \n",
    "weather_info = pd.concat([weather, weather_df], axis = 1)"
   ]
  },
  {
   "cell_type": "markdown",
   "metadata": {},
   "source": [
    "# II- Statistiques descriptives et études du lien entre nos variables et la victoire "
   ]
  },
  {
   "cell_type": "markdown",
   "metadata": {},
   "source": [
    "## II-1. Corrélation entre la Grille de départ et le classement d'arrivée"
   ]
  },
  {
   "cell_type": "markdown",
   "metadata": {},
   "source": [
    "* La première idée est d'étudier le lien entre la grille de départ et le classement final. En effet, cela nous paraît le premier critère qui va determiner l'issue de la course"
   ]
  },
  {
   "cell_type": "markdown",
   "metadata": {},
   "source": [
    "###  Première étude de corrélation"
   ]
  },
  {
   "cell_type": "markdown",
   "metadata": {},
   "source": [
    "* On trace donc le nuage de point pour toutes les données dont nous disposons"
   ]
  },
  {
   "cell_type": "code",
   "execution_count": 18,
   "metadata": {},
   "outputs": [
    {
     "data": {
      "text/plain": [
       "<seaborn.axisgrid.FacetGrid at 0x118652bb0>"
      ]
     },
     "execution_count": 18,
     "metadata": {},
     "output_type": "execute_result"
    },
    {
     "data": {
      "image/png": "[encoded data removed]",
      "text/plain": [
       "<Figure size 360x360 with 1 Axes>"
      ]
     },
     "metadata": {},
     "output_type": "display_data"
    }
   ],
   "source": [
    "sns.relplot(x=\"grid\", y=\"podium\", data=results)"
   ]
  },
  {
   "cell_type": "markdown",
   "metadata": {},
   "source": [
    "* Commentaires : A première vue, il n'y a pas de corrélations claires entre la position initiale sur la grille et la position d'arrivée. Cela est surement dû au nombre de données et aux années totalement différentes qu'on étudie : il y a beaucoup de bruit."
   ]
  },
  {
   "cell_type": "markdown",
   "metadata": {},
   "source": [
    "* Nous traçons ensuite ce nuage de point pour l'année 2020, afin de pouvoir mieux visualiser les points, et par circuit afin de visualiser des tendances par circuit."
   ]
  },
  {
   "cell_type": "code",
   "execution_count": 19,
   "metadata": {},
   "outputs": [
    {
     "data": {
      "text/plain": [
       "<seaborn.axisgrid.FacetGrid at 0x11a764b50>"
      ]
     },
     "execution_count": 19,
     "metadata": {},
     "output_type": "execute_result"
    },
    {
     "data": {
      "image/png": "[encoded data removed]",
      "text/plain": [
       "<Figure size 463.725x360 with 1 Axes>"
      ]
     },
     "metadata": {},
     "output_type": "display_data"
    }
   ],
   "source": [
    "results_2020=results.copy()\n",
    "results_2020=results_2020[results_2020[\"season\"]>=2020]\n",
    "sns.relplot(x=\"grid\", y=\"podium\", data=results_2020[results_2020[\"season\"]==2020],hue=\"circuit_id\")"
   ]
  },
  {
   "cell_type": "markdown",
   "metadata": {},
   "source": [
    "\n",
    "* Commentaires : On n'observe pas une corrélation encore très franche, mais une tendance linéaire se dessine tout de même "
   ]
  },
  {
   "cell_type": "markdown",
   "metadata": {},
   "source": [
    "### Création d'une fonction de corrélation entre la grille et le podium"
   ]
  },
  {
   "cell_type": "code",
   "execution_count": 20,
   "metadata": {},
   "outputs": [],
   "source": [
    "results_2010=results[results[\"season\"]>=2010].copy() # je prends uniquement les courses à partir de 2010"
   ]
  },
  {
   "cell_type": "code",
   "execution_count": 22,
   "metadata": {},
   "outputs": [],
   "source": [
    "# Cette fonction donne la corrélation par circuit à l'année choisie entre le podium et la grille \n",
    "    \n",
    "def corr_grid_podium(annee):\n",
    "    \n",
    "    circuits=results_2010[results_2010[\"season\"] ==annee][\"circuit_id\"].unique()\n",
    "    df=results_2010[results_2010[\"season\"] ==annee]\n",
    "    les_correlations={}\n",
    "\n",
    "    for circuit in circuits:\n",
    "        df1=df[df[\"circuit_id\"]==circuit][['grid',\"podium\"]]\n",
    "        corr=df1.corr()[\"podium\"][0]\n",
    "        les_correlations[circuit]=corr\n",
    "    \n",
    "    df2=pd.DataFrame(list(les_correlations.items()),\n",
    "                   columns=['circuit_id', 'correlation_grid_pod'])\n",
    "    df2=df2.sort_values(by='correlation_grid_pod',ascending=False)\n",
    "\n",
    "    print(df2)\n",
    "\n",
    "    _,(ax1) = plt.subplots(ncols=1)\n",
    "    sns.barplot(data=df2, x='circuit_id', y='correlation_grid_pod', ax=ax1, palette=sns.color_palette(\"icefire\"))\n",
    "    "
   ]
  },
  {
   "cell_type": "code",
   "execution_count": 23,
   "metadata": {
    "scrolled": false
   },
   "outputs": [
    {
     "name": "stdout",
     "output_type": "stream",
     "text": [
      "        circuit_id  correlation_grid_pod\n",
      "7           ricard              0.851128\n",
      "5           monaco              0.846617\n",
      "14      marina_bay              0.840602\n",
      "11     hungaroring              0.803008\n",
      "4        catalunya              0.775940\n",
      "17       rodriguez              0.762406\n",
      "0      albert_park              0.718797\n",
      "2         shanghai              0.711278\n",
      "9      silverstone              0.684211\n",
      "20      yas_marina              0.664662\n",
      "1          bahrain              0.622556\n",
      "18        americas              0.590977\n",
      "6       villeneuve              0.575940\n",
      "8    red_bull_ring              0.544361\n",
      "15           sochi              0.535338\n",
      "16          suzuka              0.503759\n",
      "3              BAK              0.354306\n",
      "13           monza              0.324812\n",
      "12             spa              0.231579\n",
      "19      interlagos              0.129323\n",
      "10  hockenheimring             -0.073684\n",
      "None\n"
     ]
    },
    {
     "data": {
      "image/png": "[encoded data removed]",
      "text/plain": [
       "<Figure size 1440x720 with 1 Axes>"
      ]
     },
     "metadata": {},
     "output_type": "display_data"
    }
   ],
   "source": [
    "print(corr_grid_podium(2019)) # On choisit arbitraiement 2019 ici"
   ]
  },
  {
   "cell_type": "markdown",
   "metadata": {},
   "source": [
    "* Observations : On observe une corrélation proche de 0.84 (proche de 1) pour le circuit de Monaco, ce qui est cohérent car les rues sont très étroites pour effectuer un dépassement. Au contraire, il est très facile de manoeuvrer sur le circuit de SPa, d'où une corrélation bien plus faible."
   ]
  },
  {
   "cell_type": "markdown",
   "metadata": {},
   "source": [
    "# II-2. Corrélation entre le constructeur et les classemements sur la grille et à l'arrivée"
   ]
  },
  {
   "cell_type": "markdown",
   "metadata": {},
   "source": [
    "* Notre deuxième idée est d'étudier l'importance du constructeur dans la victoire finale"
   ]
  },
  {
   "cell_type": "markdown",
   "metadata": {},
   "source": [
    "##  Position Moyenne des constructeurs sur la grille et à l'arrivée"
   ]
  },
  {
   "cell_type": "code",
   "execution_count": 24,
   "metadata": {},
   "outputs": [],
   "source": [
    "results_constructeur=results.copy()\n",
    "results_constructeur=results_constructeur[[\"constructor\",\"podium\",\"grid\"]]"
   ]
  },
  {
   "cell_type": "code",
   "execution_count": 25,
   "metadata": {
    "scrolled": false
   },
   "outputs": [
    {
     "data": {
      "text/html": [
       "<div>\n",
       "<style scoped>\n",
       "    .dataframe tbody tr th:only-of-type {\n",
       "        vertical-align: middle;\n",
       "    }\n",
       "\n",
       "    .dataframe tbody tr th {\n",
       "        vertical-align: top;\n",
       "    }\n",
       "\n",
       "    .dataframe thead th {\n",
       "        text-align: right;\n",
       "    }\n",
       "</style>\n",
       "<table border=\"1\" class=\"dataframe\">\n",
       "  <thead>\n",
       "    <tr style=\"text-align: right;\">\n",
       "      <th></th>\n",
       "      <th>podium</th>\n",
       "      <th>grid</th>\n",
       "    </tr>\n",
       "    <tr>\n",
       "      <th>constructor</th>\n",
       "      <th></th>\n",
       "      <th></th>\n",
       "    </tr>\n",
       "  </thead>\n",
       "  <tbody>\n",
       "    <tr>\n",
       "      <th>brawn</th>\n",
       "      <td>4.882353</td>\n",
       "      <td>5.117647</td>\n",
       "    </tr>\n",
       "    <tr>\n",
       "      <th>mercedes</th>\n",
       "      <td>5.769767</td>\n",
       "      <td>4.611628</td>\n",
       "    </tr>\n",
       "    <tr>\n",
       "      <th>ferrari</th>\n",
       "      <td>7.433757</td>\n",
       "      <td>5.715971</td>\n",
       "    </tr>\n",
       "    <tr>\n",
       "      <th>red_bull</th>\n",
       "      <td>7.996711</td>\n",
       "      <td>6.980263</td>\n",
       "    </tr>\n",
       "    <tr>\n",
       "      <th>bmw_sauber</th>\n",
       "      <td>8.921429</td>\n",
       "      <td>8.935714</td>\n",
       "    </tr>\n",
       "    <tr>\n",
       "      <th>mclaren</th>\n",
       "      <td>9.269510</td>\n",
       "      <td>7.372051</td>\n",
       "    </tr>\n",
       "    <tr>\n",
       "      <th>benetton</th>\n",
       "      <td>9.543367</td>\n",
       "      <td>8.571429</td>\n",
       "    </tr>\n",
       "    <tr>\n",
       "      <th>renault</th>\n",
       "      <td>10.467626</td>\n",
       "      <td>9.989209</td>\n",
       "    </tr>\n",
       "    <tr>\n",
       "      <th>racing_point</th>\n",
       "      <td>10.631579</td>\n",
       "      <td>11.315789</td>\n",
       "    </tr>\n",
       "    <tr>\n",
       "      <th>williams</th>\n",
       "      <td>10.642144</td>\n",
       "      <td>8.856494</td>\n",
       "    </tr>\n",
       "    <tr>\n",
       "      <th>alphatauri</th>\n",
       "      <td>10.705882</td>\n",
       "      <td>11.235294</td>\n",
       "    </tr>\n",
       "    <tr>\n",
       "      <th>lotus_f1</th>\n",
       "      <td>11.311688</td>\n",
       "      <td>10.818182</td>\n",
       "    </tr>\n",
       "    <tr>\n",
       "      <th>bar</th>\n",
       "      <td>11.415254</td>\n",
       "      <td>10.720339</td>\n",
       "    </tr>\n",
       "    <tr>\n",
       "      <th>toyota</th>\n",
       "      <td>11.450000</td>\n",
       "      <td>10.535714</td>\n",
       "    </tr>\n",
       "    <tr>\n",
       "      <th>force_india</th>\n",
       "      <td>11.686321</td>\n",
       "      <td>12.021226</td>\n",
       "    </tr>\n",
       "    <tr>\n",
       "      <th>honda</th>\n",
       "      <td>11.933962</td>\n",
       "      <td>12.273585</td>\n",
       "    </tr>\n",
       "    <tr>\n",
       "      <th>ligier</th>\n",
       "      <td>12.871681</td>\n",
       "      <td>14.823009</td>\n",
       "    </tr>\n",
       "    <tr>\n",
       "      <th>sauber</th>\n",
       "      <td>12.901141</td>\n",
       "      <td>13.219265</td>\n",
       "    </tr>\n",
       "    <tr>\n",
       "      <th>jaguar</th>\n",
       "      <td>12.970588</td>\n",
       "      <td>13.047059</td>\n",
       "    </tr>\n",
       "    <tr>\n",
       "      <th>jordan</th>\n",
       "      <td>13.110220</td>\n",
       "      <td>11.971944</td>\n",
       "    </tr>\n",
       "    <tr>\n",
       "      <th>alfa</th>\n",
       "      <td>13.236842</td>\n",
       "      <td>14.131579</td>\n",
       "    </tr>\n",
       "    <tr>\n",
       "      <th>prost</th>\n",
       "      <td>13.272727</td>\n",
       "      <td>14.412121</td>\n",
       "    </tr>\n",
       "    <tr>\n",
       "      <th>toro_rosso</th>\n",
       "      <td>13.494403</td>\n",
       "      <td>13.662313</td>\n",
       "    </tr>\n",
       "    <tr>\n",
       "      <th>haas</th>\n",
       "      <td>13.770000</td>\n",
       "      <td>12.775000</td>\n",
       "    </tr>\n",
       "    <tr>\n",
       "      <th>stewart</th>\n",
       "      <td>13.897959</td>\n",
       "      <td>12.571429</td>\n",
       "    </tr>\n",
       "    <tr>\n",
       "      <th>tyrrell</th>\n",
       "      <td>14.775087</td>\n",
       "      <td>15.290657</td>\n",
       "    </tr>\n",
       "    <tr>\n",
       "      <th>arrows</th>\n",
       "      <td>15.067568</td>\n",
       "      <td>16.297297</td>\n",
       "    </tr>\n",
       "    <tr>\n",
       "      <th>minardi</th>\n",
       "      <td>15.154717</td>\n",
       "      <td>18.120755</td>\n",
       "    </tr>\n",
       "    <tr>\n",
       "      <th>team_lotus</th>\n",
       "      <td>15.500000</td>\n",
       "      <td>16.093750</td>\n",
       "    </tr>\n",
       "    <tr>\n",
       "      <th>footwork</th>\n",
       "      <td>15.712766</td>\n",
       "      <td>14.925532</td>\n",
       "    </tr>\n",
       "    <tr>\n",
       "      <th>mf1</th>\n",
       "      <td>15.750000</td>\n",
       "      <td>17.785714</td>\n",
       "    </tr>\n",
       "    <tr>\n",
       "      <th>larrousse</th>\n",
       "      <td>15.947368</td>\n",
       "      <td>17.609023</td>\n",
       "    </tr>\n",
       "    <tr>\n",
       "      <th>super_aguri</th>\n",
       "      <td>16.102564</td>\n",
       "      <td>18.679487</td>\n",
       "    </tr>\n",
       "    <tr>\n",
       "      <th>dallara</th>\n",
       "      <td>16.236559</td>\n",
       "      <td>16.354839</td>\n",
       "    </tr>\n",
       "    <tr>\n",
       "      <th>manor</th>\n",
       "      <td>16.923077</td>\n",
       "      <td>18.358974</td>\n",
       "    </tr>\n",
       "    <tr>\n",
       "      <th>forti</th>\n",
       "      <td>17.055556</td>\n",
       "      <td>22.166667</td>\n",
       "    </tr>\n",
       "    <tr>\n",
       "      <th>spyker_mf1</th>\n",
       "      <td>17.125000</td>\n",
       "      <td>19.125000</td>\n",
       "    </tr>\n",
       "    <tr>\n",
       "      <th>march</th>\n",
       "      <td>17.343750</td>\n",
       "      <td>15.218750</td>\n",
       "    </tr>\n",
       "    <tr>\n",
       "      <th>spyker</th>\n",
       "      <td>17.382353</td>\n",
       "      <td>20.852941</td>\n",
       "    </tr>\n",
       "    <tr>\n",
       "      <th>leyton</th>\n",
       "      <td>17.453125</td>\n",
       "      <td>13.718750</td>\n",
       "    </tr>\n",
       "    <tr>\n",
       "      <th>caterham</th>\n",
       "      <td>17.464286</td>\n",
       "      <td>19.232143</td>\n",
       "    </tr>\n",
       "    <tr>\n",
       "      <th>simtek</th>\n",
       "      <td>17.475000</td>\n",
       "      <td>22.575000</td>\n",
       "    </tr>\n",
       "    <tr>\n",
       "      <th>marussia</th>\n",
       "      <td>17.642202</td>\n",
       "      <td>19.788991</td>\n",
       "    </tr>\n",
       "    <tr>\n",
       "      <th>lotus_racing</th>\n",
       "      <td>17.973684</td>\n",
       "      <td>18.776316</td>\n",
       "    </tr>\n",
       "    <tr>\n",
       "      <th>virgin</th>\n",
       "      <td>19.000000</td>\n",
       "      <td>21.223684</td>\n",
       "    </tr>\n",
       "    <tr>\n",
       "      <th>lola</th>\n",
       "      <td>19.678571</td>\n",
       "      <td>17.892857</td>\n",
       "    </tr>\n",
       "    <tr>\n",
       "      <th>hrt</th>\n",
       "      <td>19.853448</td>\n",
       "      <td>21.775862</td>\n",
       "    </tr>\n",
       "    <tr>\n",
       "      <th>brabham</th>\n",
       "      <td>20.345238</td>\n",
       "      <td>12.535714</td>\n",
       "    </tr>\n",
       "    <tr>\n",
       "      <th>fondmetal</th>\n",
       "      <td>20.696970</td>\n",
       "      <td>15.000000</td>\n",
       "    </tr>\n",
       "    <tr>\n",
       "      <th>osella</th>\n",
       "      <td>20.714286</td>\n",
       "      <td>12.500000</td>\n",
       "    </tr>\n",
       "    <tr>\n",
       "      <th>onyx</th>\n",
       "      <td>21.700000</td>\n",
       "      <td>11.850000</td>\n",
       "    </tr>\n",
       "    <tr>\n",
       "      <th>pacific</th>\n",
       "      <td>21.848485</td>\n",
       "      <td>14.560606</td>\n",
       "    </tr>\n",
       "    <tr>\n",
       "      <th>eurobrun</th>\n",
       "      <td>24.600000</td>\n",
       "      <td>8.000000</td>\n",
       "    </tr>\n",
       "    <tr>\n",
       "      <th>ags</th>\n",
       "      <td>24.783784</td>\n",
       "      <td>7.864865</td>\n",
       "    </tr>\n",
       "    <tr>\n",
       "      <th>lambo</th>\n",
       "      <td>24.833333</td>\n",
       "      <td>7.111111</td>\n",
       "    </tr>\n",
       "    <tr>\n",
       "      <th>moda</th>\n",
       "      <td>26.500000</td>\n",
       "      <td>6.500000</td>\n",
       "    </tr>\n",
       "    <tr>\n",
       "      <th>coloni</th>\n",
       "      <td>30.000000</td>\n",
       "      <td>0.000000</td>\n",
       "    </tr>\n",
       "  </tbody>\n",
       "</table>\n",
       "</div>"
      ],
      "text/plain": [
       "                 podium       grid\n",
       "constructor                       \n",
       "brawn          4.882353   5.117647\n",
       "mercedes       5.769767   4.611628\n",
       "ferrari        7.433757   5.715971\n",
       "red_bull       7.996711   6.980263\n",
       "bmw_sauber     8.921429   8.935714\n",
       "mclaren        9.269510   7.372051\n",
       "benetton       9.543367   8.571429\n",
       "renault       10.467626   9.989209\n",
       "racing_point  10.631579  11.315789\n",
       "williams      10.642144   8.856494\n",
       "alphatauri    10.705882  11.235294\n",
       "lotus_f1      11.311688  10.818182\n",
       "bar           11.415254  10.720339\n",
       "toyota        11.450000  10.535714\n",
       "force_india   11.686321  12.021226\n",
       "honda         11.933962  12.273585\n",
       "ligier        12.871681  14.823009\n",
       "sauber        12.901141  13.219265\n",
       "jaguar        12.970588  13.047059\n",
       "jordan        13.110220  11.971944\n",
       "alfa          13.236842  14.131579\n",
       "prost         13.272727  14.412121\n",
       "toro_rosso    13.494403  13.662313\n",
       "haas          13.770000  12.775000\n",
       "stewart       13.897959  12.571429\n",
       "tyrrell       14.775087  15.290657\n",
       "arrows        15.067568  16.297297\n",
       "minardi       15.154717  18.120755\n",
       "team_lotus    15.500000  16.093750\n",
       "footwork      15.712766  14.925532\n",
       "mf1           15.750000  17.785714\n",
       "larrousse     15.947368  17.609023\n",
       "super_aguri   16.102564  18.679487\n",
       "dallara       16.236559  16.354839\n",
       "manor         16.923077  18.358974\n",
       "forti         17.055556  22.166667\n",
       "spyker_mf1    17.125000  19.125000\n",
       "march         17.343750  15.218750\n",
       "spyker        17.382353  20.852941\n",
       "leyton        17.453125  13.718750\n",
       "caterham      17.464286  19.232143\n",
       "simtek        17.475000  22.575000\n",
       "marussia      17.642202  19.788991\n",
       "lotus_racing  17.973684  18.776316\n",
       "virgin        19.000000  21.223684\n",
       "lola          19.678571  17.892857\n",
       "hrt           19.853448  21.775862\n",
       "brabham       20.345238  12.535714\n",
       "fondmetal     20.696970  15.000000\n",
       "osella        20.714286  12.500000\n",
       "onyx          21.700000  11.850000\n",
       "pacific       21.848485  14.560606\n",
       "eurobrun      24.600000   8.000000\n",
       "ags           24.783784   7.864865\n",
       "lambo         24.833333   7.111111\n",
       "moda          26.500000   6.500000\n",
       "coloni        30.000000   0.000000"
      ]
     },
     "execution_count": 25,
     "metadata": {},
     "output_type": "execute_result"
    }
   ],
   "source": [
    "results_constructeur.groupby(\"constructor\").mean().sort_values(by=\"podium\",ascending=True)"
   ]
  },
  {
   "cell_type": "markdown",
   "metadata": {},
   "source": [
    "* Observations : Comme l'on pouvait le prévoir, les constructeurs Mercedes, Ferrari et RedBull ont la meilleure moyenne en terme de position initiale et de place à l'arrivée"
   ]
  },
  {
   "cell_type": "markdown",
   "metadata": {},
   "source": [
    "##  Pourcentage de courses gagnées par constructeur depuis 1990"
   ]
  },
  {
   "cell_type": "code",
   "execution_count": 26,
   "metadata": {},
   "outputs": [
    {
     "data": {
      "text/plain": [
       "<AxesSubplot:xlabel='constructor', ylabel='podium'>"
      ]
     },
     "execution_count": 26,
     "metadata": {},
     "output_type": "execute_result"
    },
    {
     "data": {
      "image/png": "[encoded data removed]",
      "text/plain": [
       "<Figure size 1440x720 with 1 Axes>"
      ]
     },
     "metadata": {},
     "output_type": "display_data"
    }
   ],
   "source": [
    "results_constructeur_1=results_constructeur.copy()\n",
    "results_constructeur_1=results_constructeur_1[results_constructeur_1[\"podium\"]==1]\n",
    "df=(results_constructeur_1.groupby(\"constructor\").count())/len(results_constructeur_1)*100\n",
    "df=df.reset_index()\n",
    "_,(ax1) = plt.subplots(ncols=1)\n",
    "sns.barplot(data=df, x='constructor', y='podium', ax=ax1, palette=sns.color_palette(\"icefire\"))"
   ]
  },
  {
   "cell_type": "markdown",
   "metadata": {},
   "source": [
    "* Observations : là encore, sans grande surprise, des constructeurs sortent du lot, comme Ferrari, McLaren, et Mercedes. On observe une très grande disparité entre les constructeurs, ainsi le constructeur contient du signal à exploiter pour prédire la victoire finale"
   ]
  },
  {
   "cell_type": "markdown",
   "metadata": {},
   "source": [
    "# II-3. Corrélation entre la nationalité du pilote et la victoire finale "
   ]
  },
  {
   "cell_type": "markdown",
   "metadata": {},
   "source": [
    "* Nous nous interessons ensuite au lien entre la nationalité et la victoire. Nous allons essayer de savoir si cette variable permet d'expliquer, prédire la victoire finale. On va alors tout simplement tracer le pourcentage de victoire par nationalité. "
   ]
  },
  {
   "cell_type": "code",
   "execution_count": 27,
   "metadata": {},
   "outputs": [],
   "source": [
    "results_nationality=results.copy()\n",
    "results_nationality=results_nationality[[\"nationality\",\"grid\",\"podium\",\"circuit_id\"]]"
   ]
  },
  {
   "cell_type": "code",
   "execution_count": 28,
   "metadata": {
    "scrolled": false
   },
   "outputs": [
    {
     "data": {
      "text/plain": [
       "<AxesSubplot:xlabel='nationality', ylabel='podium'>"
      ]
     },
     "execution_count": 28,
     "metadata": {},
     "output_type": "execute_result"
    },
    {
     "data": {
      "image/png": "[encoded data removed]",
      "text/plain": [
       "<Figure size 1440x720 with 1 Axes>"
      ]
     },
     "metadata": {},
     "output_type": "display_data"
    }
   ],
   "source": [
    "nb_courses=len(results_nationality[results_nationality[\"podium\"]==1])\n",
    "df=((results_nationality[results_nationality[\"podium\"]==1].groupby(\"nationality\").count())/(nb_courses))*100\n",
    "df=df.reset_index()\n",
    "sns.barplot(x='nationality',y='podium',data=df,palette=sns.color_palette(\"icefire\"))"
   ]
  },
  {
   "cell_type": "markdown",
   "metadata": {},
   "source": [
    "* Commentaires : Sans surprise, les pilotes les plus titrés sur les grands prix sont de nationalité allemande (Vettel, Schumacher, Rosberg), Anglaise (Hamilton), Brésilienne (Senna) et FInlandaise (Räikkönen). On remarque une disparité entre les nationalité, cela signifie donc que la nationalité est une donnée importante"
   ]
  },
  {
   "cell_type": "code",
   "execution_count": 29,
   "metadata": {},
   "outputs": [],
   "source": [
    "# On rajoute alors la nationalité à notre dataframe results\n",
    "df_country_race=race[[\"circuit_id\",\"country\"]].copy()\n",
    "df_country_race.head()\n",
    "results_merged=results.merge(df_country_race ,how='left', on=\"circuit_id\")"
   ]
  },
  {
   "cell_type": "code",
   "execution_count": 30,
   "metadata": {},
   "outputs": [
    {
     "name": "stdout",
     "output_type": "stream",
     "text": [
      "        season  round  circuit_id   driver date_of_birth nationality  \\\n",
      "0         1990      1     phoenix    senna    1960-03-21   Brazilian   \n",
      "1         1990      1     phoenix    senna    1960-03-21   Brazilian   \n",
      "2         1990      1     phoenix    alesi    1964-06-11      French   \n",
      "3         1990      1     phoenix    alesi    1964-06-11      French   \n",
      "4         1990      1     phoenix  boutsen    1957-07-13     Belgian   \n",
      "...        ...    ...         ...      ...           ...         ...   \n",
      "270245    2020     17  yas_marina    perez    1990-01-26     Mexican   \n",
      "270246    2020     17  yas_marina    perez    1990-01-26     Mexican   \n",
      "270247    2020     17  yas_marina    perez    1990-01-26     Mexican   \n",
      "270248    2020     17  yas_marina    perez    1990-01-26     Mexican   \n",
      "270249    2020     17  yas_marina    perez    1990-01-26     Mexican   \n",
      "\n",
      "         constructor  grid        status  points  podium country  \n",
      "0            mclaren     5      Finished     9.0       1     USA  \n",
      "1            mclaren     5      Finished     9.0       1     USA  \n",
      "2            tyrrell     4      Finished     6.0       2     USA  \n",
      "3            tyrrell     4      Finished     6.0       2     USA  \n",
      "4           williams     9      Finished     4.0       3     USA  \n",
      "...              ...   ...           ...     ...     ...     ...  \n",
      "270245  racing_point    19  Transmission     0.0      20     UAE  \n",
      "270246  racing_point    19  Transmission     0.0      20     UAE  \n",
      "270247  racing_point    19  Transmission     0.0      20     UAE  \n",
      "270248  racing_point    19  Transmission     0.0      20     UAE  \n",
      "270249  racing_point    19  Transmission     0.0      20     UAE  \n",
      "\n",
      "[270250 rows x 12 columns]\n",
      "['Brazilian' 'French' 'Belgian' 'Italian' 'Japanese' 'German' 'British'\n",
      " 'Austrian' 'Swiss' 'Swedish' 'Finnish' 'Australian' 'Dutch' 'American'\n",
      " 'Portuguese' 'Monegasque' 'Danish' 'Canadian' 'Argentine' 'Spanish'\n",
      " 'Colombian' 'Czech' 'Malaysian' 'Irish' 'Hungarian' 'Indian' 'Polish'\n",
      " 'Russian' 'Venezuelan' 'Mexican' 'Indonesian' 'New Zealander' 'Thai']\n",
      "['USA' 'Brazil' 'Italy' 'Monaco' 'Canada' 'Mexico' 'France' 'UK' 'Germany'\n",
      " 'Hungary' 'Belgium' 'Portugal' 'Spain' 'Japan' 'Australia' 'South Africa'\n",
      " 'Argentina' 'Austria' 'Malaysia' 'Bahrain' 'China' 'Turkey' 'Singapore'\n",
      " 'UAE' 'Korea' 'India' 'Russia' 'Azerbaijan']\n"
     ]
    }
   ],
   "source": [
    "print(results_merged)\n",
    "print(results_merged[\"nationality\"].unique())\n",
    "print(results_merged[\"country\"].unique())"
   ]
  },
  {
   "cell_type": "markdown",
   "metadata": {},
   "source": [
    "## II-4. Corrélation entre l'âge et les victoires sur les grands prix"
   ]
  },
  {
   "cell_type": "markdown",
   "metadata": {},
   "source": [
    "* Nous étudions maintenant le lien entre l'âge et la victoire finale."
   ]
  },
  {
   "cell_type": "markdown",
   "metadata": {},
   "source": [
    "* Pour cela on créé ci-dessous la variable âge en année qui correspond à l'âge au moment du grand prix"
   ]
  },
  {
   "cell_type": "code",
   "execution_count": 31,
   "metadata": {},
   "outputs": [],
   "source": [
    "results_age=results.copy() #on copie la base results dans une nouvelle base qu'on va retravailler\n",
    "\n",
    "results_age[\"date_of_birth\"]=pd.to_datetime(results_age[\"date_of_birth\"])\n",
    "\n",
    "results_age[\"season\"]=pd.to_datetime(results_age[\"season\"], format=\"%Y\") # conversion en format date\n",
    "\n",
    "results_age[\"age\"]=round(((results_age[\"season\"]-results_age['date_of_birth']).dt.days)/365) #On détermine l'âge en année"
   ]
  },
  {
   "cell_type": "markdown",
   "metadata": {},
   "source": [
    "* On visualise rapidement les variables qu'on a créée"
   ]
  },
  {
   "cell_type": "code",
   "execution_count": 32,
   "metadata": {},
   "outputs": [
    {
     "data": {
      "text/plain": [
       "0       1960-03-21\n",
       "1       1964-06-11\n",
       "2       1957-07-13\n",
       "3       1952-08-17\n",
       "4       1963-05-12\n",
       "           ...    \n",
       "12392   1993-12-14\n",
       "12393   1995-06-29\n",
       "12394   1992-10-05\n",
       "12395   1996-06-25\n",
       "12396   1990-01-26\n",
       "Name: date_of_birth, Length: 12397, dtype: datetime64[ns]"
      ]
     },
     "execution_count": 32,
     "metadata": {},
     "output_type": "execute_result"
    }
   ],
   "source": [
    "results_age[\"date_of_birth\"]"
   ]
  },
  {
   "cell_type": "code",
   "execution_count": 33,
   "metadata": {},
   "outputs": [
    {
     "data": {
      "text/plain": [
       "0       1990-01-01\n",
       "1       1990-01-01\n",
       "2       1990-01-01\n",
       "3       1990-01-01\n",
       "4       1990-01-01\n",
       "           ...    \n",
       "12392   2020-01-01\n",
       "12393   2020-01-01\n",
       "12394   2020-01-01\n",
       "12395   2020-01-01\n",
       "12396   2020-01-01\n",
       "Name: season, Length: 12397, dtype: datetime64[ns]"
      ]
     },
     "execution_count": 33,
     "metadata": {},
     "output_type": "execute_result"
    }
   ],
   "source": [
    "results_age[\"season\"]"
   ]
  },
  {
   "cell_type": "code",
   "execution_count": 34,
   "metadata": {},
   "outputs": [
    {
     "data": {
      "text/plain": [
       "0        30.0\n",
       "1        26.0\n",
       "2        32.0\n",
       "3        37.0\n",
       "4        27.0\n",
       "         ... \n",
       "12392    26.0\n",
       "12393    25.0\n",
       "12394    27.0\n",
       "12395    24.0\n",
       "12396    30.0\n",
       "Name: age, Length: 12397, dtype: float64"
      ]
     },
     "execution_count": 34,
     "metadata": {},
     "output_type": "execute_result"
    }
   ],
   "source": [
    "results_age[\"age\"]"
   ]
  },
  {
   "cell_type": "markdown",
   "metadata": {},
   "source": [
    "### Correlation entre le podium et l'âge des pilotes au moment de la course"
   ]
  },
  {
   "cell_type": "code",
   "execution_count": 35,
   "metadata": {
    "scrolled": false
   },
   "outputs": [
    {
     "data": {
      "text/plain": [
       "<AxesSubplot:>"
      ]
     },
     "execution_count": 35,
     "metadata": {},
     "output_type": "execute_result"
    },
    {
     "data": {
      "image/png": "[encoded data removed]",
      "text/plain": [
       "<Figure size 1440x720 with 2 Axes>"
      ]
     },
     "metadata": {},
     "output_type": "display_data"
    }
   ],
   "source": [
    "df=results_age[[\"age\",\"podium\"]]\n",
    "\n",
    "corr = df.corr()\n",
    "sns.heatmap(corr,annot=True,vmin=0, vmax=1)# légère corrélation négative avec l'âge, ce n'est pas très significatif "
   ]
  },
  {
   "cell_type": "markdown",
   "metadata": {},
   "source": [
    "* Commentaires : On obtient une légére corrélation négative entre l'âge et le classement : c'est à dire que plus on est agé plus on est associé à un classement bas et donc proche de la victoire."
   ]
  },
  {
   "cell_type": "markdown",
   "metadata": {},
   "source": [
    "### Répartition des victoires en fonction de l'âge"
   ]
  },
  {
   "cell_type": "markdown",
   "metadata": {},
   "source": [
    "* On trace le nombre de victoire par age, on trace également une approximation de la densité"
   ]
  },
  {
   "cell_type": "code",
   "execution_count": 36,
   "metadata": {},
   "outputs": [
    {
     "data": {
      "text/plain": [
       "<AxesSubplot:xlabel='age', ylabel='Count'>"
      ]
     },
     "execution_count": 36,
     "metadata": {},
     "output_type": "execute_result"
    },
    {
     "data": {
      "image/png": "[encoded data removed]",
      "text/plain": [
       "<Figure size 1440x720 with 1 Axes>"
      ]
     },
     "metadata": {},
     "output_type": "display_data"
    }
   ],
   "source": [
    "df_gagnant=df[df[\"podium\"]==1]\n",
    "sns.histplot(data=df_gagnant, x='age',kde=True) "
   ]
  },
  {
   "cell_type": "markdown",
   "metadata": {},
   "source": [
    "* Commentaires : On remarque qu'on a un pic à 30 ans, cela correspondrait donc au bon ratio entre âge et expérience. On observe encore une fois une disparité de la répartition, ce qui signifie que l'âge contient de l'information permettant de prédire la victoire "
   ]
  },
  {
   "cell_type": "markdown",
   "metadata": {},
   "source": [
    "## II-6. Analyse de la météo "
   ]
  },
  {
   "cell_type": "code",
   "execution_count": 43,
   "metadata": {},
   "outputs": [
    {
     "ename": "FileNotFoundError",
     "evalue": "[Errno 2] No such file or directory: 'weather.csv'",
     "output_type": "error",
     "traceback": [
      "\u001b[0;31m---------------------------------------------------------------------------\u001b[0m",
      "\u001b[0;31mFileNotFoundError\u001b[0m                         Traceback (most recent call last)",
      "\u001b[0;32m<ipython-input-43-d355384f9908>\u001b[0m in \u001b[0;36m<module>\u001b[0;34m\u001b[0m\n\u001b[0;32m----> 1\u001b[0;31m \u001b[0mweather_\u001b[0m\u001b[0;34m=\u001b[0m\u001b[0mpd\u001b[0m\u001b[0;34m.\u001b[0m\u001b[0mread_csv\u001b[0m\u001b[0;34m(\u001b[0m\u001b[0;34m'weather.csv'\u001b[0m\u001b[0;34m)\u001b[0m\u001b[0;34m\u001b[0m\u001b[0;34m\u001b[0m\u001b[0m\n\u001b[0m",
      "\u001b[0;32m~/opt/anaconda3/lib/python3.8/site-packages/pandas/util/_decorators.py\u001b[0m in \u001b[0;36mwrapper\u001b[0;34m(*args, **kwargs)\u001b[0m\n\u001b[1;32m    309\u001b[0m                     \u001b[0mstacklevel\u001b[0m\u001b[0;34m=\u001b[0m\u001b[0mstacklevel\u001b[0m\u001b[0;34m,\u001b[0m\u001b[0;34m\u001b[0m\u001b[0;34m\u001b[0m\u001b[0m\n\u001b[1;32m    310\u001b[0m                 )\n\u001b[0;32m--> 311\u001b[0;31m             \u001b[0;32mreturn\u001b[0m \u001b[0mfunc\u001b[0m\u001b[0;34m(\u001b[0m\u001b[0;34m*\u001b[0m\u001b[0margs\u001b[0m\u001b[0;34m,\u001b[0m \u001b[0;34m**\u001b[0m\u001b[0mkwargs\u001b[0m\u001b[0;34m)\u001b[0m\u001b[0;34m\u001b[0m\u001b[0;34m\u001b[0m\u001b[0m\n\u001b[0m\u001b[1;32m    312\u001b[0m \u001b[0;34m\u001b[0m\u001b[0m\n\u001b[1;32m    313\u001b[0m         \u001b[0;32mreturn\u001b[0m \u001b[0mwrapper\u001b[0m\u001b[0;34m\u001b[0m\u001b[0;34m\u001b[0m\u001b[0m\n",
      "\u001b[0;32m~/opt/anaconda3/lib/python3.8/site-packages/pandas/io/parsers/readers.py\u001b[0m in \u001b[0;36mread_csv\u001b[0;34m(filepath_or_buffer, sep, delimiter, header, names, index_col, usecols, squeeze, prefix, mangle_dupe_cols, dtype, engine, converters, true_values, false_values, skipinitialspace, skiprows, skipfooter, nrows, na_values, keep_default_na, na_filter, verbose, skip_blank_lines, parse_dates, infer_datetime_format, keep_date_col, date_parser, dayfirst, cache_dates, iterator, chunksize, compression, thousands, decimal, lineterminator, quotechar, quoting, doublequote, escapechar, comment, encoding, encoding_errors, dialect, error_bad_lines, warn_bad_lines, on_bad_lines, delim_whitespace, low_memory, memory_map, float_precision, storage_options)\u001b[0m\n\u001b[1;32m    584\u001b[0m     \u001b[0mkwds\u001b[0m\u001b[0;34m.\u001b[0m\u001b[0mupdate\u001b[0m\u001b[0;34m(\u001b[0m\u001b[0mkwds_defaults\u001b[0m\u001b[0;34m)\u001b[0m\u001b[0;34m\u001b[0m\u001b[0;34m\u001b[0m\u001b[0m\n\u001b[1;32m    585\u001b[0m \u001b[0;34m\u001b[0m\u001b[0m\n\u001b[0;32m--> 586\u001b[0;31m     \u001b[0;32mreturn\u001b[0m \u001b[0m_read\u001b[0m\u001b[0;34m(\u001b[0m\u001b[0mfilepath_or_buffer\u001b[0m\u001b[0;34m,\u001b[0m \u001b[0mkwds\u001b[0m\u001b[0;34m)\u001b[0m\u001b[0;34m\u001b[0m\u001b[0;34m\u001b[0m\u001b[0m\n\u001b[0m\u001b[1;32m    587\u001b[0m \u001b[0;34m\u001b[0m\u001b[0m\n\u001b[1;32m    588\u001b[0m \u001b[0;34m\u001b[0m\u001b[0m\n",
      "\u001b[0;32m~/opt/anaconda3/lib/python3.8/site-packages/pandas/io/parsers/readers.py\u001b[0m in \u001b[0;36m_read\u001b[0;34m(filepath_or_buffer, kwds)\u001b[0m\n\u001b[1;32m    480\u001b[0m \u001b[0;34m\u001b[0m\u001b[0m\n\u001b[1;32m    481\u001b[0m     \u001b[0;31m# Create the parser.\u001b[0m\u001b[0;34m\u001b[0m\u001b[0;34m\u001b[0m\u001b[0;34m\u001b[0m\u001b[0m\n\u001b[0;32m--> 482\u001b[0;31m     \u001b[0mparser\u001b[0m \u001b[0;34m=\u001b[0m \u001b[0mTextFileReader\u001b[0m\u001b[0;34m(\u001b[0m\u001b[0mfilepath_or_buffer\u001b[0m\u001b[0;34m,\u001b[0m \u001b[0;34m**\u001b[0m\u001b[0mkwds\u001b[0m\u001b[0;34m)\u001b[0m\u001b[0;34m\u001b[0m\u001b[0;34m\u001b[0m\u001b[0m\n\u001b[0m\u001b[1;32m    483\u001b[0m \u001b[0;34m\u001b[0m\u001b[0m\n\u001b[1;32m    484\u001b[0m     \u001b[0;32mif\u001b[0m \u001b[0mchunksize\u001b[0m \u001b[0;32mor\u001b[0m \u001b[0miterator\u001b[0m\u001b[0;34m:\u001b[0m\u001b[0;34m\u001b[0m\u001b[0;34m\u001b[0m\u001b[0m\n",
      "\u001b[0;32m~/opt/anaconda3/lib/python3.8/site-packages/pandas/io/parsers/readers.py\u001b[0m in \u001b[0;36m__init__\u001b[0;34m(self, f, engine, **kwds)\u001b[0m\n\u001b[1;32m    809\u001b[0m             \u001b[0mself\u001b[0m\u001b[0;34m.\u001b[0m\u001b[0moptions\u001b[0m\u001b[0;34m[\u001b[0m\u001b[0;34m\"has_index_names\"\u001b[0m\u001b[0;34m]\u001b[0m \u001b[0;34m=\u001b[0m \u001b[0mkwds\u001b[0m\u001b[0;34m[\u001b[0m\u001b[0;34m\"has_index_names\"\u001b[0m\u001b[0;34m]\u001b[0m\u001b[0;34m\u001b[0m\u001b[0;34m\u001b[0m\u001b[0m\n\u001b[1;32m    810\u001b[0m \u001b[0;34m\u001b[0m\u001b[0m\n\u001b[0;32m--> 811\u001b[0;31m         \u001b[0mself\u001b[0m\u001b[0;34m.\u001b[0m\u001b[0m_engine\u001b[0m \u001b[0;34m=\u001b[0m \u001b[0mself\u001b[0m\u001b[0;34m.\u001b[0m\u001b[0m_make_engine\u001b[0m\u001b[0;34m(\u001b[0m\u001b[0mself\u001b[0m\u001b[0;34m.\u001b[0m\u001b[0mengine\u001b[0m\u001b[0;34m)\u001b[0m\u001b[0;34m\u001b[0m\u001b[0;34m\u001b[0m\u001b[0m\n\u001b[0m\u001b[1;32m    812\u001b[0m \u001b[0;34m\u001b[0m\u001b[0m\n\u001b[1;32m    813\u001b[0m     \u001b[0;32mdef\u001b[0m \u001b[0mclose\u001b[0m\u001b[0;34m(\u001b[0m\u001b[0mself\u001b[0m\u001b[0;34m)\u001b[0m\u001b[0;34m:\u001b[0m\u001b[0;34m\u001b[0m\u001b[0;34m\u001b[0m\u001b[0m\n",
      "\u001b[0;32m~/opt/anaconda3/lib/python3.8/site-packages/pandas/io/parsers/readers.py\u001b[0m in \u001b[0;36m_make_engine\u001b[0;34m(self, engine)\u001b[0m\n\u001b[1;32m   1038\u001b[0m             )\n\u001b[1;32m   1039\u001b[0m         \u001b[0;31m# error: Too many arguments for \"ParserBase\"\u001b[0m\u001b[0;34m\u001b[0m\u001b[0;34m\u001b[0m\u001b[0;34m\u001b[0m\u001b[0m\n\u001b[0;32m-> 1040\u001b[0;31m         \u001b[0;32mreturn\u001b[0m \u001b[0mmapping\u001b[0m\u001b[0;34m[\u001b[0m\u001b[0mengine\u001b[0m\u001b[0;34m]\u001b[0m\u001b[0;34m(\u001b[0m\u001b[0mself\u001b[0m\u001b[0;34m.\u001b[0m\u001b[0mf\u001b[0m\u001b[0;34m,\u001b[0m \u001b[0;34m**\u001b[0m\u001b[0mself\u001b[0m\u001b[0;34m.\u001b[0m\u001b[0moptions\u001b[0m\u001b[0;34m)\u001b[0m  \u001b[0;31m# type: ignore[call-arg]\u001b[0m\u001b[0;34m\u001b[0m\u001b[0;34m\u001b[0m\u001b[0m\n\u001b[0m\u001b[1;32m   1041\u001b[0m \u001b[0;34m\u001b[0m\u001b[0m\n\u001b[1;32m   1042\u001b[0m     \u001b[0;32mdef\u001b[0m \u001b[0m_failover_to_python\u001b[0m\u001b[0;34m(\u001b[0m\u001b[0mself\u001b[0m\u001b[0;34m)\u001b[0m\u001b[0;34m:\u001b[0m\u001b[0;34m\u001b[0m\u001b[0;34m\u001b[0m\u001b[0m\n",
      "\u001b[0;32m~/opt/anaconda3/lib/python3.8/site-packages/pandas/io/parsers/c_parser_wrapper.py\u001b[0m in \u001b[0;36m__init__\u001b[0;34m(self, src, **kwds)\u001b[0m\n\u001b[1;32m     49\u001b[0m \u001b[0;34m\u001b[0m\u001b[0m\n\u001b[1;32m     50\u001b[0m         \u001b[0;31m# open handles\u001b[0m\u001b[0;34m\u001b[0m\u001b[0;34m\u001b[0m\u001b[0;34m\u001b[0m\u001b[0m\n\u001b[0;32m---> 51\u001b[0;31m         \u001b[0mself\u001b[0m\u001b[0;34m.\u001b[0m\u001b[0m_open_handles\u001b[0m\u001b[0;34m(\u001b[0m\u001b[0msrc\u001b[0m\u001b[0;34m,\u001b[0m \u001b[0mkwds\u001b[0m\u001b[0;34m)\u001b[0m\u001b[0;34m\u001b[0m\u001b[0;34m\u001b[0m\u001b[0m\n\u001b[0m\u001b[1;32m     52\u001b[0m         \u001b[0;32massert\u001b[0m \u001b[0mself\u001b[0m\u001b[0;34m.\u001b[0m\u001b[0mhandles\u001b[0m \u001b[0;32mis\u001b[0m \u001b[0;32mnot\u001b[0m \u001b[0;32mNone\u001b[0m\u001b[0;34m\u001b[0m\u001b[0;34m\u001b[0m\u001b[0m\n\u001b[1;32m     53\u001b[0m \u001b[0;34m\u001b[0m\u001b[0m\n",
      "\u001b[0;32m~/opt/anaconda3/lib/python3.8/site-packages/pandas/io/parsers/base_parser.py\u001b[0m in \u001b[0;36m_open_handles\u001b[0;34m(self, src, kwds)\u001b[0m\n\u001b[1;32m    220\u001b[0m         \u001b[0mLet\u001b[0m \u001b[0mthe\u001b[0m \u001b[0mreaders\u001b[0m \u001b[0mopen\u001b[0m \u001b[0mIOHandles\u001b[0m \u001b[0mafter\u001b[0m \u001b[0mthey\u001b[0m \u001b[0mare\u001b[0m \u001b[0mdone\u001b[0m \u001b[0;32mwith\u001b[0m \u001b[0mtheir\u001b[0m \u001b[0mpotential\u001b[0m \u001b[0mraises\u001b[0m\u001b[0;34m.\u001b[0m\u001b[0;34m\u001b[0m\u001b[0;34m\u001b[0m\u001b[0m\n\u001b[1;32m    221\u001b[0m         \"\"\"\n\u001b[0;32m--> 222\u001b[0;31m         self.handles = get_handle(\n\u001b[0m\u001b[1;32m    223\u001b[0m             \u001b[0msrc\u001b[0m\u001b[0;34m,\u001b[0m\u001b[0;34m\u001b[0m\u001b[0;34m\u001b[0m\u001b[0m\n\u001b[1;32m    224\u001b[0m             \u001b[0;34m\"r\"\u001b[0m\u001b[0;34m,\u001b[0m\u001b[0;34m\u001b[0m\u001b[0;34m\u001b[0m\u001b[0m\n",
      "\u001b[0;32m~/opt/anaconda3/lib/python3.8/site-packages/pandas/io/common.py\u001b[0m in \u001b[0;36mget_handle\u001b[0;34m(path_or_buf, mode, encoding, compression, memory_map, is_text, errors, storage_options)\u001b[0m\n\u001b[1;32m    700\u001b[0m         \u001b[0;32mif\u001b[0m \u001b[0mioargs\u001b[0m\u001b[0;34m.\u001b[0m\u001b[0mencoding\u001b[0m \u001b[0;32mand\u001b[0m \u001b[0;34m\"b\"\u001b[0m \u001b[0;32mnot\u001b[0m \u001b[0;32min\u001b[0m \u001b[0mioargs\u001b[0m\u001b[0;34m.\u001b[0m\u001b[0mmode\u001b[0m\u001b[0;34m:\u001b[0m\u001b[0;34m\u001b[0m\u001b[0;34m\u001b[0m\u001b[0m\n\u001b[1;32m    701\u001b[0m             \u001b[0;31m# Encoding\u001b[0m\u001b[0;34m\u001b[0m\u001b[0;34m\u001b[0m\u001b[0;34m\u001b[0m\u001b[0m\n\u001b[0;32m--> 702\u001b[0;31m             handle = open(\n\u001b[0m\u001b[1;32m    703\u001b[0m                 \u001b[0mhandle\u001b[0m\u001b[0;34m,\u001b[0m\u001b[0;34m\u001b[0m\u001b[0;34m\u001b[0m\u001b[0m\n\u001b[1;32m    704\u001b[0m                 \u001b[0mioargs\u001b[0m\u001b[0;34m.\u001b[0m\u001b[0mmode\u001b[0m\u001b[0;34m,\u001b[0m\u001b[0;34m\u001b[0m\u001b[0;34m\u001b[0m\u001b[0m\n",
      "\u001b[0;31mFileNotFoundError\u001b[0m: [Errno 2] No such file or directory: 'weather.csv'"
     ]
    }
   ],
   "source": [
    "weather_=pd.read_csv('weather.csv')"
   ]
  },
  {
   "cell_type": "code",
   "execution_count": 34,
   "metadata": {},
   "outputs": [],
   "source": [
    "# On rajoute la météo au dataframe results\n",
    "weather_merged = results.merge( weather, how=\"left\", on=[\"circuit_id\",\"season\",\"round\"])"
   ]
  },
  {
   "cell_type": "code",
   "execution_count": 41,
   "metadata": {},
   "outputs": [
    {
     "data": {
      "text/html": [
       "<div>\n",
       "<style scoped>\n",
       "    .dataframe tbody tr th:only-of-type {\n",
       "        vertical-align: middle;\n",
       "    }\n",
       "\n",
       "    .dataframe tbody tr th {\n",
       "        vertical-align: top;\n",
       "    }\n",
       "\n",
       "    .dataframe thead th {\n",
       "        text-align: right;\n",
       "    }\n",
       "</style>\n",
       "<table border=\"1\" class=\"dataframe\">\n",
       "  <thead>\n",
       "    <tr style=\"text-align: right;\">\n",
       "      <th></th>\n",
       "      <th>season</th>\n",
       "      <th>round</th>\n",
       "      <th>circuit_id</th>\n",
       "      <th>driver</th>\n",
       "      <th>date_of_birth</th>\n",
       "      <th>nationality</th>\n",
       "      <th>constructor</th>\n",
       "      <th>grid</th>\n",
       "      <th>time</th>\n",
       "      <th>status</th>\n",
       "      <th>points</th>\n",
       "      <th>podium</th>\n",
       "      <th>weather</th>\n",
       "    </tr>\n",
       "  </thead>\n",
       "  <tbody>\n",
       "    <tr>\n",
       "      <th>0</th>\n",
       "      <td>1990</td>\n",
       "      <td>1</td>\n",
       "      <td>phoenix</td>\n",
       "      <td>senna</td>\n",
       "      <td>1960-03-21</td>\n",
       "      <td>Brazilian</td>\n",
       "      <td>mclaren</td>\n",
       "      <td>5</td>\n",
       "      <td>6752829.0</td>\n",
       "      <td>Finished</td>\n",
       "      <td>9.0</td>\n",
       "      <td>1</td>\n",
       "      <td>Cloudy and cool with temperatures reaching up ...</td>\n",
       "    </tr>\n",
       "    <tr>\n",
       "      <th>1</th>\n",
       "      <td>1990</td>\n",
       "      <td>1</td>\n",
       "      <td>phoenix</td>\n",
       "      <td>alesi</td>\n",
       "      <td>1964-06-11</td>\n",
       "      <td>French</td>\n",
       "      <td>tyrrell</td>\n",
       "      <td>4</td>\n",
       "      <td>6761514.0</td>\n",
       "      <td>Finished</td>\n",
       "      <td>6.0</td>\n",
       "      <td>2</td>\n",
       "      <td>Cloudy and cool with temperatures reaching up ...</td>\n",
       "    </tr>\n",
       "    <tr>\n",
       "      <th>2</th>\n",
       "      <td>1990</td>\n",
       "      <td>1</td>\n",
       "      <td>phoenix</td>\n",
       "      <td>boutsen</td>\n",
       "      <td>1957-07-13</td>\n",
       "      <td>Belgian</td>\n",
       "      <td>williams</td>\n",
       "      <td>9</td>\n",
       "      <td>6806909.0</td>\n",
       "      <td>Finished</td>\n",
       "      <td>4.0</td>\n",
       "      <td>3</td>\n",
       "      <td>Cloudy and cool with temperatures reaching up ...</td>\n",
       "    </tr>\n",
       "    <tr>\n",
       "      <th>3</th>\n",
       "      <td>1990</td>\n",
       "      <td>1</td>\n",
       "      <td>phoenix</td>\n",
       "      <td>piquet</td>\n",
       "      <td>1952-08-17</td>\n",
       "      <td>Brazilian</td>\n",
       "      <td>benetton</td>\n",
       "      <td>6</td>\n",
       "      <td>6821187.0</td>\n",
       "      <td>Finished</td>\n",
       "      <td>3.0</td>\n",
       "      <td>4</td>\n",
       "      <td>Cloudy and cool with temperatures reaching up ...</td>\n",
       "    </tr>\n",
       "    <tr>\n",
       "      <th>4</th>\n",
       "      <td>1990</td>\n",
       "      <td>1</td>\n",
       "      <td>phoenix</td>\n",
       "      <td>modena</td>\n",
       "      <td>1963-05-12</td>\n",
       "      <td>Italian</td>\n",
       "      <td>brabham</td>\n",
       "      <td>10</td>\n",
       "      <td>6822332.0</td>\n",
       "      <td>Finished</td>\n",
       "      <td>2.0</td>\n",
       "      <td>5</td>\n",
       "      <td>Cloudy and cool with temperatures reaching up ...</td>\n",
       "    </tr>\n",
       "    <tr>\n",
       "      <th>...</th>\n",
       "      <td>...</td>\n",
       "      <td>...</td>\n",
       "      <td>...</td>\n",
       "      <td>...</td>\n",
       "      <td>...</td>\n",
       "      <td>...</td>\n",
       "      <td>...</td>\n",
       "      <td>...</td>\n",
       "      <td>...</td>\n",
       "      <td>...</td>\n",
       "      <td>...</td>\n",
       "      <td>...</td>\n",
       "      <td>...</td>\n",
       "    </tr>\n",
       "    <tr>\n",
       "      <th>12392</th>\n",
       "      <td>2020</td>\n",
       "      <td>17</td>\n",
       "      <td>yas_marina</td>\n",
       "      <td>giovinazzi</td>\n",
       "      <td>1993-12-14</td>\n",
       "      <td>Italian</td>\n",
       "      <td>alfa</td>\n",
       "      <td>14</td>\n",
       "      <td>NaN</td>\n",
       "      <td>+1 Lap</td>\n",
       "      <td>0.0</td>\n",
       "      <td>16</td>\n",
       "      <td>Clear</td>\n",
       "    </tr>\n",
       "    <tr>\n",
       "      <th>12393</th>\n",
       "      <td>2020</td>\n",
       "      <td>17</td>\n",
       "      <td>yas_marina</td>\n",
       "      <td>latifi</td>\n",
       "      <td>1995-06-29</td>\n",
       "      <td>Canadian</td>\n",
       "      <td>williams</td>\n",
       "      <td>18</td>\n",
       "      <td>NaN</td>\n",
       "      <td>+1 Lap</td>\n",
       "      <td>0.0</td>\n",
       "      <td>17</td>\n",
       "      <td>Clear</td>\n",
       "    </tr>\n",
       "    <tr>\n",
       "      <th>12394</th>\n",
       "      <td>2020</td>\n",
       "      <td>17</td>\n",
       "      <td>yas_marina</td>\n",
       "      <td>kevin_magnussen</td>\n",
       "      <td>1992-10-05</td>\n",
       "      <td>Danish</td>\n",
       "      <td>haas</td>\n",
       "      <td>20</td>\n",
       "      <td>NaN</td>\n",
       "      <td>+1 Lap</td>\n",
       "      <td>0.0</td>\n",
       "      <td>18</td>\n",
       "      <td>Clear</td>\n",
       "    </tr>\n",
       "    <tr>\n",
       "      <th>12395</th>\n",
       "      <td>2020</td>\n",
       "      <td>17</td>\n",
       "      <td>yas_marina</td>\n",
       "      <td>pietro_fittipaldi</td>\n",
       "      <td>1996-06-25</td>\n",
       "      <td>Brazilian</td>\n",
       "      <td>haas</td>\n",
       "      <td>17</td>\n",
       "      <td>NaN</td>\n",
       "      <td>+2 Laps</td>\n",
       "      <td>0.0</td>\n",
       "      <td>19</td>\n",
       "      <td>Clear</td>\n",
       "    </tr>\n",
       "    <tr>\n",
       "      <th>12396</th>\n",
       "      <td>2020</td>\n",
       "      <td>17</td>\n",
       "      <td>yas_marina</td>\n",
       "      <td>perez</td>\n",
       "      <td>1990-01-26</td>\n",
       "      <td>Mexican</td>\n",
       "      <td>racing_point</td>\n",
       "      <td>19</td>\n",
       "      <td>NaN</td>\n",
       "      <td>Transmission</td>\n",
       "      <td>0.0</td>\n",
       "      <td>20</td>\n",
       "      <td>Clear</td>\n",
       "    </tr>\n",
       "  </tbody>\n",
       "</table>\n",
       "<p>12397 rows × 13 columns</p>\n",
       "</div>"
      ],
      "text/plain": [
       "       season  round  circuit_id             driver date_of_birth nationality  \\\n",
       "0        1990      1     phoenix              senna    1960-03-21   Brazilian   \n",
       "1        1990      1     phoenix              alesi    1964-06-11      French   \n",
       "2        1990      1     phoenix            boutsen    1957-07-13     Belgian   \n",
       "3        1990      1     phoenix             piquet    1952-08-17   Brazilian   \n",
       "4        1990      1     phoenix             modena    1963-05-12     Italian   \n",
       "...       ...    ...         ...                ...           ...         ...   \n",
       "12392    2020     17  yas_marina         giovinazzi    1993-12-14     Italian   \n",
       "12393    2020     17  yas_marina             latifi    1995-06-29    Canadian   \n",
       "12394    2020     17  yas_marina    kevin_magnussen    1992-10-05      Danish   \n",
       "12395    2020     17  yas_marina  pietro_fittipaldi    1996-06-25   Brazilian   \n",
       "12396    2020     17  yas_marina              perez    1990-01-26     Mexican   \n",
       "\n",
       "        constructor  grid       time        status  points  podium  \\\n",
       "0           mclaren     5  6752829.0      Finished     9.0       1   \n",
       "1           tyrrell     4  6761514.0      Finished     6.0       2   \n",
       "2          williams     9  6806909.0      Finished     4.0       3   \n",
       "3          benetton     6  6821187.0      Finished     3.0       4   \n",
       "4           brabham    10  6822332.0      Finished     2.0       5   \n",
       "...             ...   ...        ...           ...     ...     ...   \n",
       "12392          alfa    14        NaN        +1 Lap     0.0      16   \n",
       "12393      williams    18        NaN        +1 Lap     0.0      17   \n",
       "12394          haas    20        NaN        +1 Lap     0.0      18   \n",
       "12395          haas    17        NaN       +2 Laps     0.0      19   \n",
       "12396  racing_point    19        NaN  Transmission     0.0      20   \n",
       "\n",
       "                                                 weather  \n",
       "0      Cloudy and cool with temperatures reaching up ...  \n",
       "1      Cloudy and cool with temperatures reaching up ...  \n",
       "2      Cloudy and cool with temperatures reaching up ...  \n",
       "3      Cloudy and cool with temperatures reaching up ...  \n",
       "4      Cloudy and cool with temperatures reaching up ...  \n",
       "...                                                  ...  \n",
       "12392                                              Clear  \n",
       "12393                                              Clear  \n",
       "12394                                              Clear  \n",
       "12395                                              Clear  \n",
       "12396                                              Clear  \n",
       "\n",
       "[12397 rows x 13 columns]"
      ]
     },
     "execution_count": 41,
     "metadata": {},
     "output_type": "execute_result"
    }
   ],
   "source": [
    "weather_merged"
   ]
  },
  {
   "cell_type": "code",
   "execution_count": 37,
   "metadata": {},
   "outputs": [
    {
     "data": {
      "text/plain": [
       "363"
      ]
     },
     "execution_count": 37,
     "metadata": {},
     "output_type": "execute_result"
    }
   ],
   "source": [
    "weather_merged[\"weather\"].nunique()"
   ]
  },
  {
   "cell_type": "markdown",
   "metadata": {},
   "source": [
    "* Il y a 363 types de temps différents nous allons donc nous interesser à ceux qui nous paraissent les plus communs"
   ]
  },
  {
   "cell_type": "code",
   "execution_count": 39,
   "metadata": {},
   "outputs": [
    {
     "data": {
      "text/plain": [
       "<seaborn.axisgrid.FacetGrid at 0x11e197340>"
      ]
     },
     "execution_count": 39,
     "metadata": {},
     "output_type": "execute_result"
    },
    {
     "data": {
      "image/png": "[encoded data removed]",
      "text/plain": [
       "<Figure size 360x360 with 1 Axes>"
      ]
     },
     "metadata": {},
     "output_type": "display_data"
    }
   ],
   "source": [
    "df_dry=weather_merged[weather_merged['weather']=='dry']\n",
    "sns.relplot(x=\"grid\", y=\"podium\", data=df_dry,hue=\"circuit_id\")"
   ]
  },
  {
   "cell_type": "markdown",
   "id": "98909727",
   "metadata": {},
   "source": [
    "# III- Modélisation "
   ]
  },
  {
   "cell_type": "markdown",
   "id": "5e1e1a5c",
   "metadata": {},
   "source": [
    "## III-1. Préparation des données pour la modélisation"
   ]
  },
  {
   "cell_type": "markdown",
   "id": "6a93b449",
   "metadata": {},
   "source": [
    "L'idée est de créer un dataframe unique dans lequel nous pouvons retrouver toutes les variables a priori utiles pour la modélisation, ainsi que notre target, c'est à dire le vainqueur de la course (ou un proxy : le classement de la course). Il faudra pour cela notamment mergé les dataframes, gérer les valeurs manquantes mais aussi préparer les variables catégorielles. "
   ]
  },
  {
   "cell_type": "markdown",
   "id": "824bdf06",
   "metadata": {},
   "source": [
    "### Préparation du merge des dataframes "
   ]
  },
  {
   "cell_type": "code",
   "execution_count": 40,
   "id": "b05f2427",
   "metadata": {},
   "outputs": [],
   "source": [
    "# On modifie la colonne driver_name de \"qualifying_results\" pour pouvoir par la suite effectuer le merge\n",
    "\n",
    "qualifying_results[\"driver_name\"]=qualifying_results[\"driver_name\"].str.split()\n",
    "\n",
    "taille=len(qualifying_results)\n",
    "for i in range(taille):\n",
    "    qualifying_results.iloc[i,1]=qualifying_results.iloc[i,1][1]\n",
    "\n",
    "qualifying_results.rename(columns={'driver_name': 'driver'}, inplace=True)\n",
    "qualifying_results[\"driver\"]=qualifying_results[\"driver\"].str.lower()"
   ]
  },
  {
   "cell_type": "markdown",
   "id": "9bf57cd7",
   "metadata": {},
   "source": [
    "### Merge des dataframes "
   ]
  },
  {
   "cell_type": "markdown",
   "id": "457f66a2",
   "metadata": {},
   "source": [
    "Nous allons merger les dataframes à partir du dataframe results car ce dernier est selon nous le plus complet. Nous allons ainsi merger les dataframes les uns après les autres sur des clés uniques et communes avec la méthode \"left\""
   ]
  },
  {
   "cell_type": "code",
   "execution_count": 48,
   "metadata": {},
   "outputs": [],
   "source": [
    "weather=pd.read_csv('weather.csv')"
   ]
  },
  {
   "cell_type": "code",
   "execution_count": 100,
   "id": "a9d851a1",
   "metadata": {},
   "outputs": [],
   "source": [
    "# On merge les dataframes\n",
    "\n",
    "results_2=results.merge(how=\"left\",on=[\"season\",\"round\",\"constructor\"],right=constructor_standings)\n",
    "results_2.head()\n",
    "results_3=results_2.merge(how=\"left\",on=[\"season\",\"round\",\"driver\"],right=driver_standings)\n",
    "results_3.head(30)\n",
    "results_4=results_3.merge(how=\"left\",on=[\"season\",\"round\",\"driver\"],right=qualifying_results)\n",
    "results_5=results_4.merge(how=\"left\",on=[\"season\",\"round\",\"circuit_id\"],right=weather)"
   ]
  },
  {
   "cell_type": "code",
   "execution_count": 101,
   "id": "6c0cd73c",
   "metadata": {},
   "outputs": [],
   "source": [
    "# Nous renommons quelques variables et nous conservons notre dataframe mergé sous le nom de \"df_merged\"\n",
    "\n",
    "results_5=results_5.drop(columns=\"grid_y\")\n",
    "results_5.rename(columns={'grid_x': 'grid'}, inplace=True)\n",
    "df_merged=results_5.copy()"
   ]
  },
  {
   "cell_type": "markdown",
   "id": "6d363866",
   "metadata": {},
   "source": [
    "On dispose maintenant d'un dataframe contenant toutes nos metrics: df_merged: "
   ]
  },
  {
   "cell_type": "code",
   "execution_count": 102,
   "id": "67bf074b",
   "metadata": {},
   "outputs": [
    {
     "name": "stdout",
     "output_type": "stream",
     "text": [
      "<class 'pandas.core.frame.DataFrame'>\n",
      "Int64Index: 12399 entries, 0 to 12398\n",
      "Data columns (total 26 columns):\n",
      " #   Column                     Non-Null Count  Dtype  \n",
      "---  ------                     --------------  -----  \n",
      " 0   season                     12399 non-null  int64  \n",
      " 1   round                      12399 non-null  int64  \n",
      " 2   circuit_id                 12399 non-null  object \n",
      " 3   driver                     12399 non-null  object \n",
      " 4   date_of_birth              12399 non-null  object \n",
      " 5   nationality                12399 non-null  object \n",
      " 6   constructor                12399 non-null  object \n",
      " 7   grid                       12399 non-null  int64  \n",
      " 8   status                     12399 non-null  object \n",
      " 9   points                     12394 non-null  float64\n",
      " 10  podium                     12399 non-null  int64  \n",
      " 11  constructor_points         12213 non-null  float64\n",
      " 12  constructor_wins           12213 non-null  float64\n",
      " 13  constructor_standings_pos  12213 non-null  float64\n",
      " 14  driver_points              11794 non-null  float64\n",
      " 15  driver_wins                11794 non-null  float64\n",
      " 16  driver_standings_pos       11794 non-null  float64\n",
      " 17  car                        10219 non-null  object \n",
      " 18  qualifying_time            10009 non-null  object \n",
      " 19  Unnamed: 0                 12399 non-null  int64  \n",
      " 20  weather                    12399 non-null  object \n",
      " 21  weather_warm               12399 non-null  int64  \n",
      " 22  weather_cold               12399 non-null  int64  \n",
      " 23  weather_dry                12399 non-null  int64  \n",
      " 24  weather_wet                12399 non-null  int64  \n",
      " 25  weather_cloudy             12399 non-null  int64  \n",
      "dtypes: float64(7), int64(10), object(9)\n",
      "memory usage: 2.6+ MB\n"
     ]
    }
   ],
   "source": [
    "df_merged.info()"
   ]
  },
  {
   "cell_type": "code",
   "execution_count": 51,
   "id": "b379547f",
   "metadata": {
    "scrolled": false
   },
   "outputs": [
    {
     "data": {
      "text/plain": [
       "<AxesSubplot:>"
      ]
     },
     "execution_count": 51,
     "metadata": {},
     "output_type": "execute_result"
    },
    {
     "data": {
      "image/png": "[encoded data removed]",
      "text/plain": [
       "<Figure size 1440x720 with 2 Axes>"
      ]
     },
     "metadata": {},
     "output_type": "display_data"
    }
   ],
   "source": [
    "# Visualisation rapide des valeurs manquantes par variable\n",
    "\n",
    "df_merged_na=df_merged.isna().copy()\n",
    "sns.heatmap(df_merged_na)\n"
   ]
  },
  {
   "cell_type": "markdown",
   "id": "e57a5bbb",
   "metadata": {},
   "source": [
    "* On va devoir gérer quelques valeurs manquantes pour 'qualifying_time', 'driver_wins, 'driver_points', driver_standings_pos notamment.   "
   ]
  },
  {
   "cell_type": "markdown",
   "id": "714a990a",
   "metadata": {},
   "source": [
    "### Gestion des valeurs manquantes"
   ]
  },
  {
   "cell_type": "markdown",
   "id": "6e819d4b",
   "metadata": {},
   "source": [
    "* On remplace certaines valeurs manquantes par des 0 (Voir ci-dessous les catégories importantes) ce qui est très simple à implémenter et qui est plausibles pour ces valeurs manquantes. \n",
    "* On supprime ensuite toutes les lignes contenant encore des valeurs manquantes."
   ]
  },
  {
   "cell_type": "code",
   "execution_count": 103,
   "id": "d1abe2c3",
   "metadata": {},
   "outputs": [],
   "source": [
    "x_var= ['driver_points', 'driver_wins', 'driver_standings_pos', 'constructor_points', \n",
    "            'constructor_wins' , 'constructor_standings_pos']\n",
    "for var in x_var:\n",
    "    df_merged[var].fillna(0, inplace = True) # On remplit les valeurs manquantes par des 0\n",
    "    df_merged[var] = df_merged[var].map(lambda x: int(x)) # conversion des valeurs en entier.\n"
   ]
  },
  {
   "cell_type": "code",
   "execution_count": 104,
   "id": "aa8f8665",
   "metadata": {},
   "outputs": [],
   "source": [
    "df_merged.dropna(inplace = True ) # supression des valeurs manquantes restantes "
   ]
  },
  {
   "cell_type": "markdown",
   "id": "f6883494",
   "metadata": {},
   "source": [
    "### Création de nouvelle variables "
   ]
  },
  {
   "cell_type": "markdown",
   "id": "d27bbc6f",
   "metadata": {},
   "source": [
    "Nous allons maintenant créer des variables qui ne sont pas directement accesssibles dans nos données et qui vont sans nous permettre de prédire le vainqueur de la course. Nous allons ainsi créer la variables \"age\" qui correspondra à l'âge (à l'année prêt) des pilotes, mais également la variables \"qualifying_time\" contenant la différence cumulée des temps de qualification par rapport au pilote en pôle position. "
   ]
  },
  {
   "cell_type": "code",
   "execution_count": 105,
   "id": "8da02ae7",
   "metadata": {},
   "outputs": [],
   "source": [
    "# Ajout de l'âge des pilote\n",
    "df_merged[\"date_of_birth\"]=pd.to_datetime(df_merged[\"date_of_birth\"])\n",
    "df_merged[\"season\"]=pd.to_datetime(df_merged[\"season\"], format=\"%Y\") # conversion en format date\n",
    "df_merged[\"age\"]=round(((df_merged[\"season\"]-df_merged['date_of_birth']).dt.days)/365) #On détermine l'âge du pilote à l'année prêt \n"
   ]
  },
  {
   "cell_type": "code",
   "execution_count": 106,
   "id": "d2af3dd3",
   "metadata": {
    "scrolled": true
   },
   "outputs": [
    {
     "ename": "TypeError",
     "evalue": "unsupported operand type(s) for -: 'str' and 'str'",
     "output_type": "error",
     "traceback": [
      "\u001b[0;31m---------------------------------------------------------------------------\u001b[0m",
      "\u001b[0;31mTypeError\u001b[0m                                 Traceback (most recent call last)",
      "\u001b[0;32m<ipython-input-106-de26b2986cea>\u001b[0m in \u001b[0;36m<module>\u001b[0;34m\u001b[0m\n\u001b[1;32m      2\u001b[0m \u001b[0mdf_merged\u001b[0m \u001b[0;34m=\u001b[0m \u001b[0mdf_merged\u001b[0m\u001b[0;34m[\u001b[0m\u001b[0mdf_merged\u001b[0m\u001b[0;34m[\u001b[0m\u001b[0;34m'qualifying_time'\u001b[0m\u001b[0;34m]\u001b[0m \u001b[0;34m!=\u001b[0m \u001b[0;36m0\u001b[0m\u001b[0;34m]\u001b[0m \u001b[0;31m# On enlève les valeurs manquantes\u001b[0m\u001b[0;34m\u001b[0m\u001b[0;34m\u001b[0m\u001b[0m\n\u001b[1;32m      3\u001b[0m \u001b[0mdf_merged\u001b[0m\u001b[0;34m.\u001b[0m\u001b[0msort_values\u001b[0m\u001b[0;34m(\u001b[0m\u001b[0;34m[\u001b[0m\u001b[0;34m'season'\u001b[0m\u001b[0;34m,\u001b[0m \u001b[0;34m'round'\u001b[0m\u001b[0;34m,\u001b[0m \u001b[0;34m'grid'\u001b[0m\u001b[0;34m]\u001b[0m\u001b[0;34m,\u001b[0m \u001b[0minplace\u001b[0m \u001b[0;34m=\u001b[0m \u001b[0;32mTrue\u001b[0m\u001b[0;34m)\u001b[0m\u001b[0;34m\u001b[0m\u001b[0;34m\u001b[0m\u001b[0m\n\u001b[0;32m----> 4\u001b[0;31m \u001b[0mdf_merged\u001b[0m\u001b[0;34m[\u001b[0m\u001b[0;34m'qualifying_time_diff'\u001b[0m\u001b[0;34m]\u001b[0m \u001b[0;34m=\u001b[0m \u001b[0mdf_merged\u001b[0m\u001b[0;34m.\u001b[0m\u001b[0mgroupby\u001b[0m\u001b[0;34m(\u001b[0m\u001b[0;34m[\u001b[0m\u001b[0;34m'season'\u001b[0m\u001b[0;34m,\u001b[0m \u001b[0;34m'round'\u001b[0m\u001b[0;34m]\u001b[0m\u001b[0;34m)\u001b[0m\u001b[0;34m.\u001b[0m\u001b[0mqualifying_time\u001b[0m\u001b[0;34m.\u001b[0m\u001b[0mdiff\u001b[0m\u001b[0;34m(\u001b[0m\u001b[0;34m)\u001b[0m\u001b[0;34m\u001b[0m\u001b[0;34m\u001b[0m\u001b[0m\n\u001b[0m\u001b[1;32m      5\u001b[0m df_merged['qualifying_time'] = df_merged.groupby(['season', \n\u001b[1;32m      6\u001b[0m                                                 'round']).qualifying_time_diff.cumsum().fillna(0)\n",
      "\u001b[0;32m~/opt/anaconda3/lib/python3.8/site-packages/pandas/core/groupby/groupby.py\u001b[0m in \u001b[0;36mwrapper\u001b[0;34m(*args, **kwargs)\u001b[0m\n\u001b[1;32m    946\u001b[0m                 \u001b[0;32mreturn\u001b[0m \u001b[0mself\u001b[0m\u001b[0;34m.\u001b[0m\u001b[0mapply\u001b[0m\u001b[0;34m(\u001b[0m\u001b[0mcurried\u001b[0m\u001b[0;34m)\u001b[0m\u001b[0;34m\u001b[0m\u001b[0;34m\u001b[0m\u001b[0m\n\u001b[1;32m    947\u001b[0m \u001b[0;34m\u001b[0m\u001b[0m\n\u001b[0;32m--> 948\u001b[0;31m             \u001b[0;32mreturn\u001b[0m \u001b[0mself\u001b[0m\u001b[0;34m.\u001b[0m\u001b[0m_python_apply_general\u001b[0m\u001b[0;34m(\u001b[0m\u001b[0mcurried\u001b[0m\u001b[0;34m,\u001b[0m \u001b[0mself\u001b[0m\u001b[0;34m.\u001b[0m\u001b[0m_obj_with_exclusions\u001b[0m\u001b[0;34m)\u001b[0m\u001b[0;34m\u001b[0m\u001b[0;34m\u001b[0m\u001b[0m\n\u001b[0m\u001b[1;32m    949\u001b[0m \u001b[0;34m\u001b[0m\u001b[0m\n\u001b[1;32m    950\u001b[0m         \u001b[0mwrapper\u001b[0m\u001b[0;34m.\u001b[0m\u001b[0m__name__\u001b[0m \u001b[0;34m=\u001b[0m \u001b[0mname\u001b[0m\u001b[0;34m\u001b[0m\u001b[0;34m\u001b[0m\u001b[0m\n",
      "\u001b[0;32m~/opt/anaconda3/lib/python3.8/site-packages/pandas/core/groupby/groupby.py\u001b[0m in \u001b[0;36m_python_apply_general\u001b[0;34m(self, f, data)\u001b[0m\n\u001b[1;32m   1307\u001b[0m             \u001b[0mdata\u001b[0m \u001b[0mafter\u001b[0m \u001b[0mapplying\u001b[0m \u001b[0mf\u001b[0m\u001b[0;34m\u001b[0m\u001b[0;34m\u001b[0m\u001b[0m\n\u001b[1;32m   1308\u001b[0m         \"\"\"\n\u001b[0;32m-> 1309\u001b[0;31m         \u001b[0mkeys\u001b[0m\u001b[0;34m,\u001b[0m \u001b[0mvalues\u001b[0m\u001b[0;34m,\u001b[0m \u001b[0mmutated\u001b[0m \u001b[0;34m=\u001b[0m \u001b[0mself\u001b[0m\u001b[0;34m.\u001b[0m\u001b[0mgrouper\u001b[0m\u001b[0;34m.\u001b[0m\u001b[0mapply\u001b[0m\u001b[0;34m(\u001b[0m\u001b[0mf\u001b[0m\u001b[0;34m,\u001b[0m \u001b[0mdata\u001b[0m\u001b[0;34m,\u001b[0m \u001b[0mself\u001b[0m\u001b[0;34m.\u001b[0m\u001b[0maxis\u001b[0m\u001b[0;34m)\u001b[0m\u001b[0;34m\u001b[0m\u001b[0;34m\u001b[0m\u001b[0m\n\u001b[0m\u001b[1;32m   1310\u001b[0m \u001b[0;34m\u001b[0m\u001b[0m\n\u001b[1;32m   1311\u001b[0m         return self._wrap_applied_output(\n",
      "\u001b[0;32m~/opt/anaconda3/lib/python3.8/site-packages/pandas/core/groupby/ops.py\u001b[0m in \u001b[0;36mapply\u001b[0;34m(self, f, data, axis)\u001b[0m\n\u001b[1;32m    839\u001b[0m             \u001b[0;31m# group might be modified\u001b[0m\u001b[0;34m\u001b[0m\u001b[0;34m\u001b[0m\u001b[0;34m\u001b[0m\u001b[0m\n\u001b[1;32m    840\u001b[0m             \u001b[0mgroup_axes\u001b[0m \u001b[0;34m=\u001b[0m \u001b[0mgroup\u001b[0m\u001b[0;34m.\u001b[0m\u001b[0maxes\u001b[0m\u001b[0;34m\u001b[0m\u001b[0;34m\u001b[0m\u001b[0m\n\u001b[0;32m--> 841\u001b[0;31m             \u001b[0mres\u001b[0m \u001b[0;34m=\u001b[0m \u001b[0mf\u001b[0m\u001b[0;34m(\u001b[0m\u001b[0mgroup\u001b[0m\u001b[0;34m)\u001b[0m\u001b[0;34m\u001b[0m\u001b[0;34m\u001b[0m\u001b[0m\n\u001b[0m\u001b[1;32m    842\u001b[0m             \u001b[0;32mif\u001b[0m \u001b[0;32mnot\u001b[0m \u001b[0m_is_indexed_like\u001b[0m\u001b[0;34m(\u001b[0m\u001b[0mres\u001b[0m\u001b[0;34m,\u001b[0m \u001b[0mgroup_axes\u001b[0m\u001b[0;34m,\u001b[0m \u001b[0maxis\u001b[0m\u001b[0;34m)\u001b[0m\u001b[0;34m:\u001b[0m\u001b[0;34m\u001b[0m\u001b[0;34m\u001b[0m\u001b[0m\n\u001b[1;32m    843\u001b[0m                 \u001b[0mmutated\u001b[0m \u001b[0;34m=\u001b[0m \u001b[0;32mTrue\u001b[0m\u001b[0;34m\u001b[0m\u001b[0;34m\u001b[0m\u001b[0m\n",
      "\u001b[0;32m~/opt/anaconda3/lib/python3.8/site-packages/pandas/core/groupby/groupby.py\u001b[0m in \u001b[0;36mcurried\u001b[0;34m(x)\u001b[0m\n\u001b[1;32m    935\u001b[0m \u001b[0;34m\u001b[0m\u001b[0m\n\u001b[1;32m    936\u001b[0m             \u001b[0;32mdef\u001b[0m \u001b[0mcurried\u001b[0m\u001b[0;34m(\u001b[0m\u001b[0mx\u001b[0m\u001b[0;34m)\u001b[0m\u001b[0;34m:\u001b[0m\u001b[0;34m\u001b[0m\u001b[0;34m\u001b[0m\u001b[0m\n\u001b[0;32m--> 937\u001b[0;31m                 \u001b[0;32mreturn\u001b[0m \u001b[0mf\u001b[0m\u001b[0;34m(\u001b[0m\u001b[0mx\u001b[0m\u001b[0;34m,\u001b[0m \u001b[0;34m*\u001b[0m\u001b[0margs\u001b[0m\u001b[0;34m,\u001b[0m \u001b[0;34m**\u001b[0m\u001b[0mkwargs\u001b[0m\u001b[0;34m)\u001b[0m\u001b[0;34m\u001b[0m\u001b[0;34m\u001b[0m\u001b[0m\n\u001b[0m\u001b[1;32m    938\u001b[0m \u001b[0;34m\u001b[0m\u001b[0m\n\u001b[1;32m    939\u001b[0m             \u001b[0;31m# preserve the name so we can detect it when calling plot methods,\u001b[0m\u001b[0;34m\u001b[0m\u001b[0;34m\u001b[0m\u001b[0;34m\u001b[0m\u001b[0m\n",
      "\u001b[0;32m~/opt/anaconda3/lib/python3.8/site-packages/pandas/core/series.py\u001b[0m in \u001b[0;36mdiff\u001b[0;34m(self, periods)\u001b[0m\n\u001b[1;32m   2646\u001b[0m         \u001b[0;34m{\u001b[0m\u001b[0mexamples\u001b[0m\u001b[0;34m}\u001b[0m\u001b[0;34m\u001b[0m\u001b[0;34m\u001b[0m\u001b[0m\n\u001b[1;32m   2647\u001b[0m         \"\"\"\n\u001b[0;32m-> 2648\u001b[0;31m         \u001b[0mresult\u001b[0m \u001b[0;34m=\u001b[0m \u001b[0malgorithms\u001b[0m\u001b[0;34m.\u001b[0m\u001b[0mdiff\u001b[0m\u001b[0;34m(\u001b[0m\u001b[0mself\u001b[0m\u001b[0;34m.\u001b[0m\u001b[0m_values\u001b[0m\u001b[0;34m,\u001b[0m \u001b[0mperiods\u001b[0m\u001b[0;34m)\u001b[0m\u001b[0;34m\u001b[0m\u001b[0;34m\u001b[0m\u001b[0m\n\u001b[0m\u001b[1;32m   2649\u001b[0m         return self._constructor(result, index=self.index).__finalize__(\n\u001b[1;32m   2650\u001b[0m             \u001b[0mself\u001b[0m\u001b[0;34m,\u001b[0m \u001b[0mmethod\u001b[0m\u001b[0;34m=\u001b[0m\u001b[0;34m\"diff\"\u001b[0m\u001b[0;34m\u001b[0m\u001b[0;34m\u001b[0m\u001b[0m\n",
      "\u001b[0;32m~/opt/anaconda3/lib/python3.8/site-packages/pandas/core/algorithms.py\u001b[0m in \u001b[0;36mdiff\u001b[0;34m(arr, n, axis, stacklevel)\u001b[0m\n\u001b[1;32m   1709\u001b[0m         \u001b[0mlag_indexer\u001b[0m \u001b[0;34m=\u001b[0m \u001b[0mtuple\u001b[0m\u001b[0;34m(\u001b[0m\u001b[0m_lag_indexer\u001b[0m\u001b[0;34m)\u001b[0m\u001b[0;34m\u001b[0m\u001b[0;34m\u001b[0m\u001b[0m\n\u001b[1;32m   1710\u001b[0m \u001b[0;34m\u001b[0m\u001b[0m\n\u001b[0;32m-> 1711\u001b[0;31m         \u001b[0mout_arr\u001b[0m\u001b[0;34m[\u001b[0m\u001b[0mres_indexer\u001b[0m\u001b[0;34m]\u001b[0m \u001b[0;34m=\u001b[0m \u001b[0mop\u001b[0m\u001b[0;34m(\u001b[0m\u001b[0marr\u001b[0m\u001b[0;34m[\u001b[0m\u001b[0mres_indexer\u001b[0m\u001b[0;34m]\u001b[0m\u001b[0;34m,\u001b[0m \u001b[0marr\u001b[0m\u001b[0;34m[\u001b[0m\u001b[0mlag_indexer\u001b[0m\u001b[0;34m]\u001b[0m\u001b[0;34m)\u001b[0m\u001b[0;34m\u001b[0m\u001b[0;34m\u001b[0m\u001b[0m\n\u001b[0m\u001b[1;32m   1712\u001b[0m \u001b[0;34m\u001b[0m\u001b[0m\n\u001b[1;32m   1713\u001b[0m     \u001b[0;32mif\u001b[0m \u001b[0mis_timedelta\u001b[0m\u001b[0;34m:\u001b[0m\u001b[0;34m\u001b[0m\u001b[0;34m\u001b[0m\u001b[0m\n",
      "\u001b[0;31mTypeError\u001b[0m: unsupported operand type(s) for -: 'str' and 'str'"
     ]
    }
   ],
   "source": [
    "# Ajout de la différence du temps de qualification avec le premier sur la grille\n",
    "df_merged = df_merged[df_merged['qualifying_time'] != 0] # On enlève les valeurs manquantes\n",
    "df_merged.sort_values(['season', 'round', 'grid'], inplace = True)\n",
    "df_merged['qualifying_time_diff'] = df_merged.groupby(['season', 'round']).qualifying_time.diff()\n",
    "df_merged['qualifying_time'] = df_merged.groupby(['season', \n",
    "                                                'round']).qualifying_time_diff.cumsum().fillna(0)\n",
    "df_merged.drop('qualifying_time_diff', axis = 1, inplace = True)\n"
   ]
  },
  {
   "cell_type": "markdown",
   "id": "2d3f2318",
   "metadata": {},
   "source": [
    "### Préparation de nos variables catégorielles pour la modélisation"
   ]
  },
  {
   "cell_type": "markdown",
   "id": "99302200",
   "metadata": {},
   "source": [
    "Nous disposons de multiples variables catégorielles telles que les variables liées aux constructeurs, aux nationalité, aux circuits. Ces variables sont à priori utiles pour les prédiction du gagnant d'un grand prix. Ainsi, pour pouvoir les exploiter lors de la modélisation, nous devons les représenter sous forme d'indicatrice: "
   ]
  },
  {
   "cell_type": "code",
   "execution_count": 107,
   "id": "484e46c7",
   "metadata": {},
   "outputs": [],
   "source": [
    "\n",
    "\n",
    "df_ind = pd.get_dummies(df_merged, columns = ['circuit_id', 'nationality', 'constructor'] )\n",
    "\n",
    "for col in df_ind.columns:\n",
    "    if 'nationality' in col and df_ind[col].sum() < 100: # critère arbitraire pour enlever les colonnes non significatives \n",
    "        df_ind.drop(columns=col,inplace=True)\n",
    "        \n",
    "    elif 'constructor' in col and df_ind[col].sum() < 100: # critère arbitraire pour enlever les colonnes non significatives\n",
    "        df_ind.drop(columns=col,inplace=True)\n",
    "        \n",
    "    elif 'circuit_id' in col and df_ind[col].sum() < 100:  # critère arbitraire pour enlever les colonnes non significatives\n",
    "        df_ind.drop(columns=col,inplace=True)"
   ]
  },
  {
   "cell_type": "code",
   "execution_count": 108,
   "id": "782504a6",
   "metadata": {},
   "outputs": [],
   "source": [
    "del df_ind['date_of_birth'] #On enlèves les colonnes en trop\n",
    "del df_ind['status']\n",
    "del df_ind['car']\n",
    "del df_ind['weather']"
   ]
  },
  {
   "cell_type": "code",
   "execution_count": 95,
   "id": "52c2f967",
   "metadata": {},
   "outputs": [],
   "source": [
    "df_ind['season']=pd.to_datetime(df_ind['season']) # On passe sous le format date\n",
    "df_ind['season'] = df_ind['season'].dt.year"
   ]
  },
  {
   "cell_type": "code",
   "execution_count": 96,
   "id": "9e4860f8",
   "metadata": {},
   "outputs": [],
   "source": [
    "final_merged=df_ind.copy() #On renomme et copie notre dataframe final sous le nom de final_merged"
   ]
  },
  {
   "cell_type": "code",
   "execution_count": 97,
   "id": "a9019785",
   "metadata": {},
   "outputs": [],
   "source": [
    "np.set_printoptions(precision=4)"
   ]
  },
  {
   "cell_type": "markdown",
   "id": "e89a1bcb",
   "metadata": {},
   "source": [
    "## III-2. Classification"
   ]
  },
  {
   "cell_type": "markdown",
   "id": "e89c569d",
   "metadata": {},
   "source": [
    "Nous souhaitons à travers ce projet prédire le gagnant d'un grand prix de F1. Nous pouvons alors procéder par classification en considérant que le gagnant est de la catégorie 1 et le perdant de la catégorie 0.\n",
    "\n",
    "Pour évaluer la performance de notre modèle, nous avons décidé d'entraîner notre modèle sur les années précédants 2020 et de mesurer la performance de notre modèle comme le pourcentage de course \"bien\" prédite en 2020. Il existe d'autres approches mais nous avons choisie cette dernière car elle permet d'évaluer intuitivement la pertinence ou non du modèle sur une année récente. "
   ]
  },
  {
   "cell_type": "code",
   "execution_count": 98,
   "metadata": {},
   "outputs": [],
   "source": [
    "# On initialise notre dictionnaire qui va nous permettre de comparer nos modèles \n",
    "comparison_dict ={'model':[],\n",
    "                  'params': [],\n",
    "                  'score': []}"
   ]
  },
  {
   "cell_type": "code",
   "execution_count": 99,
   "id": "c252ba5b",
   "metadata": {},
   "outputs": [
    {
     "ename": "ValueError",
     "evalue": "Found array with 0 sample(s) (shape=(0, 16)) while a minimum of 1 is required by StandardScaler.",
     "output_type": "error",
     "traceback": [
      "\u001b[0;31m---------------------------------------------------------------------------\u001b[0m",
      "\u001b[0;31mValueError\u001b[0m                                Traceback (most recent call last)",
      "\u001b[0;32m<ipython-input-99-0cbc910fd281>\u001b[0m in \u001b[0;36m<module>\u001b[0;34m\u001b[0m\n\u001b[1;32m     10\u001b[0m \u001b[0;34m\u001b[0m\u001b[0m\n\u001b[1;32m     11\u001b[0m \u001b[0mscaler\u001b[0m \u001b[0;34m=\u001b[0m \u001b[0mStandardScaler\u001b[0m\u001b[0;34m(\u001b[0m\u001b[0;34m)\u001b[0m\u001b[0;34m\u001b[0m\u001b[0;34m\u001b[0m\u001b[0m\n\u001b[0;32m---> 12\u001b[0;31m \u001b[0mX_train\u001b[0m \u001b[0;34m=\u001b[0m \u001b[0mpd\u001b[0m\u001b[0;34m.\u001b[0m\u001b[0mDataFrame\u001b[0m\u001b[0;34m(\u001b[0m\u001b[0mscaler\u001b[0m\u001b[0;34m.\u001b[0m\u001b[0mfit_transform\u001b[0m\u001b[0;34m(\u001b[0m\u001b[0mX_train\u001b[0m\u001b[0;34m)\u001b[0m\u001b[0;34m,\u001b[0m \u001b[0mcolumns\u001b[0m \u001b[0;34m=\u001b[0m \u001b[0mX_train\u001b[0m\u001b[0;34m.\u001b[0m\u001b[0mcolumns\u001b[0m\u001b[0;34m)\u001b[0m \u001b[0;31m# process pour préparer les données\u001b[0m\u001b[0;34m\u001b[0m\u001b[0;34m\u001b[0m\u001b[0m\n\u001b[0m",
      "\u001b[0;32m~/opt/anaconda3/lib/python3.8/site-packages/sklearn/base.py\u001b[0m in \u001b[0;36mfit_transform\u001b[0;34m(self, X, y, **fit_params)\u001b[0m\n\u001b[1;32m    697\u001b[0m         \u001b[0;32mif\u001b[0m \u001b[0my\u001b[0m \u001b[0;32mis\u001b[0m \u001b[0;32mNone\u001b[0m\u001b[0;34m:\u001b[0m\u001b[0;34m\u001b[0m\u001b[0;34m\u001b[0m\u001b[0m\n\u001b[1;32m    698\u001b[0m             \u001b[0;31m# fit method of arity 1 (unsupervised transformation)\u001b[0m\u001b[0;34m\u001b[0m\u001b[0;34m\u001b[0m\u001b[0;34m\u001b[0m\u001b[0m\n\u001b[0;32m--> 699\u001b[0;31m             \u001b[0;32mreturn\u001b[0m \u001b[0mself\u001b[0m\u001b[0;34m.\u001b[0m\u001b[0mfit\u001b[0m\u001b[0;34m(\u001b[0m\u001b[0mX\u001b[0m\u001b[0;34m,\u001b[0m \u001b[0;34m**\u001b[0m\u001b[0mfit_params\u001b[0m\u001b[0;34m)\u001b[0m\u001b[0;34m.\u001b[0m\u001b[0mtransform\u001b[0m\u001b[0;34m(\u001b[0m\u001b[0mX\u001b[0m\u001b[0;34m)\u001b[0m\u001b[0;34m\u001b[0m\u001b[0;34m\u001b[0m\u001b[0m\n\u001b[0m\u001b[1;32m    700\u001b[0m         \u001b[0;32melse\u001b[0m\u001b[0;34m:\u001b[0m\u001b[0;34m\u001b[0m\u001b[0;34m\u001b[0m\u001b[0m\n\u001b[1;32m    701\u001b[0m             \u001b[0;31m# fit method of arity 2 (supervised transformation)\u001b[0m\u001b[0;34m\u001b[0m\u001b[0;34m\u001b[0m\u001b[0;34m\u001b[0m\u001b[0m\n",
      "\u001b[0;32m~/opt/anaconda3/lib/python3.8/site-packages/sklearn/preprocessing/_data.py\u001b[0m in \u001b[0;36mfit\u001b[0;34m(self, X, y, sample_weight)\u001b[0m\n\u001b[1;32m    728\u001b[0m         \u001b[0;31m# Reset internal state before fitting\u001b[0m\u001b[0;34m\u001b[0m\u001b[0;34m\u001b[0m\u001b[0;34m\u001b[0m\u001b[0m\n\u001b[1;32m    729\u001b[0m         \u001b[0mself\u001b[0m\u001b[0;34m.\u001b[0m\u001b[0m_reset\u001b[0m\u001b[0;34m(\u001b[0m\u001b[0;34m)\u001b[0m\u001b[0;34m\u001b[0m\u001b[0;34m\u001b[0m\u001b[0m\n\u001b[0;32m--> 730\u001b[0;31m         \u001b[0;32mreturn\u001b[0m \u001b[0mself\u001b[0m\u001b[0;34m.\u001b[0m\u001b[0mpartial_fit\u001b[0m\u001b[0;34m(\u001b[0m\u001b[0mX\u001b[0m\u001b[0;34m,\u001b[0m \u001b[0my\u001b[0m\u001b[0;34m,\u001b[0m \u001b[0msample_weight\u001b[0m\u001b[0;34m)\u001b[0m\u001b[0;34m\u001b[0m\u001b[0;34m\u001b[0m\u001b[0m\n\u001b[0m\u001b[1;32m    731\u001b[0m \u001b[0;34m\u001b[0m\u001b[0m\n\u001b[1;32m    732\u001b[0m     \u001b[0;32mdef\u001b[0m \u001b[0mpartial_fit\u001b[0m\u001b[0;34m(\u001b[0m\u001b[0mself\u001b[0m\u001b[0;34m,\u001b[0m \u001b[0mX\u001b[0m\u001b[0;34m,\u001b[0m \u001b[0my\u001b[0m\u001b[0;34m=\u001b[0m\u001b[0;32mNone\u001b[0m\u001b[0;34m,\u001b[0m \u001b[0msample_weight\u001b[0m\u001b[0;34m=\u001b[0m\u001b[0;32mNone\u001b[0m\u001b[0;34m)\u001b[0m\u001b[0;34m:\u001b[0m\u001b[0;34m\u001b[0m\u001b[0;34m\u001b[0m\u001b[0m\n",
      "\u001b[0;32m~/opt/anaconda3/lib/python3.8/site-packages/sklearn/preprocessing/_data.py\u001b[0m in \u001b[0;36mpartial_fit\u001b[0;34m(self, X, y, sample_weight)\u001b[0m\n\u001b[1;32m    764\u001b[0m         \"\"\"\n\u001b[1;32m    765\u001b[0m         \u001b[0mfirst_call\u001b[0m \u001b[0;34m=\u001b[0m \u001b[0;32mnot\u001b[0m \u001b[0mhasattr\u001b[0m\u001b[0;34m(\u001b[0m\u001b[0mself\u001b[0m\u001b[0;34m,\u001b[0m \u001b[0;34m\"n_samples_seen_\"\u001b[0m\u001b[0;34m)\u001b[0m\u001b[0;34m\u001b[0m\u001b[0;34m\u001b[0m\u001b[0m\n\u001b[0;32m--> 766\u001b[0;31m         X = self._validate_data(X, accept_sparse=('csr', 'csc'),\n\u001b[0m\u001b[1;32m    767\u001b[0m                                 \u001b[0mestimator\u001b[0m\u001b[0;34m=\u001b[0m\u001b[0mself\u001b[0m\u001b[0;34m,\u001b[0m \u001b[0mdtype\u001b[0m\u001b[0;34m=\u001b[0m\u001b[0mFLOAT_DTYPES\u001b[0m\u001b[0;34m,\u001b[0m\u001b[0;34m\u001b[0m\u001b[0;34m\u001b[0m\u001b[0m\n\u001b[1;32m    768\u001b[0m                                 force_all_finite='allow-nan', reset=first_call)\n",
      "\u001b[0;32m~/opt/anaconda3/lib/python3.8/site-packages/sklearn/base.py\u001b[0m in \u001b[0;36m_validate_data\u001b[0;34m(self, X, y, reset, validate_separately, **check_params)\u001b[0m\n\u001b[1;32m    419\u001b[0m             \u001b[0mout\u001b[0m \u001b[0;34m=\u001b[0m \u001b[0mX\u001b[0m\u001b[0;34m\u001b[0m\u001b[0;34m\u001b[0m\u001b[0m\n\u001b[1;32m    420\u001b[0m         \u001b[0;32melif\u001b[0m \u001b[0misinstance\u001b[0m\u001b[0;34m(\u001b[0m\u001b[0my\u001b[0m\u001b[0;34m,\u001b[0m \u001b[0mstr\u001b[0m\u001b[0;34m)\u001b[0m \u001b[0;32mand\u001b[0m \u001b[0my\u001b[0m \u001b[0;34m==\u001b[0m \u001b[0;34m'no_validation'\u001b[0m\u001b[0;34m:\u001b[0m\u001b[0;34m\u001b[0m\u001b[0;34m\u001b[0m\u001b[0m\n\u001b[0;32m--> 421\u001b[0;31m             \u001b[0mX\u001b[0m \u001b[0;34m=\u001b[0m \u001b[0mcheck_array\u001b[0m\u001b[0;34m(\u001b[0m\u001b[0mX\u001b[0m\u001b[0;34m,\u001b[0m \u001b[0;34m**\u001b[0m\u001b[0mcheck_params\u001b[0m\u001b[0;34m)\u001b[0m\u001b[0;34m\u001b[0m\u001b[0;34m\u001b[0m\u001b[0m\n\u001b[0m\u001b[1;32m    422\u001b[0m             \u001b[0mout\u001b[0m \u001b[0;34m=\u001b[0m \u001b[0mX\u001b[0m\u001b[0;34m\u001b[0m\u001b[0;34m\u001b[0m\u001b[0m\n\u001b[1;32m    423\u001b[0m         \u001b[0;32melse\u001b[0m\u001b[0;34m:\u001b[0m\u001b[0;34m\u001b[0m\u001b[0;34m\u001b[0m\u001b[0m\n",
      "\u001b[0;32m~/opt/anaconda3/lib/python3.8/site-packages/sklearn/utils/validation.py\u001b[0m in \u001b[0;36minner_f\u001b[0;34m(*args, **kwargs)\u001b[0m\n\u001b[1;32m     61\u001b[0m             \u001b[0mextra_args\u001b[0m \u001b[0;34m=\u001b[0m \u001b[0mlen\u001b[0m\u001b[0;34m(\u001b[0m\u001b[0margs\u001b[0m\u001b[0;34m)\u001b[0m \u001b[0;34m-\u001b[0m \u001b[0mlen\u001b[0m\u001b[0;34m(\u001b[0m\u001b[0mall_args\u001b[0m\u001b[0;34m)\u001b[0m\u001b[0;34m\u001b[0m\u001b[0;34m\u001b[0m\u001b[0m\n\u001b[1;32m     62\u001b[0m             \u001b[0;32mif\u001b[0m \u001b[0mextra_args\u001b[0m \u001b[0;34m<=\u001b[0m \u001b[0;36m0\u001b[0m\u001b[0;34m:\u001b[0m\u001b[0;34m\u001b[0m\u001b[0;34m\u001b[0m\u001b[0m\n\u001b[0;32m---> 63\u001b[0;31m                 \u001b[0;32mreturn\u001b[0m \u001b[0mf\u001b[0m\u001b[0;34m(\u001b[0m\u001b[0;34m*\u001b[0m\u001b[0margs\u001b[0m\u001b[0;34m,\u001b[0m \u001b[0;34m**\u001b[0m\u001b[0mkwargs\u001b[0m\u001b[0;34m)\u001b[0m\u001b[0;34m\u001b[0m\u001b[0;34m\u001b[0m\u001b[0m\n\u001b[0m\u001b[1;32m     64\u001b[0m \u001b[0;34m\u001b[0m\u001b[0m\n\u001b[1;32m     65\u001b[0m             \u001b[0;31m# extra_args > 0\u001b[0m\u001b[0;34m\u001b[0m\u001b[0;34m\u001b[0m\u001b[0;34m\u001b[0m\u001b[0m\n",
      "\u001b[0;32m~/opt/anaconda3/lib/python3.8/site-packages/sklearn/utils/validation.py\u001b[0m in \u001b[0;36mcheck_array\u001b[0;34m(array, accept_sparse, accept_large_sparse, dtype, order, copy, force_all_finite, ensure_2d, allow_nd, ensure_min_samples, ensure_min_features, estimator)\u001b[0m\n\u001b[1;32m    667\u001b[0m         \u001b[0mn_samples\u001b[0m \u001b[0;34m=\u001b[0m \u001b[0m_num_samples\u001b[0m\u001b[0;34m(\u001b[0m\u001b[0marray\u001b[0m\u001b[0;34m)\u001b[0m\u001b[0;34m\u001b[0m\u001b[0;34m\u001b[0m\u001b[0m\n\u001b[1;32m    668\u001b[0m         \u001b[0;32mif\u001b[0m \u001b[0mn_samples\u001b[0m \u001b[0;34m<\u001b[0m \u001b[0mensure_min_samples\u001b[0m\u001b[0;34m:\u001b[0m\u001b[0;34m\u001b[0m\u001b[0;34m\u001b[0m\u001b[0m\n\u001b[0;32m--> 669\u001b[0;31m             raise ValueError(\"Found array with %d sample(s) (shape=%s) while a\"\n\u001b[0m\u001b[1;32m    670\u001b[0m                              \u001b[0;34m\" minimum of %d is required%s.\"\u001b[0m\u001b[0;34m\u001b[0m\u001b[0;34m\u001b[0m\u001b[0m\n\u001b[1;32m    671\u001b[0m                              % (n_samples, array.shape, ensure_min_samples,\n",
      "\u001b[0;31mValueError\u001b[0m: Found array with 0 sample(s) (shape=(0, 16)) while a minimum of 1 is required by StandardScaler."
     ]
    }
   ],
   "source": [
    "df = final_merged.copy()\n",
    "\n",
    "df[\"podium\"] = df[\"podium\"].map(lambda x: 1 if x == 1 else 0) # on divise en 2 classes les gagnants et les perdants\n",
    "\n",
    "# On prépare le dataset d'entraînement\n",
    "\n",
    "train = df[df[\"season\"]<2020] # données d'entraînement\n",
    "X_train = train.drop(['driver', 'podium'], axis = 1) # les variables explicatives\n",
    "y_train = train[\"podium\"] # la target\n",
    "\n",
    "scaler = StandardScaler()\n",
    "X_train = pd.DataFrame(scaler.fit_transform(X_train), columns = X_train.columns) # process pour préparer les données "
   ]
  },
  {
   "cell_type": "markdown",
   "id": "67f9f6ac",
   "metadata": {},
   "source": [
    "On implémente une fonction qui va nous retourner la performance de notre modèle, c'est à dire : le poucentage de course \"bien\" prédite en 2020"
   ]
  },
  {
   "cell_type": "code",
   "execution_count": 78,
   "id": "f1636719",
   "metadata": {},
   "outputs": [],
   "source": [
    "# On implémente une fonction qui va nous retourner la performance de notre modèle, c'est à dire\n",
    "# le poucentage de course \"bien\" prédite en 2020\n",
    "\n",
    "def score_classification(model,xvar):\n",
    "    score = 0\n",
    "    for circuit in df[df.season == 2020]['round'].unique():\n",
    "\n",
    "        test = df[(df.season == 2020) & (df['round'] == circuit)]\n",
    "        X_test = test[\"xvar\"]\n",
    "        y_test = test['podium']\n",
    "\n",
    "        #scaling\n",
    "        X_test = pd.DataFrame(scaler.transform(X_test), columns = X_test.columns)\n",
    "\n",
    "        # make predictions\n",
    "        prediction_df = pd.DataFrame(model.predict_proba(X_test), columns = ['proba_0', 'proba_1'])\n",
    "        prediction_df['actual'] = y_test.reset_index(drop = True)\n",
    "        prediction_df.sort_values('proba_1', ascending = False, inplace = True)\n",
    "        prediction_df.reset_index(inplace = True, drop = True)\n",
    "        prediction_df['predicted'] = prediction_df.index\n",
    "        prediction_df['predicted'] = prediction_df['predicted'].map(lambda x: 1 if x == 0 else 0)\n",
    "\n",
    "        score += precision_score(prediction_df.actual, prediction_df.predicted)\n",
    "\n",
    "    model_score = score / df[df.season == 2020]['round'].unique().max()\n",
    "    return model_score"
   ]
  },
  {
   "cell_type": "markdown",
   "id": "9ab92fc3",
   "metadata": {},
   "source": [
    "###  SVM Classifier"
   ]
  },
  {
   "cell_type": "markdown",
   "id": "007f204c",
   "metadata": {},
   "source": [
    "Nous avons choisi d'utiliser le modèle SVM pour la classification car ce dernier est très courant pour résoudre des problèmes de classifications. \n",
    "\n",
    "Nous allons pour trouver les paramètres du modèles permettant d'avoir le meilleur score, tester différentes combinaisons de paramètres. Ce code est assez lent à faire tourner. "
   ]
  },
  {
   "cell_type": "code",
   "execution_count": 8,
   "id": "b166b74f",
   "metadata": {},
   "outputs": [],
   "source": [
    "params={'gamma': np.logspace(-4, -1, 20),\n",
    "        'C': np.logspace(-2, 1, 20),\n",
    "        'kernel': ['linear', 'poly', 'rbf', 'sigmoid']} \n",
    "\n",
    "for gamma in params['gamma']:\n",
    "    for c in params['C']:\n",
    "        for kernel in params['kernel']:\n",
    "            model_params = (gamma, c, kernel)\n",
    "            model = svm.SVC(probability = True, gamma = gamma, C = c, kernel = kernel )\n",
    "            model.fit(X_train, y_train)\n",
    "            \n",
    "            model_score = score_classification(model,train.columns.drop([\"driver\",\"podium\"])\n",
    "            \n",
    "            # On stocke nos résultats dans ce dictionnaire afin de les comparer par la suite\n",
    "                                               \n",
    "            comparison_dict['model'].append('svm_classifier') \n",
    "            comparison_dict['params'].append(model_params)\n",
    "            comparison_dict['score'].append(model_score)"
   ]
  },
  {
   "cell_type": "markdown",
   "id": "5ea25f3e",
   "metadata": {},
   "source": [
    "## III-3. Régression"
   ]
  },
  {
   "cell_type": "markdown",
   "id": "5c988eaf",
   "metadata": {},
   "source": [
    "Nous pouvons également considérer notre problème comme un problème de regression. En effet, le classsement de la course peut être vu comme une variables continue, le vainqueur correspondra alors à cela dont la prédication de classement sera la plus basse. \n",
    "\n",
    "Afin de pouvoir comparer notre classfication à notre régression nous utilisons bien évidemment les mêmes données de test (2020) et le même indicateur de performance du modèle. "
   ]
  },
  {
   "cell_type": "code",
   "execution_count": 79,
   "id": "0d080d27",
   "metadata": {},
   "outputs": [
    {
     "ename": "ValueError",
     "evalue": "could not convert string to float: '1:29.431'",
     "output_type": "error",
     "traceback": [
      "\u001b[0;31m---------------------------------------------------------------------------\u001b[0m",
      "\u001b[0;31mValueError\u001b[0m                                Traceback (most recent call last)",
      "\u001b[0;32m<ipython-input-79-d68acc2223a1>\u001b[0m in \u001b[0;36m<module>\u001b[0;34m\u001b[0m\n\u001b[1;32m      8\u001b[0m \u001b[0;34m\u001b[0m\u001b[0m\n\u001b[1;32m      9\u001b[0m \u001b[0mscaler\u001b[0m \u001b[0;34m=\u001b[0m \u001b[0mStandardScaler\u001b[0m\u001b[0;34m(\u001b[0m\u001b[0;34m)\u001b[0m\u001b[0;34m\u001b[0m\u001b[0;34m\u001b[0m\u001b[0m\n\u001b[0;32m---> 10\u001b[0;31m \u001b[0mX_train\u001b[0m \u001b[0;34m=\u001b[0m \u001b[0mpd\u001b[0m\u001b[0;34m.\u001b[0m\u001b[0mDataFrame\u001b[0m\u001b[0;34m(\u001b[0m\u001b[0mscaler\u001b[0m\u001b[0;34m.\u001b[0m\u001b[0mfit_transform\u001b[0m\u001b[0;34m(\u001b[0m\u001b[0mX_train\u001b[0m\u001b[0;34m)\u001b[0m\u001b[0;34m,\u001b[0m \u001b[0mcolumns\u001b[0m \u001b[0;34m=\u001b[0m \u001b[0mX_train\u001b[0m\u001b[0;34m.\u001b[0m\u001b[0mcolumns\u001b[0m\u001b[0;34m)\u001b[0m\u001b[0;34m\u001b[0m\u001b[0;34m\u001b[0m\u001b[0m\n\u001b[0m",
      "\u001b[0;32m~/opt/anaconda3/lib/python3.8/site-packages/sklearn/base.py\u001b[0m in \u001b[0;36mfit_transform\u001b[0;34m(self, X, y, **fit_params)\u001b[0m\n\u001b[1;32m    697\u001b[0m         \u001b[0;32mif\u001b[0m \u001b[0my\u001b[0m \u001b[0;32mis\u001b[0m \u001b[0;32mNone\u001b[0m\u001b[0;34m:\u001b[0m\u001b[0;34m\u001b[0m\u001b[0;34m\u001b[0m\u001b[0m\n\u001b[1;32m    698\u001b[0m             \u001b[0;31m# fit method of arity 1 (unsupervised transformation)\u001b[0m\u001b[0;34m\u001b[0m\u001b[0;34m\u001b[0m\u001b[0;34m\u001b[0m\u001b[0m\n\u001b[0;32m--> 699\u001b[0;31m             \u001b[0;32mreturn\u001b[0m \u001b[0mself\u001b[0m\u001b[0;34m.\u001b[0m\u001b[0mfit\u001b[0m\u001b[0;34m(\u001b[0m\u001b[0mX\u001b[0m\u001b[0;34m,\u001b[0m \u001b[0;34m**\u001b[0m\u001b[0mfit_params\u001b[0m\u001b[0;34m)\u001b[0m\u001b[0;34m.\u001b[0m\u001b[0mtransform\u001b[0m\u001b[0;34m(\u001b[0m\u001b[0mX\u001b[0m\u001b[0;34m)\u001b[0m\u001b[0;34m\u001b[0m\u001b[0;34m\u001b[0m\u001b[0m\n\u001b[0m\u001b[1;32m    700\u001b[0m         \u001b[0;32melse\u001b[0m\u001b[0;34m:\u001b[0m\u001b[0;34m\u001b[0m\u001b[0;34m\u001b[0m\u001b[0m\n\u001b[1;32m    701\u001b[0m             \u001b[0;31m# fit method of arity 2 (supervised transformation)\u001b[0m\u001b[0;34m\u001b[0m\u001b[0;34m\u001b[0m\u001b[0;34m\u001b[0m\u001b[0m\n",
      "\u001b[0;32m~/opt/anaconda3/lib/python3.8/site-packages/sklearn/preprocessing/_data.py\u001b[0m in \u001b[0;36mfit\u001b[0;34m(self, X, y, sample_weight)\u001b[0m\n\u001b[1;32m    728\u001b[0m         \u001b[0;31m# Reset internal state before fitting\u001b[0m\u001b[0;34m\u001b[0m\u001b[0;34m\u001b[0m\u001b[0;34m\u001b[0m\u001b[0m\n\u001b[1;32m    729\u001b[0m         \u001b[0mself\u001b[0m\u001b[0;34m.\u001b[0m\u001b[0m_reset\u001b[0m\u001b[0;34m(\u001b[0m\u001b[0;34m)\u001b[0m\u001b[0;34m\u001b[0m\u001b[0;34m\u001b[0m\u001b[0m\n\u001b[0;32m--> 730\u001b[0;31m         \u001b[0;32mreturn\u001b[0m \u001b[0mself\u001b[0m\u001b[0;34m.\u001b[0m\u001b[0mpartial_fit\u001b[0m\u001b[0;34m(\u001b[0m\u001b[0mX\u001b[0m\u001b[0;34m,\u001b[0m \u001b[0my\u001b[0m\u001b[0;34m,\u001b[0m \u001b[0msample_weight\u001b[0m\u001b[0;34m)\u001b[0m\u001b[0;34m\u001b[0m\u001b[0;34m\u001b[0m\u001b[0m\n\u001b[0m\u001b[1;32m    731\u001b[0m \u001b[0;34m\u001b[0m\u001b[0m\n\u001b[1;32m    732\u001b[0m     \u001b[0;32mdef\u001b[0m \u001b[0mpartial_fit\u001b[0m\u001b[0;34m(\u001b[0m\u001b[0mself\u001b[0m\u001b[0;34m,\u001b[0m \u001b[0mX\u001b[0m\u001b[0;34m,\u001b[0m \u001b[0my\u001b[0m\u001b[0;34m=\u001b[0m\u001b[0;32mNone\u001b[0m\u001b[0;34m,\u001b[0m \u001b[0msample_weight\u001b[0m\u001b[0;34m=\u001b[0m\u001b[0;32mNone\u001b[0m\u001b[0;34m)\u001b[0m\u001b[0;34m:\u001b[0m\u001b[0;34m\u001b[0m\u001b[0;34m\u001b[0m\u001b[0m\n",
      "\u001b[0;32m~/opt/anaconda3/lib/python3.8/site-packages/sklearn/preprocessing/_data.py\u001b[0m in \u001b[0;36mpartial_fit\u001b[0;34m(self, X, y, sample_weight)\u001b[0m\n\u001b[1;32m    764\u001b[0m         \"\"\"\n\u001b[1;32m    765\u001b[0m         \u001b[0mfirst_call\u001b[0m \u001b[0;34m=\u001b[0m \u001b[0;32mnot\u001b[0m \u001b[0mhasattr\u001b[0m\u001b[0;34m(\u001b[0m\u001b[0mself\u001b[0m\u001b[0;34m,\u001b[0m \u001b[0;34m\"n_samples_seen_\"\u001b[0m\u001b[0;34m)\u001b[0m\u001b[0;34m\u001b[0m\u001b[0;34m\u001b[0m\u001b[0m\n\u001b[0;32m--> 766\u001b[0;31m         X = self._validate_data(X, accept_sparse=('csr', 'csc'),\n\u001b[0m\u001b[1;32m    767\u001b[0m                                 \u001b[0mestimator\u001b[0m\u001b[0;34m=\u001b[0m\u001b[0mself\u001b[0m\u001b[0;34m,\u001b[0m \u001b[0mdtype\u001b[0m\u001b[0;34m=\u001b[0m\u001b[0mFLOAT_DTYPES\u001b[0m\u001b[0;34m,\u001b[0m\u001b[0;34m\u001b[0m\u001b[0;34m\u001b[0m\u001b[0m\n\u001b[1;32m    768\u001b[0m                                 force_all_finite='allow-nan', reset=first_call)\n",
      "\u001b[0;32m~/opt/anaconda3/lib/python3.8/site-packages/sklearn/base.py\u001b[0m in \u001b[0;36m_validate_data\u001b[0;34m(self, X, y, reset, validate_separately, **check_params)\u001b[0m\n\u001b[1;32m    419\u001b[0m             \u001b[0mout\u001b[0m \u001b[0;34m=\u001b[0m \u001b[0mX\u001b[0m\u001b[0;34m\u001b[0m\u001b[0;34m\u001b[0m\u001b[0m\n\u001b[1;32m    420\u001b[0m         \u001b[0;32melif\u001b[0m \u001b[0misinstance\u001b[0m\u001b[0;34m(\u001b[0m\u001b[0my\u001b[0m\u001b[0;34m,\u001b[0m \u001b[0mstr\u001b[0m\u001b[0;34m)\u001b[0m \u001b[0;32mand\u001b[0m \u001b[0my\u001b[0m \u001b[0;34m==\u001b[0m \u001b[0;34m'no_validation'\u001b[0m\u001b[0;34m:\u001b[0m\u001b[0;34m\u001b[0m\u001b[0;34m\u001b[0m\u001b[0m\n\u001b[0;32m--> 421\u001b[0;31m             \u001b[0mX\u001b[0m \u001b[0;34m=\u001b[0m \u001b[0mcheck_array\u001b[0m\u001b[0;34m(\u001b[0m\u001b[0mX\u001b[0m\u001b[0;34m,\u001b[0m \u001b[0;34m**\u001b[0m\u001b[0mcheck_params\u001b[0m\u001b[0;34m)\u001b[0m\u001b[0;34m\u001b[0m\u001b[0;34m\u001b[0m\u001b[0m\n\u001b[0m\u001b[1;32m    422\u001b[0m             \u001b[0mout\u001b[0m \u001b[0;34m=\u001b[0m \u001b[0mX\u001b[0m\u001b[0;34m\u001b[0m\u001b[0;34m\u001b[0m\u001b[0m\n\u001b[1;32m    423\u001b[0m         \u001b[0;32melse\u001b[0m\u001b[0;34m:\u001b[0m\u001b[0;34m\u001b[0m\u001b[0;34m\u001b[0m\u001b[0m\n",
      "\u001b[0;32m~/opt/anaconda3/lib/python3.8/site-packages/sklearn/utils/validation.py\u001b[0m in \u001b[0;36minner_f\u001b[0;34m(*args, **kwargs)\u001b[0m\n\u001b[1;32m     61\u001b[0m             \u001b[0mextra_args\u001b[0m \u001b[0;34m=\u001b[0m \u001b[0mlen\u001b[0m\u001b[0;34m(\u001b[0m\u001b[0margs\u001b[0m\u001b[0;34m)\u001b[0m \u001b[0;34m-\u001b[0m \u001b[0mlen\u001b[0m\u001b[0;34m(\u001b[0m\u001b[0mall_args\u001b[0m\u001b[0;34m)\u001b[0m\u001b[0;34m\u001b[0m\u001b[0;34m\u001b[0m\u001b[0m\n\u001b[1;32m     62\u001b[0m             \u001b[0;32mif\u001b[0m \u001b[0mextra_args\u001b[0m \u001b[0;34m<=\u001b[0m \u001b[0;36m0\u001b[0m\u001b[0;34m:\u001b[0m\u001b[0;34m\u001b[0m\u001b[0;34m\u001b[0m\u001b[0m\n\u001b[0;32m---> 63\u001b[0;31m                 \u001b[0;32mreturn\u001b[0m \u001b[0mf\u001b[0m\u001b[0;34m(\u001b[0m\u001b[0;34m*\u001b[0m\u001b[0margs\u001b[0m\u001b[0;34m,\u001b[0m \u001b[0;34m**\u001b[0m\u001b[0mkwargs\u001b[0m\u001b[0;34m)\u001b[0m\u001b[0;34m\u001b[0m\u001b[0;34m\u001b[0m\u001b[0m\n\u001b[0m\u001b[1;32m     64\u001b[0m \u001b[0;34m\u001b[0m\u001b[0m\n\u001b[1;32m     65\u001b[0m             \u001b[0;31m# extra_args > 0\u001b[0m\u001b[0;34m\u001b[0m\u001b[0;34m\u001b[0m\u001b[0;34m\u001b[0m\u001b[0m\n",
      "\u001b[0;32m~/opt/anaconda3/lib/python3.8/site-packages/sklearn/utils/validation.py\u001b[0m in \u001b[0;36mcheck_array\u001b[0;34m(array, accept_sparse, accept_large_sparse, dtype, order, copy, force_all_finite, ensure_2d, allow_nd, ensure_min_samples, ensure_min_features, estimator)\u001b[0m\n\u001b[1;32m    614\u001b[0m                     \u001b[0marray\u001b[0m \u001b[0;34m=\u001b[0m \u001b[0marray\u001b[0m\u001b[0;34m.\u001b[0m\u001b[0mastype\u001b[0m\u001b[0;34m(\u001b[0m\u001b[0mdtype\u001b[0m\u001b[0;34m,\u001b[0m \u001b[0mcasting\u001b[0m\u001b[0;34m=\u001b[0m\u001b[0;34m\"unsafe\"\u001b[0m\u001b[0;34m,\u001b[0m \u001b[0mcopy\u001b[0m\u001b[0;34m=\u001b[0m\u001b[0;32mFalse\u001b[0m\u001b[0;34m)\u001b[0m\u001b[0;34m\u001b[0m\u001b[0;34m\u001b[0m\u001b[0m\n\u001b[1;32m    615\u001b[0m                 \u001b[0;32melse\u001b[0m\u001b[0;34m:\u001b[0m\u001b[0;34m\u001b[0m\u001b[0;34m\u001b[0m\u001b[0m\n\u001b[0;32m--> 616\u001b[0;31m                     \u001b[0marray\u001b[0m \u001b[0;34m=\u001b[0m \u001b[0mnp\u001b[0m\u001b[0;34m.\u001b[0m\u001b[0masarray\u001b[0m\u001b[0;34m(\u001b[0m\u001b[0marray\u001b[0m\u001b[0;34m,\u001b[0m \u001b[0morder\u001b[0m\u001b[0;34m=\u001b[0m\u001b[0morder\u001b[0m\u001b[0;34m,\u001b[0m \u001b[0mdtype\u001b[0m\u001b[0;34m=\u001b[0m\u001b[0mdtype\u001b[0m\u001b[0;34m)\u001b[0m\u001b[0;34m\u001b[0m\u001b[0;34m\u001b[0m\u001b[0m\n\u001b[0m\u001b[1;32m    617\u001b[0m             \u001b[0;32mexcept\u001b[0m \u001b[0mComplexWarning\u001b[0m \u001b[0;32mas\u001b[0m \u001b[0mcomplex_warning\u001b[0m\u001b[0;34m:\u001b[0m\u001b[0;34m\u001b[0m\u001b[0;34m\u001b[0m\u001b[0m\n\u001b[1;32m    618\u001b[0m                 raise ValueError(\"Complex data not supported\\n\"\n",
      "\u001b[0;32m~/opt/anaconda3/lib/python3.8/site-packages/pandas/core/generic.py\u001b[0m in \u001b[0;36m__array__\u001b[0;34m(self, dtype)\u001b[0m\n\u001b[1;32m   1991\u001b[0m \u001b[0;34m\u001b[0m\u001b[0m\n\u001b[1;32m   1992\u001b[0m     \u001b[0;32mdef\u001b[0m \u001b[0m__array__\u001b[0m\u001b[0;34m(\u001b[0m\u001b[0mself\u001b[0m\u001b[0;34m,\u001b[0m \u001b[0mdtype\u001b[0m\u001b[0;34m:\u001b[0m \u001b[0mNpDtype\u001b[0m \u001b[0;34m|\u001b[0m \u001b[0;32mNone\u001b[0m \u001b[0;34m=\u001b[0m \u001b[0;32mNone\u001b[0m\u001b[0;34m)\u001b[0m \u001b[0;34m->\u001b[0m \u001b[0mnp\u001b[0m\u001b[0;34m.\u001b[0m\u001b[0mndarray\u001b[0m\u001b[0;34m:\u001b[0m\u001b[0;34m\u001b[0m\u001b[0;34m\u001b[0m\u001b[0m\n\u001b[0;32m-> 1993\u001b[0;31m         \u001b[0;32mreturn\u001b[0m \u001b[0mnp\u001b[0m\u001b[0;34m.\u001b[0m\u001b[0masarray\u001b[0m\u001b[0;34m(\u001b[0m\u001b[0mself\u001b[0m\u001b[0;34m.\u001b[0m\u001b[0m_values\u001b[0m\u001b[0;34m,\u001b[0m \u001b[0mdtype\u001b[0m\u001b[0;34m=\u001b[0m\u001b[0mdtype\u001b[0m\u001b[0;34m)\u001b[0m\u001b[0;34m\u001b[0m\u001b[0;34m\u001b[0m\u001b[0m\n\u001b[0m\u001b[1;32m   1994\u001b[0m \u001b[0;34m\u001b[0m\u001b[0m\n\u001b[1;32m   1995\u001b[0m     def __array_wrap__(\n",
      "\u001b[0;31mValueError\u001b[0m: could not convert string to float: '1:29.431'"
     ]
    }
   ],
   "source": [
    "# On prépare notre dataset d'entraînement\n",
    "\n",
    "df = final_merged.copy()\n",
    "\n",
    "train = df[df.season<2020]\n",
    "X_train = train.drop(['driver', 'podium'], axis = 1)\n",
    "y_train = train.podium\n",
    "\n",
    "scaler = StandardScaler()\n",
    "X_train = pd.DataFrame(scaler.fit_transform(X_train), columns = X_train.columns)"
   ]
  },
  {
   "cell_type": "markdown",
   "id": "8733caf7",
   "metadata": {},
   "source": [
    "On implémente une fonction qui va nous retourner la performance de notre modèle, c'est à dire : le poucentage de courses \"bien\" prédite en 2020"
   ]
  },
  {
   "cell_type": "code",
   "execution_count": 70,
   "id": "138466e4",
   "metadata": {},
   "outputs": [],
   "source": [
    "# la fonction score: \n",
    "\n",
    "def score_regression(model,xvar):\n",
    "    score=0\n",
    "    les_circuits=df[df['season']==2020][\"round\"].unique()\n",
    "    for circuit in les_circuits:\n",
    "        test=df[(df['season']==2020) & (df['round']==circuit)]\n",
    "        X_test=test[xvar]\n",
    "        y_test=test[\"podium\"]\n",
    "        \n",
    "        X_test = pd.DataFrame(scaler.transform(X_test), columns = X_test.columns)\n",
    "        \n",
    "        #On fait les prédictions\n",
    "        \n",
    "        prediction_df = pd.DataFrame(model.predict(X_test), columns = ['results'])\n",
    "        prediction_df['podium'] = y_test.reset_index(drop = True)\n",
    "        prediction_df['actual'] = prediction_df['podium'].map(lambda x: 1 if x == 1 else 0)\n",
    "        prediction_df.sort_values('results', ascending = True, inplace = True)\n",
    "        prediction_df.reset_index(inplace = True, drop = True)\n",
    "        prediction_df['predicted'] = prediction_df.index\n",
    "        prediction_df['predicted'] = prediction_df.predicted.map(lambda x: 1 if x == 0 else 0)\n",
    "        \n",
    "        score += precision_score(prediction_df['actual'],prediction_df['predicted'])\n",
    "    \n",
    "    model_score = score / df[df.season == 2020]['round'].unique().max()\n",
    "    return model_score"
   ]
  },
  {
   "cell_type": "markdown",
   "id": "0bc28b09",
   "metadata": {},
   "source": [
    "### Régression linéaire"
   ]
  },
  {
   "cell_type": "markdown",
   "id": "bea79d03",
   "metadata": {},
   "source": [
    "Pour la regression nous avons choisi de réaliser une regression linéaire. En effet, c'est un modèle très standard, facile à interpréter et relativement rapide à faire tourner.\n",
    "\n",
    "Dans un premier temps nous allons réaliser la regression sur toutes les variables explicatives afin de stocker son score dns notre dictionnaire de comparaison. \n",
    "\n",
    "Dans un second temps, nous allons regresser sur différentes combinaisons de variables afin de comprendre quelles types de variables permettent le mieux de prédire le vainqueur de la course. "
   ]
  },
  {
   "cell_type": "code",
   "execution_count": 71,
   "id": "5f62df2f",
   "metadata": {},
   "outputs": [],
   "source": [
    "# Regression sur toutes les variables explicatives. \n",
    "model = LinearRegression(fit_intercept = 'True')\n",
    "model.fit(X_train, y_train)\n",
    "model_score=score_regression(model,train.columns.drop([\"driver\",\"podium\"]))\n",
    "comparison_dict['model'].append('regression_lineaire')\n",
    "comparison_dict['params'].append('True')\n",
    "comparison_dict['score'].append(model_score)"
   ]
  },
  {
   "cell_type": "raw",
   "id": "a46de674",
   "metadata": {},
   "source": [
    "On regresse maintenant sur différentes combinaisons de groupe de variables : \n",
    "- weather pour toutes les données météo\n",
    "- grid pour toute les données liées aux qualifs\n",
    "- circuit pour toutes les données liées aux circuits \n",
    "- constructor pour toutes les données liées aux constructeurs\n"
   ]
  },
  {
   "cell_type": "code",
   "execution_count": 94,
   "id": "2aff9849",
   "metadata": {},
   "outputs": [],
   "source": [
    "xvar_total=df.columns.drop([\"driver\",'podium'])\n",
    "xvar_series=pd.Series(xvar_total)\n",
    "\n",
    "xvar_weather=list(xvar_series[xvar_series.str.contains(\"weather\")])\n",
    "xvar_nationality=list(xvar_series[xvar_series.str.contains(\"nationality\")])\n",
    "xvar_circuit=list(xvar_series[xvar_series.str.contains(\"circuit\")])\n",
    "xvar_constructor=list(xvar_series[xvar_series.str.contains(\"constructor\")])\n",
    "xvar_grid=list([\"grid\",\"constructor_standings_pos\",\"driver_standings_pos\",\"qualifying_time\"])\n",
    "\n",
    "xvar_comparison={'xvar':[],'score':[]}\n",
    "\n",
    "xvar_combinaison=[xvar_weather+xvar_grid,xvar_grid+xvar_circuit,xvar_nationality+xvar_circuit,xvar_constructor+xvar_circuit,xvar_weather+xvar_grid+xvar_constructor]\n",
    "xvar_comparison['type_var']=[\"weather+grid\",\"grid+circuit\",'nationality+circuit','constructor+circuit',\"weather+grid+constructor\"]\n",
    "    \n",
    "for xvar in xvar_combinaison:\n",
    "    X_train_2 = train[xvar].copy()\n",
    "    y_train_2 = train[\"podium\"].copy()\n",
    "\n",
    "    scaler = StandardScaler()\n",
    "    X_train_2 = pd.DataFrame(scaler.fit_transform(X_train_2), columns = X_train_2.columns)\n",
    "    \n",
    "    model = LinearRegression(fit_intercept = 'True')\n",
    "    model.fit(X_train_2, y_train_2)\n",
    "    \n",
    "    model_score=score_regression(model,xvar)\n",
    "    \n",
    "    \n",
    "    xvar_comparison['xvar'].append(xvar)\n",
    "    xvar_comparison['score'].append(model_score)"
   ]
  },
  {
   "cell_type": "code",
   "execution_count": 95,
   "id": "686b1ea4",
   "metadata": {
    "scrolled": false
   },
   "outputs": [
    {
     "data": {
      "text/plain": [
       "<AxesSubplot:xlabel='type_var', ylabel='score'>"
      ]
     },
     "execution_count": 95,
     "metadata": {},
     "output_type": "execute_result"
    },
    {
     "data": {
      "image/png": "[encoded data removed]",
      "text/plain": [
       "<Figure size 1440x720 with 1 Axes>"
      ]
     },
     "metadata": {},
     "output_type": "display_data"
    }
   ],
   "source": [
    "# Tracé d'un graphique pour ocomparer le scores \n",
    "\n",
    "comparaison_xvar=pd.DataFrame(xvar_comparison)\n",
    "comparaison_xvar=comparaison_xvar.groupby(\"type_var\")[\"score\"].max().reset_index()\n",
    "_,(ax1) = plt.subplots(ncols=1)\n",
    "sns.barplot(data=comparaison_xvar, x='type_var', y='score', ax=ax1, palette=sns.color_palette(\"icefire\"))"
   ]
  },
  {
   "cell_type": "markdown",
   "id": "7148fb28",
   "metadata": {},
   "source": [
    "qq lignes pour analyser et essayer d'expliquer cela "
   ]
  },
  {
   "cell_type": "markdown",
   "id": "d5cce9ad",
   "metadata": {},
   "source": [
    "# III-4. Comparaison de nos deux modèles "
   ]
  },
  {
   "cell_type": "markdown",
   "id": "1bcb62ad",
   "metadata": {},
   "source": [
    "Dans cette dernière section liée à la modélisation nous allons comparer nos modèles en comparant les scores maximaux obtenus. "
   ]
  },
  {
   "cell_type": "code",
   "execution_count": 80,
   "id": "2e86a71d",
   "metadata": {
    "scrolled": false
   },
   "outputs": [
    {
     "data": {
      "text/plain": [
       "<AxesSubplot:xlabel='model', ylabel='score'>"
      ]
     },
     "execution_count": 80,
     "metadata": {},
     "output_type": "execute_result"
    },
    {
     "data": {
      "image/png": "[encoded data removed]",
      "text/plain": [
       "<Figure size 1440x720 with 1 Axes>"
      ]
     },
     "metadata": {},
     "output_type": "display_data"
    }
   ],
   "source": [
    "comparaison_model=pd.DataFrame(comparison_dict)\n",
    "comparaison_model=comparaison_model.groupby(\"model\")[\"score\"].max().reset_index()\n",
    "_,(ax1) = plt.subplots(ncols=1)\n",
    "sns.barplot(data=comparaison_model, x='model', y='score', ax=ax1, palette=sns.color_palette(\"icefire\"))"
   ]
  },
  {
   "cell_type": "markdown",
   "id": "d6c853e1",
   "metadata": {},
   "source": [
    "rédiger qq lignes pour analyser le résulat "
   ]
  }
 ],
 "metadata": {
  "kernelspec": {
   "display_name": "Python 3",
   "language": "python",
   "name": "python3"
  },
  "language_info": {
   "codemirror_mode": {
    "name": "ipython",
    "version": 3
   },
   "file_extension": ".py",
   "mimetype": "text/x-python",
   "name": "python",
   "nbconvert_exporter": "python",
   "pygments_lexer": "ipython3",
   "version": "3.8.8"
  }
 },
 "nbformat": 4,
 "nbformat_minor": 4
}
